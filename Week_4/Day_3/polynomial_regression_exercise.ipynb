{
 "cells": [
  {
   "cell_type": "markdown",
   "metadata": {},
   "source": [
    "### Regression exercise\n",
    "\n",
    "Today, we will fit different polynomial regression to randomly generated data and explore how our loss function behaves. We will use the formulas, introduced in the theoretical sections and create a linear regression model from scratch. \n"
   ]
  },
  {
   "cell_type": "markdown",
   "metadata": {},
   "source": [
    "#### Task 1\n",
    "\n",
    "Write a function psi(x,m) defined as $\\psi(x)=[1, x, x ^2, ..., x^m]$\n",
    "\n",
    "Example input: `psi(2, 3)`\n",
    "\n",
    "Example output: `[1, 2, 4, 8]`\n",
    "\n",
    "- HINT: use FOR loop with `for i in range(m+1):` inside the psi function"
   ]
  },
  {
   "cell_type": "code",
   "execution_count": 85,
   "metadata": {},
   "outputs": [],
   "source": [
    "import numpy as np\n",
    "import matplotlib.pyplot as plt"
   ]
  },
  {
   "cell_type": "code",
   "execution_count": 86,
   "metadata": {},
   "outputs": [
    {
     "data": {
      "text/plain": [
       "[1, 2, 4, 8]"
      ]
     },
     "execution_count": 86,
     "metadata": {},
     "output_type": "execute_result"
    }
   ],
   "source": [
    "def psi(x,m):\n",
    "    solution = []\n",
    "    for i in range(m+1):\n",
    "        solution.append(x**i)\n",
    "    return solution\n",
    "\n",
    "psi(2,3)\n",
    "        "
   ]
  },
  {
   "cell_type": "markdown",
   "metadata": {},
   "source": [
    "#### Task 2\n",
    "\n",
    "Write a function $h(x,\\alpha, m)$ defined as $h(x,\\alpha, m)=\\alpha^T\\psi(x, m)$\n",
    "\n",
    "Example input: `h(2,2,3)`\n",
    "\n",
    "Example output: `array([ 2,  4,  8, 16])`\n",
    "\n",
    "- HINT: use the `np.dot` between the $\\alpha$ and the output of psi(x, m)"
   ]
  },
  {
   "cell_type": "code",
   "execution_count": 87,
   "metadata": {},
   "outputs": [],
   "source": [
    "def h(x,a,m):\n",
    "    v = psi(x,m)\n",
    "    h = np.dot(v,a)\n",
    "    return h\n"
   ]
  },
  {
   "cell_type": "code",
   "execution_count": 88,
   "metadata": {},
   "outputs": [
    {
     "data": {
      "text/plain": [
       "array([ 2,  4,  8, 16])"
      ]
     },
     "execution_count": 88,
     "metadata": {},
     "output_type": "execute_result"
    }
   ],
   "source": [
    "h(2,2,3)"
   ]
  },
  {
   "cell_type": "markdown",
   "metadata": {},
   "source": [
    "#### Task 3\n",
    "Create a random 3rd order polynomial and call it `p3`\n",
    "\n",
    "- HINT: check function `np.poly1d`"
   ]
  },
  {
   "cell_type": "code",
   "execution_count": 89,
   "metadata": {},
   "outputs": [
    {
     "data": {
      "text/plain": [
       "3"
      ]
     },
     "execution_count": 89,
     "metadata": {},
     "output_type": "execute_result"
    }
   ],
   "source": [
    "p3 = np.poly1d([np.random.randint(0,10) for i in range(4)])\n",
    "p3.order"
   ]
  },
  {
   "cell_type": "markdown",
   "metadata": {},
   "source": [
    "#### Task 4\n",
    "Choose an interval `[a,b]`, on which the polynomial is S-shaped. \n",
    "\n",
    "At first we can choose random interval, for example `[-3,5)`, and come back to this task after **Task 7**."
   ]
  },
  {
   "cell_type": "code",
   "execution_count": 90,
   "metadata": {},
   "outputs": [
    {
     "data": {
      "text/plain": [
       "[-51, 11]"
      ]
     },
     "execution_count": 90,
     "metadata": {},
     "output_type": "execute_result"
    }
   ],
   "source": [
    "interval = [np.random.randint(-100,100) for i in range(2)]\n",
    "# interval = [-3,5]\n",
    "sorted(interval)"
   ]
  },
  {
   "cell_type": "markdown",
   "metadata": {},
   "source": [
    "#### Task 5\n",
    "Sample 30 random values in [a,b] and stored them in `xs`.\n",
    "\n",
    "- HINT: use `np.random.random_sample` function\n",
    "\n",
    "Output `xs` should be numpy array with length=30 and values between `a` and `b`"
   ]
  },
  {
   "cell_type": "code",
   "execution_count": 91,
   "metadata": {},
   "outputs": [
    {
     "data": {
      "text/plain": [
       "array([ -0.97390021, -20.22596493, -42.80683127, -26.94445694,\n",
       "       -46.10197323, -27.52050565, -36.07114022, -33.62143467,\n",
       "       -26.72037613,  -5.06000507, -30.1726712 , -33.62777289,\n",
       "        -9.52541961, -33.27810657, -16.32418996, -36.60351221,\n",
       "       -22.48530831,   2.71747346, -33.45641838,  -8.15208461,\n",
       "       -33.5201284 , -43.91726913,  10.30300401, -12.49572906,\n",
       "       -24.60550824, -20.0752328 ,  -5.92813637, -36.69163591,\n",
       "       -19.92329655,   2.856253  ])"
      ]
     },
     "execution_count": 91,
     "metadata": {},
     "output_type": "execute_result"
    }
   ],
   "source": [
    "xs = (interval[1] - interval[0]) * np.random.random_sample((30)) + interval[0]\n",
    "xs"
   ]
  },
  {
   "cell_type": "markdown",
   "metadata": {},
   "source": [
    "#### Task 6\n",
    "For each x in xs, compute p3(x) and store them as `ys`.\n",
    "\n",
    "- HINT: `ys = p3(xs)`"
   ]
  },
  {
   "cell_type": "code",
   "execution_count": 92,
   "metadata": {},
   "outputs": [
    {
     "data": {
      "text/plain": [
       "array([-5.51625892e+00, -4.96646244e+04, -4.70683603e+05, -1.17396607e+05,\n",
       "       -5.87953675e+05, -1.25087112e+05, -2.81633912e+05, -2.28066815e+05,\n",
       "       -1.14492365e+05, -7.81387635e+02, -1.64842577e+05, -2.28195811e+05,\n",
       "       -5.19418017e+03, -2.21151794e+05, -2.61156645e+04, -2.94287674e+05,\n",
       "       -6.82314447e+04,  1.24123212e+02, -2.24725481e+05, -3.25770535e+03,\n",
       "       -2.26011618e+05, -5.08269329e+05,  6.57340320e+03, -1.17182378e+04,\n",
       "       -8.94052356e+04, -4.85627915e+04, -1.25491603e+03, -2.96418137e+05,\n",
       "       -4.74687737e+04,  1.43667230e+02])"
      ]
     },
     "execution_count": 92,
     "metadata": {},
     "output_type": "execute_result"
    }
   ],
   "source": [
    "ys = p3(xs)\n",
    "ys"
   ]
  },
  {
   "cell_type": "markdown",
   "metadata": {},
   "source": [
    "#### Task 7:\n",
    "Plot `ys` against `xs` on [a,b]. Does it look like a third order polynomial?\n",
    "\n",
    "Is the curve S-shaped? if not, repeat steps 3-7.\n",
    "\n",
    "- HINT: check out function `plt.scatter`\n",
    "- HINT: polynomial `p3 = np.poly1d([1,-3, 2,-1])` is S-shaped on the interval `[-3,5]`\n",
    "\n"
   ]
  },
  {
   "cell_type": "code",
   "execution_count": 93,
   "metadata": {},
   "outputs": [
    {
     "data": {
      "text/plain": [
       "<matplotlib.collections.PathCollection at 0x7fd256816df0>"
      ]
     },
     "execution_count": 93,
     "metadata": {},
     "output_type": "execute_result"
    },
    {
     "data": {
      "image/png": "[encoded data removed]",
      "text/plain": [
       "<Figure size 432x288 with 1 Axes>"
      ]
     },
     "metadata": {
      "needs_background": "light"
     },
     "output_type": "display_data"
    }
   ],
   "source": [
    "import matplotlib as plt\n",
    "from matplotlib import pyplot\n",
    "\n",
    "plt.pyplot.scatter(xs,ys)"
   ]
  },
  {
   "cell_type": "markdown",
   "metadata": {},
   "source": [
    "## Fitting the data"
   ]
  },
  {
   "cell_type": "markdown",
   "metadata": {},
   "source": [
    "We will try to fit the data by a polynomial of order m=2. \n",
    "\n",
    "#### Task 8:\n",
    "\n",
    "Using xs and psi(x,m) from the **Task I**, create the matrix X defined as \n",
    "\n",
    "<img src=\"matrixX.png\">\n",
    "\n",
    "- HINT: Use a for loop and call psi(x,2) on every item in `xs`. Output should be stored as columns in matrix X.\n",
    "- HINT: For `m = 2` and `len(xs) = 30`, the `X.shape = (3,30)`"
   ]
  },
  {
   "cell_type": "code",
   "execution_count": 94,
   "metadata": {},
   "outputs": [],
   "source": [
    "m=2\n",
    "def create_X(m):\n",
    "    # X = np.zeros([len(xs),m+1])\n",
    "    X = np.zeros([m+1,len(xs)])\n",
    "    for i in range(len(list(xs))):\n",
    "        X[:,i] = psi(list(xs)[i],m)\n",
    "    return X"
   ]
  },
  {
   "cell_type": "code",
   "execution_count": 95,
   "metadata": {},
   "outputs": [
    {
     "data": {
      "text/plain": [
       "array([[ 1.00000000e+00,  1.00000000e+00,  1.00000000e+00,\n",
       "         1.00000000e+00,  1.00000000e+00,  1.00000000e+00,\n",
       "         1.00000000e+00,  1.00000000e+00,  1.00000000e+00,\n",
       "         1.00000000e+00,  1.00000000e+00,  1.00000000e+00,\n",
       "         1.00000000e+00,  1.00000000e+00,  1.00000000e+00,\n",
       "         1.00000000e+00,  1.00000000e+00,  1.00000000e+00,\n",
       "         1.00000000e+00,  1.00000000e+00,  1.00000000e+00,\n",
       "         1.00000000e+00,  1.00000000e+00,  1.00000000e+00,\n",
       "         1.00000000e+00,  1.00000000e+00,  1.00000000e+00,\n",
       "         1.00000000e+00,  1.00000000e+00,  1.00000000e+00],\n",
       "       [-9.73900211e-01, -2.02259649e+01, -4.28068313e+01,\n",
       "        -2.69444569e+01, -4.61019732e+01, -2.75205057e+01,\n",
       "        -3.60711402e+01, -3.36214347e+01, -2.67203761e+01,\n",
       "        -5.06000507e+00, -3.01726712e+01, -3.36277729e+01,\n",
       "        -9.52541961e+00, -3.32781066e+01, -1.63241900e+01,\n",
       "        -3.66035122e+01, -2.24853083e+01,  2.71747346e+00,\n",
       "        -3.34564184e+01, -8.15208461e+00, -3.35201284e+01,\n",
       "        -4.39172691e+01,  1.03030040e+01, -1.24957291e+01,\n",
       "        -2.46055082e+01, -2.00752328e+01, -5.92813637e+00,\n",
       "        -3.66916359e+01, -1.99232965e+01,  2.85625300e+00],\n",
       "       [ 9.48481622e-01,  4.09089658e+02,  1.83242480e+03,\n",
       "         7.26003760e+02,  2.12539194e+03,  7.57378231e+02,\n",
       "         1.30112716e+03,  1.13040087e+03,  7.13978500e+02,\n",
       "         2.56036513e+01,  9.10390088e+02,  1.13082711e+03,\n",
       "         9.07336188e+01,  1.10743238e+03,  2.66479178e+02,\n",
       "         1.33981711e+03,  5.05589090e+02,  7.38466202e+00,\n",
       "         1.11933193e+03,  6.64564835e+01,  1.12359901e+03,\n",
       "         1.92872653e+03,  1.06151892e+02,  1.56143245e+02,\n",
       "         6.05431036e+02,  4.03014972e+02,  3.51428008e+01,\n",
       "         1.34627615e+03,  3.96937745e+02,  8.15818120e+00]])"
      ]
     },
     "execution_count": 95,
     "metadata": {},
     "output_type": "execute_result"
    }
   ],
   "source": [
    "X = create_X(m)\n",
    "X"
   ]
  },
  {
   "cell_type": "markdown",
   "metadata": {},
   "source": [
    "#### Task 9\n",
    "Compute the optimal $\\alpha$ using the expression $\\alpha = (XX^T)^+Xy$ where $(XX^T)^+$ is the pseudoinverse matrix. y is our `ys` from the Task 6 and X is matrix from the Task 8.\n",
    "\n",
    "- HINT: Numpy functions `np.dot`, `np.linalg.inv` and `transpose()` should be used"
   ]
  },
  {
   "cell_type": "code",
   "execution_count": 96,
   "metadata": {},
   "outputs": [],
   "source": [
    "def getAlpha(X,ys):\n",
    "    alpha = np.dot(np.dot(np.linalg.inv(np.dot(X,X.T)), X),(ys))\n",
    "    return alpha\n",
    "\n",
    "alpha = getAlpha(X, ys)"
   ]
  },
  {
   "cell_type": "code",
   "execution_count": null,
   "metadata": {},
   "outputs": [],
   "source": []
  },
  {
   "cell_type": "markdown",
   "metadata": {},
   "source": [
    "#### Task 10\n",
    "Plot the original data and the computed polynomial which represents our prediction into one chart. Does it fit? We need to compute prediction using alpha from the **Task 9** for the each item in xs.\n",
    "\n",
    "HINT: for first item in xs, prediction is `y_est = h(list(xs)[1],alpha, m)` where alpha is output of the **Task 9** and **m=2**. This needs to be repeated for every element of xs"
   ]
  },
  {
   "cell_type": "code",
   "execution_count": 97,
   "metadata": {},
   "outputs": [],
   "source": [
    "def plot_predictions(optimal,m):\n",
    "    new_list = []\n",
    "    for i in range(len(list(xs))):\n",
    "        y_est = h(list(xs)[i],optimal,m)\n",
    "        new_list.append(y_est)    \n",
    "    plt.scatter(xs, ys,c = 'red', alpha = 0.5)\n",
    "    plt.scatter(xs, new_list, c = 'blue',alpha = 0.5)\n",
    "    plt.show()"
   ]
  },
  {
   "cell_type": "code",
   "execution_count": 98,
   "metadata": {},
   "outputs": [
    {
     "data": {
      "image/png": "[encoded data removed]",
      "text/plain": [
       "<Figure size 432x288 with 1 Axes>"
      ]
     },
     "metadata": {
      "needs_background": "light"
     },
     "output_type": "display_data"
    }
   ],
   "source": [
    "import matplotlib.pyplot as plt\n",
    "plot_predictions(alpha,m)"
   ]
  },
  {
   "cell_type": "markdown",
   "metadata": {},
   "source": [
    "#### Task 11\n",
    "Repeat the process, **tasks 8-10**, for m=3,…,10. What do you observe? Which polynomial has the best fit?"
   ]
  },
  {
   "cell_type": "code",
   "execution_count": 99,
   "metadata": {},
   "outputs": [],
   "source": [
    "ms = list(range(3,11))"
   ]
  },
  {
   "cell_type": "code",
   "execution_count": 100,
   "metadata": {},
   "outputs": [
    {
     "data": {
      "image/png": "[encoded data removed]",
      "text/plain": [
       "<Figure size 432x288 with 1 Axes>"
      ]
     },
     "metadata": {
      "needs_background": "light"
     },
     "output_type": "display_data"
    },
    {
     "data": {
      "image/png": "[encoded data removed]",
      "text/plain": [
       "<Figure size 432x288 with 1 Axes>"
      ]
     },
     "metadata": {
      "needs_background": "light"
     },
     "output_type": "display_data"
    },
    {
     "data": {
      "image/png": "[encoded data removed]",
      "text/plain": [
       "<Figure size 432x288 with 1 Axes>"
      ]
     },
     "metadata": {
      "needs_background": "light"
     },
     "output_type": "display_data"
    },
    {
     "data": {
      "image/png": "[encoded data removed]",
      "text/plain": [
       "<Figure size 432x288 with 1 Axes>"
      ]
     },
     "metadata": {
      "needs_background": "light"
     },
     "output_type": "display_data"
    },
    {
     "data": {
      "image/png": "[encoded data removed]",
      "text/plain": [
       "<Figure size 432x288 with 1 Axes>"
      ]
     },
     "metadata": {
      "needs_background": "light"
     },
     "output_type": "display_data"
    },
    {
     "data": {
      "image/png": "[encoded data removed]",
      "text/plain": [
       "<Figure size 432x288 with 1 Axes>"
      ]
     },
     "metadata": {
      "needs_background": "light"
     },
     "output_type": "display_data"
    },
    {
     "data": {
      "image/png": "[encoded data removed]",
      "text/plain": [
       "<Figure size 432x288 with 1 Axes>"
      ]
     },
     "metadata": {
      "needs_background": "light"
     },
     "output_type": "display_data"
    },
    {
     "data": {
      "image/png": "[encoded data removed]",
      "text/plain": [
       "<Figure size 432x288 with 1 Axes>"
      ]
     },
     "metadata": {
      "needs_background": "light"
     },
     "output_type": "display_data"
    }
   ],
   "source": [
    "for m in ms:\n",
    "    X = create_X(m)\n",
    "    alpha = getAlpha(X, ys)\n",
    "    plot_predictions(alpha,m)"
   ]
  },
  {
   "cell_type": "markdown",
   "metadata": {},
   "source": [
    "#### Task 12\n",
    "Plot the value of the loss (defined as $ l(\\alpha^Tx, y) = \\sum(\\alpha^Tx - y)^2 $  ) for m=2,…,10. \n",
    "\n",
    "y is our `ys` from the Task 6 and $\\alpha^Tx$ are our predictions `y_est`. \n",
    "\n",
    "What do you observe? Could you tell the optimal m from the plot?\n",
    "\n",
    "- HINT: loss can be computed as:\n",
    "\n",
    "```\n",
    "def compute_loss(y_est, ys):\n",
    "    return ((y_est - ys)**2).sum()\n",
    "```"
   ]
  },
  {
   "cell_type": "code",
   "execution_count": 104,
   "metadata": {},
   "outputs": [],
   "source": [
    "def compute_loss(y_est,ys):\n",
    "    loss = ((y_est - ys)**2).sum()\n",
    "    return loss"
   ]
  },
  {
   "cell_type": "code",
   "execution_count": 105,
   "metadata": {},
   "outputs": [],
   "source": [
    "def find_loss(optimal,m):\n",
    "    new_list = []\n",
    "    for i in range(len(xs)):\n",
    "        y_est = h(list(xs)[i],optimal,m)\n",
    "        new_list.append(y_est)\n",
    "    loss = compute_loss(new_list,ys)\n",
    "    return loss"
   ]
  },
  {
   "cell_type": "code",
   "execution_count": 106,
   "metadata": {},
   "outputs": [],
   "source": [
    "losses_list = []\n",
    "for m in range(2,10):\n",
    "    X= create_X(m)\n",
    "    optimal =np.dot(np.dot(np.linalg.inv( np.dot(X,X.T)), X),(ys))\n",
    "    loss = find_loss(optimal,m)\n",
    "    losses_list.append(loss)\n",
    "    "
   ]
  },
  {
   "cell_type": "code",
   "execution_count": 107,
   "metadata": {},
   "outputs": [
    {
     "data": {
      "text/plain": [
       "<matplotlib.collections.PathCollection at 0x7fd258733760>"
      ]
     },
     "execution_count": 107,
     "metadata": {},
     "output_type": "execute_result"
    },
    {
     "data": {
      "image/png": "[encoded data removed]",
      "text/plain": [
       "<Figure size 432x288 with 1 Axes>"
      ]
     },
     "metadata": {
      "needs_background": "light"
     },
     "output_type": "display_data"
    }
   ],
   "source": [
    "plt.scatter(x = range(2,10), y = losses_list,c = 'red', alpha = 0.5)"
   ]
  },
  {
   "cell_type": "code",
   "execution_count": null,
   "metadata": {},
   "outputs": [],
   "source": []
  }
 ],
 "metadata": {
  "interpreter": {
   "hash": "5eaee7f08749df7acde7defcf9c75ec9e0490b46ee4fb9b854947ce622c4fcf4"
  },
  "kernelspec": {
   "display_name": "Python 3.8.2 ('lhl_env')",
   "language": "python",
   "name": "python3"
  },
  "language_info": {
   "codemirror_mode": {
    "name": "ipython",
    "version": 3
   },
   "file_extension": ".py",
   "mimetype": "text/x-python",
   "name": "python",
   "nbconvert_exporter": "python",
   "pygments_lexer": "ipython3",
   "version": "3.8.2"
  }
 },
 "nbformat": 4,
 "nbformat_minor": 4
}
