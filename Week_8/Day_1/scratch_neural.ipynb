{
 "cells": [
  {
   "cell_type": "code",
   "execution_count": 1,
   "metadata": {},
   "outputs": [],
   "source": [
    "a =[0, 0, 1, 1, 0, 0,\n",
    "   0, 1, 0, 0, 1, 0,\n",
    "   1, 1, 1, 1, 1, 1,\n",
    "   1, 0, 0, 0, 0, 1,\n",
    "   1, 0, 0, 0, 0, 1]\n",
    "# B\n",
    "b =[0, 1, 1, 1, 1, 0,\n",
    "   0, 1, 0, 0, 1, 0,\n",
    "   0, 1, 1, 1, 1, 0,\n",
    "   0, 1, 0, 0, 1, 0,\n",
    "   0, 1, 1, 1, 1, 0]\n",
    "# C\n",
    "c =[0, 1, 1, 1, 1, 0,\n",
    "   0, 1, 0, 0, 0, 0,\n",
    "   0, 1, 0, 0, 0, 0,\n",
    "   0, 1, 0, 0, 0, 0,\n",
    "   0, 1, 1, 1, 1, 0]\n",
    " \n",
    "# Creating labels\n",
    "y =[[1, 0, 0],\n",
    "   [0, 1, 0],\n",
    "   [0, 0, 1]]"
   ]
  },
  {
   "cell_type": "code",
   "execution_count": 2,
   "metadata": {},
   "outputs": [
    {
     "data": {
      "image/png": "[encoded data removed]",
      "text/plain": [
       "<Figure size 432x288 with 1 Axes>"
      ]
     },
     "metadata": {
      "needs_background": "light"
     },
     "output_type": "display_data"
    }
   ],
   "source": [
    "\n",
    "import numpy as np\n",
    "import matplotlib.pyplot as plt\n",
    "# visualizing the data, ploting A.\n",
    "plt.imshow(np.array(a).reshape(5, 6))\n",
    "plt.show()"
   ]
  },
  {
   "cell_type": "code",
   "execution_count": 13,
   "metadata": {},
   "outputs": [
    {
     "name": "stdout",
     "output_type": "stream",
     "text": [
      "[array([[0, 0, 1, 1, 0, 0, 0, 1, 0, 0, 1, 0, 1, 1, 1, 1, 1, 1, 1, 0, 0, 0,\n",
      "        0, 1, 1, 0, 0, 0, 0, 1]]), array([[0, 1, 1, 1, 1, 0, 0, 1, 0, 0, 1, 0, 0, 1, 1, 1, 1, 0, 0, 1, 0, 0,\n",
      "        1, 0, 0, 1, 1, 1, 1, 0]]), array([[0, 1, 1, 1, 1, 0, 0, 1, 0, 0, 0, 0, 0, 1, 0, 0, 0, 0, 0, 1, 0, 0,\n",
      "        0, 0, 0, 1, 1, 1, 1, 0]])] \n",
      "\n",
      " [[1 0 0]\n",
      " [0 1 0]\n",
      " [0 0 1]]\n"
     ]
    }
   ],
   "source": [
    "\n",
    "# converting data and labels into numpy array\n",
    " \n",
    "\"\"\"\n",
    "Convert the matrix of 0 and 1 into one hot vector\n",
    "so that we can directly feed it to the neural network,\n",
    "these vectors are then stored in a list x.\n",
    "\"\"\"\n",
    " \n",
    "x =[np.array(a).reshape(1, 30), np.array(b).reshape(1, 30),\n",
    "                                np.array(c).reshape(1, 30)]\n",
    " \n",
    " \n",
    "# Labels are also converted into NumPy array\n",
    "y = np.array(y)\n",
    " \n",
    " \n",
    "print(x, \"\\n\\n\", y)"
   ]
  },
  {
   "cell_type": "code",
   "execution_count": 18,
   "metadata": {},
   "outputs": [],
   "source": [
    "# activation function\n",
    " \n",
    "def sigmoid(x):\n",
    "    return(1/(1 + np.exp(-x)))\n",
    "   \n",
    "# Creating the Feed forward neural network\n",
    "# 1 Input layer(1, 30)\n",
    "# 1 hidden layer (1, 5)\n",
    "# 1 output layer(3, 3)\n",
    " \n",
    "def f_forward(x, w1, w2):\n",
    "    # hidden\n",
    "    z1 = x.dot(w1)# input from layer 1\n",
    "    a1 = sigmoid(z1)# out put of layer 2\n",
    "     \n",
    "    # Output layer\n",
    "    z2 = a1.dot(w2)# input of out layer\n",
    "    a2 = sigmoid(z2)# output of out layer\n",
    "    return(a2)\n",
    "  \n",
    "# initializing the weights randomly\n",
    "def generate_wt(x, y):\n",
    "    l =[]\n",
    "    for i in range(x * y):\n",
    "        l.append(np.random.randn())\n",
    "    return(np.array(l).reshape(x, y))\n",
    "     \n",
    "# for loss we will be using mean square error(MSE)\n",
    "def loss(out, Y):\n",
    "    s =(np.square(out-Y))\n",
    "    s = np.sum(s)/len(y)\n",
    "    return(s)\n",
    "   \n",
    "# Back propagation of error\n",
    "def back_prop(x, y, w1, w2, alpha):\n",
    "     \n",
    "    # hidden layer\n",
    "    z1 = x.dot(w1)# input from layer 1\n",
    "    a1 = sigmoid(z1)# output of layer 2\n",
    "     \n",
    "    # Output layer\n",
    "    z2 = a1.dot(w2)# input of out layer\n",
    "    a2 = sigmoid(z2)# output of out layer\n",
    "    # error in output layer\n",
    "    d2 =(a2-y)\n",
    "    d1 = np.multiply((w2.dot((d2.transpose()))).transpose(),\n",
    "                                   (np.multiply(a1, 1-a1)))\n",
    " \n",
    "    # Gradient for w1 and w2\n",
    "    w1_adj = x.transpose().dot(d1)\n",
    "    w2_adj = a1.transpose().dot(d2)\n",
    "     \n",
    "    # Updating parameters\n",
    "    w1 = w1-(alpha*(w1_adj))\n",
    "    w2 = w2-(alpha*(w2_adj))\n",
    "     \n",
    "    return(w1, w2)\n",
    " \n",
    "def train(x, Y, w1, w2, alpha = 0.01, epoch = 10):\n",
    "    acc =[]\n",
    "    losss =[]\n",
    "    for j in range(epoch):\n",
    "        l =[]\n",
    "        for i in range(len(x)):\n",
    "            out = f_forward(x[i], w1, w2)\n",
    "            l.append((loss(out, Y[i])))\n",
    "            w1, w2 = back_prop(x[i], y[i], w1, w2, alpha)\n",
    "        print(\"epochs:\", j + 1, \"======== acc:\", (1-(sum(l)/len(x)))*100)  \n",
    "        acc.append((1-(sum(l)/len(x)))*100)\n",
    "        losss.append(sum(l)/len(x))\n",
    "    return(acc, losss, w1, w2)\n",
    "  \n",
    "def predict(x, w1, w2):\n",
    "    Out = f_forward(x, w1, w2)\n",
    "    maxm = 0\n",
    "    k = 0\n",
    "    for i in range(len(Out[0])):\n",
    "        if(maxm<Out[0][i]):\n",
    "            maxm = Out[0][i]\n",
    "            k = i\n",
    "    if(k == 0):\n",
    "        print(\"Image is of letter A.\")\n",
    "    elif(k == 1):\n",
    "        print(\"Image is of letter B.\")\n",
    "    else:\n",
    "        print(\"Image is of letter C.\")\n",
    "    plt.imshow(x.reshape(5, 6))\n",
    "    plt.show()   \n"
   ]
  },
  {
   "cell_type": "code",
   "execution_count": 19,
   "metadata": {},
   "outputs": [
    {
     "name": "stdout",
     "output_type": "stream",
     "text": [
      "[[-0.80453998 -1.48689735  0.18197067  0.7072621  -0.24693647]\n",
      " [ 0.70922275 -1.27132977 -0.14238041  1.48255772  0.64455661]\n",
      " [ 2.09524358  1.38479249 -0.23790228  3.10254077  1.01678293]\n",
      " [-0.38291503 -0.29741962 -0.13192107  2.06021099 -0.76289104]\n",
      " [-0.29657528  1.15723231  0.18387266  1.53548764  0.02867138]\n",
      " [ 1.36581582  1.99586404 -0.34505215  0.46886153  0.28067312]\n",
      " [-0.98890381  1.31183288  0.1834548   1.0287113  -0.3021825 ]\n",
      " [-0.38677199  1.05749723  1.88240708 -1.56279505  1.2561779 ]\n",
      " [ 0.20037282  1.46440725  1.31693937  1.76328077  0.69916731]\n",
      " [-0.21563857 -0.39751803  0.05544817 -0.58845296 -0.27208091]\n",
      " [ 0.36884748 -0.4218867  -1.07545969  0.11847944  0.58821202]\n",
      " [ 0.58301994  0.72880002  1.20445877  0.79204346 -0.7344757 ]\n",
      " [-3.19897606 -0.55815968  0.98791622 -0.19720109  0.9292189 ]\n",
      " [ 0.28626886  0.96628318  1.10334676  1.01607149 -0.98814783]\n",
      " [-0.93922891  0.0501154   1.10614035  0.09393417 -0.0498389 ]\n",
      " [-0.4744402   0.10840035  1.21701205  0.42061039  1.52708669]\n",
      " [-0.098023   -0.35355509  0.41327091  0.21513357 -0.55751734]\n",
      " [-0.52168676 -0.63407901  0.39788423 -0.19428718 -0.16627153]\n",
      " [-0.58489098 -0.26438511 -0.96772466  0.40574452  0.29113791]\n",
      " [ 0.30168202 -0.19684551  0.0750133   0.07429476 -1.12944329]\n",
      " [ 1.81444917 -1.18172645  0.98720616 -0.26369946  0.00924895]\n",
      " [-1.46809229 -0.29853537 -0.65001806 -0.64982453  0.80840473]\n",
      " [ 0.37724382  0.39898899 -2.95649125 -0.32467738 -0.08894202]\n",
      " [-0.07568333  0.36837558 -1.40746547  0.14816195  1.06558528]\n",
      " [-0.18688485 -0.52299865 -2.84019911 -0.39081324  0.12360627]\n",
      " [ 1.15952048 -0.11083424 -2.25806826  0.88348661  0.6973811 ]\n",
      " [-0.1396248   0.7998096  -0.12408291 -1.87524923 -0.36674074]\n",
      " [-1.24349492  0.96866545 -0.83777473 -0.59663773  1.50795378]\n",
      " [ 1.27611312 -0.12865893  0.76484397  0.39815398  0.37526634]\n",
      " [-0.5278541   1.62924814 -1.10534492 -1.23234881 -1.09977929]] \n",
      "\n",
      " [[ 0.46833141 -0.53364572  1.31450848]\n",
      " [ 2.92366102 -0.75686299 -1.03789118]\n",
      " [-0.1524234   0.46384553  0.70694105]\n",
      " [ 0.73984958 -0.56519599 -1.05494486]\n",
      " [ 0.95008109 -0.52497113  1.29669939]]\n"
     ]
    }
   ],
   "source": [
    "w1 = generate_wt(30, 5)\n",
    "w2 = generate_wt(5, 3)\n",
    "print(w1, \"\\n\\n\", w2)"
   ]
  },
  {
   "cell_type": "code",
   "execution_count": 20,
   "metadata": {},
   "outputs": [
    {
     "name": "stdout",
     "output_type": "stream",
     "text": [
      "epochs: 1 ======== acc: 60.91747601402282\n",
      "epochs: 2 ======== acc: 62.21496887904521\n",
      "epochs: 3 ======== acc: 63.755897371641666\n",
      "epochs: 4 ======== acc: 65.93104401502828\n",
      "epochs: 5 ======== acc: 68.98152900915026\n",
      "epochs: 6 ======== acc: 72.59691211465163\n",
      "epochs: 7 ======== acc: 75.9421390445653\n",
      "epochs: 8 ======== acc: 78.41286932256023\n",
      "epochs: 9 ======== acc: 80.00862715443265\n",
      "epochs: 10 ======== acc: 81.0070122385211\n",
      "epochs: 11 ======== acc: 81.65865918222714\n",
      "epochs: 12 ======== acc: 82.11825792471232\n",
      "epochs: 13 ======== acc: 82.46963784560897\n",
      "epochs: 14 ======== acc: 82.75677225106122\n",
      "epochs: 15 ======== acc: 83.00307496207445\n",
      "epochs: 16 ======== acc: 83.22152586413935\n",
      "epochs: 17 ======== acc: 83.4197110822551\n",
      "epochs: 18 ======== acc: 83.60232100210783\n",
      "epochs: 19 ======== acc: 83.77241592260742\n",
      "epochs: 20 ======== acc: 83.93209216980745\n",
      "epochs: 21 ======== acc: 84.08284931021322\n",
      "epochs: 22 ======== acc: 84.22580254195779\n",
      "epochs: 23 ======== acc: 84.36181113772057\n",
      "epochs: 24 ======== acc: 84.49155915775277\n",
      "epochs: 25 ======== acc: 84.6156077944381\n",
      "epochs: 26 ======== acc: 84.73443019542785\n",
      "epochs: 27 ======== acc: 84.84843511818573\n",
      "epochs: 28 ======== acc: 84.95798328486022\n",
      "epochs: 29 ======== acc: 85.06339887160605\n",
      "epochs: 30 ======== acc: 85.16497770424778\n",
      "epochs: 31 ======== acc: 85.26299319627438\n",
      "epochs: 32 ======== acc: 85.35770072271544\n",
      "epochs: 33 ======== acc: 85.44934089968315\n",
      "epochs: 34 ======== acc: 85.53814209049395\n",
      "epochs: 35 ======== acc: 85.62432235878742\n",
      "epochs: 36 ======== acc: 85.70809102039601\n",
      "epochs: 37 ======== acc: 85.78964989832001\n",
      "epochs: 38 ======== acc: 85.86919435215094\n",
      "epochs: 39 ======== acc: 85.94691413011621\n",
      "epochs: 40 ======== acc: 86.02299407556465\n",
      "epochs: 41 ======== acc: 86.09761470814102\n",
      "epochs: 42 ======== acc: 86.17095269175523\n",
      "epochs: 43 ======== acc: 86.24318119583299\n",
      "epochs: 44 ======== acc: 86.31447015265246\n",
      "epochs: 45 ======== acc: 86.38498641144757\n",
      "epochs: 46 ======== acc: 86.45489378915346\n",
      "epochs: 47 ======== acc: 86.5243530180272\n",
      "epochs: 48 ======== acc: 86.59352159177402\n",
      "epochs: 49 ======== acc: 86.66255351411958\n",
      "epochs: 50 ======== acc: 86.73159895682791\n",
      "epochs: 51 ======== acc: 86.8008038377458\n",
      "epochs: 52 ======== acc: 86.8703093332543\n",
      "epochs: 53 ======== acc: 86.94025134315257\n",
      "epochs: 54 ======== acc: 87.01075992906433\n",
      "epochs: 55 ======== acc: 87.08195874950951\n",
      "epochs: 56 ======== acc: 87.1539645154489\n",
      "epochs: 57 ======== acc: 87.22688648913258\n",
      "epochs: 58 ======== acc: 87.300826046395\n",
      "epochs: 59 ======== acc: 87.37587631830229\n",
      "epochs: 60 ======== acc: 87.45212192266101\n",
      "epochs: 61 ======== acc: 87.52963878991923\n",
      "epochs: 62 ======== acc: 87.60849408211485\n",
      "epochs: 63 ======== acc: 87.68874619841645\n",
      "epochs: 64 ======== acc: 87.770444856999\n",
      "epochs: 65 ======== acc: 87.8536312408118\n",
      "epochs: 66 ======== acc: 87.93833819427428\n",
      "epochs: 67 ======== acc: 88.02459045886661\n",
      "epochs: 68 ======== acc: 88.11240493756293\n",
      "epochs: 69 ======== acc: 88.20179098059621\n",
      "epochs: 70 ======== acc: 88.29275068765679\n",
      "epochs: 71 ======== acc: 88.38527922392674\n",
      "epochs: 72 ======== acc: 88.47936514909377\n",
      "epochs: 73 ======== acc: 88.57499075957821\n",
      "epochs: 74 ======== acc: 88.67213244468883\n",
      "epochs: 75 ======== acc: 88.7707610574219\n",
      "epochs: 76 ======== acc: 88.87084230030653\n",
      "epochs: 77 ======== acc: 88.97233712624252\n",
      "epochs: 78 ======== acc: 89.0752021538133\n",
      "epochs: 79 ======== acc: 89.17939009617733\n",
      "epochs: 80 ======== acc: 89.28485020238762\n",
      "epochs: 81 ======== acc: 89.39152870986482\n",
      "epochs: 82 ======== acc: 89.49936930672331\n",
      "epochs: 83 ======== acc: 89.60831360267582\n",
      "epochs: 84 ======== acc: 89.71830160726499\n",
      "epochs: 85 ======== acc: 89.82927221413593\n",
      "epochs: 86 ======== acc: 89.9411636899223\n",
      "epochs: 87 ======== acc: 90.05391416602893\n",
      "epochs: 88 ======== acc: 90.16746213111534\n",
      "epochs: 89 ======== acc: 90.28174692138523\n",
      "epochs: 90 ======== acc: 90.39670920481986\n",
      "epochs: 91 ======== acc: 90.51229145421273\n",
      "epochs: 92 ======== acc: 90.62843840219598\n",
      "epochs: 93 ======== acc: 90.7450974693067\n",
      "epochs: 94 ======== acc: 90.86221915341018\n",
      "epochs: 95 ======== acc: 90.97975736534238\n",
      "epochs: 96 ======== acc: 91.09766969131742\n",
      "epochs: 97 ======== acc: 91.21591755735095\n",
      "epochs: 98 ======== acc: 91.33446626463595\n",
      "epochs: 99 ======== acc: 91.45328485758996\n",
      "epochs: 100 ======== acc: 91.57234577857466\n"
     ]
    }
   ],
   "source": [
    "\"\"\"The arguments of train function are data set list x,\n",
    "correct labels y, weights w1, w2, learning rate = 0.1,\n",
    "no of epochs or iteration.The function will return the\n",
    "matrix of accuracy and loss and also the matrix of\n",
    "trained weights w1, w2\"\"\"\n",
    " \n",
    "acc, losss, w1, w2 = train(x, y, w1, w2, 0.1, 100)"
   ]
  },
  {
   "cell_type": "code",
   "execution_count": 21,
   "metadata": {},
   "outputs": [
    {
     "data": {
      "image/png": "[encoded data removed]",
      "text/plain": [
       "<Figure size 432x288 with 1 Axes>"
      ]
     },
     "metadata": {
      "needs_background": "light"
     },
     "output_type": "display_data"
    },
    {
     "data": {
      "image/png": "[encoded data removed]",
      "text/plain": [
       "<Figure size 432x288 with 1 Axes>"
      ]
     },
     "metadata": {
      "needs_background": "light"
     },
     "output_type": "display_data"
    }
   ],
   "source": [
    "\n",
    "import matplotlib.pyplot as plt1\n",
    " \n",
    "# ploting accuracy\n",
    "plt1.plot(acc)\n",
    "plt1.ylabel('Accuracy')\n",
    "plt1.xlabel(\"Epochs:\")\n",
    "plt1.show()\n",
    " \n",
    "# plotting Loss\n",
    "plt1.plot(losss)\n",
    "plt1.ylabel('Loss')\n",
    "plt1.xlabel(\"Epochs:\")\n",
    "plt1.show()"
   ]
  },
  {
   "cell_type": "code",
   "execution_count": 22,
   "metadata": {},
   "outputs": [
    {
     "name": "stdout",
     "output_type": "stream",
     "text": [
      "[[-0.80453998 -1.48689735  0.18197067  0.7072621  -0.24693647]\n",
      " [ 0.62198649 -1.57252572  0.43357081  1.47860599  0.75253271]\n",
      " [ 1.98827968  1.29326863 -0.14278895  3.11640974  1.08575379]\n",
      " [-0.48987893 -0.38894349 -0.03680774  2.07407995 -0.69392018]\n",
      " [-0.38381153  0.85603636  0.75982389  1.53153591  0.13664748]\n",
      " [ 1.36581582  1.99586404 -0.34505215  0.46886153  0.28067312]\n",
      " [-0.98890381  1.31183288  0.1834548   1.0287113  -0.3021825 ]\n",
      " [-0.4937359   0.96597337  1.97752041 -1.54892609  1.32514876]\n",
      " [ 0.20037282  1.46440725  1.31693937  1.76328077  0.69916731]\n",
      " [-0.21563857 -0.39751803  0.05544817 -0.58845296 -0.27208091]\n",
      " [-0.2674584  -0.28871792 -1.18135208  0.13955811  0.43540085]\n",
      " [ 0.58301994  0.72880002  1.20445877  0.79204346 -0.7344757 ]\n",
      " [-3.21870371 -0.34848758  0.50707833 -0.17938039  0.89021366]\n",
      " [ 0.17930496  0.87475932  1.1984601   1.02994045 -0.91917697]\n",
      " [-1.57553479  0.18328418  1.00024796  0.11501283 -0.20265006]\n",
      " [-1.11074608  0.24156912  1.11111966  0.44168905  1.37427552]\n",
      " [-0.73432888 -0.22038632  0.30737852  0.23621224 -0.71032851]\n",
      " [-0.54141441 -0.42440691 -0.08295366 -0.17646648 -0.20527676]\n",
      " [-0.60461863 -0.05471301 -1.44856255  0.42356522  0.25213267]\n",
      " [ 0.21444577 -0.49804147  0.65096452  0.07034303 -1.02146719]\n",
      " [ 1.81444917 -1.18172645  0.98720616 -0.26369946  0.00924895]\n",
      " [-1.46809229 -0.29853537 -0.65001806 -0.64982453  0.80840473]\n",
      " [-0.23933441  0.32248567 -2.58154575 -0.32141941 -0.20274794]\n",
      " [-0.09541098  0.57804768 -1.88830335  0.16598265  1.02658005]\n",
      " [-0.2066125  -0.31332655 -3.321037   -0.37299255  0.08460104]\n",
      " [ 1.07228423 -0.4120302  -1.68211703  0.87953488  0.8053572 ]\n",
      " [-0.22686105  0.49861364  0.45186831 -1.87920096 -0.25876464]\n",
      " [-1.33073118  0.66746949 -0.2618235  -0.60058946  1.61592988]\n",
      " [ 1.18887686 -0.42985489  1.34079519  0.39420225  0.48324244]\n",
      " [-0.54758175  1.83892023 -1.5861828  -1.21452811 -1.13878453]] \n",
      " [[-2.52828434 -0.45161896  2.75471764]\n",
      " [ 1.91122468 -0.73056078 -1.76557214]\n",
      " [-2.68635722  1.3410111   1.46215337]\n",
      " [-0.34703244 -0.53278773 -1.76806974]\n",
      " [-0.08871166 -0.3001698   0.4623353 ]]\n"
     ]
    }
   ],
   "source": [
    "print(w1, \"\\n\", w2)"
   ]
  },
  {
   "cell_type": "code",
   "execution_count": 23,
   "metadata": {},
   "outputs": [
    {
     "name": "stdout",
     "output_type": "stream",
     "text": [
      "Image is of letter B.\n"
     ]
    },
    {
     "data": {
      "image/png": "[encoded data removed]",
      "text/plain": [
       "<Figure size 432x288 with 1 Axes>"
      ]
     },
     "metadata": {
      "needs_background": "light"
     },
     "output_type": "display_data"
    }
   ],
   "source": [
    "\n",
    "\"\"\"\n",
    "The predict function will take the following arguments:\n",
    "1) image matrix\n",
    "2) w1 trained weights\n",
    "3) w2 trained weights\n",
    "\"\"\"\n",
    "predict(x[1], w1, w2)"
   ]
  },
  {
   "cell_type": "code",
   "execution_count": null,
   "metadata": {},
   "outputs": [],
   "source": []
  }
 ],
 "metadata": {
  "interpreter": {
   "hash": "5eaee7f08749df7acde7defcf9c75ec9e0490b46ee4fb9b854947ce622c4fcf4"
  },
  "kernelspec": {
   "display_name": "Python 3.8.2 ('lhl_env')",
   "language": "python",
   "name": "python3"
  },
  "language_info": {
   "codemirror_mode": {
    "name": "ipython",
    "version": 3
   },
   "file_extension": ".py",
   "mimetype": "text/x-python",
   "name": "python",
   "nbconvert_exporter": "python",
   "pygments_lexer": "ipython3",
   "version": "3.8.2"
  },
  "orig_nbformat": 4
 },
 "nbformat": 4,
 "nbformat_minor": 2
}
