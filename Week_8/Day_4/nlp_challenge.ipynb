{
 "cells": [
  {
   "cell_type": "code",
   "execution_count": 1,
   "metadata": {},
   "outputs": [],
   "source": [
    "import re\n",
    "import json\n",
    "import numpy as np\n",
    "import pandas as pd"
   ]
  },
  {
   "cell_type": "code",
   "execution_count": 4,
   "metadata": {},
   "outputs": [],
   "source": [
    "filename = 'data/tweets.txt'\n",
    "\n",
    "tweet_dict = {}\n",
    "\n",
    "# creating the dictionary\n",
    "with open(filename) as fh:\n",
    "    for line in fh:\n",
    "        command,description = line.strip().split(None, 1)\n",
    "        tweet_dict[command] = description.strip()\n",
    "\n",
    "# # creating the json file\n",
    "# out_file = open('tweets.json', 'w')\n",
    "# json.dump(tweet_dict, out_file, indent = 4, sort_keys=False)\n",
    "# out_file.close()"
   ]
  },
  {
   "cell_type": "code",
   "execution_count": 5,
   "metadata": {},
   "outputs": [
    {
     "data": {
      "text/plain": [
       "{'{\"created_at\":': '\"Thu May 05 14:01:56 +0000 2022\", \"id\": 1522215018045243392, \"id_str\": \"1522215018045243392\", \"text\": \"hugs rajj :( we love u !!!!\", \"source\": \"<a href=\\\\\"http://twitter.com/download/iphone\\\\\" rel=\\\\\"nofollow\\\\\">Twitter for iPhone</a>\", \"truncated\": false, \"in_reply_to_status_id\": null, \"in_reply_to_status_id_str\": null, \"in_reply_to_user_id\": null, \"in_reply_to_user_id_str\": null, \"in_reply_to_screen_name\": null, \"user\": {\"id\": 1514654409065897992, \"id_str\": \"1514654409065897992\", \"name\": \"ash\", \"screen_name\": \"louv4sh\", \"location\": \"she/her\", \"url\": null, \"description\": \"reading acc !\", \"translator_type\": \"none\", \"protected\": false, \"verified\": false, \"followers_count\": 0, \"friends_count\": 19, \"listed_count\": 0, \"favourites_count\": 6, \"statuses_count\": 198, \"created_at\": \"Thu Apr 14 17:18:53 +0000 2022\", \"utc_offset\": null, \"time_zone\": null, \"geo_enabled\": false, \"lang\": null, \"contributors_enabled\": false, \"is_translator\": false, \"profile_background_color\": \"F5F8FA\", \"profile_background_image_url\": \"\", \"profile_background_image_url_https\": \"\", \"profile_background_tile\": false, \"profile_link_color\": \"1DA1F2\", \"profile_sidebar_border_color\": \"C0DEED\", \"profile_sidebar_fill_color\": \"DDEEF6\", \"profile_text_color\": \"333333\", \"profile_use_background_image\": true, \"profile_image_url\": \"http://pbs.twimg.com/profile_images/1521847066276024322/NyNPWjnH_normal.jpg\", \"profile_image_url_https\": \"https://pbs.twimg.com/profile_images/1521847066276024322/NyNPWjnH_normal.jpg\", \"profile_banner_url\": \"https://pbs.twimg.com/profile_banners/1514654409065897992/1651685885\", \"default_profile\": true, \"default_profile_image\": false, \"following\": null, \"follow_request_sent\": null, \"notifications\": null, \"withheld_in_countries\": []}, \"geo\": null, \"coordinates\": null, \"place\": null, \"contributors\": null, \"quoted_status_id\": 1522194334925586432, \"quoted_status_id_str\": \"1522194334925586432\", \"quoted_status\": {\"created_at\": \"Thu May 05 12:39:45 +0000 2022\", \"id\": 1522194334925586432, \"id_str\": \"1522194334925586432\", \"text\": \"503. https://t.co/6DockDBGlq\", \"display_text_range\": [0, 4], \"source\": \"<a href=\\\\\"http://twitter.com/download/android\\\\\" rel=\\\\\"nofollow\\\\\">Twitter for Android</a>\", \"truncated\": false, \"in_reply_to_status_id\": 1522194312196653057, \"in_reply_to_status_id_str\": \"1522194312196653057\", \"in_reply_to_user_id\": 1428643106287538179, \"in_reply_to_user_id_str\": \"1428643106287538179\", \"in_reply_to_screen_name\": \"perveeSK\", \"user\": {\"id\": 1428643106287538179, \"id_str\": \"1428643106287538179\", \"name\": \"SK\", \"screen_name\": \"perveeSK\", \"location\": \"Malibu\", \"url\": null, \"description\": \"works on my moments \\\\ud80c\\\\udff3 unavailable parts on @perveeAU\", \"translator_type\": \"none\", \"protected\": false, \"verified\": false, \"followers_count\": 59681, \"friends_count\": 48, \"listed_count\": 130, \"favourites_count\": 290, \"statuses_count\": 659, \"created_at\": \"Fri Aug 20 09:00:43 +0000 2021\", \"utc_offset\": null, \"time_zone\": null, \"geo_enabled\": false, \"lang\": null, \"contributors_enabled\": false, \"is_translator\": false, \"profile_background_color\": \"F5F8FA\", \"profile_background_image_url\": \"\", \"profile_background_image_url_https\": \"\", \"profile_background_tile\": false, \"profile_link_color\": \"1DA1F2\", \"profile_sidebar_border_color\": \"C0DEED\", \"profile_sidebar_fill_color\": \"DDEEF6\", \"profile_text_color\": \"333333\", \"profile_use_background_image\": true, \"profile_image_url\": \"http://pbs.twimg.com/profile_images/1502146578991452164/Km86BH7V_normal.jpg\", \"profile_image_url_https\": \"https://pbs.twimg.com/profile_images/1502146578991452164/Km86BH7V_normal.jpg\", \"profile_banner_url\": \"https://pbs.twimg.com/profile_banners/1428643106287538179/1642602244\", \"default_profile\": true, \"default_profile_image\": false, \"following\": null, \"follow_request_sent\": null, \"notifications\": null, \"withheld_in_countries\": []}, \"geo\": null, \"coordinates\": null, \"place\": null, \"contributors\": null, \"is_quote_status\": false, \"quote_count\": 43, \"reply_count\": 1, \"retweet_count\": 32, \"favorite_count\": 737, \"entities\": {\"hashtags\": [], \"urls\": [], \"user_mentions\": [], \"symbols\": [], \"media\": [{\"id\": 1522194317607342082, \"id_str\": \"1522194317607342082\", \"indices\": [5, 28], \"media_url\": \"http://pbs.twimg.com/media/FR_rqrwakAIdBug.jpg\", \"media_url_https\": \"https://pbs.twimg.com/media/FR_rqrwakAIdBug.jpg\", \"url\": \"https://t.co/6DockDBGlq\", \"display_url\": \"pic.twitter.com/6DockDBGlq\", \"expanded_url\": \"https://twitter.com/perveeSK/status/1522194334925586432/photo/1\", \"type\": \"photo\", \"sizes\": {\"medium\": {\"w\": 1080, \"h\": 1080, \"resize\": \"fit\"}, \"thumb\": {\"w\": 150, \"h\": 150, \"resize\": \"crop\"}, \"large\": {\"w\": 1080, \"h\": 1080, \"resize\": \"fit\"}, \"small\": {\"w\": 680, \"h\": 680, \"resize\": \"fit\"}}}]}, \"extended_entities\": {\"media\": [{\"id\": 1522194317607342082, \"id_str\": \"1522194317607342082\", \"indices\": [5, 28], \"media_url\": \"http://pbs.twimg.com/media/FR_rqrwakAIdBug.jpg\", \"media_url_https\": \"https://pbs.twimg.com/media/FR_rqrwakAIdBug.jpg\", \"url\": \"https://t.co/6DockDBGlq\", \"display_url\": \"pic.twitter.com/6DockDBGlq\", \"expanded_url\": \"https://twitter.com/perveeSK/status/1522194334925586432/photo/1\", \"type\": \"photo\", \"sizes\": {\"medium\": {\"w\": 1080, \"h\": 1080, \"resize\": \"fit\"}, \"thumb\": {\"w\": 150, \"h\": 150, \"resize\": \"crop\"}, \"large\": {\"w\": 1080, \"h\": 1080, \"resize\": \"fit\"}, \"small\": {\"w\": 680, \"h\": 680, \"resize\": \"fit\"}}}, {\"id\": 1522194321621286912, \"id_str\": \"1522194321621286912\", \"indices\": [5, 28], \"media_url\": \"http://pbs.twimg.com/media/FR_rq6tagAAIeK5.jpg\", \"media_url_https\": \"https://pbs.twimg.com/media/FR_rq6tagAAIeK5.jpg\", \"url\": \"https://t.co/6DockDBGlq\", \"display_url\": \"pic.twitter.com/6DockDBGlq\", \"expanded_url\": \"https://twitter.com/perveeSK/status/1522194334925586432/photo/1\", \"type\": \"photo\", \"sizes\": {\"thumb\": {\"w\": 150, \"h\": 150, \"resize\": \"crop\"}, \"small\": {\"w\": 680, \"h\": 680, \"resize\": \"fit\"}, \"medium\": {\"w\": 1080, \"h\": 1080, \"resize\": \"fit\"}, \"large\": {\"w\": 1080, \"h\": 1080, \"resize\": \"fit\"}}}, {\"id\": 1522194326646067203, \"id_str\": \"1522194326646067203\", \"indices\": [5, 28], \"media_url\": \"http://pbs.twimg.com/media/FR_rrNbakAMf6Ub.jpg\", \"media_url_https\": \"https://pbs.twimg.com/media/FR_rrNbakAMf6Ub.jpg\", \"url\": \"https://t.co/6DockDBGlq\", \"display_url\": \"pic.twitter.com/6DockDBGlq\", \"expanded_url\": \"https://twitter.com/perveeSK/status/1522194334925586432/photo/1\", \"type\": \"photo\", \"sizes\": {\"thumb\": {\"w\": 150, \"h\": 150, \"resize\": \"crop\"}, \"small\": {\"w\": 680, \"h\": 680, \"resize\": \"fit\"}, \"large\": {\"w\": 1080, \"h\": 1080, \"resize\": \"fit\"}, \"medium\": {\"w\": 1080, \"h\": 1080, \"resize\": \"fit\"}}}, {\"id\": 1522194332371267584, \"id_str\": \"1522194332371267584\", \"indices\": [5, 28], \"media_url\": \"http://pbs.twimg.com/media/FR_rriwaMAAGHuc.jpg\", \"media_url_https\": \"https://pbs.twimg.com/media/FR_rriwaMAAGHuc.jpg\", \"url\": \"https://t.co/6DockDBGlq\", \"display_url\": \"pic.twitter.com/6DockDBGlq\", \"expanded_url\": \"https://twitter.com/perveeSK/status/1522194334925586432/photo/1\", \"type\": \"photo\", \"sizes\": {\"thumb\": {\"w\": 150, \"h\": 150, \"resize\": \"crop\"}, \"small\": {\"w\": 680, \"h\": 672, \"resize\": \"fit\"}, \"large\": {\"w\": 1080, \"h\": 1068, \"resize\": \"fit\"}, \"medium\": {\"w\": 1080, \"h\": 1068, \"resize\": \"fit\"}}}]}, \"favorited\": false, \"retweeted\": false, \"possibly_sensitive\": false, \"filter_level\": \"low\", \"lang\": \"und\"}, \"quoted_status_permalink\": {\"url\": \"https://t.co/DX3xNrBfq1\", \"expanded\": \"https://twitter.com/perveesk/status/1522194334925586432\", \"display\": \"twitter.com/perveesk/statu\\\\u2026\"}, \"is_quote_status\": true, \"quote_count\": 0, \"reply_count\": 0, \"retweet_count\": 0, \"favorite_count\": 0, \"entities\": {\"hashtags\": [], \"urls\": [], \"user_mentions\": [], \"symbols\": []}, \"favorited\": false, \"retweeted\": false, \"filter_level\": \"low\", \"lang\": \"en\", \"timestamp_ms\": \"1651759316346\"}'}"
      ]
     },
     "execution_count": 5,
     "metadata": {},
     "output_type": "execute_result"
    }
   ],
   "source": [
    "tweet_dict"
   ]
  },
  {
   "cell_type": "code",
   "execution_count": null,
   "metadata": {},
   "outputs": [],
   "source": []
  }
 ],
 "metadata": {
  "interpreter": {
   "hash": "3dccde306ff19bbc2be532b0f4481ce43cb993410f44c2d3ada687c482b579c8"
  },
  "kernelspec": {
   "display_name": "Python 3.9.7 ('base')",
   "language": "python",
   "name": "python3"
  },
  "language_info": {
   "codemirror_mode": {
    "name": "ipython",
    "version": 3
   },
   "file_extension": ".py",
   "mimetype": "text/x-python",
   "name": "python",
   "nbconvert_exporter": "python",
   "pygments_lexer": "ipython3",
   "version": "3.9.7"
  },
  "orig_nbformat": 4
 },
 "nbformat": 4,
 "nbformat_minor": 2
}
