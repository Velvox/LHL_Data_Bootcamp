{
 "cells": [
  {
   "cell_type": "markdown",
   "id": "882f85d0-4e4d-4a99-8eb7-8880b182ab19",
   "metadata": {},
   "source": [
    "# [Python Markdown Structure](https://realpython.com/python-program-structure/)"
   ]
  },
  {
   "cell_type": "code",
   "execution_count": 1,
   "id": "25c93028-afcf-4fc1-868e-6c20a5c1eab3",
   "metadata": {},
   "outputs": [
    {
     "name": "stdout",
     "output_type": "stream",
     "text": [
      "Hello World!\n"
     ]
    }
   ],
   "source": [
    "print('Hello World!')"
   ]
  },
  {
   "cell_type": "code",
   "execution_count": 2,
   "id": "60e00117-7a16-4948-8abc-1dce29932c73",
   "metadata": {},
   "outputs": [
    {
     "name": "stdout",
     "output_type": "stream",
     "text": [
      "[2]\n"
     ]
    }
   ],
   "source": [
    "x = [1, 2, 3]\n",
    "print(x[1:2])"
   ]
  },
  {
   "cell_type": "markdown",
   "id": "3888c932-417a-4a25-b4e0-912386ffaa62",
   "metadata": {},
   "source": [
    "## Implicit Line Continuation"
   ]
  },
  {
   "cell_type": "code",
   "execution_count": 3,
   "id": "448d930e-6a6b-4e1c-ac01-40bf10a58479",
   "metadata": {},
   "outputs": [
    {
     "data": {
      "text/plain": [
       "[[1, 2, 3, 4, 5], [6, 7, 8, 9, 10]]"
      ]
     },
     "execution_count": 3,
     "metadata": {},
     "output_type": "execute_result"
    }
   ],
   "source": [
    "a = [\n",
    "    [1,2,3,4,5],\n",
    "    [6,7,8,9,10]\n",
    "]\n",
    "a"
   ]
  },
  {
   "cell_type": "markdown",
   "id": "0db5fe5c-176c-4664-bc81-dcbb435a5df9",
   "metadata": {},
   "source": [
    "someone_is_of_working_age = (\n",
    "     (person1_age >= 18 and person1_age <= 65)\n",
    "     or (person2_age >= 18 and person2_age <= 65)\n",
    "     or (person3_age >= 18 and person3_age <= 65)\n",
    " )"
   ]
  },
  {
   "cell_type": "code",
   "execution_count": 5,
   "id": "8f2a7013-eacf-4a45-9640-1d80dc29ef38",
   "metadata": {},
   "outputs": [
    {
     "data": {
      "text/plain": [
       "21"
      ]
     },
     "execution_count": 5,
     "metadata": {},
     "output_type": "execute_result"
    }
   ],
   "source": [
    "x = (\n",
    "    1 + 2\n",
    "    + 3 + 4\n",
    "    + 5 + 6\n",
    ")\n",
    "x"
   ]
  },
  {
   "cell_type": "markdown",
   "id": "871a7a23-21ce-4b61-98a3-359b1cd33e07",
   "metadata": {},
   "source": [
    "## Explicit Line Continuation"
   ]
  },
  {
   "cell_type": "code",
   "execution_count": 7,
   "id": "e03e66cb-be31-4a75-b02b-bda91f3f7327",
   "metadata": {},
   "outputs": [
    {
     "data": {
      "text/plain": [
       "'Hello, World!'"
      ]
     },
     "execution_count": 7,
     "metadata": {},
     "output_type": "execute_result"
    }
   ],
   "source": [
    "s = \\\n",
    "'Hello, World!'\n",
    "s"
   ]
  },
  {
   "cell_type": "code",
   "execution_count": 8,
   "id": "b0eb0ec2-8525-49b7-be23-dbac047afd23",
   "metadata": {},
   "outputs": [
    {
     "data": {
      "text/plain": [
       "21"
      ]
     },
     "execution_count": 8,
     "metadata": {},
     "output_type": "execute_result"
    }
   ],
   "source": [
    "x = 1 + 2 \\\n",
    "    + 3 + 4 \\\n",
    "    + 5 + 6\n",
    "x"
   ]
  },
  {
   "cell_type": "markdown",
   "id": "b86ec923-d23f-4cb7-8ea8-0b2e2c305013",
   "metadata": {},
   "source": [
    "## Multiple Statements Per Line"
   ]
  },
  {
   "cell_type": "code",
   "execution_count": 10,
   "id": "dac37325-eeef-4ad5-8756-17d8697843cb",
   "metadata": {},
   "outputs": [
    {
     "name": "stdout",
     "output_type": "stream",
     "text": [
      "1\n",
      "2\n",
      "3\n"
     ]
    }
   ],
   "source": [
    "x = 1; y = 2; z = 3\n",
    "print(x); print(y); print(z)"
   ]
  },
  {
   "cell_type": "markdown",
   "id": "80b6d77d-3fea-47f1-bb9e-7433401658cf",
   "metadata": {},
   "source": [
    "### \"\"\" \"\"\" comments can be used in script files, only"
   ]
  },
  {
   "cell_type": "code",
   "execution_count": null,
   "id": "f7c0412b-1b12-468d-bfe7-414ee740758e",
   "metadata": {},
   "outputs": [],
   "source": []
  }
 ],
 "metadata": {
  "kernelspec": {
   "display_name": "lhl_env",
   "language": "python",
   "name": "lhl_env"
  },
  "language_info": {
   "codemirror_mode": {
    "name": "ipython",
    "version": 3
   },
   "file_extension": ".py",
   "mimetype": "text/x-python",
   "name": "python",
   "nbconvert_exporter": "python",
   "pygments_lexer": "ipython3",
   "version": "3.9.7"
  }
 },
 "nbformat": 4,
 "nbformat_minor": 5
}
