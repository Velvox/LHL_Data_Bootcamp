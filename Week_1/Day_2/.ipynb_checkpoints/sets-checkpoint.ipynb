{
 "cells": [
  {
   "cell_type": "markdown",
   "id": "9c695f8d-7b90-4e34-aba7-23f7c5d9be4b",
   "metadata": {},
   "source": [
    "# Sets in Python"
   ]
  },
  {
   "cell_type": "code",
   "execution_count": null,
   "id": "3b11f5fc-6e8a-4b79-9165-9fe5855f24b0",
   "metadata": {},
   "outputs": [
    {
     "ename": "SyntaxError",
     "evalue": "invalid syntax (Temp/ipykernel_18476/2684220994.py, line 1)",
     "output_type": "error",
     "traceback": [
      "\u001b[1;36m  File \u001b[1;32m\"C:\\Users\\lapen\\AppData\\Local\\Temp/ipykernel_18476/2684220994.py\"\u001b[1;36m, line \u001b[1;32m1\u001b[0m\n\u001b[1;33m    x = set(<iter>)\u001b[0m\n\u001b[1;37m            ^\u001b[0m\n\u001b[1;31mSyntaxError\u001b[0m\u001b[1;31m:\u001b[0m invalid syntax\n"
     ]
    }
   ],
   "source": [
    "x = set(<iter>)"
   ]
  },
  {
   "cell_type": "code",
   "execution_count": 2,
   "id": "d4a610e9-c059-4990-b763-fba33fadc308",
   "metadata": {},
   "outputs": [
    {
     "data": {
      "text/plain": [
       "{'bar', 'baz', 'foo', 'qux'}"
      ]
     },
     "execution_count": 2,
     "metadata": {},
     "output_type": "execute_result"
    }
   ],
   "source": [
    "x = set(['foo', 'bar', 'baz', 'foo', 'qux'])\n",
    "x"
   ]
  },
  {
   "cell_type": "code",
   "execution_count": 4,
   "id": "39668499-dab9-4ed7-a899-53deac43b20e",
   "metadata": {},
   "outputs": [
    {
     "data": {
      "text/plain": [
       "{'bar', 'baz', 'foo', 'qux'}"
      ]
     },
     "execution_count": 4,
     "metadata": {},
     "output_type": "execute_result"
    }
   ],
   "source": [
    "x = set(('foo', 'bar', 'baz', 'foo', 'qux'))\n",
    "x"
   ]
  },
  {
   "cell_type": "code",
   "execution_count": 9,
   "id": "8d72d6a1-6966-491e-bb71-8a7dbb3f18be",
   "metadata": {},
   "outputs": [
    {
     "data": {
      "text/plain": [
       "['q', 'u', 'u', 'x']"
      ]
     },
     "execution_count": 9,
     "metadata": {},
     "output_type": "execute_result"
    }
   ],
   "source": [
    "s = 'quux'\n",
    "list(s)"
   ]
  },
  {
   "cell_type": "code",
   "execution_count": 7,
   "id": "841dc99f-02cb-45f5-9b8d-6ef6b444cdd1",
   "metadata": {},
   "outputs": [
    {
     "data": {
      "text/plain": [
       "{'q', 'u', 'x'}"
      ]
     },
     "execution_count": 7,
     "metadata": {},
     "output_type": "execute_result"
    }
   ],
   "source": [
    "set(s)"
   ]
  },
  {
   "cell_type": "code",
   "execution_count": 11,
   "id": "da901261-88b0-4184-9231-f578aa68d6b1",
   "metadata": {},
   "outputs": [
    {
     "data": {
      "text/plain": [
       "{'bar', 'baz', 'foo', 'qux'}"
      ]
     },
     "execution_count": 11,
     "metadata": {},
     "output_type": "execute_result"
    }
   ],
   "source": [
    "x = {'foo', 'bar', 'baz', 'foo', 'qux'}\n",
    "x"
   ]
  },
  {
   "cell_type": "code",
   "execution_count": 12,
   "id": "a8fd1d68-4850-4316-8b24-d82c7fdbb882",
   "metadata": {},
   "outputs": [
    {
     "data": {
      "text/plain": [
       "{'foo'}"
      ]
     },
     "execution_count": 12,
     "metadata": {},
     "output_type": "execute_result"
    }
   ],
   "source": [
    "# use curly braces to enter or .append as an object\n",
    "{'foo'}"
   ]
  },
  {
   "cell_type": "code",
   "execution_count": 13,
   "id": "8c23e0ed-b727-46e5-b941-b505e9801207",
   "metadata": {},
   "outputs": [
    {
     "data": {
      "text/plain": [
       "{'f', 'o'}"
      ]
     },
     "execution_count": 13,
     "metadata": {},
     "output_type": "execute_result"
    }
   ],
   "source": [
    "# otherwise, the iterable gets broken down:\n",
    "set('foo')"
   ]
  },
  {
   "cell_type": "code",
   "execution_count": 14,
   "id": "a6de6a7b-f3ba-4bf0-bffd-9b98fdbacf12",
   "metadata": {},
   "outputs": [
    {
     "data": {
      "text/plain": [
       "set"
      ]
     },
     "execution_count": 14,
     "metadata": {},
     "output_type": "execute_result"
    }
   ],
   "source": [
    "# empty sets made with set() function\n",
    "x = set()\n",
    "type(x)"
   ]
  },
  {
   "cell_type": "code",
   "execution_count": 15,
   "id": "7282f02e-9380-4599-884c-39d0d714919c",
   "metadata": {},
   "outputs": [
    {
     "data": {
      "text/plain": [
       "False"
      ]
     },
     "execution_count": 15,
     "metadata": {},
     "output_type": "execute_result"
    }
   ],
   "source": [
    "# empty sets are falsy\n",
    "bool(x)"
   ]
  },
  {
   "cell_type": "code",
   "execution_count": 16,
   "id": "5092c4a5-cd64-4fcb-bb08-ec03eaa668dd",
   "metadata": {},
   "outputs": [
    {
     "data": {
      "text/plain": [
       "{3.14159, 42, None, 'foo'}"
      ]
     },
     "execution_count": 16,
     "metadata": {},
     "output_type": "execute_result"
    }
   ],
   "source": [
    "# sets can be made with any data type, even combined\n",
    "x = {42, 'foo', 3.14159, None}\n",
    "x"
   ]
  },
  {
   "cell_type": "code",
   "execution_count": 17,
   "id": "8240ca9b-0430-4122-b511-aae0efb9360d",
   "metadata": {},
   "outputs": [
    {
     "ename": "TypeError",
     "evalue": "unhashable type: 'list'",
     "output_type": "error",
     "traceback": [
      "\u001b[1;31m---------------------------------------------------------------------------\u001b[0m",
      "\u001b[1;31mTypeError\u001b[0m                                 Traceback (most recent call last)",
      "\u001b[1;32m~\\AppData\\Local\\Temp/ipykernel_18476/3286759372.py\u001b[0m in \u001b[0;36m<module>\u001b[1;34m\u001b[0m\n\u001b[0;32m      1\u001b[0m \u001b[1;31m# lists are mutable and can't be in sets\u001b[0m\u001b[1;33m\u001b[0m\u001b[1;33m\u001b[0m\u001b[0m\n\u001b[0;32m      2\u001b[0m \u001b[0ma\u001b[0m \u001b[1;33m=\u001b[0m \u001b[1;33m[\u001b[0m\u001b[1;36m1\u001b[0m\u001b[1;33m,\u001b[0m \u001b[1;36m2\u001b[0m\u001b[1;33m,\u001b[0m \u001b[1;36m3\u001b[0m\u001b[1;33m]\u001b[0m\u001b[1;33m\u001b[0m\u001b[1;33m\u001b[0m\u001b[0m\n\u001b[1;32m----> 3\u001b[1;33m \u001b[1;33m{\u001b[0m\u001b[0ma\u001b[0m\u001b[1;33m}\u001b[0m\u001b[1;33m\u001b[0m\u001b[1;33m\u001b[0m\u001b[0m\n\u001b[0m",
      "\u001b[1;31mTypeError\u001b[0m: unhashable type: 'list'"
     ]
    }
   ],
   "source": [
    "# lists are mutable and can't be in sets\n",
    "a = [1, 2, 3]\n",
    "{a}"
   ]
  },
  {
   "cell_type": "code",
   "execution_count": 19,
   "id": "e4281991-0da8-46da-b43c-9f85e8c7bfdf",
   "metadata": {},
   "outputs": [
    {
     "data": {
      "text/plain": [
       "{'bar', 'baz', 'foo', 'quux', 'qux'}"
      ]
     },
     "execution_count": 19,
     "metadata": {},
     "output_type": "execute_result"
    }
   ],
   "source": [
    "# set unions are done with the | operator\n",
    "x1 = {'foo', 'bar', 'baz'}\n",
    "x2 = {'baz', 'qux', 'quux'}\n",
    "x1 | x2"
   ]
  },
  {
   "cell_type": "raw",
   "id": "be202cda-c7ff-45a3-97a9-ad3a9f0be0cb",
   "metadata": {},
   "source": [
    "# or with a the union method\n",
    "x1.union(x2)\n",
    "print(x1)"
   ]
  },
  {
   "cell_type": "code",
   "execution_count": null,
   "id": "d50b7fc9-74d6-4b28-9227-a4107817068b",
   "metadata": {},
   "outputs": [],
   "source": []
  }
 ],
 "metadata": {
  "kernelspec": {
   "display_name": "lhl_env",
   "language": "python",
   "name": "lhl_env"
  },
  "language_info": {
   "codemirror_mode": {
    "name": "ipython",
    "version": 3
   },
   "file_extension": ".py",
   "mimetype": "text/x-python",
   "name": "python",
   "nbconvert_exporter": "python",
   "pygments_lexer": "ipython3",
   "version": "3.9.7"
  }
 },
 "nbformat": 4,
 "nbformat_minor": 5
}
