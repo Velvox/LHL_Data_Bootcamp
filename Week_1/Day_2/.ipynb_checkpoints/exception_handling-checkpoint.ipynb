{
 "cells": [
  {
   "cell_type": "markdown",
   "id": "ce60ed69-5354-4ef5-bef2-a3d44d638c73",
   "metadata": {},
   "source": [
    "# [Exception Handling in Python](https://www.tutorialsteacher.com/python/exception-handling-in-python)"
   ]
  },
  {
   "cell_type": "code",
   "execution_count": 1,
   "id": "a9bcdaaf-0bb9-4e69-b934-10365121f3fe",
   "metadata": {},
   "outputs": [
    {
     "name": "stdout",
     "output_type": "stream",
     "text": [
      "Some error occured.\n"
     ]
    }
   ],
   "source": [
    "try:\n",
    "    a=5\n",
    "    b='0'\n",
    "    print(a/b)\n",
    "except:\n",
    "    print('Some error occured.')"
   ]
  },
  {
   "cell_type": "code",
   "execution_count": null,
   "id": "c02bddbb-7c91-40c8-af12-a014e5e28ef6",
   "metadata": {},
   "outputs": [],
   "source": []
  }
 ],
 "metadata": {
  "kernelspec": {
   "display_name": "lhl_env",
   "language": "python",
   "name": "lhl_env"
  },
  "language_info": {
   "codemirror_mode": {
    "name": "ipython",
    "version": 3
   },
   "file_extension": ".py",
   "mimetype": "text/x-python",
   "name": "python",
   "nbconvert_exporter": "python",
   "pygments_lexer": "ipython3",
   "version": "3.9.7"
  }
 },
 "nbformat": 4,
 "nbformat_minor": 5
}
