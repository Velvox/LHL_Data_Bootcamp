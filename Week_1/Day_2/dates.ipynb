{
 "cells": [
  {
   "cell_type": "markdown",
   "metadata": {},
   "source": [
    "# [Date & Time](https://www.dataquest.io/blog/python-datetime-tutorial/)"
   ]
  },
  {
   "cell_type": "code",
   "execution_count": 5,
   "metadata": {},
   "outputs": [],
   "source": [
    "from datetime import datetime as dt"
   ]
  },
  {
   "cell_type": "code",
   "execution_count": 7,
   "metadata": {},
   "outputs": [
    {
     "data": {
      "text/plain": [
       "datetime.datetime(2022, 5, 31, 18, 3, 25, 21350)"
      ]
     },
     "execution_count": 7,
     "metadata": {},
     "output_type": "execute_result"
    }
   ],
   "source": [
    "datetime_object = dt.now()\n",
    "datetime_object"
   ]
  },
  {
   "cell_type": "code",
   "execution_count": 9,
   "metadata": {},
   "outputs": [
    {
     "name": "stdout",
     "output_type": "stream",
     "text": [
      "2019-10-31 00:00:00\n"
     ]
    }
   ],
   "source": [
    "my_string = '2019-10-31'\n",
    "\n",
    "# Create date object in given time format yyyy-mm-dd\n",
    "my_date = dt.strptime(my_string, \"%Y-%m-%d\")\n",
    "\n",
    "print(my_date)"
   ]
  },
  {
   "cell_type": "code",
   "execution_count": 10,
   "metadata": {},
   "outputs": [
    {
     "name": "stdout",
     "output_type": "stream",
     "text": [
      "10\n",
      "2019\n"
     ]
    }
   ],
   "source": [
    "print(my_date.month)\n",
    "print(my_date.year)"
   ]
  },
  {
   "cell_type": "code",
   "execution_count": 13,
   "metadata": {},
   "outputs": [
    {
     "name": "stdout",
     "output_type": "stream",
     "text": [
      "Day of Month: 31\n",
      "Day of Week(number):  3\n",
      "Day of week(name):  Thursday\n"
     ]
    }
   ],
   "source": [
    "import calendar\n",
    "\n",
    "print('Day of Month:', my_date.day)\n",
    "\n",
    "# to get name of day (in number) from date\n",
    "print('Day of Week(number): ', my_date.weekday())\n",
    "\n",
    "# to get name of day from date\n",
    "print('Day of week(name): ', calendar.day_name[my_date.weekday()])"
   ]
  },
  {
   "cell_type": "code",
   "execution_count": 17,
   "metadata": {},
   "outputs": [
    {
     "name": "stdout",
     "output_type": "stream",
     "text": [
      "Hour:  18\n",
      "Minute:  12\n"
     ]
    }
   ],
   "source": [
    "from datetime import datetime as dt\n",
    "\n",
    "todays_date = dt.now()\n",
    "\n",
    "# getting hour from datetime\n",
    "print('Hour: ', todays_date.hour)\n",
    "\n",
    "# getting minutes from datetime\n",
    "print('Minute: ', todays_date.minute)"
   ]
  },
  {
   "cell_type": "code",
   "execution_count": 18,
   "metadata": {},
   "outputs": [
    {
     "data": {
      "text/plain": [
       "datetime.IsoCalendarDate(year=2022, week=22, weekday=2)"
      ]
     },
     "execution_count": 18,
     "metadata": {},
     "output_type": "execute_result"
    }
   ],
   "source": [
    "# Return a 3-tuple, (ISO year, ISO week number, ISO weekday)\n",
    "todays_date.isocalendar()"
   ]
  },
  {
   "cell_type": "code",
   "execution_count": 21,
   "metadata": {},
   "outputs": [
    {
     "name": "stdout",
     "output_type": "stream",
     "text": [
      "timestamp:  1654035278.852743\n"
     ]
    }
   ],
   "source": [
    "now = dt.now()\n",
    "\n",
    "# convert current date into timestamp\n",
    "timestamp = dt.timestamp(now)\n",
    "\n",
    "print(\"timestamp: \", timestamp)"
   ]
  },
  {
   "cell_type": "code",
   "execution_count": 24,
   "metadata": {},
   "outputs": [
    {
     "data": {
      "text/plain": [
       "datetime.datetime(2022, 5, 31, 18, 14, 38, 852743)"
      ]
     },
     "execution_count": 24,
     "metadata": {},
     "output_type": "execute_result"
    }
   ],
   "source": [
    "dt_object = dt.fromtimestamp(timestamp)\n",
    "dt_object"
   ]
  },
  {
   "cell_type": "markdown",
   "metadata": {},
   "source": [
    "## Measuring Time Span"
   ]
  },
  {
   "cell_type": "code",
   "execution_count": 25,
   "metadata": {},
   "outputs": [
    {
     "data": {
      "text/plain": [
       "datetime.timedelta(days=14)"
      ]
     },
     "execution_count": 25,
     "metadata": {},
     "output_type": "execute_result"
    }
   ],
   "source": [
    "from datetime import timedelta\n",
    "\n",
    "# create a timedelta object with difference of 2 weeks\n",
    "d = timedelta(weeks=2)\n",
    "\n",
    "d"
   ]
  },
  {
   "cell_type": "code",
   "execution_count": null,
   "metadata": {},
   "outputs": [],
   "source": [
    "# same thing with year"
   ]
  }
 ],
 "metadata": {
  "interpreter": {
   "hash": "0d3e5843508021bf156462d92a95ae2e692e221f3b0e2ddd679c849d1d8a819d"
  },
  "kernelspec": {
   "display_name": "Python 3.10.4 ('lhl_env')",
   "language": "python",
   "name": "python3"
  },
  "language_info": {
   "codemirror_mode": {
    "name": "ipython",
    "version": 3
   },
   "file_extension": ".py",
   "mimetype": "text/x-python",
   "name": "python",
   "nbconvert_exporter": "python",
   "pygments_lexer": "ipython3",
   "version": "3.10.4"
  },
  "orig_nbformat": 4
 },
 "nbformat": 4,
 "nbformat_minor": 2
}
