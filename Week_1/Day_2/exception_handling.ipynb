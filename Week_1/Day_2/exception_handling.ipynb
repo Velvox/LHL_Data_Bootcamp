{
 "cells": [
  {
   "cell_type": "markdown",
   "id": "ce60ed69-5354-4ef5-bef2-a3d44d638c73",
   "metadata": {},
   "source": [
    "# [Exception Handling in Python](https://www.tutorialsteacher.com/python/exception-handling-in-python)"
   ]
  },
  {
   "cell_type": "code",
   "execution_count": 1,
   "id": "a9bcdaaf-0bb9-4e69-b934-10365121f3fe",
   "metadata": {},
   "outputs": [
    {
     "name": "stdout",
     "output_type": "stream",
     "text": [
      "Some error occured.\n"
     ]
    }
   ],
   "source": [
    "try:\n",
    "    a=5\n",
    "    b='0'\n",
    "    print(a/b)\n",
    "except TypeError:\n",
    "    print('Some error occured.')"
   ]
  },
  {
   "cell_type": "code",
   "execution_count": 2,
   "id": "c02bddbb-7c91-40c8-af12-a014e5e28ef6",
   "metadata": {},
   "outputs": [
    {
     "name": "stdout",
     "output_type": "stream",
     "text": [
      "Unsupported operation\n",
      "Out of try except blocks\n"
     ]
    }
   ],
   "source": [
    "# you can have multiple exception types, based on the error\n",
    "\n",
    "try:\n",
    "    a=5\n",
    "    b='0'\n",
    "    print(a+b)\n",
    "except TypeError:\n",
    "    print('Unsupported operation')\n",
    "except ZeroDivisionError:\n",
    "    print('Division by zero not allowed')\n",
    "print('Out of try except blocks')"
   ]
  },
  {
   "cell_type": "code",
   "execution_count": 4,
   "id": "5981bf86",
   "metadata": {},
   "outputs": [
    {
     "name": "stdout",
     "output_type": "stream",
     "text": [
      "Division by zero not allowed\n",
      "Out of try except blocks\n"
     ]
    }
   ],
   "source": [
    "try:\n",
    "    a=5\n",
    "    b=0\n",
    "    print(a/b)\n",
    "except TypeError:\n",
    "    print('Unsupported operation')\n",
    "except ZeroDivisionError:\n",
    "    print('Division by zero not allowed')\n",
    "print('Out of try except blocks')"
   ]
  },
  {
   "cell_type": "code",
   "execution_count": 7,
   "id": "19bd672c",
   "metadata": {},
   "outputs": [
    {
     "name": "stdout",
     "output_type": "stream",
     "text": [
      "try block\n",
      "else block\n",
      "Division =  2.0\n",
      "finally block\n",
      "Out of try, except, else and finally blocks.\n"
     ]
    }
   ],
   "source": [
    "try:\n",
    "    #statements in try block\n",
    "    print('try block')\n",
    "    x=int(input('Enter a number: '))\n",
    "    y=int(input('Enter another number: '))\n",
    "    z=x/y\n",
    "except:\n",
    "    #executed when error in try block\n",
    "    print(\"except ZeroDivisionError block\")\n",
    "    print(\"Division by 0 not accepted\")\n",
    "else:\n",
    "    #executed if try block is error-free\n",
    "    print(\"else block\")\n",
    "    print(\"Division = \", z)\n",
    "finally:\n",
    "    #executed irrespective of exception occured or not\n",
    "    print(\"finally block\")\n",
    "    x=0\n",
    "    y=0\n",
    "print (\"Out of try, except, else and finally blocks.\" )"
   ]
  },
  {
   "cell_type": "markdown",
   "id": "66276215",
   "metadata": {},
   "source": [
    "## Raise"
   ]
  },
  {
   "cell_type": "code",
   "execution_count": 10,
   "id": "bafe00a5",
   "metadata": {},
   "outputs": [
    {
     "name": "stdout",
     "output_type": "stream",
     "text": [
      "100 is within the allowed range\n"
     ]
    }
   ],
   "source": [
    "try:\n",
    "    x=int(input('Enter a numeber upto 100:'))\n",
    "    if x > 100:\n",
    "        raise ValueError(x)\n",
    "except ValueError:\n",
    "    print(x, \"is out of allowed range\")\n",
    "else:\n",
    "    print(x, \"is within the allowed range\")"
   ]
  },
  {
   "cell_type": "code",
   "execution_count": null,
   "id": "be395985",
   "metadata": {},
   "outputs": [],
   "source": []
  }
 ],
 "metadata": {
  "kernelspec": {
   "display_name": "lhl_env",
   "language": "python",
   "name": "lhl_env"
  },
  "language_info": {
   "codemirror_mode": {
    "name": "ipython",
    "version": 3
   },
   "file_extension": ".py",
   "mimetype": "text/x-python",
   "name": "python",
   "nbconvert_exporter": "python",
   "pygments_lexer": "ipython3",
   "version": "3.9.7"
  }
 },
 "nbformat": 4,
 "nbformat_minor": 5
}
