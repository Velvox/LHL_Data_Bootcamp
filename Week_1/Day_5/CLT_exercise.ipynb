{
 "cells": [
  {
   "cell_type": "markdown",
   "metadata": {},
   "source": [
    "## Central Limit Theorem Exercise"
   ]
  },
  {
   "cell_type": "code",
   "execution_count": 2,
   "metadata": {},
   "outputs": [],
   "source": [
    "import pandas as pd\n",
    "import numpy as np\n",
    "# package with hypothesis tests\n",
    "import scipy.stats as st\n",
    "import matplotlib.pyplot as plt"
   ]
  },
  {
   "cell_type": "code",
   "execution_count": 3,
   "metadata": {},
   "outputs": [
    {
     "name": "stderr",
     "output_type": "stream",
     "text": [
      "/var/folders/q4/hl7yv5yn6g10s9npc_7kk08h0000gn/T/ipykernel_13832/3413091114.py:13: UserWarning: Matplotlib is currently using module://matplotlib_inline.backend_inline, which is a non-GUI backend, so cannot show the figure.\n",
      "  fig.show();\n"
     ]
    },
    {
     "data": {
      "image/png": "[encoded data removed]",
      "text/plain": [
       "<Figure size 1008x360 with 2 Axes>"
      ]
     },
     "metadata": {
      "needs_background": "light"
     },
     "output_type": "display_data"
    }
   ],
   "source": [
    "#\n",
    "uniform = np.random.rand(10000)\n",
    "normal = np.random.randn(10000)\n",
    "\n",
    "fig = plt.figure(figsize=(14,5))\n",
    "ax1 = fig.add_subplot(1,2,1)\n",
    "ax2 = fig.add_subplot(1,2,2)\n",
    "ax1.hist(uniform, 20)\n",
    "ax1.set_title('Uniform data')\n",
    "ax2.hist(normal, 20)\n",
    "ax2.set_title('Normal data')\n",
    "fig.tight_layout()\n",
    "fig.show();"
   ]
  },
  {
   "cell_type": "markdown",
   "metadata": {},
   "source": [
    "### CLT - simulation"
   ]
  },
  {
   "cell_type": "markdown",
   "metadata": {},
   "source": [
    "### How many samples do we need to take, so that the distribution of means for these samples will pass the shapiro-wilk test for normality if the population is from a Uniform or a Normal distribution?\n",
    "\n",
    "+ Assume the population has 10,000 observation.\n",
    "+ Assume sample size is always 50.\n",
    "\n",
    "We will be suprised to see how fast the test passes for both distributions."
   ]
  },
  {
   "cell_type": "code",
   "execution_count": 4,
   "metadata": {},
   "outputs": [
    {
     "data": {
      "text/plain": [
       "[0.5038744057949088,\n",
       " 0.5003408656373305,\n",
       " 0.49938452623597734,\n",
       " 0.5007437679344047,\n",
       " 0.49667555339239644,\n",
       " 0.49428525016051117,\n",
       " 0.49783941614166605,\n",
       " 0.5016479305551651,\n",
       " 0.4993482129517108,\n",
       " 0.49814768061370807,\n",
       " 0.49518447036324803,\n",
       " 0.5049780827736892,\n",
       " 0.49516269967131454,\n",
       " 0.49552714316543595,\n",
       " 0.504038349768865,\n",
       " 0.4966700934605171,\n",
       " 0.5027484968145562,\n",
       " 0.5024033187175689,\n",
       " 0.49601509005452965,\n",
       " 0.4989556608153348,\n",
       " 0.496895950153787,\n",
       " 0.49978968040535127,\n",
       " 0.49895590664981954,\n",
       " 0.5007153635559136,\n",
       " 0.5008330265615245,\n",
       " 0.4968496603932553,\n",
       " 0.49844799010391105,\n",
       " 0.5045335219445979,\n",
       " 0.5007543216367978,\n",
       " 0.5026552102385939,\n",
       " 0.5035342173179574,\n",
       " 0.4965475506431012,\n",
       " 0.503392214096301,\n",
       " 0.49578717408906625,\n",
       " 0.5004237654667142,\n",
       " 0.5005430657584117,\n",
       " 0.49881041095861584,\n",
       " 0.5040043501265321,\n",
       " 0.49883603318437764,\n",
       " 0.49997702532892835,\n",
       " 0.5021416379622952,\n",
       " 0.49781116471364173,\n",
       " 0.4987015523371863,\n",
       " 0.5011982809845835,\n",
       " 0.49840083459336276,\n",
       " 0.5005980982276312,\n",
       " 0.5036762491603078,\n",
       " 0.5031839034087782,\n",
       " 0.5042624854729689,\n",
       " 0.4973488786589136]"
      ]
     },
     "execution_count": 4,
     "metadata": {},
     "output_type": "execute_result"
    }
   ],
   "source": [
    "## creating a sample function\n",
    "\n",
    "def uniformSample():\n",
    "    uniform_sample = [np.random.rand(10000) for sample in range(50)]\n",
    "    uniform_mean = [uniform_sample[sample].mean() for sample in range(len(uniform_sample))]\n",
    "    return uniform_mean\n",
    "\n",
    "uniformSample()"
   ]
  },
  {
   "cell_type": "code",
   "execution_count": 7,
   "metadata": {},
   "outputs": [],
   "source": [
    "## set the initial sample\n",
    "uniform_sample = uniformSample()"
   ]
  },
  {
   "cell_type": "code",
   "execution_count": 8,
   "metadata": {},
   "outputs": [
    {
     "name": "stdout",
     "output_type": "stream",
     "text": [
      "0.11103877425193787\n"
     ]
    }
   ],
   "source": [
    "## run the loop\n",
    "p = 1\n",
    "while p > 0.5:\n",
    "    stats, p = st.shapiro(uniform_sample)\n",
    "    print(p)\n",
    "    uniform_sample.extend(uniformSample())"
   ]
  },
  {
   "cell_type": "code",
   "execution_count": null,
   "metadata": {},
   "outputs": [],
   "source": [
    "## uniform needs to run for about 1-5 times"
   ]
  },
  {
   "cell_type": "code",
   "execution_count": 24,
   "metadata": {},
   "outputs": [
    {
     "data": {
      "text/plain": [
       "[0.004220531281964314,\n",
       " 0.005597187991537454,\n",
       " 0.018274094982566776,\n",
       " -0.006212243833161225,\n",
       " 0.001451749235932046,\n",
       " 0.009167374047616642,\n",
       " 0.010052430287281967,\n",
       " -0.012716513969596449,\n",
       " 0.005078333557632059,\n",
       " -0.001197102781406716,\n",
       " 0.004573947054123596,\n",
       " 0.016056715053767094,\n",
       " -0.0020051563565949004,\n",
       " 0.0006668950124270201,\n",
       " 0.02063928821903744,\n",
       " -0.002411685233016361,\n",
       " 0.0005294042271898348,\n",
       " -0.010763683682386026,\n",
       " -0.0004000784299440312,\n",
       " -0.004136213155135767,\n",
       " -0.0063969433078937725,\n",
       " 0.013350603368689264,\n",
       " 0.004580260434853372,\n",
       " -0.005280739269469663,\n",
       " -0.004428776289851112,\n",
       " -0.016511178141498994,\n",
       " 0.0018116560105574941,\n",
       " 0.007707842093960109,\n",
       " -0.02713087365883315,\n",
       " -0.011349133668749588,\n",
       " -0.009986869841854406,\n",
       " -0.019779501660103962,\n",
       " -0.000973543869874382,\n",
       " -0.010248226943717359,\n",
       " -0.004676474146527416,\n",
       " 0.012848012875316417,\n",
       " 0.0022875475882137993,\n",
       " -0.010577805774374404,\n",
       " -0.004736278274948809,\n",
       " -0.008289930457351238,\n",
       " 0.001677699412703317,\n",
       " -0.0070282468782442405,\n",
       " 0.00011832105104913282,\n",
       " -0.0022260047171956095,\n",
       " 0.0059850841841019575,\n",
       " 0.01468043974502401,\n",
       " 0.0018008417644812245,\n",
       " -0.0038004962365185053,\n",
       " 0.00023090215242961207,\n",
       " -0.0038484712644477896]"
      ]
     },
     "execution_count": 24,
     "metadata": {},
     "output_type": "execute_result"
    }
   ],
   "source": [
    "def normalSample():\n",
    "    normal_sample = [np.random.randn(10000) for sample in range(50)]\n",
    "    normal_mean = [normal_sample[sample].mean() for sample in range(len(normal_sample))]\n",
    "    return normal_mean\n",
    "\n",
    "normalSample()"
   ]
  },
  {
   "cell_type": "code",
   "execution_count": 30,
   "metadata": {},
   "outputs": [],
   "source": [
    "## set the initial sample\n",
    "normal_sample = normalSample()"
   ]
  },
  {
   "cell_type": "code",
   "execution_count": 31,
   "metadata": {},
   "outputs": [
    {
     "name": "stdout",
     "output_type": "stream",
     "text": [
      "0.5130167603492737\n",
      "0.6778203248977661\n",
      "0.23371310532093048\n"
     ]
    }
   ],
   "source": [
    "## run the loop\n",
    "p = 1\n",
    "while p > 0.5:\n",
    "    stats, p = st.shapiro(normal_sample)\n",
    "    print(p)\n",
    "    normal_sample.extend(normalSample())"
   ]
  },
  {
   "cell_type": "code",
   "execution_count": null,
   "metadata": {},
   "outputs": [],
   "source": []
  }
 ],
 "metadata": {
  "interpreter": {
   "hash": "5eaee7f08749df7acde7defcf9c75ec9e0490b46ee4fb9b854947ce622c4fcf4"
  },
  "kernelspec": {
   "display_name": "Python 3.8.13 ('lhl_env')",
   "language": "python",
   "name": "python3"
  },
  "language_info": {
   "codemirror_mode": {
    "name": "ipython",
    "version": 3
   },
   "file_extension": ".py",
   "mimetype": "text/x-python",
   "name": "python",
   "nbconvert_exporter": "python",
   "pygments_lexer": "ipython3",
   "version": "3.8.2"
  }
 },
 "nbformat": 4,
 "nbformat_minor": 4
}
