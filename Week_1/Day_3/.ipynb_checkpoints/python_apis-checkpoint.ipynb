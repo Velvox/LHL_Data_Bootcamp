{
 "cells": [
  {
   "cell_type": "code",
   "execution_count": 1,
   "metadata": {},
   "outputs": [],
   "source": [
    "import requests as re\n",
    "import os"
   ]
  },
  {
   "cell_type": "code",
   "execution_count": 3,
   "metadata": {},
   "outputs": [
    {
     "ename": "KeyError",
     "evalue": "'FOURSQUARE_API_KEY'",
     "output_type": "error",
     "traceback": [
      "\u001b[0;31m---------------------------------------------------------------------------\u001b[0m",
      "\u001b[0;31mKeyError\u001b[0m                                  Traceback (most recent call last)",
      "\u001b[1;32m/Users/niclapenna/lighthouse_working/Week_1/Day_3/python_apis.ipynb Cell 2'\u001b[0m in \u001b[0;36m<cell line: 1>\u001b[0;34m()\u001b[0m\n\u001b[0;32m----> <a href='vscode-notebook-cell:/Users/niclapenna/lighthouse_working/Week_1/Day_3/python_apis.ipynb#ch0000001?line=0'>1</a>\u001b[0m api_key \u001b[39m=\u001b[39m os\u001b[39m.\u001b[39;49menviron[\u001b[39m\"\u001b[39;49m\u001b[39mFOURSQUARE_API_KEY\u001b[39;49m\u001b[39m\"\u001b[39;49m]\n\u001b[1;32m      <a href='vscode-notebook-cell:/Users/niclapenna/lighthouse_working/Week_1/Day_3/python_apis.ipynb#ch0000001?line=2'>3</a>\u001b[0m url \u001b[39m=\u001b[39m \u001b[39m\"\u001b[39m\u001b[39mhttps://api.foursquare.com/v3/places/search\u001b[39m\u001b[39m\"\u001b[39m\n\u001b[1;32m      <a href='vscode-notebook-cell:/Users/niclapenna/lighthouse_working/Week_1/Day_3/python_apis.ipynb#ch0000001?line=3'>4</a>\u001b[0m headers \u001b[39m=\u001b[39m {\n\u001b[1;32m      <a href='vscode-notebook-cell:/Users/niclapenna/lighthouse_working/Week_1/Day_3/python_apis.ipynb#ch0000001?line=4'>5</a>\u001b[0m     \u001b[39m\"\u001b[39m\u001b[39mAccept\u001b[39m\u001b[39m\"\u001b[39m: \u001b[39m\"\u001b[39m\u001b[39mapplication/json\u001b[39m\u001b[39m\"\u001b[39m,\n\u001b[1;32m      <a href='vscode-notebook-cell:/Users/niclapenna/lighthouse_working/Week_1/Day_3/python_apis.ipynb#ch0000001?line=5'>6</a>\u001b[0m     \u001b[39m\"\u001b[39m\u001b[39mAuthorization\u001b[39m\u001b[39m\"\u001b[39m: \u001b[39m\"\u001b[39m\u001b[39mAPI_Key\u001b[39m\u001b[39m\"\u001b[39m\n\u001b[1;32m      <a href='vscode-notebook-cell:/Users/niclapenna/lighthouse_working/Week_1/Day_3/python_apis.ipynb#ch0000001?line=6'>7</a>\u001b[0m     }\n",
      "File \u001b[0;32m~/opt/anaconda3/envs/lhl_env/lib/python3.10/os.py:679\u001b[0m, in \u001b[0;36m_Environ.__getitem__\u001b[0;34m(self, key)\u001b[0m\n\u001b[1;32m    <a href='file:///Users/niclapenna/opt/anaconda3/envs/lhl_env/lib/python3.10/os.py?line=675'>676</a>\u001b[0m     value \u001b[39m=\u001b[39m \u001b[39mself\u001b[39m\u001b[39m.\u001b[39m_data[\u001b[39mself\u001b[39m\u001b[39m.\u001b[39mencodekey(key)]\n\u001b[1;32m    <a href='file:///Users/niclapenna/opt/anaconda3/envs/lhl_env/lib/python3.10/os.py?line=676'>677</a>\u001b[0m \u001b[39mexcept\u001b[39;00m \u001b[39mKeyError\u001b[39;00m:\n\u001b[1;32m    <a href='file:///Users/niclapenna/opt/anaconda3/envs/lhl_env/lib/python3.10/os.py?line=677'>678</a>\u001b[0m     \u001b[39m# raise KeyError with the original key value\u001b[39;00m\n\u001b[0;32m--> <a href='file:///Users/niclapenna/opt/anaconda3/envs/lhl_env/lib/python3.10/os.py?line=678'>679</a>\u001b[0m     \u001b[39mraise\u001b[39;00m \u001b[39mKeyError\u001b[39;00m(key) \u001b[39mfrom\u001b[39;00m \u001b[39mNone\u001b[39m\n\u001b[1;32m    <a href='file:///Users/niclapenna/opt/anaconda3/envs/lhl_env/lib/python3.10/os.py?line=679'>680</a>\u001b[0m \u001b[39mreturn\u001b[39;00m \u001b[39mself\u001b[39m\u001b[39m.\u001b[39mdecodevalue(value)\n",
      "\u001b[0;31mKeyError\u001b[0m: 'FOURSQUARE_API_KEY'"
     ]
    }
   ],
   "source": [
    "api_key = os.environ[\"FOURSQUARE_API_KEY\"]\n",
    "\n",
    "url = \"https://api.foursquare.com/v3/places/search\"\n",
    "headers = {\n",
    "    \"Accept\": \"application/json\",\n",
    "    \"Authorization\": \"API_Key\"\n",
    "    }\n",
    "\n",
    "response = re.get(url, headers=headers)\n"
   ]
  },
  {
   "cell_type": "code",
   "execution_count": 18,
   "metadata": {},
   "outputs": [
    {
     "ename": "KeyError",
     "evalue": "'FOURSQUARE_API_KEY'",
     "output_type": "error",
     "traceback": [
      "\u001b[0;31m---------------------------------------------------------------------------\u001b[0m",
      "\u001b[0;31mKeyError\u001b[0m                                  Traceback (most recent call last)",
      "\u001b[1;32m/Users/niclapenna/lighthouse_working/Week_1/Day_3/python_apis.ipynb Cell 3'\u001b[0m in \u001b[0;36m<cell line: 1>\u001b[0;34m()\u001b[0m\n\u001b[0;32m----> <a href='vscode-notebook-cell:/Users/niclapenna/lighthouse_working/Week_1/Day_3/python_apis.ipynb#ch0000002?line=0'>1</a>\u001b[0m \u001b[39mprint\u001b[39m(os\u001b[39m.\u001b[39;49menviron[\u001b[39m\"\u001b[39;49m\u001b[39mFOURSQUARE_API_KEY\u001b[39;49m\u001b[39m\"\u001b[39;49m])\n",
      "File \u001b[0;32m~/opt/anaconda3/envs/lhl_env/lib/python3.10/os.py:679\u001b[0m, in \u001b[0;36m_Environ.__getitem__\u001b[0;34m(self, key)\u001b[0m\n\u001b[1;32m    <a href='file:///Users/niclapenna/opt/anaconda3/envs/lhl_env/lib/python3.10/os.py?line=675'>676</a>\u001b[0m     value \u001b[39m=\u001b[39m \u001b[39mself\u001b[39m\u001b[39m.\u001b[39m_data[\u001b[39mself\u001b[39m\u001b[39m.\u001b[39mencodekey(key)]\n\u001b[1;32m    <a href='file:///Users/niclapenna/opt/anaconda3/envs/lhl_env/lib/python3.10/os.py?line=676'>677</a>\u001b[0m \u001b[39mexcept\u001b[39;00m \u001b[39mKeyError\u001b[39;00m:\n\u001b[1;32m    <a href='file:///Users/niclapenna/opt/anaconda3/envs/lhl_env/lib/python3.10/os.py?line=677'>678</a>\u001b[0m     \u001b[39m# raise KeyError with the original key value\u001b[39;00m\n\u001b[0;32m--> <a href='file:///Users/niclapenna/opt/anaconda3/envs/lhl_env/lib/python3.10/os.py?line=678'>679</a>\u001b[0m     \u001b[39mraise\u001b[39;00m \u001b[39mKeyError\u001b[39;00m(key) \u001b[39mfrom\u001b[39;00m \u001b[39mNone\u001b[39m\n\u001b[1;32m    <a href='file:///Users/niclapenna/opt/anaconda3/envs/lhl_env/lib/python3.10/os.py?line=679'>680</a>\u001b[0m \u001b[39mreturn\u001b[39;00m \u001b[39mself\u001b[39m\u001b[39m.\u001b[39mdecodevalue(value)\n",
      "\u001b[0;31mKeyError\u001b[0m: 'FOURSQUARE_API_KEY'"
     ]
    }
   ],
   "source": [
    "print(os.environ[\"FOURSQUARE_API_KEY\"])"
   ]
  },
  {
   "cell_type": "code",
   "execution_count": null,
   "metadata": {},
   "outputs": [],
   "source": []
  }
 ],
 "metadata": {
  "interpreter": {
   "hash": "5eaee7f08749df7acde7defcf9c75ec9e0490b46ee4fb9b854947ce622c4fcf4"
  },
  "kernelspec": {
   "display_name": "Python 3.10.4 ('lhl_env')",
   "language": "python",
   "name": "python3"
  },
  "language_info": {
   "codemirror_mode": {
    "name": "ipython",
    "version": 3
   },
   "file_extension": ".py",
   "mimetype": "text/x-python",
   "name": "python",
   "nbconvert_exporter": "python",
   "pygments_lexer": "ipython3",
   "version": "3.10.4"
  },
  "orig_nbformat": 4
 },
 "nbformat": 4,
 "nbformat_minor": 2
}
