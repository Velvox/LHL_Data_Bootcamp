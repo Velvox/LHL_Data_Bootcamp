{
 "cells": [
  {
   "cell_type": "code",
   "execution_count": 4,
   "id": "24418cbb-a1d9-4590-b24b-0cad1dc1ec76",
   "metadata": {},
   "outputs": [],
   "source": [
    "import numpy as np\n",
    "import pandas as pd"
   ]
  },
  {
   "cell_type": "code",
   "execution_count": 13,
   "id": "cae0276a-fa5c-4a1e-b597-ce79ff9384c1",
   "metadata": {},
   "outputs": [
    {
     "data": {
      "text/html": [
       "<div>\n",
       "<style scoped>\n",
       "    .dataframe tbody tr th:only-of-type {\n",
       "        vertical-align: middle;\n",
       "    }\n",
       "\n",
       "    .dataframe tbody tr th {\n",
       "        vertical-align: top;\n",
       "    }\n",
       "\n",
       "    .dataframe thead th {\n",
       "        text-align: right;\n",
       "    }\n",
       "</style>\n",
       "<table border=\"1\" class=\"dataframe\">\n",
       "  <thead>\n",
       "    <tr style=\"text-align: right;\">\n",
       "      <th></th>\n",
       "      <th>a</th>\n",
       "      <th>b</th>\n",
       "      <th>c</th>\n",
       "    </tr>\n",
       "  </thead>\n",
       "  <tbody>\n",
       "    <tr>\n",
       "      <th>0</th>\n",
       "      <td>-1.338593</td>\n",
       "      <td>1.225586</td>\n",
       "      <td>-0.785921</td>\n",
       "    </tr>\n",
       "    <tr>\n",
       "      <th>1</th>\n",
       "      <td>-0.030533</td>\n",
       "      <td>0.181052</td>\n",
       "      <td>-0.448153</td>\n",
       "    </tr>\n",
       "    <tr>\n",
       "      <th>2</th>\n",
       "      <td>-0.812801</td>\n",
       "      <td>-1.064441</td>\n",
       "      <td>-0.151358</td>\n",
       "    </tr>\n",
       "    <tr>\n",
       "      <th>3</th>\n",
       "      <td>0.299080</td>\n",
       "      <td>-0.707107</td>\n",
       "      <td>0.129143</td>\n",
       "    </tr>\n",
       "    <tr>\n",
       "      <th>4</th>\n",
       "      <td>0.860635</td>\n",
       "      <td>-1.496281</td>\n",
       "      <td>1.341589</td>\n",
       "    </tr>\n",
       "    <tr>\n",
       "      <th>5</th>\n",
       "      <td>1.622673</td>\n",
       "      <td>1.691995</td>\n",
       "      <td>1.992016</td>\n",
       "    </tr>\n",
       "    <tr>\n",
       "      <th>6</th>\n",
       "      <td>0.690006</td>\n",
       "      <td>1.204297</td>\n",
       "      <td>-0.422119</td>\n",
       "    </tr>\n",
       "    <tr>\n",
       "      <th>7</th>\n",
       "      <td>0.454759</td>\n",
       "      <td>1.131328</td>\n",
       "      <td>-0.076220</td>\n",
       "    </tr>\n",
       "  </tbody>\n",
       "</table>\n",
       "</div>"
      ],
      "text/plain": [
       "          a         b         c\n",
       "0 -1.338593  1.225586 -0.785921\n",
       "1 -0.030533  0.181052 -0.448153\n",
       "2 -0.812801 -1.064441 -0.151358\n",
       "3  0.299080 -0.707107  0.129143\n",
       "4  0.860635 -1.496281  1.341589\n",
       "5  1.622673  1.691995  1.992016\n",
       "6  0.690006  1.204297 -0.422119\n",
       "7  0.454759  1.131328 -0.076220"
      ]
     },
     "execution_count": 13,
     "metadata": {},
     "output_type": "execute_result"
    }
   ],
   "source": [
    "df = pd.DataFrame(np.random.randn(8,3), columns=['A', 'B', 'C'])\n",
    "df.columns = [x.lower() for x in df.columns]\n",
    "df"
   ]
  },
  {
   "cell_type": "code",
   "execution_count": 14,
   "id": "6bc5563d-404b-4b65-ac75-3f29f5be0f6c",
   "metadata": {},
   "outputs": [
    {
     "data": {
      "text/plain": [
       "<PandasArray>\n",
       "[  -1.3385933123707725, -0.030532758713518064,   -0.8128011976131535,\n",
       "    0.2990795512814016,    0.8606351104254159,    1.6226725604359231,\n",
       "    0.6900055089269569,   0.45475884495158986]\n",
       "Length: 8, dtype: float64"
      ]
     },
     "execution_count": 14,
     "metadata": {},
     "output_type": "execute_result"
    }
   ],
   "source": [
    "df.a.array"
   ]
  },
  {
   "cell_type": "code",
   "execution_count": 15,
   "id": "5e01025f-f5ad-4fe5-bd07-34c6650f5acc",
   "metadata": {},
   "outputs": [
    {
     "data": {
      "text/plain": [
       "array([2, 4, 3, 3, 3, 4, 2, 0, 1, 2, 3, 5, 4, 0, 1, 5, 2, 5, 4, 0, 0, 6,\n",
       "       1, 1, 1, 5, 5, 5, 6, 4, 2, 4, 0, 6, 0, 5, 3, 5, 2, 0, 3, 2, 5, 2,\n",
       "       4, 3, 5, 3, 6, 1])"
      ]
     },
     "execution_count": 15,
     "metadata": {},
     "output_type": "execute_result"
    }
   ],
   "source": [
    "data = np.random.randint(0, 7, size=50)\n",
    "data"
   ]
  },
  {
   "cell_type": "code",
   "execution_count": 19,
   "id": "a9843ca8-ebff-496b-86f9-bb27de49398a",
   "metadata": {},
   "outputs": [
    {
     "data": {
      "text/plain": [
       "5    10\n",
       "2     8\n",
       "3     8\n",
       "4     7\n",
       "0     7\n",
       "1     6\n",
       "6     4\n",
       "dtype: int64"
      ]
     },
     "execution_count": 19,
     "metadata": {},
     "output_type": "execute_result"
    }
   ],
   "source": [
    "s = pd.Series(data)\n",
    "s.value_counts()"
   ]
  },
  {
   "cell_type": "code",
   "execution_count": 20,
   "id": "9abd8710-5d80-4962-bb22-164ad6907235",
   "metadata": {},
   "outputs": [
    {
     "data": {
      "text/plain": [
       "0    3\n",
       "1    7\n",
       "dtype: int64"
      ]
     },
     "execution_count": 20,
     "metadata": {},
     "output_type": "execute_result"
    }
   ],
   "source": [
    "s5 = pd.Series([1, 1, 3, 3, 3, 5, 5, 7, 7, 7])\n",
    "\n",
    "s5.mode()"
   ]
  },
  {
   "cell_type": "code",
   "execution_count": null,
   "id": "a62bf2c0-4a15-4d3b-994d-8952077deed3",
   "metadata": {},
   "outputs": [],
   "source": [
    "df5 = pd.DataFrame({\n",
    "    \"A\": no\n",
    "})"
   ]
  }
 ],
 "metadata": {
  "kernelspec": {
   "display_name": "lhl_env",
   "language": "python",
   "name": "lhl_env"
  },
  "language_info": {
   "codemirror_mode": {
    "name": "ipython",
    "version": 3
   },
   "file_extension": ".py",
   "mimetype": "text/x-python",
   "name": "python",
   "nbconvert_exporter": "python",
   "pygments_lexer": "ipython3",
   "version": "3.9.7"
  }
 },
 "nbformat": 4,
 "nbformat_minor": 5
}
