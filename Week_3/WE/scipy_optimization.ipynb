{
 "cells": [
  {
   "cell_type": "code",
   "execution_count": 2,
   "metadata": {},
   "outputs": [],
   "source": [
    "from pathlib import Path\n",
    "import numpy as np\n",
    "from scipy.cluster.vq import whiten, kmeans, vq"
   ]
  },
  {
   "cell_type": "code",
   "execution_count": 3,
   "metadata": {},
   "outputs": [],
   "source": [
    "data = Path(\"SMSSpamCollection\").read_text()\n",
    "data = data.strip()\n",
    "data = data.split(\"\\n\")"
   ]
  },
  {
   "cell_type": "code",
   "execution_count": 4,
   "metadata": {},
   "outputs": [],
   "source": [
    "digit_counts = np.empty((len(data), 2), dtype=int)"
   ]
  },
  {
   "cell_type": "code",
   "execution_count": 5,
   "metadata": {},
   "outputs": [],
   "source": [
    "for i, line in enumerate(data):\n",
    "    case, message = line.split(\"\\t\")\n",
    "    num_digits = sum(c.isdigit() for c in message)\n",
    "    digit_counts[i, 0] = 0 if case == \"ham\" else 1\n",
    "    digit_counts[i, 1] = num_digits"
   ]
  },
  {
   "cell_type": "code",
   "execution_count": 8,
   "metadata": {},
   "outputs": [],
   "source": [
    "unique_counts = np.unique(digit_counts[:, 1], return_counts=True)"
   ]
  },
  {
   "cell_type": "code",
   "execution_count": 12,
   "metadata": {},
   "outputs": [],
   "source": [
    "unique_counts = np.transpose(np.vstack(unique_counts))"
   ]
  },
  {
   "cell_type": "code",
   "execution_count": 14,
   "metadata": {},
   "outputs": [],
   "source": [
    "whitened_counts = whiten(unique_counts)\n",
    "codebook, _ = kmeans(whitened_counts, 3)"
   ]
  },
  {
   "cell_type": "code",
   "execution_count": 17,
   "metadata": {},
   "outputs": [],
   "source": [
    "codes, _ = vq(whitened_counts, codebook)\n"
   ]
  },
  {
   "cell_type": "code",
   "execution_count": 19,
   "metadata": {},
   "outputs": [],
   "source": [
    "ham_code = codes[0]\n",
    "spam_code = codes[-1]\n",
    "unknown_code = list(set(range(3)) ^ set((ham_code, spam_code)))[0]"
   ]
  },
  {
   "cell_type": "code",
   "execution_count": 20,
   "metadata": {},
   "outputs": [
    {
     "name": "stdout",
     "output_type": "stream",
     "text": [
      "definitely ham: [   0 4110]\n",
      "definitely spam: [47  1]\n",
      "unknown: [20 18]\n"
     ]
    }
   ],
   "source": [
    "print(\"definitely ham:\", unique_counts[codes == ham_code][-1])\n",
    "print(\"definitely spam:\", unique_counts[codes == spam_code][-1])\n",
    "print(\"unknown:\", unique_counts[codes == unknown_code][-1])"
   ]
  },
  {
   "cell_type": "code",
   "execution_count": 21,
   "metadata": {},
   "outputs": [],
   "source": [
    "digits = digit_counts[:, 1]\n",
    "predicted_hams = digits == 0\n",
    "predicted_spams = digits > 20\n",
    "predicted_unknowns = np.logical_and(digits > 0, digits <= 20)"
   ]
  },
  {
   "cell_type": "code",
   "execution_count": 22,
   "metadata": {},
   "outputs": [],
   "source": [
    "spam_cluster = digit_counts[predicted_spams]\n",
    "ham_cluster = digit_counts[predicted_hams]\n",
    "unk_cluster = digit_counts[predicted_unknowns]"
   ]
  },
  {
   "cell_type": "code",
   "execution_count": 23,
   "metadata": {},
   "outputs": [
    {
     "name": "stdout",
     "output_type": "stream",
     "text": [
      "hams: (array([0, 1]), array([4071,   39]))\n",
      "spams: (array([0, 1]), array([  1, 232]))\n",
      "unknowns: (array([0, 1]), array([755, 476]))\n"
     ]
    }
   ],
   "source": [
    "print(\"hams:\", np.unique(ham_cluster[:, 0], return_counts=True))\n",
    "print(\"spams:\", np.unique(spam_cluster[:, 0], return_counts=True))\n",
    "print(\"unknowns:\", np.unique(unk_cluster[:, 0], return_counts=True))"
   ]
  },
  {
   "cell_type": "code",
   "execution_count": 24,
   "metadata": {},
   "outputs": [],
   "source": [
    "from scipy.optimize import minimize_scalar\n",
    "\n",
    "def objective_function(x):\n",
    "    return 3 * x ** 4 - 2 * x + 1"
   ]
  },
  {
   "cell_type": "code",
   "execution_count": 25,
   "metadata": {},
   "outputs": [],
   "source": [
    "res = minimize_scalar(objective_function)"
   ]
  },
  {
   "cell_type": "code",
   "execution_count": 26,
   "metadata": {},
   "outputs": [
    {
     "data": {
      "text/plain": [
       "     fun: 0.17451818777634331\n",
       " message: '\\nOptimization terminated successfully;\\nThe returned value satisfies the termination criteria\\n(using xtol = 1.48e-08 )'\n",
       "    nfev: 16\n",
       "     nit: 12\n",
       " success: True\n",
       "       x: 0.5503212087491959"
      ]
     },
     "execution_count": 26,
     "metadata": {},
     "output_type": "execute_result"
    }
   ],
   "source": [
    "res"
   ]
  },
  {
   "cell_type": "code",
   "execution_count": 27,
   "metadata": {},
   "outputs": [],
   "source": [
    "def objective_function(x):\n",
    "    return x ** 4 - x ** 2"
   ]
  },
  {
   "cell_type": "code",
   "execution_count": 29,
   "metadata": {},
   "outputs": [
    {
     "data": {
      "text/plain": [
       "     fun: -0.24999999999999994\n",
       " message: '\\nOptimization terminated successfully;\\nThe returned value satisfies the termination criteria\\n(using xtol = 1.48e-08 )'\n",
       "    nfev: 15\n",
       "     nit: 11\n",
       " success: True\n",
       "       x: 0.7071067853059209"
      ]
     },
     "execution_count": 29,
     "metadata": {},
     "output_type": "execute_result"
    }
   ],
   "source": [
    "res = minimize_scalar(objective_function)\n",
    "res"
   ]
  },
  {
   "cell_type": "code",
   "execution_count": 31,
   "metadata": {},
   "outputs": [
    {
     "data": {
      "text/plain": [
       "     fun: -0.24999999999999997\n",
       " message: '\\nOptimization terminated successfully;\\nThe returned value satisfies the termination criteria\\n(using xtol = 1.48e-08 )'\n",
       "    nfev: 17\n",
       "     nit: 13\n",
       " success: True\n",
       "       x: 0.7071067809244586"
      ]
     },
     "execution_count": 31,
     "metadata": {},
     "output_type": "execute_result"
    }
   ],
   "source": [
    "res = minimize_scalar(objective_function, bracket=(-1, 0))\n",
    "res"
   ]
  },
  {
   "cell_type": "code",
   "execution_count": 32,
   "metadata": {},
   "outputs": [],
   "source": [
    "import numpy as np\n",
    "from scipy.optimize import minimize, LinearConstraint\n",
    "\n",
    "n_buyers = 10\n",
    "n_shares = 15"
   ]
  },
  {
   "cell_type": "code",
   "execution_count": 33,
   "metadata": {},
   "outputs": [],
   "source": [
    "np.random.seed(10)\n",
    "prices = np.random.random(n_buyers)\n",
    "money_available = np.random.randint(1, 4, n_buyers)"
   ]
  },
  {
   "cell_type": "code",
   "execution_count": 34,
   "metadata": {},
   "outputs": [
    {
     "name": "stdout",
     "output_type": "stream",
     "text": [
      "[0.77132064 0.02075195 0.63364823 0.74880388 0.49850701 0.22479665\n",
      " 0.19806286 0.76053071 0.16911084 0.08833981]\n",
      "[1 1 1 3 1 3 3 2 1 1]\n",
      "[ 1.29647768 48.18824404  1.57816269  4.00638948  2.00598984 13.34539487\n",
      " 15.14670609  2.62974258  5.91328161 11.3199242 ]\n"
     ]
    }
   ],
   "source": [
    "n_shares_per_buyer = money_available / prices\n",
    "print(prices, money_available, n_shares_per_buyer, sep=\"\\n\")"
   ]
  },
  {
   "cell_type": "code",
   "execution_count": 35,
   "metadata": {},
   "outputs": [],
   "source": [
    "constraint = LinearConstraint(np.ones(n_buyers), lb=n_shares, ub=n_shares)\n"
   ]
  },
  {
   "cell_type": "code",
   "execution_count": 36,
   "metadata": {},
   "outputs": [],
   "source": [
    "bounds = [(0, n) for n in n_shares_per_buyer]\n"
   ]
  },
  {
   "cell_type": "code",
   "execution_count": 37,
   "metadata": {},
   "outputs": [],
   "source": [
    "def objective_function(x, prices):\n",
    "    return -x.dot(prices)\n"
   ]
  },
  {
   "cell_type": "code",
   "execution_count": null,
   "metadata": {},
   "outputs": [],
   "source": []
  }
 ],
 "metadata": {
  "interpreter": {
   "hash": "5eaee7f08749df7acde7defcf9c75ec9e0490b46ee4fb9b854947ce622c4fcf4"
  },
  "kernelspec": {
   "display_name": "Python 3.8.2 ('lhl_env')",
   "language": "python",
   "name": "python3"
  },
  "language_info": {
   "codemirror_mode": {
    "name": "ipython",
    "version": 3
   },
   "file_extension": ".py",
   "mimetype": "text/x-python",
   "name": "python",
   "nbconvert_exporter": "python",
   "pygments_lexer": "ipython3",
   "version": "3.8.2"
  },
  "orig_nbformat": 4
 },
 "nbformat": 4,
 "nbformat_minor": 2
}
