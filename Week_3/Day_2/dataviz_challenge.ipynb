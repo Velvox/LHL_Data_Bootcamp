{
 "cells": [
  {
   "cell_type": "markdown",
   "metadata": {},
   "source": [
    "## Challenge"
   ]
  },
  {
   "cell_type": "markdown",
   "metadata": {},
   "source": [
    "As mentioned in the Compass, we will be using data from international football (soccer :)) matches that took place between 1872 and 2019 (148 years). You can download the dataset from [**this link**](https://drive.google.com/file/d/1cCn5botBKzh1XZOvrxpcLle-Ua7Fh9BR/view?usp=sharing) and find more information about it on [**Kaggle**](https://www.kaggle.com/martj42/international-football-results-from-1872-to-2017).\n",
    "\n",
    "We need to make sure we understand all variables and information they store before we start working on the task. It's very important to understand the dataset to create meaningful visualizations."
   ]
  },
  {
   "cell_type": "markdown",
   "metadata": {},
   "source": [
    "> #### Instruction\n",
    "> Use visualizations to answer following questions. Try different Python packages."
   ]
  },
  {
   "cell_type": "code",
   "execution_count": 96,
   "metadata": {},
   "outputs": [],
   "source": [
    "import pandas as pd\n",
    "import numpy as np\n",
    "import plotly.express as px\n",
    "from datetime import date\n",
    "import datetime as dt"
   ]
  },
  {
   "cell_type": "code",
   "execution_count": 43,
   "metadata": {},
   "outputs": [
    {
     "data": {
      "text/html": [
       "<div>\n",
       "<style scoped>\n",
       "    .dataframe tbody tr th:only-of-type {\n",
       "        vertical-align: middle;\n",
       "    }\n",
       "\n",
       "    .dataframe tbody tr th {\n",
       "        vertical-align: top;\n",
       "    }\n",
       "\n",
       "    .dataframe thead th {\n",
       "        text-align: right;\n",
       "    }\n",
       "</style>\n",
       "<table border=\"1\" class=\"dataframe\">\n",
       "  <thead>\n",
       "    <tr style=\"text-align: right;\">\n",
       "      <th></th>\n",
       "      <th>date</th>\n",
       "      <th>home_team</th>\n",
       "      <th>away_team</th>\n",
       "      <th>home_score</th>\n",
       "      <th>away_score</th>\n",
       "      <th>tournament</th>\n",
       "      <th>city</th>\n",
       "      <th>country</th>\n",
       "      <th>neutral</th>\n",
       "    </tr>\n",
       "  </thead>\n",
       "  <tbody>\n",
       "    <tr>\n",
       "      <th>0</th>\n",
       "      <td>1872-11-30</td>\n",
       "      <td>Scotland</td>\n",
       "      <td>England</td>\n",
       "      <td>0</td>\n",
       "      <td>0</td>\n",
       "      <td>Friendly</td>\n",
       "      <td>Glasgow</td>\n",
       "      <td>Scotland</td>\n",
       "      <td>False</td>\n",
       "    </tr>\n",
       "    <tr>\n",
       "      <th>1</th>\n",
       "      <td>1873-03-08</td>\n",
       "      <td>England</td>\n",
       "      <td>Scotland</td>\n",
       "      <td>4</td>\n",
       "      <td>2</td>\n",
       "      <td>Friendly</td>\n",
       "      <td>London</td>\n",
       "      <td>England</td>\n",
       "      <td>False</td>\n",
       "    </tr>\n",
       "    <tr>\n",
       "      <th>2</th>\n",
       "      <td>1874-03-07</td>\n",
       "      <td>Scotland</td>\n",
       "      <td>England</td>\n",
       "      <td>2</td>\n",
       "      <td>1</td>\n",
       "      <td>Friendly</td>\n",
       "      <td>Glasgow</td>\n",
       "      <td>Scotland</td>\n",
       "      <td>False</td>\n",
       "    </tr>\n",
       "    <tr>\n",
       "      <th>3</th>\n",
       "      <td>1875-03-06</td>\n",
       "      <td>England</td>\n",
       "      <td>Scotland</td>\n",
       "      <td>2</td>\n",
       "      <td>2</td>\n",
       "      <td>Friendly</td>\n",
       "      <td>London</td>\n",
       "      <td>England</td>\n",
       "      <td>False</td>\n",
       "    </tr>\n",
       "    <tr>\n",
       "      <th>4</th>\n",
       "      <td>1876-03-04</td>\n",
       "      <td>Scotland</td>\n",
       "      <td>England</td>\n",
       "      <td>3</td>\n",
       "      <td>0</td>\n",
       "      <td>Friendly</td>\n",
       "      <td>Glasgow</td>\n",
       "      <td>Scotland</td>\n",
       "      <td>False</td>\n",
       "    </tr>\n",
       "    <tr>\n",
       "      <th>...</th>\n",
       "      <td>...</td>\n",
       "      <td>...</td>\n",
       "      <td>...</td>\n",
       "      <td>...</td>\n",
       "      <td>...</td>\n",
       "      <td>...</td>\n",
       "      <td>...</td>\n",
       "      <td>...</td>\n",
       "      <td>...</td>\n",
       "    </tr>\n",
       "    <tr>\n",
       "      <th>41581</th>\n",
       "      <td>2020-01-10</td>\n",
       "      <td>Barbados</td>\n",
       "      <td>Canada</td>\n",
       "      <td>1</td>\n",
       "      <td>4</td>\n",
       "      <td>Friendly</td>\n",
       "      <td>Irvine</td>\n",
       "      <td>United States</td>\n",
       "      <td>True</td>\n",
       "    </tr>\n",
       "    <tr>\n",
       "      <th>41582</th>\n",
       "      <td>2020-01-12</td>\n",
       "      <td>Kosovo</td>\n",
       "      <td>Sweden</td>\n",
       "      <td>0</td>\n",
       "      <td>1</td>\n",
       "      <td>Friendly</td>\n",
       "      <td>Doha</td>\n",
       "      <td>Qatar</td>\n",
       "      <td>True</td>\n",
       "    </tr>\n",
       "    <tr>\n",
       "      <th>41583</th>\n",
       "      <td>2020-01-15</td>\n",
       "      <td>Canada</td>\n",
       "      <td>Iceland</td>\n",
       "      <td>0</td>\n",
       "      <td>1</td>\n",
       "      <td>Friendly</td>\n",
       "      <td>Irvine</td>\n",
       "      <td>United States</td>\n",
       "      <td>True</td>\n",
       "    </tr>\n",
       "    <tr>\n",
       "      <th>41584</th>\n",
       "      <td>2020-01-19</td>\n",
       "      <td>El Salvador</td>\n",
       "      <td>Iceland</td>\n",
       "      <td>0</td>\n",
       "      <td>1</td>\n",
       "      <td>Friendly</td>\n",
       "      <td>Carson</td>\n",
       "      <td>United States</td>\n",
       "      <td>True</td>\n",
       "    </tr>\n",
       "    <tr>\n",
       "      <th>41585</th>\n",
       "      <td>2020-02-01</td>\n",
       "      <td>United States</td>\n",
       "      <td>Costa Rica</td>\n",
       "      <td>1</td>\n",
       "      <td>0</td>\n",
       "      <td>Friendly</td>\n",
       "      <td>Carson</td>\n",
       "      <td>United States</td>\n",
       "      <td>False</td>\n",
       "    </tr>\n",
       "  </tbody>\n",
       "</table>\n",
       "<p>41586 rows × 9 columns</p>\n",
       "</div>"
      ],
      "text/plain": [
       "             date      home_team   away_team  home_score  away_score  \\\n",
       "0      1872-11-30       Scotland     England           0           0   \n",
       "1      1873-03-08        England    Scotland           4           2   \n",
       "2      1874-03-07       Scotland     England           2           1   \n",
       "3      1875-03-06        England    Scotland           2           2   \n",
       "4      1876-03-04       Scotland     England           3           0   \n",
       "...           ...            ...         ...         ...         ...   \n",
       "41581  2020-01-10       Barbados      Canada           1           4   \n",
       "41582  2020-01-12         Kosovo      Sweden           0           1   \n",
       "41583  2020-01-15         Canada     Iceland           0           1   \n",
       "41584  2020-01-19    El Salvador     Iceland           0           1   \n",
       "41585  2020-02-01  United States  Costa Rica           1           0   \n",
       "\n",
       "      tournament     city        country  neutral  \n",
       "0       Friendly  Glasgow       Scotland    False  \n",
       "1       Friendly   London        England    False  \n",
       "2       Friendly  Glasgow       Scotland    False  \n",
       "3       Friendly   London        England    False  \n",
       "4       Friendly  Glasgow       Scotland    False  \n",
       "...          ...      ...            ...      ...  \n",
       "41581   Friendly   Irvine  United States     True  \n",
       "41582   Friendly     Doha          Qatar     True  \n",
       "41583   Friendly   Irvine  United States     True  \n",
       "41584   Friendly   Carson  United States     True  \n",
       "41585   Friendly   Carson  United States    False  \n",
       "\n",
       "[41586 rows x 9 columns]"
      ]
     },
     "execution_count": 43,
     "metadata": {},
     "output_type": "execute_result"
    }
   ],
   "source": [
    "df = pd.read_csv(\"data/results.csv\")\n",
    "df"
   ]
  },
  {
   "cell_type": "code",
   "execution_count": null,
   "metadata": {},
   "outputs": [],
   "source": []
  },
  {
   "cell_type": "markdown",
   "metadata": {},
   "source": [
    "## Task\n",
    "Which teams scored the largest number of goals in FIFA World Cup?"
   ]
  },
  {
   "cell_type": "code",
   "execution_count": 63,
   "metadata": {},
   "outputs": [
    {
     "name": "stderr",
     "output_type": "stream",
     "text": [
      "/var/folders/q4/hl7yv5yn6g10s9npc_7kk08h0000gn/T/ipykernel_18432/3640376734.py:3: SettingWithCopyWarning: \n",
      "A value is trying to be set on a copy of a slice from a DataFrame.\n",
      "Try using .loc[row_indexer,col_indexer] = value instead\n",
      "\n",
      "See the caveats in the documentation: https://pandas.pydata.org/pandas-docs/stable/user_guide/indexing.html#returning-a-view-versus-a-copy\n",
      "  fifa['total_score'] = fifa['home_score'] + fifa['away_score']\n"
     ]
    },
    {
     "data": {
      "text/html": [
       "<div>\n",
       "<style scoped>\n",
       "    .dataframe tbody tr th:only-of-type {\n",
       "        vertical-align: middle;\n",
       "    }\n",
       "\n",
       "    .dataframe tbody tr th {\n",
       "        vertical-align: top;\n",
       "    }\n",
       "\n",
       "    .dataframe thead th {\n",
       "        text-align: right;\n",
       "    }\n",
       "</style>\n",
       "<table border=\"1\" class=\"dataframe\">\n",
       "  <thead>\n",
       "    <tr style=\"text-align: right;\">\n",
       "      <th></th>\n",
       "      <th>date</th>\n",
       "      <th>home_team</th>\n",
       "      <th>away_team</th>\n",
       "      <th>home_score</th>\n",
       "      <th>away_score</th>\n",
       "      <th>tournament</th>\n",
       "      <th>city</th>\n",
       "      <th>country</th>\n",
       "      <th>neutral</th>\n",
       "      <th>total_score</th>\n",
       "    </tr>\n",
       "  </thead>\n",
       "  <tbody>\n",
       "    <tr>\n",
       "      <th>1304</th>\n",
       "      <td>1930-07-13</td>\n",
       "      <td>Belgium</td>\n",
       "      <td>United States</td>\n",
       "      <td>0</td>\n",
       "      <td>3</td>\n",
       "      <td>FIFA World Cup</td>\n",
       "      <td>Montevideo</td>\n",
       "      <td>Uruguay</td>\n",
       "      <td>True</td>\n",
       "      <td>3</td>\n",
       "    </tr>\n",
       "    <tr>\n",
       "      <th>1305</th>\n",
       "      <td>1930-07-13</td>\n",
       "      <td>France</td>\n",
       "      <td>Mexico</td>\n",
       "      <td>4</td>\n",
       "      <td>1</td>\n",
       "      <td>FIFA World Cup</td>\n",
       "      <td>Montevideo</td>\n",
       "      <td>Uruguay</td>\n",
       "      <td>True</td>\n",
       "      <td>5</td>\n",
       "    </tr>\n",
       "    <tr>\n",
       "      <th>1306</th>\n",
       "      <td>1930-07-14</td>\n",
       "      <td>Brazil</td>\n",
       "      <td>Yugoslavia</td>\n",
       "      <td>1</td>\n",
       "      <td>2</td>\n",
       "      <td>FIFA World Cup</td>\n",
       "      <td>Montevideo</td>\n",
       "      <td>Uruguay</td>\n",
       "      <td>True</td>\n",
       "      <td>3</td>\n",
       "    </tr>\n",
       "    <tr>\n",
       "      <th>1307</th>\n",
       "      <td>1930-07-14</td>\n",
       "      <td>Peru</td>\n",
       "      <td>Romania</td>\n",
       "      <td>1</td>\n",
       "      <td>3</td>\n",
       "      <td>FIFA World Cup</td>\n",
       "      <td>Montevideo</td>\n",
       "      <td>Uruguay</td>\n",
       "      <td>True</td>\n",
       "      <td>4</td>\n",
       "    </tr>\n",
       "    <tr>\n",
       "      <th>1308</th>\n",
       "      <td>1930-07-15</td>\n",
       "      <td>Argentina</td>\n",
       "      <td>France</td>\n",
       "      <td>1</td>\n",
       "      <td>0</td>\n",
       "      <td>FIFA World Cup</td>\n",
       "      <td>Montevideo</td>\n",
       "      <td>Uruguay</td>\n",
       "      <td>True</td>\n",
       "      <td>1</td>\n",
       "    </tr>\n",
       "    <tr>\n",
       "      <th>...</th>\n",
       "      <td>...</td>\n",
       "      <td>...</td>\n",
       "      <td>...</td>\n",
       "      <td>...</td>\n",
       "      <td>...</td>\n",
       "      <td>...</td>\n",
       "      <td>...</td>\n",
       "      <td>...</td>\n",
       "      <td>...</td>\n",
       "      <td>...</td>\n",
       "    </tr>\n",
       "    <tr>\n",
       "      <th>41552</th>\n",
       "      <td>2019-11-19</td>\n",
       "      <td>Kyrgyzstan</td>\n",
       "      <td>Tajikistan</td>\n",
       "      <td>1</td>\n",
       "      <td>1</td>\n",
       "      <td>FIFA World Cup qualification</td>\n",
       "      <td>Bishkek</td>\n",
       "      <td>Kyrgyzstan</td>\n",
       "      <td>False</td>\n",
       "      <td>2</td>\n",
       "    </tr>\n",
       "    <tr>\n",
       "      <th>41553</th>\n",
       "      <td>2019-11-19</td>\n",
       "      <td>Vietnam</td>\n",
       "      <td>Thailand</td>\n",
       "      <td>0</td>\n",
       "      <td>0</td>\n",
       "      <td>FIFA World Cup qualification</td>\n",
       "      <td>Hanoi</td>\n",
       "      <td>Vietnam</td>\n",
       "      <td>False</td>\n",
       "      <td>0</td>\n",
       "    </tr>\n",
       "    <tr>\n",
       "      <th>41554</th>\n",
       "      <td>2019-11-19</td>\n",
       "      <td>Malaysia</td>\n",
       "      <td>Indonesia</td>\n",
       "      <td>2</td>\n",
       "      <td>0</td>\n",
       "      <td>FIFA World Cup qualification</td>\n",
       "      <td>Kuala Lumpur</td>\n",
       "      <td>Malaysia</td>\n",
       "      <td>False</td>\n",
       "      <td>2</td>\n",
       "    </tr>\n",
       "    <tr>\n",
       "      <th>41555</th>\n",
       "      <td>2019-11-19</td>\n",
       "      <td>Turkmenistan</td>\n",
       "      <td>Sri Lanka</td>\n",
       "      <td>2</td>\n",
       "      <td>0</td>\n",
       "      <td>FIFA World Cup qualification</td>\n",
       "      <td>Ashgabat</td>\n",
       "      <td>Turkmenistan</td>\n",
       "      <td>False</td>\n",
       "      <td>2</td>\n",
       "    </tr>\n",
       "    <tr>\n",
       "      <th>41556</th>\n",
       "      <td>2019-11-19</td>\n",
       "      <td>Lebanon</td>\n",
       "      <td>North Korea</td>\n",
       "      <td>0</td>\n",
       "      <td>0</td>\n",
       "      <td>FIFA World Cup qualification</td>\n",
       "      <td>Beirut</td>\n",
       "      <td>Lebanon</td>\n",
       "      <td>False</td>\n",
       "      <td>0</td>\n",
       "    </tr>\n",
       "  </tbody>\n",
       "</table>\n",
       "<p>8136 rows × 10 columns</p>\n",
       "</div>"
      ],
      "text/plain": [
       "             date     home_team      away_team  home_score  away_score  \\\n",
       "1304   1930-07-13       Belgium  United States           0           3   \n",
       "1305   1930-07-13        France         Mexico           4           1   \n",
       "1306   1930-07-14        Brazil     Yugoslavia           1           2   \n",
       "1307   1930-07-14          Peru        Romania           1           3   \n",
       "1308   1930-07-15     Argentina         France           1           0   \n",
       "...           ...           ...            ...         ...         ...   \n",
       "41552  2019-11-19    Kyrgyzstan     Tajikistan           1           1   \n",
       "41553  2019-11-19       Vietnam       Thailand           0           0   \n",
       "41554  2019-11-19      Malaysia      Indonesia           2           0   \n",
       "41555  2019-11-19  Turkmenistan      Sri Lanka           2           0   \n",
       "41556  2019-11-19       Lebanon    North Korea           0           0   \n",
       "\n",
       "                         tournament          city       country  neutral  \\\n",
       "1304                 FIFA World Cup    Montevideo       Uruguay     True   \n",
       "1305                 FIFA World Cup    Montevideo       Uruguay     True   \n",
       "1306                 FIFA World Cup    Montevideo       Uruguay     True   \n",
       "1307                 FIFA World Cup    Montevideo       Uruguay     True   \n",
       "1308                 FIFA World Cup    Montevideo       Uruguay     True   \n",
       "...                             ...           ...           ...      ...   \n",
       "41552  FIFA World Cup qualification       Bishkek    Kyrgyzstan    False   \n",
       "41553  FIFA World Cup qualification         Hanoi       Vietnam    False   \n",
       "41554  FIFA World Cup qualification  Kuala Lumpur      Malaysia    False   \n",
       "41555  FIFA World Cup qualification      Ashgabat  Turkmenistan    False   \n",
       "41556  FIFA World Cup qualification        Beirut       Lebanon    False   \n",
       "\n",
       "       total_score  \n",
       "1304             3  \n",
       "1305             5  \n",
       "1306             3  \n",
       "1307             4  \n",
       "1308             1  \n",
       "...            ...  \n",
       "41552            2  \n",
       "41553            0  \n",
       "41554            2  \n",
       "41555            2  \n",
       "41556            0  \n",
       "\n",
       "[8136 rows x 10 columns]"
      ]
     },
     "execution_count": 63,
     "metadata": {},
     "output_type": "execute_result"
    }
   ],
   "source": [
    "## filter for FIFA\n",
    "fifa = df[df.tournament.str.contains(\"FIFA\")]\n",
    "fifa['total_score'] = fifa['home_score'] + fifa['away_score']\n",
    "fifa"
   ]
  },
  {
   "cell_type": "code",
   "execution_count": null,
   "metadata": {},
   "outputs": [],
   "source": []
  },
  {
   "cell_type": "code",
   "execution_count": 86,
   "metadata": {},
   "outputs": [],
   "source": [
    "# sum scores for each team type\n",
    "home_sum = fifa.groupby(by='home_team')['home_score'].sum().to_frame()\n",
    "away_sum = fifa.groupby(by='away_team')['away_score'].sum().to_frame()\n",
    "\n",
    "\n",
    "#concat and clean\n",
    "fifa_scores = pd.concat([home_sum, away_sum], axis=1)\n",
    "fifa_scores = fifa_scores.fillna(0)\n",
    "fifa_scores['home_score'] = fifa_scores['home_score'].astype(int)\n",
    "\n",
    "\n",
    "# total\n",
    "fifa_scores['total_score'] = fifa_scores['home_score'] + fifa_scores['away_score']\n",
    "\n",
    "# sort\n",
    "fifa_scores = fifa_scores.sort_values(by='total_score', ascending = False)\n",
    "\n",
    "fifa_graph = fifa_scores[0:20]\n",
    "\n",
    "# sort again\n",
    "fifa_graph = fifa_graph.sort_values(by='total_score')\n"
   ]
  },
  {
   "cell_type": "code",
   "execution_count": 87,
   "metadata": {},
   "outputs": [
    {
     "data": {
      "application/vnd.plotly.v1+json": {
       "config": {
        "plotlyServerURL": "https://plot.ly"
       },
       "data": [
        {
         "name": "home_score",
         "type": "bar",
         "x": [
          "Iran",
          "United States",
          "Costa Rica",
          "Hungary",
          "Uruguay",
          "Russia",
          "South Korea",
          "Portugal",
          "France",
          "Belgium",
          "Sweden",
          "Italy",
          "England",
          "Argentina",
          "Spain",
          "Australia",
          "Netherlands",
          "Mexico",
          "Brazil",
          "Germany"
         ],
         "y": [
          168,
          176,
          189,
          180,
          176,
          172,
          183,
          185,
          216,
          210,
          202,
          210,
          203,
          253,
          221,
          290,
          225,
          307,
          317,
          313
         ]
        },
        {
         "name": "away_score",
         "type": "bar",
         "x": [
          "Iran",
          "United States",
          "Costa Rica",
          "Hungary",
          "Uruguay",
          "Russia",
          "South Korea",
          "Portugal",
          "France",
          "Belgium",
          "Sweden",
          "Italy",
          "England",
          "Argentina",
          "Spain",
          "Australia",
          "Netherlands",
          "Mexico",
          "Brazil",
          "Germany"
         ],
         "y": [
          116,
          117,
          108,
          119,
          124,
          132,
          123,
          126,
          120,
          135,
          145,
          139,
          163,
          118,
          154,
          88,
          157,
          145,
          138,
          205
         ]
        }
       ],
       "layout": {
        "barmode": "stack",
        "template": {
         "data": {
          "bar": [
           {
            "error_x": {
             "color": "#2a3f5f"
            },
            "error_y": {
             "color": "#2a3f5f"
            },
            "marker": {
             "line": {
              "color": "#E5ECF6",
              "width": 0.5
             },
             "pattern": {
              "fillmode": "overlay",
              "size": 10,
              "solidity": 0.2
             }
            },
            "type": "bar"
           }
          ],
          "barpolar": [
           {
            "marker": {
             "line": {
              "color": "#E5ECF6",
              "width": 0.5
             },
             "pattern": {
              "fillmode": "overlay",
              "size": 10,
              "solidity": 0.2
             }
            },
            "type": "barpolar"
           }
          ],
          "carpet": [
           {
            "aaxis": {
             "endlinecolor": "#2a3f5f",
             "gridcolor": "white",
             "linecolor": "white",
             "minorgridcolor": "white",
             "startlinecolor": "#2a3f5f"
            },
            "baxis": {
             "endlinecolor": "#2a3f5f",
             "gridcolor": "white",
             "linecolor": "white",
             "minorgridcolor": "white",
             "startlinecolor": "#2a3f5f"
            },
            "type": "carpet"
           }
          ],
          "choropleth": [
           {
            "colorbar": {
             "outlinewidth": 0,
             "ticks": ""
            },
            "type": "choropleth"
           }
          ],
          "contour": [
           {
            "colorbar": {
             "outlinewidth": 0,
             "ticks": ""
            },
            "colorscale": [
             [
              0,
              "#0d0887"
             ],
             [
              0.1111111111111111,
              "#46039f"
             ],
             [
              0.2222222222222222,
              "#7201a8"
             ],
             [
              0.3333333333333333,
              "#9c179e"
             ],
             [
              0.4444444444444444,
              "#bd3786"
             ],
             [
              0.5555555555555556,
              "#d8576b"
             ],
             [
              0.6666666666666666,
              "#ed7953"
             ],
             [
              0.7777777777777778,
              "#fb9f3a"
             ],
             [
              0.8888888888888888,
              "#fdca26"
             ],
             [
              1,
              "#f0f921"
             ]
            ],
            "type": "contour"
           }
          ],
          "contourcarpet": [
           {
            "colorbar": {
             "outlinewidth": 0,
             "ticks": ""
            },
            "type": "contourcarpet"
           }
          ],
          "heatmap": [
           {
            "colorbar": {
             "outlinewidth": 0,
             "ticks": ""
            },
            "colorscale": [
             [
              0,
              "#0d0887"
             ],
             [
              0.1111111111111111,
              "#46039f"
             ],
             [
              0.2222222222222222,
              "#7201a8"
             ],
             [
              0.3333333333333333,
              "#9c179e"
             ],
             [
              0.4444444444444444,
              "#bd3786"
             ],
             [
              0.5555555555555556,
              "#d8576b"
             ],
             [
              0.6666666666666666,
              "#ed7953"
             ],
             [
              0.7777777777777778,
              "#fb9f3a"
             ],
             [
              0.8888888888888888,
              "#fdca26"
             ],
             [
              1,
              "#f0f921"
             ]
            ],
            "type": "heatmap"
           }
          ],
          "heatmapgl": [
           {
            "colorbar": {
             "outlinewidth": 0,
             "ticks": ""
            },
            "colorscale": [
             [
              0,
              "#0d0887"
             ],
             [
              0.1111111111111111,
              "#46039f"
             ],
             [
              0.2222222222222222,
              "#7201a8"
             ],
             [
              0.3333333333333333,
              "#9c179e"
             ],
             [
              0.4444444444444444,
              "#bd3786"
             ],
             [
              0.5555555555555556,
              "#d8576b"
             ],
             [
              0.6666666666666666,
              "#ed7953"
             ],
             [
              0.7777777777777778,
              "#fb9f3a"
             ],
             [
              0.8888888888888888,
              "#fdca26"
             ],
             [
              1,
              "#f0f921"
             ]
            ],
            "type": "heatmapgl"
           }
          ],
          "histogram": [
           {
            "marker": {
             "pattern": {
              "fillmode": "overlay",
              "size": 10,
              "solidity": 0.2
             }
            },
            "type": "histogram"
           }
          ],
          "histogram2d": [
           {
            "colorbar": {
             "outlinewidth": 0,
             "ticks": ""
            },
            "colorscale": [
             [
              0,
              "#0d0887"
             ],
             [
              0.1111111111111111,
              "#46039f"
             ],
             [
              0.2222222222222222,
              "#7201a8"
             ],
             [
              0.3333333333333333,
              "#9c179e"
             ],
             [
              0.4444444444444444,
              "#bd3786"
             ],
             [
              0.5555555555555556,
              "#d8576b"
             ],
             [
              0.6666666666666666,
              "#ed7953"
             ],
             [
              0.7777777777777778,
              "#fb9f3a"
             ],
             [
              0.8888888888888888,
              "#fdca26"
             ],
             [
              1,
              "#f0f921"
             ]
            ],
            "type": "histogram2d"
           }
          ],
          "histogram2dcontour": [
           {
            "colorbar": {
             "outlinewidth": 0,
             "ticks": ""
            },
            "colorscale": [
             [
              0,
              "#0d0887"
             ],
             [
              0.1111111111111111,
              "#46039f"
             ],
             [
              0.2222222222222222,
              "#7201a8"
             ],
             [
              0.3333333333333333,
              "#9c179e"
             ],
             [
              0.4444444444444444,
              "#bd3786"
             ],
             [
              0.5555555555555556,
              "#d8576b"
             ],
             [
              0.6666666666666666,
              "#ed7953"
             ],
             [
              0.7777777777777778,
              "#fb9f3a"
             ],
             [
              0.8888888888888888,
              "#fdca26"
             ],
             [
              1,
              "#f0f921"
             ]
            ],
            "type": "histogram2dcontour"
           }
          ],
          "mesh3d": [
           {
            "colorbar": {
             "outlinewidth": 0,
             "ticks": ""
            },
            "type": "mesh3d"
           }
          ],
          "parcoords": [
           {
            "line": {
             "colorbar": {
              "outlinewidth": 0,
              "ticks": ""
             }
            },
            "type": "parcoords"
           }
          ],
          "pie": [
           {
            "automargin": true,
            "type": "pie"
           }
          ],
          "scatter": [
           {
            "fillpattern": {
             "fillmode": "overlay",
             "size": 10,
             "solidity": 0.2
            },
            "type": "scatter"
           }
          ],
          "scatter3d": [
           {
            "line": {
             "colorbar": {
              "outlinewidth": 0,
              "ticks": ""
             }
            },
            "marker": {
             "colorbar": {
              "outlinewidth": 0,
              "ticks": ""
             }
            },
            "type": "scatter3d"
           }
          ],
          "scattercarpet": [
           {
            "marker": {
             "colorbar": {
              "outlinewidth": 0,
              "ticks": ""
             }
            },
            "type": "scattercarpet"
           }
          ],
          "scattergeo": [
           {
            "marker": {
             "colorbar": {
              "outlinewidth": 0,
              "ticks": ""
             }
            },
            "type": "scattergeo"
           }
          ],
          "scattergl": [
           {
            "marker": {
             "colorbar": {
              "outlinewidth": 0,
              "ticks": ""
             }
            },
            "type": "scattergl"
           }
          ],
          "scattermapbox": [
           {
            "marker": {
             "colorbar": {
              "outlinewidth": 0,
              "ticks": ""
             }
            },
            "type": "scattermapbox"
           }
          ],
          "scatterpolar": [
           {
            "marker": {
             "colorbar": {
              "outlinewidth": 0,
              "ticks": ""
             }
            },
            "type": "scatterpolar"
           }
          ],
          "scatterpolargl": [
           {
            "marker": {
             "colorbar": {
              "outlinewidth": 0,
              "ticks": ""
             }
            },
            "type": "scatterpolargl"
           }
          ],
          "scatterternary": [
           {
            "marker": {
             "colorbar": {
              "outlinewidth": 0,
              "ticks": ""
             }
            },
            "type": "scatterternary"
           }
          ],
          "surface": [
           {
            "colorbar": {
             "outlinewidth": 0,
             "ticks": ""
            },
            "colorscale": [
             [
              0,
              "#0d0887"
             ],
             [
              0.1111111111111111,
              "#46039f"
             ],
             [
              0.2222222222222222,
              "#7201a8"
             ],
             [
              0.3333333333333333,
              "#9c179e"
             ],
             [
              0.4444444444444444,
              "#bd3786"
             ],
             [
              0.5555555555555556,
              "#d8576b"
             ],
             [
              0.6666666666666666,
              "#ed7953"
             ],
             [
              0.7777777777777778,
              "#fb9f3a"
             ],
             [
              0.8888888888888888,
              "#fdca26"
             ],
             [
              1,
              "#f0f921"
             ]
            ],
            "type": "surface"
           }
          ],
          "table": [
           {
            "cells": {
             "fill": {
              "color": "#EBF0F8"
             },
             "line": {
              "color": "white"
             }
            },
            "header": {
             "fill": {
              "color": "#C8D4E3"
             },
             "line": {
              "color": "white"
             }
            },
            "type": "table"
           }
          ]
         },
         "layout": {
          "annotationdefaults": {
           "arrowcolor": "#2a3f5f",
           "arrowhead": 0,
           "arrowwidth": 1
          },
          "autotypenumbers": "strict",
          "coloraxis": {
           "colorbar": {
            "outlinewidth": 0,
            "ticks": ""
           }
          },
          "colorscale": {
           "diverging": [
            [
             0,
             "#8e0152"
            ],
            [
             0.1,
             "#c51b7d"
            ],
            [
             0.2,
             "#de77ae"
            ],
            [
             0.3,
             "#f1b6da"
            ],
            [
             0.4,
             "#fde0ef"
            ],
            [
             0.5,
             "#f7f7f7"
            ],
            [
             0.6,
             "#e6f5d0"
            ],
            [
             0.7,
             "#b8e186"
            ],
            [
             0.8,
             "#7fbc41"
            ],
            [
             0.9,
             "#4d9221"
            ],
            [
             1,
             "#276419"
            ]
           ],
           "sequential": [
            [
             0,
             "#0d0887"
            ],
            [
             0.1111111111111111,
             "#46039f"
            ],
            [
             0.2222222222222222,
             "#7201a8"
            ],
            [
             0.3333333333333333,
             "#9c179e"
            ],
            [
             0.4444444444444444,
             "#bd3786"
            ],
            [
             0.5555555555555556,
             "#d8576b"
            ],
            [
             0.6666666666666666,
             "#ed7953"
            ],
            [
             0.7777777777777778,
             "#fb9f3a"
            ],
            [
             0.8888888888888888,
             "#fdca26"
            ],
            [
             1,
             "#f0f921"
            ]
           ],
           "sequentialminus": [
            [
             0,
             "#0d0887"
            ],
            [
             0.1111111111111111,
             "#46039f"
            ],
            [
             0.2222222222222222,
             "#7201a8"
            ],
            [
             0.3333333333333333,
             "#9c179e"
            ],
            [
             0.4444444444444444,
             "#bd3786"
            ],
            [
             0.5555555555555556,
             "#d8576b"
            ],
            [
             0.6666666666666666,
             "#ed7953"
            ],
            [
             0.7777777777777778,
             "#fb9f3a"
            ],
            [
             0.8888888888888888,
             "#fdca26"
            ],
            [
             1,
             "#f0f921"
            ]
           ]
          },
          "colorway": [
           "#636efa",
           "#EF553B",
           "#00cc96",
           "#ab63fa",
           "#FFA15A",
           "#19d3f3",
           "#FF6692",
           "#B6E880",
           "#FF97FF",
           "#FECB52"
          ],
          "font": {
           "color": "#2a3f5f"
          },
          "geo": {
           "bgcolor": "white",
           "lakecolor": "white",
           "landcolor": "#E5ECF6",
           "showlakes": true,
           "showland": true,
           "subunitcolor": "white"
          },
          "hoverlabel": {
           "align": "left"
          },
          "hovermode": "closest",
          "mapbox": {
           "style": "light"
          },
          "paper_bgcolor": "white",
          "plot_bgcolor": "#E5ECF6",
          "polar": {
           "angularaxis": {
            "gridcolor": "white",
            "linecolor": "white",
            "ticks": ""
           },
           "bgcolor": "#E5ECF6",
           "radialaxis": {
            "gridcolor": "white",
            "linecolor": "white",
            "ticks": ""
           }
          },
          "scene": {
           "xaxis": {
            "backgroundcolor": "#E5ECF6",
            "gridcolor": "white",
            "gridwidth": 2,
            "linecolor": "white",
            "showbackground": true,
            "ticks": "",
            "zerolinecolor": "white"
           },
           "yaxis": {
            "backgroundcolor": "#E5ECF6",
            "gridcolor": "white",
            "gridwidth": 2,
            "linecolor": "white",
            "showbackground": true,
            "ticks": "",
            "zerolinecolor": "white"
           },
           "zaxis": {
            "backgroundcolor": "#E5ECF6",
            "gridcolor": "white",
            "gridwidth": 2,
            "linecolor": "white",
            "showbackground": true,
            "ticks": "",
            "zerolinecolor": "white"
           }
          },
          "shapedefaults": {
           "line": {
            "color": "#2a3f5f"
           }
          },
          "ternary": {
           "aaxis": {
            "gridcolor": "white",
            "linecolor": "white",
            "ticks": ""
           },
           "baxis": {
            "gridcolor": "white",
            "linecolor": "white",
            "ticks": ""
           },
           "bgcolor": "#E5ECF6",
           "caxis": {
            "gridcolor": "white",
            "linecolor": "white",
            "ticks": ""
           }
          },
          "title": {
           "x": 0.05
          },
          "xaxis": {
           "automargin": true,
           "gridcolor": "white",
           "linecolor": "white",
           "ticks": "",
           "title": {
            "standoff": 15
           },
           "zerolinecolor": "white",
           "zerolinewidth": 2
          },
          "yaxis": {
           "automargin": true,
           "gridcolor": "white",
           "linecolor": "white",
           "ticks": "",
           "title": {
            "standoff": 15
           },
           "zerolinecolor": "white",
           "zerolinewidth": 2
          }
         }
        },
        "title": {
         "text": "Top 20 teams for FIFA goals"
        }
       }
      }
     },
     "metadata": {},
     "output_type": "display_data"
    }
   ],
   "source": [
    "import plotly.graph_objects as go\n",
    "\n",
    "# fig = px.bar(fifa_graph, x=fifa_graph.index, y='total_score',\n",
    "#              color='home_score',\n",
    "#              labels={'pop':'Scores per FIFA game'}, height=400)\n",
    "# fig.show()\n",
    "\n",
    "fig = go.Figure(data=[\n",
    "    go.Bar(name='home_score', x=fifa_graph.index, y=fifa_graph['home_score']),\n",
    "    go.Bar(name='away_score', x=fifa_graph.index, y=fifa_graph['away_score'])\n",
    "])\n",
    "# Change the bar mode\n",
    "fig.update_layout(\n",
    "    barmode='stack',\n",
    "    title='Top 20 teams for FIFA goals'\n",
    "    )\n",
    "fig.show()"
   ]
  },
  {
   "cell_type": "code",
   "execution_count": null,
   "metadata": {},
   "outputs": [],
   "source": []
  },
  {
   "cell_type": "markdown",
   "metadata": {},
   "source": [
    "## Task\n",
    "What is the number of matches played in each tournament throughout history?"
   ]
  },
  {
   "cell_type": "code",
   "execution_count": 100,
   "metadata": {},
   "outputs": [
    {
     "data": {
      "text/plain": [
       "date          object\n",
       "home_team     object\n",
       "away_team     object\n",
       "home_score     int64\n",
       "away_score     int64\n",
       "tournament    object\n",
       "city          object\n",
       "country       object\n",
       "neutral         bool\n",
       "dtype: object"
      ]
     },
     "execution_count": 100,
     "metadata": {},
     "output_type": "execute_result"
    }
   ],
   "source": [
    "df.head()\n",
    "df.dtypes"
   ]
  },
  {
   "cell_type": "code",
   "execution_count": 105,
   "metadata": {},
   "outputs": [],
   "source": [
    "df['date'] = pd.to_datetime(df.date)"
   ]
  },
  {
   "cell_type": "code",
   "execution_count": 132,
   "metadata": {},
   "outputs": [],
   "source": [
    "# year as index\n",
    "tournament_year = df.groupby([df.date.dt.year, df.tournament]).count()\n",
    "\n",
    "# move tournament out of index\n",
    "tournament_year = tournament_year.reset_index(level='tournament')\n"
   ]
  },
  {
   "cell_type": "code",
   "execution_count": 133,
   "metadata": {},
   "outputs": [
    {
     "data": {
      "application/vnd.plotly.v1+json": {
       "config": {
        "plotlyServerURL": "https://plot.ly"
       },
       "data": [
        {
         "hovertemplate": "tournament=Friendly<br>index=%{x}<br>date=%{y}<extra></extra>",
         "legendgroup": "Friendly",
         "line": {
          "color": "#636efa",
          "dash": "solid"
         },
         "marker": {
          "symbol": "circle"
         },
         "mode": "lines",
         "name": "Friendly",
         "showlegend": true,
         "type": "scattergl",
         "x": [
          1872,
          1873,
          1874,
          1875,
          1876,
          1877,
          1878,
          1879,
          1880,
          1881,
          1882,
          1883,
          1885,
          1886,
          1888,
          1902,
          1903,
          1904,
          1905,
          1906,
          1907,
          1908,
          1909,
          1910,
          1911,
          1912,
          1913,
          1914,
          1915,
          1916,
          1917,
          1918,
          1919,
          1920,
          1921,
          1922,
          1923,
          1924,
          1925,
          1926,
          1927,
          1928,
          1929,
          1930,
          1931,
          1932,
          1933,
          1934,
          1935,
          1936,
          1937,
          1938,
          1939,
          1940,
          1941,
          1942,
          1943,
          1944,
          1945,
          1946,
          1947,
          1948,
          1949,
          1950,
          1951,
          1952,
          1953,
          1954,
          1955,
          1956,
          1957,
          1958,
          1959,
          1960,
          1961,
          1962,
          1963,
          1964,
          1965,
          1966,
          1967,
          1968,
          1969,
          1970,
          1971,
          1972,
          1973,
          1974,
          1975,
          1976,
          1977,
          1978,
          1979,
          1980,
          1981,
          1982,
          1983,
          1984,
          1985,
          1986,
          1987,
          1988,
          1989,
          1990,
          1991,
          1992,
          1993,
          1994,
          1995,
          1996,
          1997,
          1998,
          1999,
          2000,
          2001,
          2002,
          2003,
          2004,
          2005,
          2006,
          2007,
          2008,
          2009,
          2010,
          2011,
          2012,
          2013,
          2014,
          2015,
          2016,
          2017,
          2018,
          2019,
          2020
         ],
         "xaxis": "x",
         "y": [
          1,
          1,
          1,
          1,
          2,
          2,
          2,
          3,
          3,
          3,
          5,
          5,
          1,
          1,
          1,
          2,
          3,
          2,
          5,
          6,
          7,
          17,
          10,
          17,
          22,
          25,
          25,
          22,
          13,
          20,
          15,
          11,
          21,
          20,
          42,
          47,
          72,
          64,
          62,
          64,
          57,
          52,
          51,
          58,
          57,
          59,
          63,
          48,
          65,
          57,
          64,
          91,
          63,
          45,
          32,
          33,
          21,
          30,
          34,
          52,
          84,
          69,
          83,
          89,
          78,
          87,
          86,
          89,
          91,
          121,
          67,
          99,
          93,
          124,
          88,
          134,
          143,
          115,
          122,
          174,
          138,
          144,
          145,
          136,
          141,
          162,
          169,
          174,
          150,
          163,
          188,
          149,
          158,
          219,
          161,
          154,
          198,
          244,
          221,
          193,
          149,
          255,
          203,
          228,
          185,
          236,
          197,
          286,
          200,
          306,
          210,
          297,
          289,
          376,
          263,
          358,
          332,
          377,
          276,
          362,
          333,
          409,
          320,
          423,
          380,
          406,
          324,
          374,
          278,
          289,
          305,
          433,
          242,
          7
         ],
         "yaxis": "y"
        },
        {
         "hovertemplate": "tournament=British Championship<br>index=%{x}<br>date=%{y}<extra></extra>",
         "legendgroup": "British Championship",
         "line": {
          "color": "#EF553B",
          "dash": "solid"
         },
         "marker": {
          "symbol": "circle"
         },
         "mode": "lines",
         "name": "British Championship",
         "showlegend": true,
         "type": "scattergl",
         "x": [
          1884,
          1885,
          1886,
          1887,
          1888,
          1889,
          1890,
          1891,
          1892,
          1893,
          1894,
          1895,
          1896,
          1897,
          1898,
          1899,
          1900,
          1901,
          1902,
          1903,
          1904,
          1905,
          1906,
          1907,
          1908,
          1909,
          1910,
          1911,
          1912,
          1913,
          1914,
          1919,
          1920,
          1921,
          1922,
          1923,
          1924,
          1925,
          1926,
          1927,
          1928,
          1929,
          1930,
          1931,
          1932,
          1933,
          1934,
          1935,
          1936,
          1937,
          1938,
          1939,
          1946,
          1947,
          1948,
          1949,
          1950,
          1951,
          1952,
          1953,
          1954,
          1955,
          1956,
          1957,
          1958,
          1959,
          1960,
          1961,
          1962,
          1963,
          1964,
          1965,
          1966,
          1969,
          1970,
          1971,
          1972,
          1973,
          1974,
          1975,
          1976,
          1977,
          1978,
          1979,
          1980,
          1981,
          1982,
          1983,
          1984
         ],
         "xaxis": "x",
         "y": [
          6,
          6,
          6,
          6,
          6,
          6,
          6,
          6,
          6,
          5,
          6,
          6,
          6,
          6,
          6,
          6,
          6,
          6,
          6,
          6,
          6,
          6,
          6,
          6,
          6,
          6,
          6,
          6,
          6,
          6,
          6,
          1,
          6,
          6,
          5,
          6,
          6,
          7,
          6,
          7,
          6,
          6,
          6,
          8,
          6,
          6,
          4,
          6,
          7,
          6,
          6,
          2,
          4,
          6,
          6,
          2,
          4,
          6,
          6,
          2,
          4,
          6,
          6,
          6,
          6,
          5,
          6,
          6,
          6,
          6,
          6,
          6,
          2,
          6,
          6,
          6,
          6,
          6,
          6,
          6,
          6,
          6,
          6,
          6,
          6,
          4,
          6,
          7,
          5
         ],
         "yaxis": "y"
        },
        {
         "hovertemplate": "tournament=Copa Lipton<br>index=%{x}<br>date=%{y}<extra></extra>",
         "legendgroup": "Copa Lipton",
         "line": {
          "color": "#00cc96",
          "dash": "solid"
         },
         "marker": {
          "symbol": "circle"
         },
         "mode": "lines",
         "name": "Copa Lipton",
         "showlegend": true,
         "type": "scattergl",
         "x": [
          1905,
          1906,
          1908,
          1909,
          1910,
          1911,
          1912,
          1913,
          1915,
          1916,
          1917,
          1918,
          1919,
          1922,
          1923,
          1924,
          1927,
          1928,
          1929,
          1937,
          1942,
          1945,
          1957,
          1962,
          1968,
          1973,
          1976,
          1992
         ],
         "xaxis": "x",
         "y": [
          1,
          1,
          1,
          1,
          1,
          1,
          1,
          1,
          1,
          1,
          1,
          1,
          1,
          1,
          1,
          1,
          1,
          1,
          1,
          1,
          1,
          1,
          1,
          1,
          1,
          1,
          1,
          1
         ],
         "yaxis": "y"
        },
        {
         "hovertemplate": "tournament=Copa Newton<br>index=%{x}<br>date=%{y}<extra></extra>",
         "legendgroup": "Copa Newton",
         "line": {
          "color": "#ab63fa",
          "dash": "solid"
         },
         "marker": {
          "symbol": "circle"
         },
         "mode": "lines",
         "name": "Copa Newton",
         "showlegend": true,
         "type": "scattergl",
         "x": [
          1906,
          1908,
          1909,
          1911,
          1912,
          1913,
          1915,
          1916,
          1917,
          1918,
          1919,
          1920,
          1922,
          1924,
          1927,
          1928,
          1929,
          1930,
          1937,
          1942,
          1945,
          1957,
          1968,
          1973,
          1975,
          1976
         ],
         "xaxis": "x",
         "y": [
          1,
          1,
          1,
          1,
          1,
          1,
          1,
          1,
          1,
          1,
          1,
          1,
          1,
          1,
          1,
          1,
          1,
          1,
          1,
          1,
          1,
          1,
          1,
          1,
          1,
          1
         ],
         "yaxis": "y"
        },
        {
         "hovertemplate": "tournament=Copa Premio Honor Argentino<br>index=%{x}<br>date=%{y}<extra></extra>",
         "legendgroup": "Copa Premio Honor Argentino",
         "line": {
          "color": "#FFA15A",
          "dash": "solid"
         },
         "marker": {
          "symbol": "circle"
         },
         "mode": "lines",
         "name": "Copa Premio Honor Argentino",
         "showlegend": true,
         "type": "scattergl",
         "x": [
          1908,
          1909,
          1910,
          1911,
          1912,
          1913,
          1914,
          1918,
          1919,
          1920
         ],
         "xaxis": "x",
         "y": [
          1,
          1,
          2,
          1,
          1,
          1,
          1,
          2,
          1,
          1
         ],
         "yaxis": "y"
        },
        {
         "hovertemplate": "tournament=Copa Premio Honor Uruguayo<br>index=%{x}<br>date=%{y}<extra></extra>",
         "legendgroup": "Copa Premio Honor Uruguayo",
         "line": {
          "color": "#19d3f3",
          "dash": "solid"
         },
         "marker": {
          "symbol": "circle"
         },
         "mode": "lines",
         "name": "Copa Premio Honor Uruguayo",
         "showlegend": true,
         "type": "scattergl",
         "x": [
          1911,
          1912,
          1913,
          1914,
          1915,
          1916,
          1917,
          1918,
          1919,
          1920,
          1922,
          1923
         ],
         "xaxis": "x",
         "y": [
          2,
          1,
          1,
          1,
          1,
          1,
          1,
          2,
          1,
          1,
          1,
          2
         ],
         "yaxis": "y"
        },
        {
         "hovertemplate": "tournament=Copa Roca<br>index=%{x}<br>date=%{y}<extra></extra>",
         "legendgroup": "Copa Roca",
         "line": {
          "color": "#FF6692",
          "dash": "solid"
         },
         "marker": {
          "symbol": "circle"
         },
         "mode": "lines",
         "name": "Copa Roca",
         "showlegend": true,
         "type": "scattergl",
         "x": [
          1914,
          1922,
          1923,
          1939,
          1940,
          1945,
          1957,
          1960,
          1963,
          1971,
          1976
         ],
         "xaxis": "x",
         "y": [
          1,
          1,
          1,
          2,
          5,
          3,
          2,
          2,
          2,
          2,
          2
         ],
         "yaxis": "y"
        },
        {
         "hovertemplate": "tournament=Copa América<br>index=%{x}<br>date=%{y}<extra></extra>",
         "legendgroup": "Copa América",
         "line": {
          "color": "#B6E880",
          "dash": "solid"
         },
         "marker": {
          "symbol": "circle"
         },
         "mode": "lines",
         "name": "Copa América",
         "showlegend": true,
         "type": "scattergl",
         "x": [
          1916,
          1917,
          1919,
          1920,
          1921,
          1922,
          1923,
          1924,
          1925,
          1926,
          1927,
          1929,
          1935,
          1936,
          1937,
          1939,
          1941,
          1942,
          1945,
          1946,
          1947,
          1949,
          1953,
          1955,
          1956,
          1957,
          1959,
          1963,
          1966,
          1967,
          1975,
          1979,
          1983,
          1987,
          1989,
          1991,
          1993,
          1995,
          1997,
          1999,
          2001,
          2004,
          2007,
          2011,
          2015,
          2016,
          2019
         ],
         "xaxis": "x",
         "y": [
          6,
          6,
          7,
          6,
          6,
          11,
          6,
          6,
          6,
          10,
          6,
          6,
          6,
          2,
          14,
          10,
          10,
          21,
          21,
          15,
          28,
          29,
          22,
          15,
          15,
          21,
          31,
          21,
          4,
          15,
          25,
          25,
          24,
          13,
          26,
          26,
          26,
          26,
          26,
          26,
          26,
          26,
          26,
          26,
          26,
          32,
          26
         ],
         "yaxis": "y"
        },
        {
         "hovertemplate": "tournament=Copa Chevallier Boutell<br>index=%{x}<br>date=%{y}<extra></extra>",
         "legendgroup": "Copa Chevallier Boutell",
         "line": {
          "color": "#FF97FF",
          "dash": "solid"
         },
         "marker": {
          "symbol": "circle"
         },
         "mode": "lines",
         "name": "Copa Chevallier Boutell",
         "showlegend": true,
         "type": "scattergl",
         "x": [
          1923,
          1924,
          1925,
          1926,
          1931,
          1939,
          1940,
          1943,
          1945,
          1950,
          1956,
          1963,
          1964,
          1971
         ],
         "xaxis": "x",
         "y": [
          2,
          2,
          2,
          2,
          2,
          2,
          2,
          2,
          4,
          2,
          1,
          2,
          2,
          2
         ],
         "yaxis": "y"
        },
        {
         "hovertemplate": "tournament=Nordic Championship<br>index=%{x}<br>date=%{y}<extra></extra>",
         "legendgroup": "Nordic Championship",
         "line": {
          "color": "#FECB52",
          "dash": "solid"
         },
         "marker": {
          "symbol": "circle"
         },
         "mode": "lines",
         "name": "Nordic Championship",
         "showlegend": true,
         "type": "scattergl",
         "x": [
          1924,
          1925,
          1926,
          1927,
          1928,
          1929,
          1930,
          1931,
          1932,
          1933,
          1934,
          1935,
          1936,
          1937,
          1938,
          1939,
          1947,
          1948,
          1949,
          1950,
          1951,
          1952,
          1953,
          1954,
          1955,
          1956,
          1957,
          1958,
          1959,
          1960,
          1961,
          1962,
          1963,
          1964,
          1965,
          1966,
          1967,
          1968,
          1969,
          1970,
          1971,
          1972,
          1973,
          1974,
          1975,
          1976,
          1977,
          1978,
          1979,
          1980,
          1981,
          1982,
          1983,
          2000,
          2001
         ],
         "xaxis": "x",
         "y": [
          3,
          3,
          3,
          3,
          3,
          6,
          6,
          6,
          6,
          6,
          6,
          6,
          6,
          5,
          6,
          6,
          6,
          6,
          6,
          6,
          6,
          6,
          5,
          6,
          6,
          6,
          6,
          6,
          5,
          6,
          6,
          6,
          6,
          6,
          6,
          6,
          5,
          6,
          6,
          5,
          6,
          4,
          4,
          4,
          3,
          5,
          4,
          4,
          4,
          4,
          5,
          5,
          1,
          8,
          2
         ],
         "yaxis": "y"
        },
        {
         "hovertemplate": "tournament=International Cup<br>index=%{x}<br>date=%{y}<extra></extra>",
         "legendgroup": "International Cup",
         "line": {
          "color": "#636efa",
          "dash": "solid"
         },
         "marker": {
          "symbol": "circle"
         },
         "mode": "lines",
         "name": "International Cup",
         "showlegend": true,
         "type": "scattergl",
         "x": [
          1927,
          1928,
          1929,
          1930,
          1931,
          1932,
          1933,
          1934,
          1935,
          1936,
          1937,
          1938,
          1948,
          1949,
          1950,
          1951,
          1952,
          1953,
          1955,
          1956,
          1957,
          1958,
          1959,
          1960
         ],
         "xaxis": "x",
         "y": [
          4,
          8,
          7,
          1,
          11,
          9,
          5,
          7,
          8,
          5,
          11,
          1,
          5,
          6,
          2,
          1,
          2,
          4,
          10,
          8,
          4,
          3,
          4,
          1
         ],
         "yaxis": "y"
        },
        {
         "hovertemplate": "tournament=Baltic Cup<br>index=%{x}<br>date=%{y}<extra></extra>",
         "legendgroup": "Baltic Cup",
         "line": {
          "color": "#EF553B",
          "dash": "solid"
         },
         "marker": {
          "symbol": "circle"
         },
         "mode": "lines",
         "name": "Baltic Cup",
         "showlegend": true,
         "type": "scattergl",
         "x": [
          1928,
          1929,
          1930,
          1931,
          1932,
          1933,
          1935,
          1936,
          1937,
          1938,
          1940,
          1948,
          1949,
          1991,
          1992,
          1993,
          1994,
          1995,
          1996,
          1997,
          1998,
          2000,
          2001,
          2003,
          2005,
          2008,
          2010,
          2012,
          2014,
          2016,
          2018
         ],
         "xaxis": "x",
         "y": [
          3,
          3,
          3,
          3,
          3,
          3,
          3,
          3,
          3,
          3,
          2,
          2,
          2,
          3,
          3,
          3,
          3,
          3,
          3,
          3,
          3,
          1,
          3,
          3,
          1,
          3,
          3,
          4,
          4,
          3,
          2
         ],
         "yaxis": "y"
        },
        {
         "hovertemplate": "tournament=Balkan Cup<br>index=%{x}<br>date=%{y}<extra></extra>",
         "legendgroup": "Balkan Cup",
         "line": {
          "color": "#00cc96",
          "dash": "solid"
         },
         "marker": {
          "symbol": "circle"
         },
         "mode": "lines",
         "name": "Balkan Cup",
         "showlegend": true,
         "type": "scattergl",
         "x": [
          1929,
          1930,
          1931,
          1932,
          1933,
          1934,
          1935,
          1936,
          1946,
          1947,
          1948,
          1973,
          1974,
          1975,
          1976,
          1977,
          1978,
          1980
         ],
         "xaxis": "x",
         "y": [
          1,
          5,
          9,
          6,
          5,
          4,
          8,
          3,
          5,
          10,
          15,
          1,
          2,
          1,
          2,
          4,
          4,
          2
         ],
         "yaxis": "y"
        },
        {
         "hovertemplate": "tournament=FIFA World Cup<br>index=%{x}<br>date=%{y}<extra></extra>",
         "legendgroup": "FIFA World Cup",
         "line": {
          "color": "#ab63fa",
          "dash": "solid"
         },
         "marker": {
          "symbol": "circle"
         },
         "mode": "lines",
         "name": "FIFA World Cup",
         "showlegend": true,
         "type": "scattergl",
         "x": [
          1930,
          1934,
          1938,
          1950,
          1954,
          1958,
          1962,
          1966,
          1970,
          1974,
          1978,
          1982,
          1986,
          1990,
          1994,
          1998,
          2002,
          2006,
          2010,
          2014,
          2018
         ],
         "xaxis": "x",
         "y": [
          18,
          17,
          18,
          22,
          26,
          35,
          32,
          32,
          32,
          38,
          38,
          52,
          52,
          52,
          52,
          64,
          64,
          64,
          64,
          64,
          64
         ],
         "yaxis": "y"
        },
        {
         "hovertemplate": "tournament=Copa Rio Branco<br>index=%{x}<br>date=%{y}<extra></extra>",
         "legendgroup": "Copa Rio Branco",
         "line": {
          "color": "#FFA15A",
          "dash": "solid"
         },
         "marker": {
          "symbol": "circle"
         },
         "mode": "lines",
         "name": "Copa Rio Branco",
         "showlegend": true,
         "type": "scattergl",
         "x": [
          1931,
          1932,
          1940,
          1946,
          1947,
          1948,
          1950,
          1967,
          1968,
          1976
         ],
         "xaxis": "x",
         "y": [
          1,
          1,
          2,
          1,
          2,
          2,
          2,
          3,
          2,
          2
         ],
         "yaxis": "y"
        },
        {
         "hovertemplate": "tournament=FIFA World Cup qualification<br>index=%{x}<br>date=%{y}<extra></extra>",
         "legendgroup": "FIFA World Cup qualification",
         "line": {
          "color": "#19d3f3",
          "dash": "solid"
         },
         "marker": {
          "symbol": "circle"
         },
         "mode": "lines",
         "name": "FIFA World Cup qualification",
         "showlegend": true,
         "type": "scattergl",
         "x": [
          1933,
          1934,
          1937,
          1938,
          1949,
          1950,
          1953,
          1954,
          1956,
          1957,
          1958,
          1960,
          1961,
          1964,
          1965,
          1968,
          1969,
          1971,
          1972,
          1973,
          1974,
          1976,
          1977,
          1980,
          1981,
          1982,
          1984,
          1985,
          1988,
          1989,
          1992,
          1993,
          1996,
          1997,
          2000,
          2001,
          2003,
          2004,
          2005,
          2007,
          2008,
          2009,
          2011,
          2012,
          2013,
          2015,
          2016,
          2017,
          2019
         ],
         "xaxis": "x",
         "y": [
          5,
          20,
          14,
          8,
          22,
          4,
          33,
          22,
          4,
          82,
          3,
          25,
          66,
          14,
          113,
          52,
          117,
          1,
          74,
          148,
          1,
          86,
          162,
          128,
          172,
          1,
          73,
          236,
          66,
          247,
          147,
          336,
          224,
          408,
          277,
          489,
          71,
          412,
          353,
          70,
          417,
          309,
          203,
          241,
          346,
          233,
          255,
          310,
          136
         ],
         "yaxis": "y"
        },
        {
         "hovertemplate": "tournament=CCCF Championship<br>index=%{x}<br>date=%{y}<extra></extra>",
         "legendgroup": "CCCF Championship",
         "line": {
          "color": "#FF6692",
          "dash": "solid"
         },
         "marker": {
          "symbol": "circle"
         },
         "mode": "lines",
         "name": "CCCF Championship",
         "showlegend": true,
         "type": "scattergl",
         "x": [
          1941,
          1943,
          1946,
          1948,
          1951,
          1953,
          1955,
          1957,
          1960,
          1961
         ],
         "xaxis": "x",
         "y": [
          10,
          12,
          15,
          19,
          6,
          21,
          18,
          7,
          5,
          10
         ],
         "yaxis": "y"
        },
        {
         "hovertemplate": "tournament=NAFU Championship<br>index=%{x}<br>date=%{y}<extra></extra>",
         "legendgroup": "NAFU Championship",
         "line": {
          "color": "#B6E880",
          "dash": "solid"
         },
         "marker": {
          "symbol": "circle"
         },
         "mode": "lines",
         "name": "NAFU Championship",
         "showlegend": true,
         "type": "scattergl",
         "x": [
          1947,
          1990,
          1991
         ],
         "xaxis": "x",
         "y": [
          3,
          1,
          3
         ],
         "yaxis": "y"
        },
        {
         "hovertemplate": "tournament=Copa Oswaldo Cruz<br>index=%{x}<br>date=%{y}<extra></extra>",
         "legendgroup": "Copa Oswaldo Cruz",
         "line": {
          "color": "#FF97FF",
          "dash": "solid"
         },
         "marker": {
          "symbol": "circle"
         },
         "mode": "lines",
         "name": "Copa Oswaldo Cruz",
         "showlegend": true,
         "type": "scattergl",
         "x": [
          1950,
          1955,
          1956,
          1958,
          1961,
          1962,
          1968,
          1976
         ],
         "xaxis": "x",
         "y": [
          2,
          2,
          2,
          2,
          2,
          2,
          2,
          2
         ],
         "yaxis": "y"
        },
        {
         "hovertemplate": "tournament=Pan American Championship<br>index=%{x}<br>date=%{y}<extra></extra>",
         "legendgroup": "Pan American Championship",
         "line": {
          "color": "#FECB52",
          "dash": "solid"
         },
         "marker": {
          "symbol": "circle"
         },
         "mode": "lines",
         "name": "Pan American Championship",
         "showlegend": true,
         "type": "scattergl",
         "x": [
          1952,
          1956,
          1960
         ],
         "xaxis": "x",
         "y": [
          15,
          14,
          10
         ],
         "yaxis": "y"
        },
        {
         "hovertemplate": "tournament=Copa del Pacífico<br>index=%{x}<br>date=%{y}<extra></extra>",
         "legendgroup": "Copa del Pacífico",
         "line": {
          "color": "#636efa",
          "dash": "solid"
         },
         "marker": {
          "symbol": "circle"
         },
         "mode": "lines",
         "name": "Copa del Pacífico",
         "showlegend": true,
         "type": "scattergl",
         "x": [
          1953,
          1954,
          1965,
          1968,
          1971,
          1982,
          1983,
          1988,
          2006,
          2012
         ],
         "xaxis": "x",
         "y": [
          2,
          2,
          2,
          2,
          2,
          1,
          2,
          2,
          2,
          2
         ],
         "yaxis": "y"
        },
        {
         "hovertemplate": "tournament=Copa Bernardo O'Higgins<br>index=%{x}<br>date=%{y}<extra></extra>",
         "legendgroup": "Copa Bernardo O'Higgins",
         "line": {
          "color": "#EF553B",
          "dash": "solid"
         },
         "marker": {
          "symbol": "circle"
         },
         "mode": "lines",
         "name": "Copa Bernardo O'Higgins",
         "showlegend": true,
         "type": "scattergl",
         "x": [
          1955,
          1957,
          1959,
          1961,
          1966
         ],
         "xaxis": "x",
         "y": [
          2,
          2,
          2,
          2,
          2
         ],
         "yaxis": "y"
        },
        {
         "hovertemplate": "tournament=AFC Asian Cup<br>index=%{x}<br>date=%{y}<extra></extra>",
         "legendgroup": "AFC Asian Cup",
         "line": {
          "color": "#00cc96",
          "dash": "solid"
         },
         "marker": {
          "symbol": "circle"
         },
         "mode": "lines",
         "name": "AFC Asian Cup",
         "showlegend": true,
         "type": "scattergl",
         "x": [
          1956,
          1960,
          1964,
          1968,
          1972,
          1976,
          1980,
          1984,
          1988,
          1992,
          1996,
          2000,
          2004,
          2007,
          2011,
          2015,
          2019
         ],
         "xaxis": "x",
         "y": [
          6,
          6,
          6,
          10,
          13,
          10,
          24,
          24,
          24,
          16,
          26,
          26,
          32,
          32,
          32,
          32,
          51
         ],
         "yaxis": "y"
        },
        {
         "hovertemplate": "tournament=AFC Asian Cup qualification<br>index=%{x}<br>date=%{y}<extra></extra>",
         "legendgroup": "AFC Asian Cup qualification",
         "line": {
          "color": "#ab63fa",
          "dash": "solid"
         },
         "marker": {
          "symbol": "circle"
         },
         "mode": "lines",
         "name": "AFC Asian Cup qualification",
         "showlegend": true,
         "type": "scattergl",
         "x": [
          1956,
          1959,
          1963,
          1967,
          1971,
          1975,
          1978,
          1979,
          1984,
          1988,
          1992,
          1996,
          1999,
          2000,
          2003,
          2005,
          2006,
          2008,
          2009,
          2010,
          2013,
          2014,
          2016,
          2017,
          2018
         ],
         "xaxis": "x",
         "y": [
          7,
          11,
          6,
          14,
          29,
          31,
          5,
          8,
          45,
          41,
          19,
          61,
          22,
          60,
          100,
          2,
          62,
          2,
          35,
          19,
          48,
          12,
          14,
          58,
          13
         ],
         "yaxis": "y"
        },
        {
         "hovertemplate": "tournament=Atlantic Cup<br>index=%{x}<br>date=%{y}<extra></extra>",
         "legendgroup": "Atlantic Cup",
         "line": {
          "color": "#FFA15A",
          "dash": "solid"
         },
         "marker": {
          "symbol": "circle"
         },
         "mode": "lines",
         "name": "Atlantic Cup",
         "showlegend": true,
         "type": "scattergl",
         "x": [
          1956,
          1960,
          1976
         ],
         "xaxis": "x",
         "y": [
          3,
          6,
          2
         ],
         "yaxis": "y"
        },
        {
         "hovertemplate": "tournament=African Cup of Nations<br>index=%{x}<br>date=%{y}<extra></extra>",
         "legendgroup": "African Cup of Nations",
         "line": {
          "color": "#19d3f3",
          "dash": "solid"
         },
         "marker": {
          "symbol": "circle"
         },
         "mode": "lines",
         "name": "African Cup of Nations",
         "showlegend": true,
         "type": "scattergl",
         "x": [
          1957,
          1959,
          1962,
          1963,
          1965,
          1968,
          1970,
          1972,
          1974,
          1976,
          1978,
          1980,
          1982,
          1984,
          1986,
          1988,
          1990,
          1992,
          1994,
          1996,
          1998,
          2000,
          2002,
          2004,
          2006,
          2008,
          2010,
          2012,
          2013,
          2015,
          2017,
          2019
         ],
         "xaxis": "x",
         "y": [
          2,
          3,
          4,
          8,
          8,
          16,
          16,
          16,
          17,
          18,
          16,
          16,
          16,
          16,
          16,
          16,
          16,
          20,
          20,
          29,
          32,
          32,
          32,
          32,
          32,
          32,
          29,
          32,
          32,
          32,
          32,
          52
         ],
         "yaxis": "y"
        },
        {
         "hovertemplate": "tournament=Copa Paz del Chaco<br>index=%{x}<br>date=%{y}<extra></extra>",
         "legendgroup": "Copa Paz del Chaco",
         "line": {
          "color": "#FF6692",
          "dash": "solid"
         },
         "marker": {
          "symbol": "circle"
         },
         "mode": "lines",
         "name": "Copa Paz del Chaco",
         "showlegend": true,
         "type": "scattergl",
         "x": [
          1957,
          1962,
          1963,
          1977,
          1979,
          1980,
          1991,
          1993,
          1995,
          1999,
          2011
         ],
         "xaxis": "x",
         "y": [
          4,
          2,
          2,
          2,
          2,
          2,
          2,
          2,
          2,
          1,
          2
         ],
         "yaxis": "y"
        },
        {
         "hovertemplate": "tournament=Merdeka Tournament<br>index=%{x}<br>date=%{y}<extra></extra>",
         "legendgroup": "Merdeka Tournament",
         "line": {
          "color": "#B6E880",
          "dash": "solid"
         },
         "marker": {
          "symbol": "circle"
         },
         "mode": "lines",
         "name": "Merdeka Tournament",
         "showlegend": true,
         "type": "scattergl",
         "x": [
          1957,
          1958,
          1959,
          1960,
          1961,
          1962,
          1963,
          1964,
          1965,
          1966,
          1967,
          1968,
          1969,
          1970,
          1971,
          1972,
          1973,
          1974,
          1975,
          1976,
          1977,
          1978,
          1979,
          1980,
          1981,
          1982,
          1983,
          1984,
          1986,
          1987,
          1988,
          1993,
          1995,
          2000,
          2001,
          2006,
          2007,
          2008
         ],
         "xaxis": "x",
         "y": [
          16,
          7,
          12,
          11,
          12,
          13,
          11,
          11,
          16,
          16,
          32,
          27,
          14,
          33,
          21,
          19,
          21,
          10,
          24,
          16,
          13,
          23,
          11,
          14,
          22,
          10,
          10,
          10,
          8,
          1,
          4,
          7,
          6,
          4,
          6,
          4,
          3,
          5
         ],
         "yaxis": "y"
        },
        {
         "hovertemplate": "tournament=UEFA Euro qualification<br>index=%{x}<br>date=%{y}<extra></extra>",
         "legendgroup": "UEFA Euro qualification",
         "line": {
          "color": "#FF97FF",
          "dash": "solid"
         },
         "marker": {
          "symbol": "circle"
         },
         "mode": "lines",
         "name": "UEFA Euro qualification",
         "showlegend": true,
         "type": "scattergl",
         "x": [
          1958,
          1959,
          1960,
          1962,
          1963,
          1964,
          1966,
          1967,
          1968,
          1970,
          1971,
          1972,
          1974,
          1975,
          1976,
          1978,
          1979,
          1980,
          1982,
          1983,
          1986,
          1987,
          1990,
          1991,
          1994,
          1995,
          1998,
          1999,
          2002,
          2003,
          2006,
          2007,
          2010,
          2011,
          2014,
          2015,
          2019
         ],
         "xaxis": "x",
         "y": [
          4,
          15,
          5,
          18,
          26,
          6,
          21,
          66,
          11,
          25,
          70,
          10,
          28,
          67,
          9,
          35,
          70,
          3,
          37,
          79,
          37,
          80,
          41,
          81,
          79,
          150,
          71,
          156,
          60,
          150,
          94,
          212,
          94,
          154,
          103,
          165,
          250
         ],
         "yaxis": "y"
        },
        {
         "hovertemplate": "tournament=UEFA Euro<br>index=%{x}<br>date=%{y}<extra></extra>",
         "legendgroup": "UEFA Euro",
         "line": {
          "color": "#FECB52",
          "dash": "solid"
         },
         "marker": {
          "symbol": "circle"
         },
         "mode": "lines",
         "name": "UEFA Euro",
         "showlegend": true,
         "type": "scattergl",
         "x": [
          1960,
          1964,
          1968,
          1972,
          1976,
          1980,
          1984,
          1988,
          1992,
          1996,
          2000,
          2004,
          2008,
          2012,
          2016
         ],
         "xaxis": "x",
         "y": [
          4,
          4,
          5,
          4,
          4,
          14,
          15,
          15,
          15,
          31,
          31,
          31,
          31,
          31,
          51
         ],
         "yaxis": "y"
        },
        {
         "hovertemplate": "tournament=African Cup of Nations qualification<br>index=%{x}<br>date=%{y}<extra></extra>",
         "legendgroup": "African Cup of Nations qualification",
         "line": {
          "color": "#636efa",
          "dash": "solid"
         },
         "marker": {
          "symbol": "circle"
         },
         "mode": "lines",
         "name": "African Cup of Nations qualification",
         "showlegend": true,
         "type": "scattergl",
         "x": [
          1961,
          1963,
          1965,
          1966,
          1967,
          1968,
          1969,
          1970,
          1971,
          1973,
          1974,
          1975,
          1976,
          1977,
          1978,
          1979,
          1980,
          1981,
          1982,
          1983,
          1984,
          1985,
          1986,
          1987,
          1988,
          1989,
          1990,
          1991,
          1992,
          1993,
          1994,
          1995,
          1996,
          1997,
          1998,
          1999,
          2000,
          2001,
          2002,
          2003,
          2006,
          2007,
          2010,
          2011,
          2012,
          2014,
          2015,
          2016,
          2017,
          2018,
          2019
         ],
         "xaxis": "x",
         "y": [
          7,
          5,
          20,
          1,
          19,
          2,
          11,
          16,
          9,
          11,
          8,
          4,
          1,
          5,
          4,
          10,
          13,
          28,
          11,
          31,
          15,
          25,
          9,
          27,
          7,
          26,
          23,
          46,
          36,
          49,
          38,
          79,
          22,
          46,
          39,
          58,
          56,
          46,
          33,
          79,
          42,
          88,
          48,
          77,
          47,
          121,
          45,
          87,
          28,
          46,
          68
         ],
         "yaxis": "y"
        },
        {
         "hovertemplate": "tournament=Vietnam Independence Cup<br>index=%{x}<br>date=%{y}<extra></extra>",
         "legendgroup": "Vietnam Independence Cup",
         "line": {
          "color": "#EF553B",
          "dash": "solid"
         },
         "marker": {
          "symbol": "circle"
         },
         "mode": "lines",
         "name": "Vietnam Independence Cup",
         "showlegend": true,
         "type": "scattergl",
         "x": [
          1961,
          1962,
          1965,
          1966,
          1967,
          1970,
          1971,
          1972,
          1973,
          1974
         ],
         "xaxis": "x",
         "y": [
          3,
          7,
          2,
          3,
          16,
          6,
          6,
          6,
          3,
          8
         ],
         "yaxis": "y"
        },
        {
         "hovertemplate": "tournament=Windward Islands Tournament<br>index=%{x}<br>date=%{y}<extra></extra>",
         "legendgroup": "Windward Islands Tournament",
         "line": {
          "color": "#00cc96",
          "dash": "solid"
         },
         "marker": {
          "symbol": "circle"
         },
         "mode": "lines",
         "name": "Windward Islands Tournament",
         "showlegend": true,
         "type": "scattergl",
         "x": [
          1961,
          1962,
          1964,
          1965,
          1966,
          1967,
          1968,
          1969,
          1970,
          1971,
          1972,
          1973,
          1974,
          1984,
          1985,
          1986,
          1995,
          2001,
          2013,
          2014,
          2015,
          2017
         ],
         "xaxis": "x",
         "y": [
          6,
          1,
          6,
          4,
          6,
          6,
          3,
          6,
          5,
          5,
          6,
          11,
          6,
          2,
          3,
          1,
          6,
          6,
          1,
          2,
          3,
          6
         ],
         "yaxis": "y"
        },
        {
         "hovertemplate": "tournament=Copa Carlos Dittborn<br>index=%{x}<br>date=%{y}<extra></extra>",
         "legendgroup": "Copa Carlos Dittborn",
         "line": {
          "color": "#ab63fa",
          "dash": "solid"
         },
         "marker": {
          "symbol": "circle"
         },
         "mode": "lines",
         "name": "Copa Carlos Dittborn",
         "showlegend": true,
         "type": "scattergl",
         "x": [
          1962,
          1964,
          1965,
          1968,
          1971,
          1972,
          1973,
          1974,
          1976
         ],
         "xaxis": "x",
         "y": [
          2,
          2,
          2,
          2,
          2,
          1,
          2,
          2,
          1
         ],
         "yaxis": "y"
        },
        {
         "hovertemplate": "tournament=CONCACAF Championship<br>index=%{x}<br>date=%{y}<extra></extra>",
         "legendgroup": "CONCACAF Championship",
         "line": {
          "color": "#FFA15A",
          "dash": "solid"
         },
         "marker": {
          "symbol": "circle"
         },
         "mode": "lines",
         "name": "CONCACAF Championship",
         "showlegend": true,
         "type": "scattergl",
         "x": [
          1963,
          1965,
          1967,
          1969,
          1971
         ],
         "xaxis": "x",
         "y": [
          13,
          10,
          7,
          9,
          10
         ],
         "yaxis": "y"
        },
        {
         "hovertemplate": "tournament=Copa Juan Pinto Durán<br>index=%{x}<br>date=%{y}<extra></extra>",
         "legendgroup": "Copa Juan Pinto Durán",
         "line": {
          "color": "#19d3f3",
          "dash": "solid"
         },
         "marker": {
          "symbol": "circle"
         },
         "mode": "lines",
         "name": "Copa Juan Pinto Durán",
         "showlegend": true,
         "type": "scattergl",
         "x": [
          1963,
          1965,
          1971,
          1975,
          1976,
          1977,
          1979,
          1981,
          1988
         ],
         "xaxis": "x",
         "y": [
          2,
          2,
          2,
          2,
          1,
          1,
          2,
          2,
          2
         ],
         "yaxis": "y"
        },
        {
         "hovertemplate": "tournament=South Pacific Games<br>index=%{x}<br>date=%{y}<extra></extra>",
         "legendgroup": "South Pacific Games",
         "line": {
          "color": "#FF6692",
          "dash": "solid"
         },
         "marker": {
          "symbol": "circle"
         },
         "mode": "lines",
         "name": "South Pacific Games",
         "showlegend": true,
         "type": "scattergl",
         "x": [
          1963,
          1966,
          1969,
          1971,
          1975,
          1979,
          1983,
          1987,
          1991,
          1995,
          2003,
          2007
         ],
         "xaxis": "x",
         "y": [
          6,
          10,
          16,
          11,
          13,
          26,
          21,
          16,
          18,
          20,
          24,
          24
         ],
         "yaxis": "y"
        },
        {
         "hovertemplate": "tournament=UAFA Cup<br>index=%{x}<br>date=%{y}<extra></extra>",
         "legendgroup": "UAFA Cup",
         "line": {
          "color": "#B6E880",
          "dash": "solid"
         },
         "marker": {
          "symbol": "circle"
         },
         "mode": "lines",
         "name": "UAFA Cup",
         "showlegend": true,
         "type": "scattergl",
         "x": [
          1963,
          1964,
          1966,
          1985,
          1987,
          1988,
          1998,
          2002,
          2012
         ],
         "xaxis": "x",
         "y": [
          7,
          8,
          20,
          10,
          3,
          24,
          16,
          18,
          16
         ],
         "yaxis": "y"
        },
        {
         "hovertemplate": "tournament=CONCACAF Championship qualification<br>index=%{x}<br>date=%{y}<extra></extra>",
         "legendgroup": "CONCACAF Championship qualification",
         "line": {
          "color": "#FF97FF",
          "dash": "solid"
         },
         "marker": {
          "symbol": "circle"
         },
         "mode": "lines",
         "name": "CONCACAF Championship qualification",
         "showlegend": true,
         "type": "scattergl",
         "x": [
          1965,
          1967,
          1969,
          1971
         ],
         "xaxis": "x",
         "y": [
          3,
          12,
          1,
          5
         ],
         "yaxis": "y"
        },
        {
         "hovertemplate": "tournament=Copa Artigas<br>index=%{x}<br>date=%{y}<extra></extra>",
         "legendgroup": "Copa Artigas",
         "line": {
          "color": "#FECB52",
          "dash": "solid"
         },
         "marker": {
          "symbol": "circle"
         },
         "mode": "lines",
         "name": "Copa Artigas",
         "showlegend": true,
         "type": "scattergl",
         "x": [
          1965,
          1966,
          1968,
          1975,
          1977,
          1983,
          1985
         ],
         "xaxis": "x",
         "y": [
          2,
          2,
          1,
          2,
          2,
          2,
          2
         ],
         "yaxis": "y"
        },
        {
         "hovertemplate": "tournament=GaNEFo<br>index=%{x}<br>date=%{y}<extra></extra>",
         "legendgroup": "GaNEFo",
         "line": {
          "color": "#636efa",
          "dash": "solid"
         },
         "marker": {
          "symbol": "circle"
         },
         "mode": "lines",
         "name": "GaNEFo",
         "showlegend": true,
         "type": "scattergl",
         "x": [
          1966
         ],
         "xaxis": "x",
         "y": [
          14
         ],
         "yaxis": "y"
        },
        {
         "hovertemplate": "tournament=King's Cup<br>index=%{x}<br>date=%{y}<extra></extra>",
         "legendgroup": "King's Cup",
         "line": {
          "color": "#EF553B",
          "dash": "solid"
         },
         "marker": {
          "symbol": "circle"
         },
         "mode": "lines",
         "name": "King's Cup",
         "showlegend": true,
         "type": "scattergl",
         "x": [
          1968,
          1969,
          1970,
          1971,
          1972,
          1973,
          1974,
          1975,
          1976,
          1977,
          1978,
          1979,
          1980,
          1981,
          1982,
          1986,
          1987,
          1988,
          1989,
          1990,
          1993,
          1995,
          1996,
          1997,
          1998,
          1999,
          2000,
          2001,
          2002,
          2003,
          2004,
          2005,
          2006,
          2007,
          2009,
          2010,
          2012,
          2013,
          2016,
          2017
         ],
         "xaxis": "x",
         "y": [
          12,
          15,
          20,
          9,
          12,
          14,
          15,
          8,
          9,
          6,
          2,
          3,
          3,
          6,
          8,
          1,
          2,
          4,
          5,
          3,
          2,
          1,
          2,
          4,
          4,
          1,
          5,
          8,
          8,
          8,
          4,
          4,
          7,
          3,
          2,
          3,
          1,
          4,
          4,
          2
         ],
         "yaxis": "y"
        },
        {
         "hovertemplate": "tournament=Gulf Cup<br>index=%{x}<br>date=%{y}<extra></extra>",
         "legendgroup": "Gulf Cup",
         "line": {
          "color": "#00cc96",
          "dash": "solid"
         },
         "marker": {
          "symbol": "circle"
         },
         "mode": "lines",
         "name": "Gulf Cup",
         "showlegend": true,
         "type": "scattergl",
         "x": [
          1970,
          1972,
          1974,
          1976,
          1979,
          1982,
          1984,
          1986,
          1988,
          1990,
          1992,
          1994,
          1996,
          1998,
          2002,
          2003,
          2004,
          2007,
          2009,
          2010,
          2013,
          2014,
          2017,
          2018,
          2019
         ],
         "xaxis": "x",
         "y": [
          6,
          10,
          13,
          22,
          21,
          15,
          22,
          21,
          21,
          10,
          15,
          15,
          15,
          15,
          15,
          8,
          29,
          15,
          15,
          15,
          16,
          16,
          12,
          3,
          15
         ],
         "yaxis": "y"
        },
        {
         "hovertemplate": "tournament=Indonesia Tournament<br>index=%{x}<br>date=%{y}<extra></extra>",
         "legendgroup": "Indonesia Tournament",
         "line": {
          "color": "#ab63fa",
          "dash": "solid"
         },
         "marker": {
          "symbol": "circle"
         },
         "mode": "lines",
         "name": "Indonesia Tournament",
         "showlegend": true,
         "type": "scattergl",
         "x": [
          1970,
          1971,
          1972,
          1973,
          1974,
          1975,
          1976,
          1978,
          1981,
          1985,
          1986,
          1987,
          1988
         ],
         "xaxis": "x",
         "y": [
          10,
          19,
          11,
          3,
          4,
          8,
          3,
          8,
          2,
          1,
          1,
          4,
          1
         ],
         "yaxis": "y"
        },
        {
         "hovertemplate": "tournament=Korea Cup<br>index=%{x}<br>date=%{y}<extra></extra>",
         "legendgroup": "Korea Cup",
         "line": {
          "color": "#FFA15A",
          "dash": "solid"
         },
         "marker": {
          "symbol": "circle"
         },
         "mode": "lines",
         "name": "Korea Cup",
         "showlegend": true,
         "type": "scattergl",
         "x": [
          1971,
          1972,
          1973,
          1974,
          1975,
          1976,
          1977,
          1978,
          1979,
          1980,
          1981,
          1982,
          1983,
          1984,
          1985,
          1987,
          1988,
          1989,
          1991,
          1993,
          1995,
          1997,
          1999
         ],
         "xaxis": "x",
         "y": [
          15,
          16,
          10,
          4,
          3,
          10,
          6,
          5,
          7,
          11,
          9,
          4,
          10,
          1,
          6,
          9,
          1,
          1,
          8,
          6,
          5,
          6,
          6
         ],
         "yaxis": "y"
        },
        {
         "hovertemplate": "tournament=Brazil Independence Cup<br>index=%{x}<br>date=%{y}<extra></extra>",
         "legendgroup": "Brazil Independence Cup",
         "line": {
          "color": "#19d3f3",
          "dash": "solid"
         },
         "marker": {
          "symbol": "circle"
         },
         "mode": "lines",
         "name": "Brazil Independence Cup",
         "showlegend": true,
         "type": "scattergl",
         "x": [
          1972
         ],
         "xaxis": "x",
         "y": [
          37
         ],
         "yaxis": "y"
        },
        {
         "hovertemplate": "tournament=Copa Ramón Castilla<br>index=%{x}<br>date=%{y}<extra></extra>",
         "legendgroup": "Copa Ramón Castilla",
         "line": {
          "color": "#FF6692",
          "dash": "solid"
         },
         "marker": {
          "symbol": "circle"
         },
         "mode": "lines",
         "name": "Copa Ramón Castilla",
         "showlegend": true,
         "type": "scattergl",
         "x": [
          1972,
          1973,
          1976,
          1978
         ],
         "xaxis": "x",
         "y": [
          1,
          1,
          2,
          2
         ],
         "yaxis": "y"
        },
        {
         "hovertemplate": "tournament=CECAFA Cup<br>index=%{x}<br>date=%{y}<extra></extra>",
         "legendgroup": "CECAFA Cup",
         "line": {
          "color": "#B6E880",
          "dash": "solid"
         },
         "marker": {
          "symbol": "circle"
         },
         "mode": "lines",
         "name": "CECAFA Cup",
         "showlegend": true,
         "type": "scattergl",
         "x": [
          1973,
          1974,
          1975,
          1976,
          1977,
          1978,
          1979,
          1980,
          1981,
          1982,
          1983,
          1984,
          1985,
          1987,
          1988,
          1989,
          1990,
          1991,
          1992,
          1994,
          1995,
          1996,
          1999,
          2000,
          2001,
          2002,
          2003,
          2004,
          2005,
          2006,
          2007,
          2008,
          2009,
          2010,
          2011,
          2012,
          2013,
          2015,
          2017
         ],
         "xaxis": "x",
         "y": [
          8,
          5,
          9,
          12,
          11,
          14,
          14,
          8,
          15,
          13,
          20,
          16,
          10,
          15,
          15,
          13,
          12,
          13,
          14,
          11,
          11,
          7,
          13,
          12,
          17,
          24,
          10,
          20,
          24,
          23,
          23,
          2,
          44,
          18,
          26,
          26,
          26,
          26,
          20
         ],
         "yaxis": "y"
        },
        {
         "hovertemplate": "tournament=Oceania Nations Cup<br>index=%{x}<br>date=%{y}<extra></extra>",
         "legendgroup": "Oceania Nations Cup",
         "line": {
          "color": "#FF97FF",
          "dash": "solid"
         },
         "marker": {
          "symbol": "circle"
         },
         "mode": "lines",
         "name": "Oceania Nations Cup",
         "showlegend": true,
         "type": "scattergl",
         "x": [
          1973,
          1980,
          1995,
          1996,
          1998,
          2000,
          2002,
          2004,
          2012,
          2016
         ],
         "xaxis": "x",
         "y": [
          12,
          14,
          3,
          3,
          10,
          10,
          16,
          2,
          16,
          15
         ],
         "yaxis": "y"
        },
        {
         "hovertemplate": "tournament=Copa Félix Bogado<br>index=%{x}<br>date=%{y}<extra></extra>",
         "legendgroup": "Copa Félix Bogado",
         "line": {
          "color": "#FECB52",
          "dash": "solid"
         },
         "marker": {
          "symbol": "circle"
         },
         "mode": "lines",
         "name": "Copa Félix Bogado",
         "showlegend": true,
         "type": "scattergl",
         "x": [
          1976,
          1977,
          1983
         ],
         "xaxis": "x",
         "y": [
          2,
          2,
          2
         ],
         "yaxis": "y"
        },
        {
         "hovertemplate": "tournament=CFU Caribbean Cup<br>index=%{x}<br>date=%{y}<extra></extra>",
         "legendgroup": "CFU Caribbean Cup",
         "line": {
          "color": "#636efa",
          "dash": "solid"
         },
         "marker": {
          "symbol": "circle"
         },
         "mode": "lines",
         "name": "CFU Caribbean Cup",
         "showlegend": true,
         "type": "scattergl",
         "x": [
          1978,
          1979,
          1981,
          1983,
          1985,
          1988,
          1989,
          1990,
          1991,
          1992,
          1993,
          1994,
          1995,
          1996,
          1997,
          1998,
          1999,
          2001,
          2005,
          2007,
          2008,
          2010,
          2012,
          2014,
          2017
         ],
         "xaxis": "x",
         "y": [
          6,
          5,
          5,
          6,
          6,
          6,
          7,
          2,
          13,
          8,
          14,
          10,
          13,
          14,
          10,
          16,
          12,
          16,
          6,
          14,
          16,
          16,
          16,
          10,
          4
         ],
         "yaxis": "y"
        },
        {
         "hovertemplate": "tournament=CFU Caribbean Cup qualification<br>index=%{x}<br>date=%{y}<extra></extra>",
         "legendgroup": "CFU Caribbean Cup qualification",
         "line": {
          "color": "#EF553B",
          "dash": "solid"
         },
         "marker": {
          "symbol": "circle"
         },
         "mode": "lines",
         "name": "CFU Caribbean Cup qualification",
         "showlegend": true,
         "type": "scattergl",
         "x": [
          1978,
          1979,
          1981,
          1983,
          1985,
          1987,
          1988,
          1989,
          1990,
          1991,
          1992,
          1993,
          1994,
          1995,
          1996,
          1997,
          1998,
          1999,
          2001,
          2004,
          2005,
          2006,
          2007,
          2008,
          2010,
          2012,
          2014,
          2016,
          2017
         ],
         "xaxis": "x",
         "y": [
          14,
          12,
          15,
          13,
          12,
          4,
          4,
          24,
          24,
          15,
          16,
          20,
          19,
          26,
          17,
          19,
          25,
          34,
          29,
          34,
          4,
          46,
          2,
          34,
          34,
          37,
          34,
          36,
          3
         ],
         "yaxis": "y"
        },
        {
         "hovertemplate": "tournament=Kirin Cup<br>index=%{x}<br>date=%{y}<extra></extra>",
         "legendgroup": "Kirin Cup",
         "line": {
          "color": "#00cc96",
          "dash": "solid"
         },
         "marker": {
          "symbol": "circle"
         },
         "mode": "lines",
         "name": "Kirin Cup",
         "showlegend": true,
         "type": "scattergl",
         "x": [
          1978,
          1979,
          1981,
          1982,
          1983,
          1984,
          1986,
          1987,
          1988,
          1991,
          1992,
          1993,
          1994,
          1995,
          1996,
          1997,
          1998,
          1999,
          2000,
          2001,
          2002,
          2003,
          2004,
          2005,
          2006,
          2007,
          2008,
          2009,
          2011,
          2016
         ],
         "xaxis": "x",
         "y": [
          1,
          1,
          1,
          1,
          1,
          2,
          1,
          1,
          1,
          1,
          2,
          3,
          3,
          3,
          3,
          3,
          3,
          3,
          3,
          3,
          2,
          2,
          3,
          3,
          3,
          3,
          3,
          3,
          3,
          4
         ],
         "yaxis": "y"
        },
        {
         "hovertemplate": "tournament=Amílcar Cabral Cup<br>index=%{x}<br>date=%{y}<extra></extra>",
         "legendgroup": "Amílcar Cabral Cup",
         "line": {
          "color": "#ab63fa",
          "dash": "solid"
         },
         "marker": {
          "symbol": "circle"
         },
         "mode": "lines",
         "name": "Amílcar Cabral Cup",
         "showlegend": true,
         "type": "scattergl",
         "x": [
          1979,
          1980,
          1981,
          1982,
          1983,
          1984,
          1985,
          1986,
          1987,
          1988,
          1989,
          1991,
          1993,
          1995,
          1997,
          2000,
          2001,
          2005,
          2007
         ],
         "xaxis": "x",
         "y": [
          13,
          10,
          13,
          16,
          13,
          16,
          16,
          12,
          13,
          16,
          12,
          12,
          13,
          14,
          16,
          15,
          9,
          3,
          3
         ],
         "yaxis": "y"
        },
        {
         "hovertemplate": "tournament=Mundialito<br>index=%{x}<br>date=%{y}<extra></extra>",
         "legendgroup": "Mundialito",
         "line": {
          "color": "#FFA15A",
          "dash": "solid"
         },
         "marker": {
          "symbol": "circle"
         },
         "mode": "lines",
         "name": "Mundialito",
         "showlegend": true,
         "type": "scattergl",
         "x": [
          1980,
          1981
         ],
         "xaxis": "x",
         "y": [
          1,
          6
         ],
         "yaxis": "y"
        },
        {
         "hovertemplate": "tournament=Merlion Cup<br>index=%{x}<br>date=%{y}<extra></extra>",
         "legendgroup": "Merlion Cup",
         "line": {
          "color": "#19d3f3",
          "dash": "solid"
         },
         "marker": {
          "symbol": "circle"
         },
         "mode": "lines",
         "name": "Merlion Cup",
         "showlegend": true,
         "type": "scattergl",
         "x": [
          1982,
          1983,
          1985,
          1986,
          1992
         ],
         "xaxis": "x",
         "y": [
          6,
          4,
          4,
          10,
          1
         ],
         "yaxis": "y"
        },
        {
         "hovertemplate": "tournament=Nehru Cup<br>index=%{x}<br>date=%{y}<extra></extra>",
         "legendgroup": "Nehru Cup",
         "line": {
          "color": "#FF6692",
          "dash": "solid"
         },
         "marker": {
          "symbol": "circle"
         },
         "mode": "lines",
         "name": "Nehru Cup",
         "showlegend": true,
         "type": "scattergl",
         "x": [
          1982,
          1984,
          1985,
          1986,
          1987,
          1989,
          1991,
          1993,
          1995,
          1997,
          2007,
          2009,
          2012
         ],
         "xaxis": "x",
         "y": [
          7,
          7,
          8,
          3,
          2,
          1,
          6,
          9,
          6,
          7,
          11,
          11,
          11
         ],
         "yaxis": "y"
        },
        {
         "hovertemplate": "tournament=West African Cup<br>index=%{x}<br>date=%{y}<extra></extra>",
         "legendgroup": "West African Cup",
         "line": {
          "color": "#B6E880",
          "dash": "solid"
         },
         "marker": {
          "symbol": "circle"
         },
         "mode": "lines",
         "name": "West African Cup",
         "showlegend": true,
         "type": "scattergl",
         "x": [
          1982,
          1983,
          1984,
          1986,
          1987
         ],
         "xaxis": "x",
         "y": [
          13,
          8,
          12,
          14,
          7
         ],
         "yaxis": "y"
        },
        {
         "hovertemplate": "tournament=UDEAC Cup<br>index=%{x}<br>date=%{y}<extra></extra>",
         "legendgroup": "UDEAC Cup",
         "line": {
          "color": "#FF97FF",
          "dash": "solid"
         },
         "marker": {
          "symbol": "circle"
         },
         "mode": "lines",
         "name": "UDEAC Cup",
         "showlegend": true,
         "type": "scattergl",
         "x": [
          1984,
          1985,
          1986,
          1987,
          1988,
          1989,
          1990
         ],
         "xaxis": "x",
         "y": [
          11,
          10,
          9,
          9,
          10,
          5,
          11
         ],
         "yaxis": "y"
        },
        {
         "hovertemplate": "tournament=Rous Cup<br>index=%{x}<br>date=%{y}<extra></extra>",
         "legendgroup": "Rous Cup",
         "line": {
          "color": "#FECB52",
          "dash": "solid"
         },
         "marker": {
          "symbol": "circle"
         },
         "mode": "lines",
         "name": "Rous Cup",
         "showlegend": true,
         "type": "scattergl",
         "x": [
          1985,
          1986,
          1987,
          1988,
          1989
         ],
         "xaxis": "x",
         "y": [
          1,
          1,
          3,
          3,
          3
         ],
         "yaxis": "y"
        },
        {
         "hovertemplate": "tournament=Lunar New Year Cup<br>index=%{x}<br>date=%{y}<extra></extra>",
         "legendgroup": "Lunar New Year Cup",
         "line": {
          "color": "#636efa",
          "dash": "solid"
         },
         "marker": {
          "symbol": "circle"
         },
         "mode": "lines",
         "name": "Lunar New Year Cup",
         "showlegend": true,
         "type": "scattergl",
         "x": [
          1986,
          1989,
          1994,
          1995,
          1996,
          1997,
          1998,
          1999,
          2000,
          2001,
          2002,
          2003,
          2004,
          2005,
          2006
         ],
         "xaxis": "x",
         "y": [
          1,
          1,
          1,
          2,
          2,
          2,
          2,
          2,
          2,
          2,
          2,
          1,
          2,
          1,
          2
         ],
         "yaxis": "y"
        },
        {
         "hovertemplate": "tournament=Malta International Tournament<br>index=%{x}<br>date=%{y}<extra></extra>",
         "legendgroup": "Malta International Tournament",
         "line": {
          "color": "#EF553B",
          "dash": "solid"
         },
         "marker": {
          "symbol": "circle"
         },
         "mode": "lines",
         "name": "Malta International Tournament",
         "showlegend": true,
         "type": "scattergl",
         "x": [
          1988,
          1989,
          1990,
          1992,
          1994,
          1996,
          1998,
          2000,
          2002,
          2004,
          2006,
          2008
         ],
         "xaxis": "x",
         "y": [
          3,
          6,
          3,
          1,
          6,
          6,
          6,
          6,
          6,
          3,
          1,
          6
         ],
         "yaxis": "y"
        },
        {
         "hovertemplate": "tournament=Tournoi de France<br>index=%{x}<br>date=%{y}<extra></extra>",
         "legendgroup": "Tournoi de France",
         "line": {
          "color": "#00cc96",
          "dash": "solid"
         },
         "marker": {
          "symbol": "circle"
         },
         "mode": "lines",
         "name": "Tournoi de France",
         "showlegend": true,
         "type": "scattergl",
         "x": [
          1988,
          1997
         ],
         "xaxis": "x",
         "y": [
          4,
          6
         ],
         "yaxis": "y"
        },
        {
         "hovertemplate": "tournament=Island Games<br>index=%{x}<br>date=%{y}<extra></extra>",
         "legendgroup": "Island Games",
         "line": {
          "color": "#ab63fa",
          "dash": "solid"
         },
         "marker": {
          "symbol": "circle"
         },
         "mode": "lines",
         "name": "Island Games",
         "showlegend": true,
         "type": "scattergl",
         "x": [
          1989,
          1991,
          1993,
          1995,
          1997,
          1999,
          2001,
          2003,
          2005,
          2007,
          2009,
          2011,
          2013,
          2015,
          2017
         ],
         "xaxis": "x",
         "y": [
          10,
          16,
          16,
          18,
          20,
          31,
          24,
          30,
          25,
          21,
          34,
          29,
          8,
          34,
          34
         ],
         "yaxis": "y"
        },
        {
         "hovertemplate": "tournament=Dynasty Cup<br>index=%{x}<br>date=%{y}<extra></extra>",
         "legendgroup": "Dynasty Cup",
         "line": {
          "color": "#FFA15A",
          "dash": "solid"
         },
         "marker": {
          "symbol": "circle"
         },
         "mode": "lines",
         "name": "Dynasty Cup",
         "showlegend": true,
         "type": "scattergl",
         "x": [
          1990,
          1992,
          1995,
          1998
         ],
         "xaxis": "x",
         "y": [
          7,
          8,
          8,
          6
         ],
         "yaxis": "y"
        },
        {
         "hovertemplate": "tournament=Gold Cup<br>index=%{x}<br>date=%{y}<extra></extra>",
         "legendgroup": "Gold Cup",
         "line": {
          "color": "#19d3f3",
          "dash": "solid"
         },
         "marker": {
          "symbol": "circle"
         },
         "mode": "lines",
         "name": "Gold Cup",
         "showlegend": true,
         "type": "scattergl",
         "x": [
          1991,
          1993,
          1996,
          1998,
          2000,
          2002,
          2003,
          2005,
          2007,
          2009,
          2011,
          2013,
          2015,
          2017,
          2019
         ],
         "xaxis": "x",
         "y": [
          16,
          16,
          13,
          16,
          19,
          20,
          20,
          25,
          25,
          25,
          25,
          25,
          26,
          25,
          31
         ],
         "yaxis": "y"
        },
        {
         "hovertemplate": "tournament=UNCAF Cup<br>index=%{x}<br>date=%{y}<extra></extra>",
         "legendgroup": "UNCAF Cup",
         "line": {
          "color": "#FF6692",
          "dash": "solid"
         },
         "marker": {
          "symbol": "circle"
         },
         "mode": "lines",
         "name": "UNCAF Cup",
         "showlegend": true,
         "type": "scattergl",
         "x": [
          1991,
          1993,
          1995,
          1997,
          1999,
          2001,
          2003,
          2005,
          2007,
          2009,
          2011,
          2013,
          2014,
          2017
         ],
         "xaxis": "x",
         "y": [
          9,
          8,
          12,
          14,
          12,
          15,
          15,
          13,
          14,
          14,
          14,
          14,
          2,
          8
         ],
         "yaxis": "y"
        },
        {
         "hovertemplate": "tournament=Confederations Cup<br>index=%{x}<br>date=%{y}<extra></extra>",
         "legendgroup": "Confederations Cup",
         "line": {
          "color": "#B6E880",
          "dash": "solid"
         },
         "marker": {
          "symbol": "circle"
         },
         "mode": "lines",
         "name": "Confederations Cup",
         "showlegend": true,
         "type": "scattergl",
         "x": [
          1992,
          1995,
          1997,
          1999,
          2001,
          2003,
          2005,
          2009,
          2013,
          2017
         ],
         "xaxis": "x",
         "y": [
          4,
          8,
          16,
          16,
          16,
          16,
          16,
          16,
          16,
          16
         ],
         "yaxis": "y"
        },
        {
         "hovertemplate": "tournament=Jordan International Tournament<br>index=%{x}<br>date=%{y}<extra></extra>",
         "legendgroup": "Jordan International Tournament",
         "line": {
          "color": "#FF97FF",
          "dash": "solid"
         },
         "marker": {
          "symbol": "circle"
         },
         "mode": "lines",
         "name": "Jordan International Tournament",
         "showlegend": true,
         "type": "scattergl",
         "x": [
          1992
         ],
         "xaxis": "x",
         "y": [
          13
         ],
         "yaxis": "y"
        },
        {
         "hovertemplate": "tournament=USA Cup<br>index=%{x}<br>date=%{y}<extra></extra>",
         "legendgroup": "USA Cup",
         "line": {
          "color": "#FECB52",
          "dash": "solid"
         },
         "marker": {
          "symbol": "circle"
         },
         "mode": "lines",
         "name": "USA Cup",
         "showlegend": true,
         "type": "scattergl",
         "x": [
          1992,
          1993,
          1995,
          1996,
          1997,
          1999,
          2000
         ],
         "xaxis": "x",
         "y": [
          6,
          6,
          6,
          6,
          3,
          4,
          6
         ],
         "yaxis": "y"
        },
        {
         "hovertemplate": "tournament=Oceania Nations Cup qualification<br>index=%{x}<br>date=%{y}<extra></extra>",
         "legendgroup": "Oceania Nations Cup qualification",
         "line": {
          "color": "#636efa",
          "dash": "solid"
         },
         "marker": {
          "symbol": "circle"
         },
         "mode": "lines",
         "name": "Oceania Nations Cup qualification",
         "showlegend": true,
         "type": "scattergl",
         "x": [
          1994,
          1998,
          2000,
          2002,
          2011,
          2015
         ],
         "xaxis": "x",
         "y": [
          16,
          20,
          12,
          10,
          6,
          6
         ],
         "yaxis": "y"
        },
        {
         "hovertemplate": "tournament=Simba Tournament<br>index=%{x}<br>date=%{y}<extra></extra>",
         "legendgroup": "Simba Tournament",
         "line": {
          "color": "#EF553B",
          "dash": "solid"
         },
         "marker": {
          "symbol": "circle"
         },
         "mode": "lines",
         "name": "Simba Tournament",
         "showlegend": true,
         "type": "scattergl",
         "x": [
          1994,
          1995,
          1996
         ],
         "xaxis": "x",
         "y": [
          5,
          6,
          6
         ],
         "yaxis": "y"
        },
        {
         "hovertemplate": "tournament=United Arab Emirates Friendship Tournament<br>index=%{x}<br>date=%{y}<extra></extra>",
         "legendgroup": "United Arab Emirates Friendship Tournament",
         "line": {
          "color": "#00cc96",
          "dash": "solid"
         },
         "marker": {
          "symbol": "circle"
         },
         "mode": "lines",
         "name": "United Arab Emirates Friendship Tournament",
         "showlegend": true,
         "type": "scattergl",
         "x": [
          1994,
          1996,
          1998,
          1999,
          2000,
          2001
         ],
         "xaxis": "x",
         "y": [
          6,
          6,
          6,
          6,
          4,
          3
         ],
         "yaxis": "y"
        },
        {
         "hovertemplate": "tournament=SAFF Cup<br>index=%{x}<br>date=%{y}<extra></extra>",
         "legendgroup": "SAFF Cup",
         "line": {
          "color": "#ab63fa",
          "dash": "solid"
         },
         "marker": {
          "symbol": "circle"
         },
         "mode": "lines",
         "name": "SAFF Cup",
         "showlegend": true,
         "type": "scattergl",
         "x": [
          1995,
          1997,
          1999,
          2003,
          2005,
          2008,
          2009,
          2011,
          2013,
          2015,
          2016,
          2018
         ],
         "xaxis": "x",
         "y": [
          7,
          10,
          10,
          16,
          15,
          15,
          10,
          15,
          14,
          11,
          1,
          12
         ],
         "yaxis": "y"
        },
        {
         "hovertemplate": "tournament=AFF Championship<br>index=%{x}<br>date=%{y}<extra></extra>",
         "legendgroup": "AFF Championship",
         "line": {
          "color": "#FFA15A",
          "dash": "solid"
         },
         "marker": {
          "symbol": "circle"
         },
         "mode": "lines",
         "name": "AFF Championship",
         "showlegend": true,
         "type": "scattergl",
         "x": [
          1996,
          1998,
          2000,
          2002,
          2004,
          2005,
          2006,
          2007,
          2008,
          2010,
          2012,
          2014,
          2016,
          2018
         ],
         "xaxis": "x",
         "y": [
          24,
          22,
          20,
          20,
          22,
          5,
          6,
          18,
          26,
          24,
          28,
          28,
          24,
          26
         ],
         "yaxis": "y"
        },
        {
         "hovertemplate": "tournament=King Hassan II Tournament<br>index=%{x}<br>date=%{y}<extra></extra>",
         "legendgroup": "King Hassan II Tournament",
         "line": {
          "color": "#19d3f3",
          "dash": "solid"
         },
         "marker": {
          "symbol": "circle"
         },
         "mode": "lines",
         "name": "King Hassan II Tournament",
         "showlegend": true,
         "type": "scattergl",
         "x": [
          1996,
          1998,
          2000
         ],
         "xaxis": "x",
         "y": [
          4,
          4,
          4
         ],
         "yaxis": "y"
        },
        {
         "hovertemplate": "tournament=COSAFA Cup<br>index=%{x}<br>date=%{y}<extra></extra>",
         "legendgroup": "COSAFA Cup",
         "line": {
          "color": "#FF6692",
          "dash": "solid"
         },
         "marker": {
          "symbol": "circle"
         },
         "mode": "lines",
         "name": "COSAFA Cup",
         "showlegend": true,
         "type": "scattergl",
         "x": [
          1997,
          1998,
          1999,
          2000,
          2001,
          2002,
          2003,
          2004,
          2005,
          2006,
          2007,
          2008,
          2009,
          2013,
          2015,
          2016,
          2017,
          2018,
          2019
         ],
         "xaxis": "x",
         "y": [
          12,
          14,
          12,
          12,
          11,
          12,
          10,
          11,
          12,
          15,
          15,
          16,
          14,
          17,
          23,
          23,
          23,
          20,
          20
         ],
         "yaxis": "y"
        },
        {
         "hovertemplate": "tournament=Cyprus International Tournament<br>index=%{x}<br>date=%{y}<extra></extra>",
         "legendgroup": "Cyprus International Tournament",
         "line": {
          "color": "#B6E880",
          "dash": "solid"
         },
         "marker": {
          "symbol": "circle"
         },
         "mode": "lines",
         "name": "Cyprus International Tournament",
         "showlegend": true,
         "type": "scattergl",
         "x": [
          1997,
          1998,
          1999,
          2000,
          2001,
          2002,
          2003,
          2004,
          2005,
          2006,
          2007,
          2009,
          2011
         ],
         "xaxis": "x",
         "y": [
          6,
          6,
          4,
          9,
          4,
          4,
          3,
          10,
          4,
          8,
          4,
          4,
          4
         ],
         "yaxis": "y"
        },
        {
         "hovertemplate": "tournament=Dunhill Cup<br>index=%{x}<br>date=%{y}<extra></extra>",
         "legendgroup": "Dunhill Cup",
         "line": {
          "color": "#FF97FF",
          "dash": "solid"
         },
         "marker": {
          "symbol": "circle"
         },
         "mode": "lines",
         "name": "Dunhill Cup",
         "showlegend": true,
         "type": "scattergl",
         "x": [
          1997
         ],
         "xaxis": "x",
         "y": [
          15
         ],
         "yaxis": "y"
        },
        {
         "hovertemplate": "tournament=Gold Cup qualification<br>index=%{x}<br>date=%{y}<extra></extra>",
         "legendgroup": "Gold Cup qualification",
         "line": {
          "color": "#FECB52",
          "dash": "solid"
         },
         "marker": {
          "symbol": "circle"
         },
         "mode": "lines",
         "name": "Gold Cup qualification",
         "showlegend": true,
         "type": "scattergl",
         "x": [
          1997,
          1999,
          2001,
          2002,
          2003,
          2015
         ],
         "xaxis": "x",
         "y": [
          1,
          6,
          2,
          30,
          15,
          2
         ],
         "yaxis": "y"
        },
        {
         "hovertemplate": "tournament=SKN Football Festival<br>index=%{x}<br>date=%{y}<extra></extra>",
         "legendgroup": "SKN Football Festival",
         "line": {
          "color": "#636efa",
          "dash": "solid"
         },
         "marker": {
          "symbol": "circle"
         },
         "mode": "lines",
         "name": "SKN Football Festival",
         "showlegend": true,
         "type": "scattergl",
         "x": [
          1998,
          2001,
          2002,
          2003
         ],
         "xaxis": "x",
         "y": [
          1,
          3,
          4,
          3
         ],
         "yaxis": "y"
        },
        {
         "hovertemplate": "tournament=UNIFFAC Cup<br>index=%{x}<br>date=%{y}<extra></extra>",
         "legendgroup": "UNIFFAC Cup",
         "line": {
          "color": "#EF553B",
          "dash": "solid"
         },
         "marker": {
          "symbol": "circle"
         },
         "mode": "lines",
         "name": "UNIFFAC Cup",
         "showlegend": true,
         "type": "scattergl",
         "x": [
          1999
         ],
         "xaxis": "x",
         "y": [
          15
         ],
         "yaxis": "y"
        },
        {
         "hovertemplate": "tournament=WAFF Championship<br>index=%{x}<br>date=%{y}<extra></extra>",
         "legendgroup": "WAFF Championship",
         "line": {
          "color": "#00cc96",
          "dash": "solid"
         },
         "marker": {
          "symbol": "circle"
         },
         "mode": "lines",
         "name": "WAFF Championship",
         "showlegend": true,
         "type": "scattergl",
         "x": [
          2000,
          2002,
          2004,
          2007,
          2008,
          2010,
          2012,
          2013,
          2014
         ],
         "xaxis": "x",
         "y": [
          16,
          10,
          10,
          9,
          8,
          12,
          19,
          8,
          5
         ],
         "yaxis": "y"
        },
        {
         "hovertemplate": "tournament=Millennium Cup<br>index=%{x}<br>date=%{y}<extra></extra>",
         "legendgroup": "Millennium Cup",
         "line": {
          "color": "#ab63fa",
          "dash": "solid"
         },
         "marker": {
          "symbol": "circle"
         },
         "mode": "lines",
         "name": "Millennium Cup",
         "showlegend": true,
         "type": "scattergl",
         "x": [
          2001
         ],
         "xaxis": "x",
         "y": [
          15
         ],
         "yaxis": "y"
        },
        {
         "hovertemplate": "tournament=Prime Minister's Cup<br>index=%{x}<br>date=%{y}<extra></extra>",
         "legendgroup": "Prime Minister's Cup",
         "line": {
          "color": "#FFA15A",
          "dash": "solid"
         },
         "marker": {
          "symbol": "circle"
         },
         "mode": "lines",
         "name": "Prime Minister's Cup",
         "showlegend": true,
         "type": "scattergl",
         "x": [
          2002,
          2003,
          2004
         ],
         "xaxis": "x",
         "y": [
          12,
          6,
          4
         ],
         "yaxis": "y"
        },
        {
         "hovertemplate": "tournament=EAFF Championship<br>index=%{x}<br>date=%{y}<extra></extra>",
         "legendgroup": "EAFF Championship",
         "line": {
          "color": "#19d3f3",
          "dash": "solid"
         },
         "marker": {
          "symbol": "circle"
         },
         "mode": "lines",
         "name": "EAFF Championship",
         "showlegend": true,
         "type": "scattergl",
         "x": [
          2003,
          2005,
          2007,
          2008,
          2009,
          2010,
          2012,
          2013,
          2014,
          2015,
          2016,
          2017,
          2018,
          2019
         ],
         "xaxis": "x",
         "y": [
          14,
          12,
          10,
          6,
          9,
          6,
          11,
          6,
          9,
          6,
          9,
          6,
          12,
          6
         ],
         "yaxis": "y"
        },
        {
         "hovertemplate": "tournament=AFC Challenge Cup<br>index=%{x}<br>date=%{y}<extra></extra>",
         "legendgroup": "AFC Challenge Cup",
         "line": {
          "color": "#FF6692",
          "dash": "solid"
         },
         "marker": {
          "symbol": "circle"
         },
         "mode": "lines",
         "name": "AFC Challenge Cup",
         "showlegend": true,
         "type": "scattergl",
         "x": [
          2006,
          2008,
          2010,
          2012,
          2014,
          2016
         ],
         "xaxis": "x",
         "y": [
          26,
          16,
          13,
          16,
          16,
          13
         ],
         "yaxis": "y"
        },
        {
         "hovertemplate": "tournament=ELF Cup<br>index=%{x}<br>date=%{y}<extra></extra>",
         "legendgroup": "ELF Cup",
         "line": {
          "color": "#B6E880",
          "dash": "solid"
         },
         "marker": {
          "symbol": "circle"
         },
         "mode": "lines",
         "name": "ELF Cup",
         "showlegend": true,
         "type": "scattergl",
         "x": [
          2006
         ],
         "xaxis": "x",
         "y": [
          16
         ],
         "yaxis": "y"
        },
        {
         "hovertemplate": "tournament=FIFI Wild Cup<br>index=%{x}<br>date=%{y}<extra></extra>",
         "legendgroup": "FIFI Wild Cup",
         "line": {
          "color": "#FF97FF",
          "dash": "solid"
         },
         "marker": {
          "symbol": "circle"
         },
         "mode": "lines",
         "name": "FIFI Wild Cup",
         "showlegend": true,
         "type": "scattergl",
         "x": [
          2006
         ],
         "xaxis": "x",
         "y": [
          10
         ],
         "yaxis": "y"
        },
        {
         "hovertemplate": "tournament=UAFA Cup qualification<br>index=%{x}<br>date=%{y}<extra></extra>",
         "legendgroup": "UAFA Cup qualification",
         "line": {
          "color": "#FECB52",
          "dash": "solid"
         },
         "marker": {
          "symbol": "circle"
         },
         "mode": "lines",
         "name": "UAFA Cup qualification",
         "showlegend": true,
         "type": "scattergl",
         "x": [
          2006
         ],
         "xaxis": "x",
         "y": [
          9
         ],
         "yaxis": "y"
        },
        {
         "hovertemplate": "tournament=Viva World Cup<br>index=%{x}<br>date=%{y}<extra></extra>",
         "legendgroup": "Viva World Cup",
         "line": {
          "color": "#636efa",
          "dash": "solid"
         },
         "marker": {
          "symbol": "circle"
         },
         "mode": "lines",
         "name": "Viva World Cup",
         "showlegend": true,
         "type": "scattergl",
         "x": [
          2006,
          2008,
          2009,
          2010,
          2012
         ],
         "xaxis": "x",
         "y": [
          4,
          12,
          11,
          11,
          18
         ],
         "yaxis": "y"
        },
        {
         "hovertemplate": "tournament=AFC Challenge Cup qualification<br>index=%{x}<br>date=%{y}<extra></extra>",
         "legendgroup": "AFC Challenge Cup qualification",
         "line": {
          "color": "#EF553B",
          "dash": "solid"
         },
         "marker": {
          "symbol": "circle"
         },
         "mode": "lines",
         "name": "AFC Challenge Cup qualification",
         "showlegend": true,
         "type": "scattergl",
         "x": [
          2008,
          2009,
          2011,
          2013
         ],
         "xaxis": "x",
         "y": [
          17,
          21,
          29,
          25
         ],
         "yaxis": "y"
        },
        {
         "hovertemplate": "tournament=African Nations Championship<br>index=%{x}<br>date=%{y}<extra></extra>",
         "legendgroup": "African Nations Championship",
         "line": {
          "color": "#00cc96",
          "dash": "solid"
         },
         "marker": {
          "symbol": "circle"
         },
         "mode": "lines",
         "name": "African Nations Championship",
         "showlegend": true,
         "type": "scattergl",
         "x": [
          2008,
          2010,
          2012,
          2013,
          2014,
          2015,
          2016,
          2017,
          2018
         ],
         "xaxis": "x",
         "y": [
          12,
          14,
          27,
          27,
          32,
          40,
          32,
          48,
          32
         ],
         "yaxis": "y"
        },
        {
         "hovertemplate": "tournament=VFF Cup<br>index=%{x}<br>date=%{y}<extra></extra>",
         "legendgroup": "VFF Cup",
         "line": {
          "color": "#ab63fa",
          "dash": "solid"
         },
         "marker": {
          "symbol": "circle"
         },
         "mode": "lines",
         "name": "VFF Cup",
         "showlegend": true,
         "type": "scattergl",
         "x": [
          2008,
          2010,
          2012
         ],
         "xaxis": "x",
         "y": [
          3,
          3,
          3
         ],
         "yaxis": "y"
        },
        {
         "hovertemplate": "tournament=ABCS Tournament<br>index=%{x}<br>date=%{y}<extra></extra>",
         "legendgroup": "ABCS Tournament",
         "line": {
          "color": "#FFA15A",
          "dash": "solid"
         },
         "marker": {
          "symbol": "circle"
         },
         "mode": "lines",
         "name": "ABCS Tournament",
         "showlegend": true,
         "type": "scattergl",
         "x": [
          2010,
          2011,
          2012,
          2013,
          2015
         ],
         "xaxis": "x",
         "y": [
          4,
          4,
          4,
          4,
          4
         ],
         "yaxis": "y"
        },
        {
         "hovertemplate": "tournament=Dragon Cup<br>index=%{x}<br>date=%{y}<extra></extra>",
         "legendgroup": "Dragon Cup",
         "line": {
          "color": "#19d3f3",
          "dash": "solid"
         },
         "marker": {
          "symbol": "circle"
         },
         "mode": "lines",
         "name": "Dragon Cup",
         "showlegend": true,
         "type": "scattergl",
         "x": [
          2010,
          2011
         ],
         "xaxis": "x",
         "y": [
          1,
          3
         ],
         "yaxis": "y"
        },
        {
         "hovertemplate": "tournament=Nations Cup<br>index=%{x}<br>date=%{y}<extra></extra>",
         "legendgroup": "Nations Cup",
         "line": {
          "color": "#FF6692",
          "dash": "solid"
         },
         "marker": {
          "symbol": "circle"
         },
         "mode": "lines",
         "name": "Nations Cup",
         "showlegend": true,
         "type": "scattergl",
         "x": [
          2011
         ],
         "xaxis": "x",
         "y": [
          6
         ],
         "yaxis": "y"
        },
        {
         "hovertemplate": "tournament=Nile Basin Tournament<br>index=%{x}<br>date=%{y}<extra></extra>",
         "legendgroup": "Nile Basin Tournament",
         "line": {
          "color": "#B6E880",
          "dash": "solid"
         },
         "marker": {
          "symbol": "circle"
         },
         "mode": "lines",
         "name": "Nile Basin Tournament",
         "showlegend": true,
         "type": "scattergl",
         "x": [
          2011
         ],
         "xaxis": "x",
         "y": [
          14
         ],
         "yaxis": "y"
        },
        {
         "hovertemplate": "tournament=Pacific Games<br>index=%{x}<br>date=%{y}<extra></extra>",
         "legendgroup": "Pacific Games",
         "line": {
          "color": "#FF97FF",
          "dash": "solid"
         },
         "marker": {
          "symbol": "circle"
         },
         "mode": "lines",
         "name": "Pacific Games",
         "showlegend": true,
         "type": "scattergl",
         "x": [
          2011,
          2019
         ],
         "xaxis": "x",
         "y": [
          29,
          22
         ],
         "yaxis": "y"
        },
        {
         "hovertemplate": "tournament=OSN Cup<br>index=%{x}<br>date=%{y}<extra></extra>",
         "legendgroup": "OSN Cup",
         "line": {
          "color": "#FECB52",
          "dash": "solid"
         },
         "marker": {
          "symbol": "circle"
         },
         "mode": "lines",
         "name": "OSN Cup",
         "showlegend": true,
         "type": "scattergl",
         "x": [
          2013
         ],
         "xaxis": "x",
         "y": [
          4
         ],
         "yaxis": "y"
        },
        {
         "hovertemplate": "tournament=CONIFA World Football Cup<br>index=%{x}<br>date=%{y}<extra></extra>",
         "legendgroup": "CONIFA World Football Cup",
         "line": {
          "color": "#636efa",
          "dash": "solid"
         },
         "marker": {
          "symbol": "circle"
         },
         "mode": "lines",
         "name": "CONIFA World Football Cup",
         "showlegend": true,
         "type": "scattergl",
         "x": [
          2014,
          2016,
          2018
         ],
         "xaxis": "x",
         "y": [
          28,
          28,
          45
         ],
         "yaxis": "y"
        },
        {
         "hovertemplate": "tournament=CONIFA European Football Cup<br>index=%{x}<br>date=%{y}<extra></extra>",
         "legendgroup": "CONIFA European Football Cup",
         "line": {
          "color": "#EF553B",
          "dash": "solid"
         },
         "marker": {
          "symbol": "circle"
         },
         "mode": "lines",
         "name": "CONIFA European Football Cup",
         "showlegend": true,
         "type": "scattergl",
         "x": [
          2015,
          2017,
          2019
         ],
         "xaxis": "x",
         "y": [
          11,
          18,
          20
         ],
         "yaxis": "y"
        },
        {
         "hovertemplate": "tournament=Copa América qualification<br>index=%{x}<br>date=%{y}<extra></extra>",
         "legendgroup": "Copa América qualification",
         "line": {
          "color": "#00cc96",
          "dash": "solid"
         },
         "marker": {
          "symbol": "circle"
         },
         "mode": "lines",
         "name": "Copa América qualification",
         "showlegend": true,
         "type": "scattergl",
         "x": [
          2016
         ],
         "xaxis": "x",
         "y": [
          2
         ],
         "yaxis": "y"
        },
        {
         "hovertemplate": "tournament=World Unity Cup<br>index=%{x}<br>date=%{y}<extra></extra>",
         "legendgroup": "World Unity Cup",
         "line": {
          "color": "#ab63fa",
          "dash": "solid"
         },
         "marker": {
          "symbol": "circle"
         },
         "mode": "lines",
         "name": "World Unity Cup",
         "showlegend": true,
         "type": "scattergl",
         "x": [
          2016
         ],
         "xaxis": "x",
         "y": [
          4
         ],
         "yaxis": "y"
        },
        {
         "hovertemplate": "tournament=AFF Championship qualification<br>index=%{x}<br>date=%{y}<extra></extra>",
         "legendgroup": "AFF Championship qualification",
         "line": {
          "color": "#FFA15A",
          "dash": "solid"
         },
         "marker": {
          "symbol": "circle"
         },
         "mode": "lines",
         "name": "AFF Championship qualification",
         "showlegend": true,
         "type": "scattergl",
         "x": [
          2018
         ],
         "xaxis": "x",
         "y": [
          2
         ],
         "yaxis": "y"
        },
        {
         "hovertemplate": "tournament=CONCACAF Nations League qualification<br>index=%{x}<br>date=%{y}<extra></extra>",
         "legendgroup": "CONCACAF Nations League qualification",
         "line": {
          "color": "#19d3f3",
          "dash": "solid"
         },
         "marker": {
          "symbol": "circle"
         },
         "mode": "lines",
         "name": "CONCACAF Nations League qualification",
         "showlegend": true,
         "type": "scattergl",
         "x": [
          2018,
          2019
         ],
         "xaxis": "x",
         "y": [
          50,
          18
         ],
         "yaxis": "y"
        },
        {
         "hovertemplate": "tournament=Intercontinental Cup<br>index=%{x}<br>date=%{y}<extra></extra>",
         "legendgroup": "Intercontinental Cup",
         "line": {
          "color": "#FF6692",
          "dash": "solid"
         },
         "marker": {
          "symbol": "circle"
         },
         "mode": "lines",
         "name": "Intercontinental Cup",
         "showlegend": true,
         "type": "scattergl",
         "x": [
          2018,
          2019
         ],
         "xaxis": "x",
         "y": [
          7,
          7
         ],
         "yaxis": "y"
        },
        {
         "hovertemplate": "tournament=UEFA Nations League<br>index=%{x}<br>date=%{y}<extra></extra>",
         "legendgroup": "UEFA Nations League",
         "line": {
          "color": "#B6E880",
          "dash": "solid"
         },
         "marker": {
          "symbol": "circle"
         },
         "mode": "lines",
         "name": "UEFA Nations League",
         "showlegend": true,
         "type": "scattergl",
         "x": [
          2018,
          2019
         ],
         "xaxis": "x",
         "y": [
          138,
          4
         ],
         "yaxis": "y"
        },
        {
         "hovertemplate": "tournament=African Nations Championship qualification<br>index=%{x}<br>date=%{y}<extra></extra>",
         "legendgroup": "African Nations Championship qualification",
         "line": {
          "color": "#FF97FF",
          "dash": "solid"
         },
         "marker": {
          "symbol": "circle"
         },
         "mode": "lines",
         "name": "African Nations Championship qualification",
         "showlegend": true,
         "type": "scattergl",
         "x": [
          2019
         ],
         "xaxis": "x",
         "y": [
          64
         ],
         "yaxis": "y"
        },
        {
         "hovertemplate": "tournament=Atlantic Heritage Cup<br>index=%{x}<br>date=%{y}<extra></extra>",
         "legendgroup": "Atlantic Heritage Cup",
         "line": {
          "color": "#FECB52",
          "dash": "solid"
         },
         "marker": {
          "symbol": "circle"
         },
         "mode": "lines",
         "name": "Atlantic Heritage Cup",
         "showlegend": true,
         "type": "scattergl",
         "x": [
          2019
         ],
         "xaxis": "x",
         "y": [
          2
         ],
         "yaxis": "y"
        },
        {
         "hovertemplate": "tournament=CONCACAF Nations League<br>index=%{x}<br>date=%{y}<extra></extra>",
         "legendgroup": "CONCACAF Nations League",
         "line": {
          "color": "#636efa",
          "dash": "solid"
         },
         "marker": {
          "symbol": "circle"
         },
         "mode": "lines",
         "name": "CONCACAF Nations League",
         "showlegend": true,
         "type": "scattergl",
         "x": [
          2019
         ],
         "xaxis": "x",
         "y": [
          102
         ],
         "yaxis": "y"
        },
        {
         "hovertemplate": "tournament=Inter Games Football Tournament<br>index=%{x}<br>date=%{y}<extra></extra>",
         "legendgroup": "Inter Games Football Tournament",
         "line": {
          "color": "#EF553B",
          "dash": "solid"
         },
         "marker": {
          "symbol": "circle"
         },
         "mode": "lines",
         "name": "Inter Games Football Tournament",
         "showlegend": true,
         "type": "scattergl",
         "x": [
          2019
         ],
         "xaxis": "x",
         "y": [
          19
         ],
         "yaxis": "y"
        }
       ],
       "layout": {
        "legend": {
         "title": {
          "text": "tournament"
         },
         "tracegroupgap": 0
        },
        "margin": {
         "t": 60
        },
        "template": {
         "data": {
          "bar": [
           {
            "error_x": {
             "color": "#2a3f5f"
            },
            "error_y": {
             "color": "#2a3f5f"
            },
            "marker": {
             "line": {
              "color": "#E5ECF6",
              "width": 0.5
             },
             "pattern": {
              "fillmode": "overlay",
              "size": 10,
              "solidity": 0.2
             }
            },
            "type": "bar"
           }
          ],
          "barpolar": [
           {
            "marker": {
             "line": {
              "color": "#E5ECF6",
              "width": 0.5
             },
             "pattern": {
              "fillmode": "overlay",
              "size": 10,
              "solidity": 0.2
             }
            },
            "type": "barpolar"
           }
          ],
          "carpet": [
           {
            "aaxis": {
             "endlinecolor": "#2a3f5f",
             "gridcolor": "white",
             "linecolor": "white",
             "minorgridcolor": "white",
             "startlinecolor": "#2a3f5f"
            },
            "baxis": {
             "endlinecolor": "#2a3f5f",
             "gridcolor": "white",
             "linecolor": "white",
             "minorgridcolor": "white",
             "startlinecolor": "#2a3f5f"
            },
            "type": "carpet"
           }
          ],
          "choropleth": [
           {
            "colorbar": {
             "outlinewidth": 0,
             "ticks": ""
            },
            "type": "choropleth"
           }
          ],
          "contour": [
           {
            "colorbar": {
             "outlinewidth": 0,
             "ticks": ""
            },
            "colorscale": [
             [
              0,
              "#0d0887"
             ],
             [
              0.1111111111111111,
              "#46039f"
             ],
             [
              0.2222222222222222,
              "#7201a8"
             ],
             [
              0.3333333333333333,
              "#9c179e"
             ],
             [
              0.4444444444444444,
              "#bd3786"
             ],
             [
              0.5555555555555556,
              "#d8576b"
             ],
             [
              0.6666666666666666,
              "#ed7953"
             ],
             [
              0.7777777777777778,
              "#fb9f3a"
             ],
             [
              0.8888888888888888,
              "#fdca26"
             ],
             [
              1,
              "#f0f921"
             ]
            ],
            "type": "contour"
           }
          ],
          "contourcarpet": [
           {
            "colorbar": {
             "outlinewidth": 0,
             "ticks": ""
            },
            "type": "contourcarpet"
           }
          ],
          "heatmap": [
           {
            "colorbar": {
             "outlinewidth": 0,
             "ticks": ""
            },
            "colorscale": [
             [
              0,
              "#0d0887"
             ],
             [
              0.1111111111111111,
              "#46039f"
             ],
             [
              0.2222222222222222,
              "#7201a8"
             ],
             [
              0.3333333333333333,
              "#9c179e"
             ],
             [
              0.4444444444444444,
              "#bd3786"
             ],
             [
              0.5555555555555556,
              "#d8576b"
             ],
             [
              0.6666666666666666,
              "#ed7953"
             ],
             [
              0.7777777777777778,
              "#fb9f3a"
             ],
             [
              0.8888888888888888,
              "#fdca26"
             ],
             [
              1,
              "#f0f921"
             ]
            ],
            "type": "heatmap"
           }
          ],
          "heatmapgl": [
           {
            "colorbar": {
             "outlinewidth": 0,
             "ticks": ""
            },
            "colorscale": [
             [
              0,
              "#0d0887"
             ],
             [
              0.1111111111111111,
              "#46039f"
             ],
             [
              0.2222222222222222,
              "#7201a8"
             ],
             [
              0.3333333333333333,
              "#9c179e"
             ],
             [
              0.4444444444444444,
              "#bd3786"
             ],
             [
              0.5555555555555556,
              "#d8576b"
             ],
             [
              0.6666666666666666,
              "#ed7953"
             ],
             [
              0.7777777777777778,
              "#fb9f3a"
             ],
             [
              0.8888888888888888,
              "#fdca26"
             ],
             [
              1,
              "#f0f921"
             ]
            ],
            "type": "heatmapgl"
           }
          ],
          "histogram": [
           {
            "marker": {
             "pattern": {
              "fillmode": "overlay",
              "size": 10,
              "solidity": 0.2
             }
            },
            "type": "histogram"
           }
          ],
          "histogram2d": [
           {
            "colorbar": {
             "outlinewidth": 0,
             "ticks": ""
            },
            "colorscale": [
             [
              0,
              "#0d0887"
             ],
             [
              0.1111111111111111,
              "#46039f"
             ],
             [
              0.2222222222222222,
              "#7201a8"
             ],
             [
              0.3333333333333333,
              "#9c179e"
             ],
             [
              0.4444444444444444,
              "#bd3786"
             ],
             [
              0.5555555555555556,
              "#d8576b"
             ],
             [
              0.6666666666666666,
              "#ed7953"
             ],
             [
              0.7777777777777778,
              "#fb9f3a"
             ],
             [
              0.8888888888888888,
              "#fdca26"
             ],
             [
              1,
              "#f0f921"
             ]
            ],
            "type": "histogram2d"
           }
          ],
          "histogram2dcontour": [
           {
            "colorbar": {
             "outlinewidth": 0,
             "ticks": ""
            },
            "colorscale": [
             [
              0,
              "#0d0887"
             ],
             [
              0.1111111111111111,
              "#46039f"
             ],
             [
              0.2222222222222222,
              "#7201a8"
             ],
             [
              0.3333333333333333,
              "#9c179e"
             ],
             [
              0.4444444444444444,
              "#bd3786"
             ],
             [
              0.5555555555555556,
              "#d8576b"
             ],
             [
              0.6666666666666666,
              "#ed7953"
             ],
             [
              0.7777777777777778,
              "#fb9f3a"
             ],
             [
              0.8888888888888888,
              "#fdca26"
             ],
             [
              1,
              "#f0f921"
             ]
            ],
            "type": "histogram2dcontour"
           }
          ],
          "mesh3d": [
           {
            "colorbar": {
             "outlinewidth": 0,
             "ticks": ""
            },
            "type": "mesh3d"
           }
          ],
          "parcoords": [
           {
            "line": {
             "colorbar": {
              "outlinewidth": 0,
              "ticks": ""
             }
            },
            "type": "parcoords"
           }
          ],
          "pie": [
           {
            "automargin": true,
            "type": "pie"
           }
          ],
          "scatter": [
           {
            "fillpattern": {
             "fillmode": "overlay",
             "size": 10,
             "solidity": 0.2
            },
            "type": "scatter"
           }
          ],
          "scatter3d": [
           {
            "line": {
             "colorbar": {
              "outlinewidth": 0,
              "ticks": ""
             }
            },
            "marker": {
             "colorbar": {
              "outlinewidth": 0,
              "ticks": ""
             }
            },
            "type": "scatter3d"
           }
          ],
          "scattercarpet": [
           {
            "marker": {
             "colorbar": {
              "outlinewidth": 0,
              "ticks": ""
             }
            },
            "type": "scattercarpet"
           }
          ],
          "scattergeo": [
           {
            "marker": {
             "colorbar": {
              "outlinewidth": 0,
              "ticks": ""
             }
            },
            "type": "scattergeo"
           }
          ],
          "scattergl": [
           {
            "marker": {
             "colorbar": {
              "outlinewidth": 0,
              "ticks": ""
             }
            },
            "type": "scattergl"
           }
          ],
          "scattermapbox": [
           {
            "marker": {
             "colorbar": {
              "outlinewidth": 0,
              "ticks": ""
             }
            },
            "type": "scattermapbox"
           }
          ],
          "scatterpolar": [
           {
            "marker": {
             "colorbar": {
              "outlinewidth": 0,
              "ticks": ""
             }
            },
            "type": "scatterpolar"
           }
          ],
          "scatterpolargl": [
           {
            "marker": {
             "colorbar": {
              "outlinewidth": 0,
              "ticks": ""
             }
            },
            "type": "scatterpolargl"
           }
          ],
          "scatterternary": [
           {
            "marker": {
             "colorbar": {
              "outlinewidth": 0,
              "ticks": ""
             }
            },
            "type": "scatterternary"
           }
          ],
          "surface": [
           {
            "colorbar": {
             "outlinewidth": 0,
             "ticks": ""
            },
            "colorscale": [
             [
              0,
              "#0d0887"
             ],
             [
              0.1111111111111111,
              "#46039f"
             ],
             [
              0.2222222222222222,
              "#7201a8"
             ],
             [
              0.3333333333333333,
              "#9c179e"
             ],
             [
              0.4444444444444444,
              "#bd3786"
             ],
             [
              0.5555555555555556,
              "#d8576b"
             ],
             [
              0.6666666666666666,
              "#ed7953"
             ],
             [
              0.7777777777777778,
              "#fb9f3a"
             ],
             [
              0.8888888888888888,
              "#fdca26"
             ],
             [
              1,
              "#f0f921"
             ]
            ],
            "type": "surface"
           }
          ],
          "table": [
           {
            "cells": {
             "fill": {
              "color": "#EBF0F8"
             },
             "line": {
              "color": "white"
             }
            },
            "header": {
             "fill": {
              "color": "#C8D4E3"
             },
             "line": {
              "color": "white"
             }
            },
            "type": "table"
           }
          ]
         },
         "layout": {
          "annotationdefaults": {
           "arrowcolor": "#2a3f5f",
           "arrowhead": 0,
           "arrowwidth": 1
          },
          "autotypenumbers": "strict",
          "coloraxis": {
           "colorbar": {
            "outlinewidth": 0,
            "ticks": ""
           }
          },
          "colorscale": {
           "diverging": [
            [
             0,
             "#8e0152"
            ],
            [
             0.1,
             "#c51b7d"
            ],
            [
             0.2,
             "#de77ae"
            ],
            [
             0.3,
             "#f1b6da"
            ],
            [
             0.4,
             "#fde0ef"
            ],
            [
             0.5,
             "#f7f7f7"
            ],
            [
             0.6,
             "#e6f5d0"
            ],
            [
             0.7,
             "#b8e186"
            ],
            [
             0.8,
             "#7fbc41"
            ],
            [
             0.9,
             "#4d9221"
            ],
            [
             1,
             "#276419"
            ]
           ],
           "sequential": [
            [
             0,
             "#0d0887"
            ],
            [
             0.1111111111111111,
             "#46039f"
            ],
            [
             0.2222222222222222,
             "#7201a8"
            ],
            [
             0.3333333333333333,
             "#9c179e"
            ],
            [
             0.4444444444444444,
             "#bd3786"
            ],
            [
             0.5555555555555556,
             "#d8576b"
            ],
            [
             0.6666666666666666,
             "#ed7953"
            ],
            [
             0.7777777777777778,
             "#fb9f3a"
            ],
            [
             0.8888888888888888,
             "#fdca26"
            ],
            [
             1,
             "#f0f921"
            ]
           ],
           "sequentialminus": [
            [
             0,
             "#0d0887"
            ],
            [
             0.1111111111111111,
             "#46039f"
            ],
            [
             0.2222222222222222,
             "#7201a8"
            ],
            [
             0.3333333333333333,
             "#9c179e"
            ],
            [
             0.4444444444444444,
             "#bd3786"
            ],
            [
             0.5555555555555556,
             "#d8576b"
            ],
            [
             0.6666666666666666,
             "#ed7953"
            ],
            [
             0.7777777777777778,
             "#fb9f3a"
            ],
            [
             0.8888888888888888,
             "#fdca26"
            ],
            [
             1,
             "#f0f921"
            ]
           ]
          },
          "colorway": [
           "#636efa",
           "#EF553B",
           "#00cc96",
           "#ab63fa",
           "#FFA15A",
           "#19d3f3",
           "#FF6692",
           "#B6E880",
           "#FF97FF",
           "#FECB52"
          ],
          "font": {
           "color": "#2a3f5f"
          },
          "geo": {
           "bgcolor": "white",
           "lakecolor": "white",
           "landcolor": "#E5ECF6",
           "showlakes": true,
           "showland": true,
           "subunitcolor": "white"
          },
          "hoverlabel": {
           "align": "left"
          },
          "hovermode": "closest",
          "mapbox": {
           "style": "light"
          },
          "paper_bgcolor": "white",
          "plot_bgcolor": "#E5ECF6",
          "polar": {
           "angularaxis": {
            "gridcolor": "white",
            "linecolor": "white",
            "ticks": ""
           },
           "bgcolor": "#E5ECF6",
           "radialaxis": {
            "gridcolor": "white",
            "linecolor": "white",
            "ticks": ""
           }
          },
          "scene": {
           "xaxis": {
            "backgroundcolor": "#E5ECF6",
            "gridcolor": "white",
            "gridwidth": 2,
            "linecolor": "white",
            "showbackground": true,
            "ticks": "",
            "zerolinecolor": "white"
           },
           "yaxis": {
            "backgroundcolor": "#E5ECF6",
            "gridcolor": "white",
            "gridwidth": 2,
            "linecolor": "white",
            "showbackground": true,
            "ticks": "",
            "zerolinecolor": "white"
           },
           "zaxis": {
            "backgroundcolor": "#E5ECF6",
            "gridcolor": "white",
            "gridwidth": 2,
            "linecolor": "white",
            "showbackground": true,
            "ticks": "",
            "zerolinecolor": "white"
           }
          },
          "shapedefaults": {
           "line": {
            "color": "#2a3f5f"
           }
          },
          "ternary": {
           "aaxis": {
            "gridcolor": "white",
            "linecolor": "white",
            "ticks": ""
           },
           "baxis": {
            "gridcolor": "white",
            "linecolor": "white",
            "ticks": ""
           },
           "bgcolor": "#E5ECF6",
           "caxis": {
            "gridcolor": "white",
            "linecolor": "white",
            "ticks": ""
           }
          },
          "title": {
           "x": 0.05
          },
          "xaxis": {
           "automargin": true,
           "gridcolor": "white",
           "linecolor": "white",
           "ticks": "",
           "title": {
            "standoff": 15
           },
           "zerolinecolor": "white",
           "zerolinewidth": 2
          },
          "yaxis": {
           "automargin": true,
           "gridcolor": "white",
           "linecolor": "white",
           "ticks": "",
           "title": {
            "standoff": 15
           },
           "zerolinecolor": "white",
           "zerolinewidth": 2
          }
         }
        },
        "xaxis": {
         "anchor": "y",
         "domain": [
          0,
          1
         ],
         "title": {
          "text": "index"
         }
        },
        "yaxis": {
         "anchor": "x",
         "domain": [
          0,
          1
         ],
         "title": {
          "text": "date"
         }
        }
       }
      }
     },
     "metadata": {},
     "output_type": "display_data"
    }
   ],
   "source": [
    "fig = px.line(tournament_year, x=tournament_year.index, y=\"date\", color='tournament')\n",
    "fig.show()"
   ]
  },
  {
   "cell_type": "code",
   "execution_count": null,
   "metadata": {},
   "outputs": [],
   "source": []
  },
  {
   "cell_type": "markdown",
   "metadata": {},
   "source": [
    "## Task \n",
    "Show the trend in number of matches per year."
   ]
  },
  {
   "cell_type": "code",
   "execution_count": 138,
   "metadata": {},
   "outputs": [
    {
     "data": {
      "application/vnd.plotly.v1+json": {
       "config": {
        "plotlyServerURL": "https://plot.ly"
       },
       "data": [
        {
         "hovertemplate": "index=%{x}<br>city=%{y}<extra></extra>",
         "legendgroup": "",
         "line": {
          "color": "#636efa",
          "dash": "solid"
         },
         "marker": {
          "symbol": "circle"
         },
         "mode": "lines",
         "name": "",
         "orientation": "v",
         "showlegend": false,
         "type": "scatter",
         "x": [
          1872,
          1873,
          1874,
          1875,
          1876,
          1877,
          1878,
          1879,
          1880,
          1881,
          1882,
          1883,
          1884,
          1885,
          1886,
          1887,
          1888,
          1889,
          1890,
          1891,
          1892,
          1893,
          1894,
          1895,
          1896,
          1897,
          1898,
          1899,
          1900,
          1901,
          1902,
          1903,
          1904,
          1905,
          1906,
          1907,
          1908,
          1909,
          1910,
          1911,
          1912,
          1913,
          1914,
          1915,
          1916,
          1917,
          1918,
          1919,
          1920,
          1921,
          1922,
          1923,
          1924,
          1925,
          1926,
          1927,
          1928,
          1929,
          1930,
          1931,
          1932,
          1933,
          1934,
          1935,
          1936,
          1937,
          1938,
          1939,
          1940,
          1941,
          1942,
          1943,
          1944,
          1945,
          1946,
          1947,
          1948,
          1949,
          1950,
          1951,
          1952,
          1953,
          1954,
          1955,
          1956,
          1957,
          1958,
          1959,
          1960,
          1961,
          1962,
          1963,
          1964,
          1965,
          1966,
          1967,
          1968,
          1969,
          1970,
          1971,
          1972,
          1973,
          1974,
          1975,
          1976,
          1977,
          1978,
          1979,
          1980,
          1981,
          1982,
          1983,
          1984,
          1985,
          1986,
          1987,
          1988,
          1989,
          1990,
          1991,
          1992,
          1993,
          1994,
          1995,
          1996,
          1997,
          1998,
          1999,
          2000,
          2001,
          2002,
          2003,
          2004,
          2005,
          2006,
          2007,
          2008,
          2009,
          2010,
          2011,
          2012,
          2013,
          2014,
          2015,
          2016,
          2017,
          2018,
          2019,
          2020
         ],
         "xaxis": "x",
         "y": [
          1,
          1,
          1,
          1,
          2,
          2,
          2,
          3,
          3,
          3,
          5,
          5,
          6,
          7,
          7,
          6,
          7,
          6,
          6,
          6,
          6,
          5,
          6,
          6,
          6,
          6,
          6,
          6,
          6,
          6,
          8,
          9,
          8,
          12,
          14,
          13,
          26,
          19,
          26,
          33,
          35,
          35,
          31,
          16,
          29,
          24,
          17,
          33,
          35,
          54,
          67,
          90,
          83,
          80,
          85,
          79,
          74,
          82,
          98,
          97,
          90,
          93,
          106,
          102,
          83,
          119,
          133,
          85,
          56,
          52,
          56,
          35,
          30,
          64,
          92,
          139,
          124,
          150,
          133,
          97,
          116,
          175,
          149,
          150,
          193,
          221,
          165,
          181,
          211,
          208,
          228,
          266,
          186,
          318,
          313,
          333,
          299,
          346,
          316,
          373,
          408,
          426,
          345,
          357,
          392,
          412,
          336,
          398,
          492,
          466,
          376,
          452,
          536,
          571,
          390,
          358,
          545,
          590,
          433,
          473,
          581,
          733,
          570,
          641,
          830,
          863,
          698,
          739,
          1026,
          1018,
          760,
          936,
          1064,
          804,
          838,
          978,
          1091,
          897,
          854,
          1081,
          1012,
          965,
          860,
          1003,
          926,
          958,
          905,
          1155,
          7
         ],
         "yaxis": "y"
        }
       ],
       "layout": {
        "legend": {
         "tracegroupgap": 0
        },
        "margin": {
         "t": 60
        },
        "template": {
         "data": {
          "bar": [
           {
            "error_x": {
             "color": "#2a3f5f"
            },
            "error_y": {
             "color": "#2a3f5f"
            },
            "marker": {
             "line": {
              "color": "#E5ECF6",
              "width": 0.5
             },
             "pattern": {
              "fillmode": "overlay",
              "size": 10,
              "solidity": 0.2
             }
            },
            "type": "bar"
           }
          ],
          "barpolar": [
           {
            "marker": {
             "line": {
              "color": "#E5ECF6",
              "width": 0.5
             },
             "pattern": {
              "fillmode": "overlay",
              "size": 10,
              "solidity": 0.2
             }
            },
            "type": "barpolar"
           }
          ],
          "carpet": [
           {
            "aaxis": {
             "endlinecolor": "#2a3f5f",
             "gridcolor": "white",
             "linecolor": "white",
             "minorgridcolor": "white",
             "startlinecolor": "#2a3f5f"
            },
            "baxis": {
             "endlinecolor": "#2a3f5f",
             "gridcolor": "white",
             "linecolor": "white",
             "minorgridcolor": "white",
             "startlinecolor": "#2a3f5f"
            },
            "type": "carpet"
           }
          ],
          "choropleth": [
           {
            "colorbar": {
             "outlinewidth": 0,
             "ticks": ""
            },
            "type": "choropleth"
           }
          ],
          "contour": [
           {
            "colorbar": {
             "outlinewidth": 0,
             "ticks": ""
            },
            "colorscale": [
             [
              0,
              "#0d0887"
             ],
             [
              0.1111111111111111,
              "#46039f"
             ],
             [
              0.2222222222222222,
              "#7201a8"
             ],
             [
              0.3333333333333333,
              "#9c179e"
             ],
             [
              0.4444444444444444,
              "#bd3786"
             ],
             [
              0.5555555555555556,
              "#d8576b"
             ],
             [
              0.6666666666666666,
              "#ed7953"
             ],
             [
              0.7777777777777778,
              "#fb9f3a"
             ],
             [
              0.8888888888888888,
              "#fdca26"
             ],
             [
              1,
              "#f0f921"
             ]
            ],
            "type": "contour"
           }
          ],
          "contourcarpet": [
           {
            "colorbar": {
             "outlinewidth": 0,
             "ticks": ""
            },
            "type": "contourcarpet"
           }
          ],
          "heatmap": [
           {
            "colorbar": {
             "outlinewidth": 0,
             "ticks": ""
            },
            "colorscale": [
             [
              0,
              "#0d0887"
             ],
             [
              0.1111111111111111,
              "#46039f"
             ],
             [
              0.2222222222222222,
              "#7201a8"
             ],
             [
              0.3333333333333333,
              "#9c179e"
             ],
             [
              0.4444444444444444,
              "#bd3786"
             ],
             [
              0.5555555555555556,
              "#d8576b"
             ],
             [
              0.6666666666666666,
              "#ed7953"
             ],
             [
              0.7777777777777778,
              "#fb9f3a"
             ],
             [
              0.8888888888888888,
              "#fdca26"
             ],
             [
              1,
              "#f0f921"
             ]
            ],
            "type": "heatmap"
           }
          ],
          "heatmapgl": [
           {
            "colorbar": {
             "outlinewidth": 0,
             "ticks": ""
            },
            "colorscale": [
             [
              0,
              "#0d0887"
             ],
             [
              0.1111111111111111,
              "#46039f"
             ],
             [
              0.2222222222222222,
              "#7201a8"
             ],
             [
              0.3333333333333333,
              "#9c179e"
             ],
             [
              0.4444444444444444,
              "#bd3786"
             ],
             [
              0.5555555555555556,
              "#d8576b"
             ],
             [
              0.6666666666666666,
              "#ed7953"
             ],
             [
              0.7777777777777778,
              "#fb9f3a"
             ],
             [
              0.8888888888888888,
              "#fdca26"
             ],
             [
              1,
              "#f0f921"
             ]
            ],
            "type": "heatmapgl"
           }
          ],
          "histogram": [
           {
            "marker": {
             "pattern": {
              "fillmode": "overlay",
              "size": 10,
              "solidity": 0.2
             }
            },
            "type": "histogram"
           }
          ],
          "histogram2d": [
           {
            "colorbar": {
             "outlinewidth": 0,
             "ticks": ""
            },
            "colorscale": [
             [
              0,
              "#0d0887"
             ],
             [
              0.1111111111111111,
              "#46039f"
             ],
             [
              0.2222222222222222,
              "#7201a8"
             ],
             [
              0.3333333333333333,
              "#9c179e"
             ],
             [
              0.4444444444444444,
              "#bd3786"
             ],
             [
              0.5555555555555556,
              "#d8576b"
             ],
             [
              0.6666666666666666,
              "#ed7953"
             ],
             [
              0.7777777777777778,
              "#fb9f3a"
             ],
             [
              0.8888888888888888,
              "#fdca26"
             ],
             [
              1,
              "#f0f921"
             ]
            ],
            "type": "histogram2d"
           }
          ],
          "histogram2dcontour": [
           {
            "colorbar": {
             "outlinewidth": 0,
             "ticks": ""
            },
            "colorscale": [
             [
              0,
              "#0d0887"
             ],
             [
              0.1111111111111111,
              "#46039f"
             ],
             [
              0.2222222222222222,
              "#7201a8"
             ],
             [
              0.3333333333333333,
              "#9c179e"
             ],
             [
              0.4444444444444444,
              "#bd3786"
             ],
             [
              0.5555555555555556,
              "#d8576b"
             ],
             [
              0.6666666666666666,
              "#ed7953"
             ],
             [
              0.7777777777777778,
              "#fb9f3a"
             ],
             [
              0.8888888888888888,
              "#fdca26"
             ],
             [
              1,
              "#f0f921"
             ]
            ],
            "type": "histogram2dcontour"
           }
          ],
          "mesh3d": [
           {
            "colorbar": {
             "outlinewidth": 0,
             "ticks": ""
            },
            "type": "mesh3d"
           }
          ],
          "parcoords": [
           {
            "line": {
             "colorbar": {
              "outlinewidth": 0,
              "ticks": ""
             }
            },
            "type": "parcoords"
           }
          ],
          "pie": [
           {
            "automargin": true,
            "type": "pie"
           }
          ],
          "scatter": [
           {
            "fillpattern": {
             "fillmode": "overlay",
             "size": 10,
             "solidity": 0.2
            },
            "type": "scatter"
           }
          ],
          "scatter3d": [
           {
            "line": {
             "colorbar": {
              "outlinewidth": 0,
              "ticks": ""
             }
            },
            "marker": {
             "colorbar": {
              "outlinewidth": 0,
              "ticks": ""
             }
            },
            "type": "scatter3d"
           }
          ],
          "scattercarpet": [
           {
            "marker": {
             "colorbar": {
              "outlinewidth": 0,
              "ticks": ""
             }
            },
            "type": "scattercarpet"
           }
          ],
          "scattergeo": [
           {
            "marker": {
             "colorbar": {
              "outlinewidth": 0,
              "ticks": ""
             }
            },
            "type": "scattergeo"
           }
          ],
          "scattergl": [
           {
            "marker": {
             "colorbar": {
              "outlinewidth": 0,
              "ticks": ""
             }
            },
            "type": "scattergl"
           }
          ],
          "scattermapbox": [
           {
            "marker": {
             "colorbar": {
              "outlinewidth": 0,
              "ticks": ""
             }
            },
            "type": "scattermapbox"
           }
          ],
          "scatterpolar": [
           {
            "marker": {
             "colorbar": {
              "outlinewidth": 0,
              "ticks": ""
             }
            },
            "type": "scatterpolar"
           }
          ],
          "scatterpolargl": [
           {
            "marker": {
             "colorbar": {
              "outlinewidth": 0,
              "ticks": ""
             }
            },
            "type": "scatterpolargl"
           }
          ],
          "scatterternary": [
           {
            "marker": {
             "colorbar": {
              "outlinewidth": 0,
              "ticks": ""
             }
            },
            "type": "scatterternary"
           }
          ],
          "surface": [
           {
            "colorbar": {
             "outlinewidth": 0,
             "ticks": ""
            },
            "colorscale": [
             [
              0,
              "#0d0887"
             ],
             [
              0.1111111111111111,
              "#46039f"
             ],
             [
              0.2222222222222222,
              "#7201a8"
             ],
             [
              0.3333333333333333,
              "#9c179e"
             ],
             [
              0.4444444444444444,
              "#bd3786"
             ],
             [
              0.5555555555555556,
              "#d8576b"
             ],
             [
              0.6666666666666666,
              "#ed7953"
             ],
             [
              0.7777777777777778,
              "#fb9f3a"
             ],
             [
              0.8888888888888888,
              "#fdca26"
             ],
             [
              1,
              "#f0f921"
             ]
            ],
            "type": "surface"
           }
          ],
          "table": [
           {
            "cells": {
             "fill": {
              "color": "#EBF0F8"
             },
             "line": {
              "color": "white"
             }
            },
            "header": {
             "fill": {
              "color": "#C8D4E3"
             },
             "line": {
              "color": "white"
             }
            },
            "type": "table"
           }
          ]
         },
         "layout": {
          "annotationdefaults": {
           "arrowcolor": "#2a3f5f",
           "arrowhead": 0,
           "arrowwidth": 1
          },
          "autotypenumbers": "strict",
          "coloraxis": {
           "colorbar": {
            "outlinewidth": 0,
            "ticks": ""
           }
          },
          "colorscale": {
           "diverging": [
            [
             0,
             "#8e0152"
            ],
            [
             0.1,
             "#c51b7d"
            ],
            [
             0.2,
             "#de77ae"
            ],
            [
             0.3,
             "#f1b6da"
            ],
            [
             0.4,
             "#fde0ef"
            ],
            [
             0.5,
             "#f7f7f7"
            ],
            [
             0.6,
             "#e6f5d0"
            ],
            [
             0.7,
             "#b8e186"
            ],
            [
             0.8,
             "#7fbc41"
            ],
            [
             0.9,
             "#4d9221"
            ],
            [
             1,
             "#276419"
            ]
           ],
           "sequential": [
            [
             0,
             "#0d0887"
            ],
            [
             0.1111111111111111,
             "#46039f"
            ],
            [
             0.2222222222222222,
             "#7201a8"
            ],
            [
             0.3333333333333333,
             "#9c179e"
            ],
            [
             0.4444444444444444,
             "#bd3786"
            ],
            [
             0.5555555555555556,
             "#d8576b"
            ],
            [
             0.6666666666666666,
             "#ed7953"
            ],
            [
             0.7777777777777778,
             "#fb9f3a"
            ],
            [
             0.8888888888888888,
             "#fdca26"
            ],
            [
             1,
             "#f0f921"
            ]
           ],
           "sequentialminus": [
            [
             0,
             "#0d0887"
            ],
            [
             0.1111111111111111,
             "#46039f"
            ],
            [
             0.2222222222222222,
             "#7201a8"
            ],
            [
             0.3333333333333333,
             "#9c179e"
            ],
            [
             0.4444444444444444,
             "#bd3786"
            ],
            [
             0.5555555555555556,
             "#d8576b"
            ],
            [
             0.6666666666666666,
             "#ed7953"
            ],
            [
             0.7777777777777778,
             "#fb9f3a"
            ],
            [
             0.8888888888888888,
             "#fdca26"
            ],
            [
             1,
             "#f0f921"
            ]
           ]
          },
          "colorway": [
           "#636efa",
           "#EF553B",
           "#00cc96",
           "#ab63fa",
           "#FFA15A",
           "#19d3f3",
           "#FF6692",
           "#B6E880",
           "#FF97FF",
           "#FECB52"
          ],
          "font": {
           "color": "#2a3f5f"
          },
          "geo": {
           "bgcolor": "white",
           "lakecolor": "white",
           "landcolor": "#E5ECF6",
           "showlakes": true,
           "showland": true,
           "subunitcolor": "white"
          },
          "hoverlabel": {
           "align": "left"
          },
          "hovermode": "closest",
          "mapbox": {
           "style": "light"
          },
          "paper_bgcolor": "white",
          "plot_bgcolor": "#E5ECF6",
          "polar": {
           "angularaxis": {
            "gridcolor": "white",
            "linecolor": "white",
            "ticks": ""
           },
           "bgcolor": "#E5ECF6",
           "radialaxis": {
            "gridcolor": "white",
            "linecolor": "white",
            "ticks": ""
           }
          },
          "scene": {
           "xaxis": {
            "backgroundcolor": "#E5ECF6",
            "gridcolor": "white",
            "gridwidth": 2,
            "linecolor": "white",
            "showbackground": true,
            "ticks": "",
            "zerolinecolor": "white"
           },
           "yaxis": {
            "backgroundcolor": "#E5ECF6",
            "gridcolor": "white",
            "gridwidth": 2,
            "linecolor": "white",
            "showbackground": true,
            "ticks": "",
            "zerolinecolor": "white"
           },
           "zaxis": {
            "backgroundcolor": "#E5ECF6",
            "gridcolor": "white",
            "gridwidth": 2,
            "linecolor": "white",
            "showbackground": true,
            "ticks": "",
            "zerolinecolor": "white"
           }
          },
          "shapedefaults": {
           "line": {
            "color": "#2a3f5f"
           }
          },
          "ternary": {
           "aaxis": {
            "gridcolor": "white",
            "linecolor": "white",
            "ticks": ""
           },
           "baxis": {
            "gridcolor": "white",
            "linecolor": "white",
            "ticks": ""
           },
           "bgcolor": "#E5ECF6",
           "caxis": {
            "gridcolor": "white",
            "linecolor": "white",
            "ticks": ""
           }
          },
          "title": {
           "x": 0.05
          },
          "xaxis": {
           "automargin": true,
           "gridcolor": "white",
           "linecolor": "white",
           "ticks": "",
           "title": {
            "standoff": 15
           },
           "zerolinecolor": "white",
           "zerolinewidth": 2
          },
          "yaxis": {
           "automargin": true,
           "gridcolor": "white",
           "linecolor": "white",
           "ticks": "",
           "title": {
            "standoff": 15
           },
           "zerolinecolor": "white",
           "zerolinewidth": 2
          }
         }
        },
        "xaxis": {
         "anchor": "y",
         "domain": [
          0,
          1
         ],
         "title": {
          "text": "index"
         }
        },
        "yaxis": {
         "anchor": "x",
         "domain": [
          0,
          1
         ],
         "title": {
          "text": "city"
         }
        }
       }
      }
     },
     "metadata": {},
     "output_type": "display_data"
    }
   ],
   "source": [
    "year = df.groupby(df.date.dt.year).count()\n",
    "\n",
    "fig = px.line(year, x=year.index, y=\"city\")\n",
    "fig.show()"
   ]
  },
  {
   "cell_type": "code",
   "execution_count": 139,
   "metadata": {},
   "outputs": [
    {
     "data": {
      "text/html": [
       "<div>\n",
       "<style scoped>\n",
       "    .dataframe tbody tr th:only-of-type {\n",
       "        vertical-align: middle;\n",
       "    }\n",
       "\n",
       "    .dataframe tbody tr th {\n",
       "        vertical-align: top;\n",
       "    }\n",
       "\n",
       "    .dataframe thead th {\n",
       "        text-align: right;\n",
       "    }\n",
       "</style>\n",
       "<table border=\"1\" class=\"dataframe\">\n",
       "  <thead>\n",
       "    <tr style=\"text-align: right;\">\n",
       "      <th></th>\n",
       "      <th>date</th>\n",
       "      <th>home_team</th>\n",
       "      <th>away_team</th>\n",
       "      <th>home_score</th>\n",
       "      <th>away_score</th>\n",
       "      <th>tournament</th>\n",
       "      <th>city</th>\n",
       "      <th>country</th>\n",
       "      <th>neutral</th>\n",
       "    </tr>\n",
       "  </thead>\n",
       "  <tbody>\n",
       "    <tr>\n",
       "      <th>0</th>\n",
       "      <td>1872-11-30</td>\n",
       "      <td>Scotland</td>\n",
       "      <td>England</td>\n",
       "      <td>0</td>\n",
       "      <td>0</td>\n",
       "      <td>Friendly</td>\n",
       "      <td>Glasgow</td>\n",
       "      <td>Scotland</td>\n",
       "      <td>False</td>\n",
       "    </tr>\n",
       "    <tr>\n",
       "      <th>1</th>\n",
       "      <td>1873-03-08</td>\n",
       "      <td>England</td>\n",
       "      <td>Scotland</td>\n",
       "      <td>4</td>\n",
       "      <td>2</td>\n",
       "      <td>Friendly</td>\n",
       "      <td>London</td>\n",
       "      <td>England</td>\n",
       "      <td>False</td>\n",
       "    </tr>\n",
       "    <tr>\n",
       "      <th>2</th>\n",
       "      <td>1874-03-07</td>\n",
       "      <td>Scotland</td>\n",
       "      <td>England</td>\n",
       "      <td>2</td>\n",
       "      <td>1</td>\n",
       "      <td>Friendly</td>\n",
       "      <td>Glasgow</td>\n",
       "      <td>Scotland</td>\n",
       "      <td>False</td>\n",
       "    </tr>\n",
       "    <tr>\n",
       "      <th>3</th>\n",
       "      <td>1875-03-06</td>\n",
       "      <td>England</td>\n",
       "      <td>Scotland</td>\n",
       "      <td>2</td>\n",
       "      <td>2</td>\n",
       "      <td>Friendly</td>\n",
       "      <td>London</td>\n",
       "      <td>England</td>\n",
       "      <td>False</td>\n",
       "    </tr>\n",
       "    <tr>\n",
       "      <th>4</th>\n",
       "      <td>1876-03-04</td>\n",
       "      <td>Scotland</td>\n",
       "      <td>England</td>\n",
       "      <td>3</td>\n",
       "      <td>0</td>\n",
       "      <td>Friendly</td>\n",
       "      <td>Glasgow</td>\n",
       "      <td>Scotland</td>\n",
       "      <td>False</td>\n",
       "    </tr>\n",
       "  </tbody>\n",
       "</table>\n",
       "</div>"
      ],
      "text/plain": [
       "        date home_team away_team  home_score  away_score tournament     city  \\\n",
       "0 1872-11-30  Scotland   England           0           0   Friendly  Glasgow   \n",
       "1 1873-03-08   England  Scotland           4           2   Friendly   London   \n",
       "2 1874-03-07  Scotland   England           2           1   Friendly  Glasgow   \n",
       "3 1875-03-06   England  Scotland           2           2   Friendly   London   \n",
       "4 1876-03-04  Scotland   England           3           0   Friendly  Glasgow   \n",
       "\n",
       "    country  neutral  \n",
       "0  Scotland    False  \n",
       "1   England    False  \n",
       "2  Scotland    False  \n",
       "3   England    False  \n",
       "4  Scotland    False  "
      ]
     },
     "execution_count": 139,
     "metadata": {},
     "output_type": "execute_result"
    }
   ],
   "source": [
    "df.head()"
   ]
  },
  {
   "cell_type": "markdown",
   "metadata": {},
   "source": [
    "## Task\n",
    "Which teams are the most successful ones? (winning percentage)"
   ]
  },
  {
   "cell_type": "code",
   "execution_count": 157,
   "metadata": {},
   "outputs": [
    {
     "data": {
      "text/html": [
       "<div>\n",
       "<style scoped>\n",
       "    .dataframe tbody tr th:only-of-type {\n",
       "        vertical-align: middle;\n",
       "    }\n",
       "\n",
       "    .dataframe tbody tr th {\n",
       "        vertical-align: top;\n",
       "    }\n",
       "\n",
       "    .dataframe thead th {\n",
       "        text-align: right;\n",
       "    }\n",
       "</style>\n",
       "<table border=\"1\" class=\"dataframe\">\n",
       "  <thead>\n",
       "    <tr style=\"text-align: right;\">\n",
       "      <th></th>\n",
       "      <th>winner</th>\n",
       "      <th>percentage</th>\n",
       "    </tr>\n",
       "  </thead>\n",
       "  <tbody>\n",
       "    <tr>\n",
       "      <th>Brazil</th>\n",
       "      <td>625</td>\n",
       "      <td>0.019526</td>\n",
       "    </tr>\n",
       "    <tr>\n",
       "      <th>England</th>\n",
       "      <td>572</td>\n",
       "      <td>0.017871</td>\n",
       "    </tr>\n",
       "    <tr>\n",
       "      <th>Germany</th>\n",
       "      <td>555</td>\n",
       "      <td>0.017339</td>\n",
       "    </tr>\n",
       "    <tr>\n",
       "      <th>Argentina</th>\n",
       "      <td>526</td>\n",
       "      <td>0.016433</td>\n",
       "    </tr>\n",
       "    <tr>\n",
       "      <th>Sweden</th>\n",
       "      <td>500</td>\n",
       "      <td>0.015621</td>\n",
       "    </tr>\n",
       "    <tr>\n",
       "      <th>South Korea</th>\n",
       "      <td>454</td>\n",
       "      <td>0.014184</td>\n",
       "    </tr>\n",
       "    <tr>\n",
       "      <th>Mexico</th>\n",
       "      <td>439</td>\n",
       "      <td>0.013715</td>\n",
       "    </tr>\n",
       "    <tr>\n",
       "      <th>Hungary</th>\n",
       "      <td>434</td>\n",
       "      <td>0.013559</td>\n",
       "    </tr>\n",
       "    <tr>\n",
       "      <th>Italy</th>\n",
       "      <td>423</td>\n",
       "      <td>0.013215</td>\n",
       "    </tr>\n",
       "    <tr>\n",
       "      <th>France</th>\n",
       "      <td>417</td>\n",
       "      <td>0.013028</td>\n",
       "    </tr>\n",
       "    <tr>\n",
       "      <th>Spain</th>\n",
       "      <td>406</td>\n",
       "      <td>0.012684</td>\n",
       "    </tr>\n",
       "    <tr>\n",
       "      <th>Netherlands</th>\n",
       "      <td>398</td>\n",
       "      <td>0.012434</td>\n",
       "    </tr>\n",
       "    <tr>\n",
       "      <th>Uruguay</th>\n",
       "      <td>382</td>\n",
       "      <td>0.011935</td>\n",
       "    </tr>\n",
       "    <tr>\n",
       "      <th>Scotland</th>\n",
       "      <td>371</td>\n",
       "      <td>0.011591</td>\n",
       "    </tr>\n",
       "    <tr>\n",
       "      <th>Denmark</th>\n",
       "      <td>356</td>\n",
       "      <td>0.011122</td>\n",
       "    </tr>\n",
       "    <tr>\n",
       "      <th>Russia</th>\n",
       "      <td>356</td>\n",
       "      <td>0.011122</td>\n",
       "    </tr>\n",
       "    <tr>\n",
       "      <th>Poland</th>\n",
       "      <td>351</td>\n",
       "      <td>0.010966</td>\n",
       "    </tr>\n",
       "    <tr>\n",
       "      <th>Belgium</th>\n",
       "      <td>333</td>\n",
       "      <td>0.010404</td>\n",
       "    </tr>\n",
       "    <tr>\n",
       "      <th>Zambia</th>\n",
       "      <td>328</td>\n",
       "      <td>0.010247</td>\n",
       "    </tr>\n",
       "    <tr>\n",
       "      <th>Austria</th>\n",
       "      <td>323</td>\n",
       "      <td>0.010091</td>\n",
       "    </tr>\n",
       "  </tbody>\n",
       "</table>\n",
       "</div>"
      ],
      "text/plain": [
       "             winner  percentage\n",
       "Brazil          625    0.019526\n",
       "England         572    0.017871\n",
       "Germany         555    0.017339\n",
       "Argentina       526    0.016433\n",
       "Sweden          500    0.015621\n",
       "South Korea     454    0.014184\n",
       "Mexico          439    0.013715\n",
       "Hungary         434    0.013559\n",
       "Italy           423    0.013215\n",
       "France          417    0.013028\n",
       "Spain           406    0.012684\n",
       "Netherlands     398    0.012434\n",
       "Uruguay         382    0.011935\n",
       "Scotland        371    0.011591\n",
       "Denmark         356    0.011122\n",
       "Russia          356    0.011122\n",
       "Poland          351    0.010966\n",
       "Belgium         333    0.010404\n",
       "Zambia          328    0.010247\n",
       "Austria         323    0.010091"
      ]
     },
     "execution_count": 157,
     "metadata": {},
     "output_type": "execute_result"
    }
   ],
   "source": [
    "# Check who won\n",
    "df['winner'] = \"0\"\n",
    "\n",
    "# identify winner\n",
    "df.loc[df.home_score > df.away_score, 'winner'] = df.home_team\n",
    "df.loc[df.home_score < df.away_score, 'winner'] = df.away_team\n",
    "df.loc[df.home_score == df.away_score, 'winner'] = \"draw\"\n",
    "\n",
    "# count of winners, no draws\n",
    "team_wins = df[df.winner != 'draw']['winner'].value_counts().to_frame()\n",
    "team_wins['percentage'] = team_wins['winner'] / team_wins['winner'].sum()\n",
    "sort_wins = team_wins.sort_values(by='percentage', ascending=False)[0:20]\n",
    "sort_wins\n",
    "\n",
    "\n"
   ]
  },
  {
   "cell_type": "code",
   "execution_count": 158,
   "metadata": {},
   "outputs": [
    {
     "data": {
      "application/vnd.plotly.v1+json": {
       "config": {
        "plotlyServerURL": "https://plot.ly"
       },
       "data": [
        {
         "alignmentgroup": "True",
         "hovertemplate": "index=%{x}<br>percentage=%{y}<extra></extra>",
         "legendgroup": "",
         "marker": {
          "color": "#636efa",
          "pattern": {
           "shape": ""
          }
         },
         "name": "",
         "offsetgroup": "",
         "orientation": "v",
         "showlegend": false,
         "textposition": "auto",
         "type": "bar",
         "x": [
          "Brazil",
          "England",
          "Germany",
          "Argentina",
          "Sweden",
          "South Korea",
          "Mexico",
          "Hungary",
          "Italy",
          "France",
          "Spain",
          "Netherlands",
          "Uruguay",
          "Scotland",
          "Denmark",
          "Russia",
          "Poland",
          "Belgium",
          "Zambia",
          "Austria"
         ],
         "xaxis": "x",
         "y": [
          0.019526368407898027,
          0.017870532366908273,
          0.017339415146213448,
          0.016433391652086977,
          0.01562109472631842,
          0.014183954011497127,
          0.013715321169707573,
          0.013559110222444389,
          0.013215446138465384,
          0.013027993001749562,
          0.012684328917770557,
          0.012434391402149463,
          0.011934516370907273,
          0.011590852286928268,
          0.011122219445138715,
          0.011122219445138715,
          0.010966008497875532,
          0.010403649087728069,
          0.010247438140464884,
          0.010091227193201699
         ],
         "yaxis": "y"
        }
       ],
       "layout": {
        "barmode": "relative",
        "legend": {
         "tracegroupgap": 0
        },
        "margin": {
         "t": 60
        },
        "template": {
         "data": {
          "bar": [
           {
            "error_x": {
             "color": "#2a3f5f"
            },
            "error_y": {
             "color": "#2a3f5f"
            },
            "marker": {
             "line": {
              "color": "#E5ECF6",
              "width": 0.5
             },
             "pattern": {
              "fillmode": "overlay",
              "size": 10,
              "solidity": 0.2
             }
            },
            "type": "bar"
           }
          ],
          "barpolar": [
           {
            "marker": {
             "line": {
              "color": "#E5ECF6",
              "width": 0.5
             },
             "pattern": {
              "fillmode": "overlay",
              "size": 10,
              "solidity": 0.2
             }
            },
            "type": "barpolar"
           }
          ],
          "carpet": [
           {
            "aaxis": {
             "endlinecolor": "#2a3f5f",
             "gridcolor": "white",
             "linecolor": "white",
             "minorgridcolor": "white",
             "startlinecolor": "#2a3f5f"
            },
            "baxis": {
             "endlinecolor": "#2a3f5f",
             "gridcolor": "white",
             "linecolor": "white",
             "minorgridcolor": "white",
             "startlinecolor": "#2a3f5f"
            },
            "type": "carpet"
           }
          ],
          "choropleth": [
           {
            "colorbar": {
             "outlinewidth": 0,
             "ticks": ""
            },
            "type": "choropleth"
           }
          ],
          "contour": [
           {
            "colorbar": {
             "outlinewidth": 0,
             "ticks": ""
            },
            "colorscale": [
             [
              0,
              "#0d0887"
             ],
             [
              0.1111111111111111,
              "#46039f"
             ],
             [
              0.2222222222222222,
              "#7201a8"
             ],
             [
              0.3333333333333333,
              "#9c179e"
             ],
             [
              0.4444444444444444,
              "#bd3786"
             ],
             [
              0.5555555555555556,
              "#d8576b"
             ],
             [
              0.6666666666666666,
              "#ed7953"
             ],
             [
              0.7777777777777778,
              "#fb9f3a"
             ],
             [
              0.8888888888888888,
              "#fdca26"
             ],
             [
              1,
              "#f0f921"
             ]
            ],
            "type": "contour"
           }
          ],
          "contourcarpet": [
           {
            "colorbar": {
             "outlinewidth": 0,
             "ticks": ""
            },
            "type": "contourcarpet"
           }
          ],
          "heatmap": [
           {
            "colorbar": {
             "outlinewidth": 0,
             "ticks": ""
            },
            "colorscale": [
             [
              0,
              "#0d0887"
             ],
             [
              0.1111111111111111,
              "#46039f"
             ],
             [
              0.2222222222222222,
              "#7201a8"
             ],
             [
              0.3333333333333333,
              "#9c179e"
             ],
             [
              0.4444444444444444,
              "#bd3786"
             ],
             [
              0.5555555555555556,
              "#d8576b"
             ],
             [
              0.6666666666666666,
              "#ed7953"
             ],
             [
              0.7777777777777778,
              "#fb9f3a"
             ],
             [
              0.8888888888888888,
              "#fdca26"
             ],
             [
              1,
              "#f0f921"
             ]
            ],
            "type": "heatmap"
           }
          ],
          "heatmapgl": [
           {
            "colorbar": {
             "outlinewidth": 0,
             "ticks": ""
            },
            "colorscale": [
             [
              0,
              "#0d0887"
             ],
             [
              0.1111111111111111,
              "#46039f"
             ],
             [
              0.2222222222222222,
              "#7201a8"
             ],
             [
              0.3333333333333333,
              "#9c179e"
             ],
             [
              0.4444444444444444,
              "#bd3786"
             ],
             [
              0.5555555555555556,
              "#d8576b"
             ],
             [
              0.6666666666666666,
              "#ed7953"
             ],
             [
              0.7777777777777778,
              "#fb9f3a"
             ],
             [
              0.8888888888888888,
              "#fdca26"
             ],
             [
              1,
              "#f0f921"
             ]
            ],
            "type": "heatmapgl"
           }
          ],
          "histogram": [
           {
            "marker": {
             "pattern": {
              "fillmode": "overlay",
              "size": 10,
              "solidity": 0.2
             }
            },
            "type": "histogram"
           }
          ],
          "histogram2d": [
           {
            "colorbar": {
             "outlinewidth": 0,
             "ticks": ""
            },
            "colorscale": [
             [
              0,
              "#0d0887"
             ],
             [
              0.1111111111111111,
              "#46039f"
             ],
             [
              0.2222222222222222,
              "#7201a8"
             ],
             [
              0.3333333333333333,
              "#9c179e"
             ],
             [
              0.4444444444444444,
              "#bd3786"
             ],
             [
              0.5555555555555556,
              "#d8576b"
             ],
             [
              0.6666666666666666,
              "#ed7953"
             ],
             [
              0.7777777777777778,
              "#fb9f3a"
             ],
             [
              0.8888888888888888,
              "#fdca26"
             ],
             [
              1,
              "#f0f921"
             ]
            ],
            "type": "histogram2d"
           }
          ],
          "histogram2dcontour": [
           {
            "colorbar": {
             "outlinewidth": 0,
             "ticks": ""
            },
            "colorscale": [
             [
              0,
              "#0d0887"
             ],
             [
              0.1111111111111111,
              "#46039f"
             ],
             [
              0.2222222222222222,
              "#7201a8"
             ],
             [
              0.3333333333333333,
              "#9c179e"
             ],
             [
              0.4444444444444444,
              "#bd3786"
             ],
             [
              0.5555555555555556,
              "#d8576b"
             ],
             [
              0.6666666666666666,
              "#ed7953"
             ],
             [
              0.7777777777777778,
              "#fb9f3a"
             ],
             [
              0.8888888888888888,
              "#fdca26"
             ],
             [
              1,
              "#f0f921"
             ]
            ],
            "type": "histogram2dcontour"
           }
          ],
          "mesh3d": [
           {
            "colorbar": {
             "outlinewidth": 0,
             "ticks": ""
            },
            "type": "mesh3d"
           }
          ],
          "parcoords": [
           {
            "line": {
             "colorbar": {
              "outlinewidth": 0,
              "ticks": ""
             }
            },
            "type": "parcoords"
           }
          ],
          "pie": [
           {
            "automargin": true,
            "type": "pie"
           }
          ],
          "scatter": [
           {
            "fillpattern": {
             "fillmode": "overlay",
             "size": 10,
             "solidity": 0.2
            },
            "type": "scatter"
           }
          ],
          "scatter3d": [
           {
            "line": {
             "colorbar": {
              "outlinewidth": 0,
              "ticks": ""
             }
            },
            "marker": {
             "colorbar": {
              "outlinewidth": 0,
              "ticks": ""
             }
            },
            "type": "scatter3d"
           }
          ],
          "scattercarpet": [
           {
            "marker": {
             "colorbar": {
              "outlinewidth": 0,
              "ticks": ""
             }
            },
            "type": "scattercarpet"
           }
          ],
          "scattergeo": [
           {
            "marker": {
             "colorbar": {
              "outlinewidth": 0,
              "ticks": ""
             }
            },
            "type": "scattergeo"
           }
          ],
          "scattergl": [
           {
            "marker": {
             "colorbar": {
              "outlinewidth": 0,
              "ticks": ""
             }
            },
            "type": "scattergl"
           }
          ],
          "scattermapbox": [
           {
            "marker": {
             "colorbar": {
              "outlinewidth": 0,
              "ticks": ""
             }
            },
            "type": "scattermapbox"
           }
          ],
          "scatterpolar": [
           {
            "marker": {
             "colorbar": {
              "outlinewidth": 0,
              "ticks": ""
             }
            },
            "type": "scatterpolar"
           }
          ],
          "scatterpolargl": [
           {
            "marker": {
             "colorbar": {
              "outlinewidth": 0,
              "ticks": ""
             }
            },
            "type": "scatterpolargl"
           }
          ],
          "scatterternary": [
           {
            "marker": {
             "colorbar": {
              "outlinewidth": 0,
              "ticks": ""
             }
            },
            "type": "scatterternary"
           }
          ],
          "surface": [
           {
            "colorbar": {
             "outlinewidth": 0,
             "ticks": ""
            },
            "colorscale": [
             [
              0,
              "#0d0887"
             ],
             [
              0.1111111111111111,
              "#46039f"
             ],
             [
              0.2222222222222222,
              "#7201a8"
             ],
             [
              0.3333333333333333,
              "#9c179e"
             ],
             [
              0.4444444444444444,
              "#bd3786"
             ],
             [
              0.5555555555555556,
              "#d8576b"
             ],
             [
              0.6666666666666666,
              "#ed7953"
             ],
             [
              0.7777777777777778,
              "#fb9f3a"
             ],
             [
              0.8888888888888888,
              "#fdca26"
             ],
             [
              1,
              "#f0f921"
             ]
            ],
            "type": "surface"
           }
          ],
          "table": [
           {
            "cells": {
             "fill": {
              "color": "#EBF0F8"
             },
             "line": {
              "color": "white"
             }
            },
            "header": {
             "fill": {
              "color": "#C8D4E3"
             },
             "line": {
              "color": "white"
             }
            },
            "type": "table"
           }
          ]
         },
         "layout": {
          "annotationdefaults": {
           "arrowcolor": "#2a3f5f",
           "arrowhead": 0,
           "arrowwidth": 1
          },
          "autotypenumbers": "strict",
          "coloraxis": {
           "colorbar": {
            "outlinewidth": 0,
            "ticks": ""
           }
          },
          "colorscale": {
           "diverging": [
            [
             0,
             "#8e0152"
            ],
            [
             0.1,
             "#c51b7d"
            ],
            [
             0.2,
             "#de77ae"
            ],
            [
             0.3,
             "#f1b6da"
            ],
            [
             0.4,
             "#fde0ef"
            ],
            [
             0.5,
             "#f7f7f7"
            ],
            [
             0.6,
             "#e6f5d0"
            ],
            [
             0.7,
             "#b8e186"
            ],
            [
             0.8,
             "#7fbc41"
            ],
            [
             0.9,
             "#4d9221"
            ],
            [
             1,
             "#276419"
            ]
           ],
           "sequential": [
            [
             0,
             "#0d0887"
            ],
            [
             0.1111111111111111,
             "#46039f"
            ],
            [
             0.2222222222222222,
             "#7201a8"
            ],
            [
             0.3333333333333333,
             "#9c179e"
            ],
            [
             0.4444444444444444,
             "#bd3786"
            ],
            [
             0.5555555555555556,
             "#d8576b"
            ],
            [
             0.6666666666666666,
             "#ed7953"
            ],
            [
             0.7777777777777778,
             "#fb9f3a"
            ],
            [
             0.8888888888888888,
             "#fdca26"
            ],
            [
             1,
             "#f0f921"
            ]
           ],
           "sequentialminus": [
            [
             0,
             "#0d0887"
            ],
            [
             0.1111111111111111,
             "#46039f"
            ],
            [
             0.2222222222222222,
             "#7201a8"
            ],
            [
             0.3333333333333333,
             "#9c179e"
            ],
            [
             0.4444444444444444,
             "#bd3786"
            ],
            [
             0.5555555555555556,
             "#d8576b"
            ],
            [
             0.6666666666666666,
             "#ed7953"
            ],
            [
             0.7777777777777778,
             "#fb9f3a"
            ],
            [
             0.8888888888888888,
             "#fdca26"
            ],
            [
             1,
             "#f0f921"
            ]
           ]
          },
          "colorway": [
           "#636efa",
           "#EF553B",
           "#00cc96",
           "#ab63fa",
           "#FFA15A",
           "#19d3f3",
           "#FF6692",
           "#B6E880",
           "#FF97FF",
           "#FECB52"
          ],
          "font": {
           "color": "#2a3f5f"
          },
          "geo": {
           "bgcolor": "white",
           "lakecolor": "white",
           "landcolor": "#E5ECF6",
           "showlakes": true,
           "showland": true,
           "subunitcolor": "white"
          },
          "hoverlabel": {
           "align": "left"
          },
          "hovermode": "closest",
          "mapbox": {
           "style": "light"
          },
          "paper_bgcolor": "white",
          "plot_bgcolor": "#E5ECF6",
          "polar": {
           "angularaxis": {
            "gridcolor": "white",
            "linecolor": "white",
            "ticks": ""
           },
           "bgcolor": "#E5ECF6",
           "radialaxis": {
            "gridcolor": "white",
            "linecolor": "white",
            "ticks": ""
           }
          },
          "scene": {
           "xaxis": {
            "backgroundcolor": "#E5ECF6",
            "gridcolor": "white",
            "gridwidth": 2,
            "linecolor": "white",
            "showbackground": true,
            "ticks": "",
            "zerolinecolor": "white"
           },
           "yaxis": {
            "backgroundcolor": "#E5ECF6",
            "gridcolor": "white",
            "gridwidth": 2,
            "linecolor": "white",
            "showbackground": true,
            "ticks": "",
            "zerolinecolor": "white"
           },
           "zaxis": {
            "backgroundcolor": "#E5ECF6",
            "gridcolor": "white",
            "gridwidth": 2,
            "linecolor": "white",
            "showbackground": true,
            "ticks": "",
            "zerolinecolor": "white"
           }
          },
          "shapedefaults": {
           "line": {
            "color": "#2a3f5f"
           }
          },
          "ternary": {
           "aaxis": {
            "gridcolor": "white",
            "linecolor": "white",
            "ticks": ""
           },
           "baxis": {
            "gridcolor": "white",
            "linecolor": "white",
            "ticks": ""
           },
           "bgcolor": "#E5ECF6",
           "caxis": {
            "gridcolor": "white",
            "linecolor": "white",
            "ticks": ""
           }
          },
          "title": {
           "x": 0.05
          },
          "xaxis": {
           "automargin": true,
           "gridcolor": "white",
           "linecolor": "white",
           "ticks": "",
           "title": {
            "standoff": 15
           },
           "zerolinecolor": "white",
           "zerolinewidth": 2
          },
          "yaxis": {
           "automargin": true,
           "gridcolor": "white",
           "linecolor": "white",
           "ticks": "",
           "title": {
            "standoff": 15
           },
           "zerolinecolor": "white",
           "zerolinewidth": 2
          }
         }
        },
        "xaxis": {
         "anchor": "y",
         "domain": [
          0,
          1
         ],
         "title": {
          "text": "index"
         }
        },
        "yaxis": {
         "anchor": "x",
         "domain": [
          0,
          1
         ],
         "title": {
          "text": "percentage"
         }
        }
       }
      }
     },
     "metadata": {},
     "output_type": "display_data"
    }
   ],
   "source": [
    "\n",
    "fig = px.bar(sort_wins, x=sort_wins.index, y='percentage')\n",
    "fig.show()"
   ]
  },
  {
   "cell_type": "markdown",
   "metadata": {},
   "source": [
    "## Task\n",
    "Which teams are the least successful ones? (winning percentage)"
   ]
  },
  {
   "cell_type": "code",
   "execution_count": 159,
   "metadata": {},
   "outputs": [
    {
     "data": {
      "text/html": [
       "<div>\n",
       "<style scoped>\n",
       "    .dataframe tbody tr th:only-of-type {\n",
       "        vertical-align: middle;\n",
       "    }\n",
       "\n",
       "    .dataframe tbody tr th {\n",
       "        vertical-align: top;\n",
       "    }\n",
       "\n",
       "    .dataframe thead th {\n",
       "        text-align: right;\n",
       "    }\n",
       "</style>\n",
       "<table border=\"1\" class=\"dataframe\">\n",
       "  <thead>\n",
       "    <tr style=\"text-align: right;\">\n",
       "      <th></th>\n",
       "      <th>winner</th>\n",
       "      <th>percentage</th>\n",
       "    </tr>\n",
       "  </thead>\n",
       "  <tbody>\n",
       "    <tr>\n",
       "      <th>Micronesia</th>\n",
       "      <td>1</td>\n",
       "      <td>0.000031</td>\n",
       "    </tr>\n",
       "    <tr>\n",
       "      <th>Romani people</th>\n",
       "      <td>1</td>\n",
       "      <td>0.000031</td>\n",
       "    </tr>\n",
       "    <tr>\n",
       "      <th>Raetia</th>\n",
       "      <td>1</td>\n",
       "      <td>0.000031</td>\n",
       "    </tr>\n",
       "    <tr>\n",
       "      <th>Gozo</th>\n",
       "      <td>1</td>\n",
       "      <td>0.000031</td>\n",
       "    </tr>\n",
       "    <tr>\n",
       "      <th>Chagos Islands</th>\n",
       "      <td>1</td>\n",
       "      <td>0.000031</td>\n",
       "    </tr>\n",
       "    <tr>\n",
       "      <th>Two Sicilies</th>\n",
       "      <td>1</td>\n",
       "      <td>0.000031</td>\n",
       "    </tr>\n",
       "    <tr>\n",
       "      <th>Saarland</th>\n",
       "      <td>1</td>\n",
       "      <td>0.000031</td>\n",
       "    </tr>\n",
       "    <tr>\n",
       "      <th>San Marino</th>\n",
       "      <td>1</td>\n",
       "      <td>0.000031</td>\n",
       "    </tr>\n",
       "    <tr>\n",
       "      <th>Surrey</th>\n",
       "      <td>1</td>\n",
       "      <td>0.000031</td>\n",
       "    </tr>\n",
       "    <tr>\n",
       "      <th>Republic of St. Pauli</th>\n",
       "      <td>1</td>\n",
       "      <td>0.000031</td>\n",
       "    </tr>\n",
       "    <tr>\n",
       "      <th>Asturias</th>\n",
       "      <td>1</td>\n",
       "      <td>0.000031</td>\n",
       "    </tr>\n",
       "    <tr>\n",
       "      <th>Kabylia</th>\n",
       "      <td>1</td>\n",
       "      <td>0.000031</td>\n",
       "    </tr>\n",
       "    <tr>\n",
       "      <th>Timor-Leste</th>\n",
       "      <td>1</td>\n",
       "      <td>0.000031</td>\n",
       "    </tr>\n",
       "    <tr>\n",
       "      <th>Central Spain</th>\n",
       "      <td>1</td>\n",
       "      <td>0.000031</td>\n",
       "    </tr>\n",
       "    <tr>\n",
       "      <th>Northern Mariana Islands</th>\n",
       "      <td>2</td>\n",
       "      <td>0.000062</td>\n",
       "    </tr>\n",
       "    <tr>\n",
       "      <th>Western Sahara</th>\n",
       "      <td>2</td>\n",
       "      <td>0.000062</td>\n",
       "    </tr>\n",
       "    <tr>\n",
       "      <th>Chameria</th>\n",
       "      <td>2</td>\n",
       "      <td>0.000062</td>\n",
       "    </tr>\n",
       "    <tr>\n",
       "      <th>United Koreans in Japan</th>\n",
       "      <td>2</td>\n",
       "      <td>0.000062</td>\n",
       "    </tr>\n",
       "    <tr>\n",
       "      <th>Parishes of Jersey</th>\n",
       "      <td>2</td>\n",
       "      <td>0.000062</td>\n",
       "    </tr>\n",
       "    <tr>\n",
       "      <th>Matabeleland</th>\n",
       "      <td>2</td>\n",
       "      <td>0.000062</td>\n",
       "    </tr>\n",
       "  </tbody>\n",
       "</table>\n",
       "</div>"
      ],
      "text/plain": [
       "                          winner  percentage\n",
       "Micronesia                     1    0.000031\n",
       "Romani people                  1    0.000031\n",
       "Raetia                         1    0.000031\n",
       "Gozo                           1    0.000031\n",
       "Chagos Islands                 1    0.000031\n",
       "Two Sicilies                   1    0.000031\n",
       "Saarland                       1    0.000031\n",
       "San Marino                     1    0.000031\n",
       "Surrey                         1    0.000031\n",
       "Republic of St. Pauli          1    0.000031\n",
       "Asturias                       1    0.000031\n",
       "Kabylia                        1    0.000031\n",
       "Timor-Leste                    1    0.000031\n",
       "Central Spain                  1    0.000031\n",
       "Northern Mariana Islands       2    0.000062\n",
       "Western Sahara                 2    0.000062\n",
       "Chameria                       2    0.000062\n",
       "United Koreans in Japan        2    0.000062\n",
       "Parishes of Jersey             2    0.000062\n",
       "Matabeleland                   2    0.000062"
      ]
     },
     "execution_count": 159,
     "metadata": {},
     "output_type": "execute_result"
    }
   ],
   "source": [
    "reverse_wins = team_wins.sort_values(by='percentage')[0:20]\n",
    "reverse_wins"
   ]
  },
  {
   "cell_type": "code",
   "execution_count": 160,
   "metadata": {},
   "outputs": [
    {
     "data": {
      "application/vnd.plotly.v1+json": {
       "config": {
        "plotlyServerURL": "https://plot.ly"
       },
       "data": [
        {
         "alignmentgroup": "True",
         "hovertemplate": "index=%{x}<br>percentage=%{y}<extra></extra>",
         "legendgroup": "",
         "marker": {
          "color": "#636efa",
          "pattern": {
           "shape": ""
          }
         },
         "name": "",
         "offsetgroup": "",
         "orientation": "v",
         "showlegend": false,
         "textposition": "auto",
         "type": "bar",
         "x": [
          "Micronesia",
          "Romani people",
          "Raetia",
          "Gozo",
          "Chagos Islands",
          "Two Sicilies",
          "Saarland",
          "San Marino",
          "Surrey",
          "Republic of St. Pauli",
          "Asturias",
          "Kabylia",
          "Timor-Leste",
          "Central Spain",
          "Northern Mariana Islands",
          "Western Sahara",
          "Chameria",
          "United Koreans in Japan",
          "Parishes of Jersey",
          "Matabeleland"
         ],
         "xaxis": "x",
         "y": [
          0.00003124218945263684,
          0.00003124218945263684,
          0.00003124218945263684,
          0.00003124218945263684,
          0.00003124218945263684,
          0.00003124218945263684,
          0.00003124218945263684,
          0.00003124218945263684,
          0.00003124218945263684,
          0.00003124218945263684,
          0.00003124218945263684,
          0.00003124218945263684,
          0.00003124218945263684,
          0.00003124218945263684,
          0.00006248437890527369,
          0.00006248437890527369,
          0.00006248437890527369,
          0.00006248437890527369,
          0.00006248437890527369,
          0.00006248437890527369
         ],
         "yaxis": "y"
        }
       ],
       "layout": {
        "barmode": "relative",
        "legend": {
         "tracegroupgap": 0
        },
        "margin": {
         "t": 60
        },
        "template": {
         "data": {
          "bar": [
           {
            "error_x": {
             "color": "#2a3f5f"
            },
            "error_y": {
             "color": "#2a3f5f"
            },
            "marker": {
             "line": {
              "color": "#E5ECF6",
              "width": 0.5
             },
             "pattern": {
              "fillmode": "overlay",
              "size": 10,
              "solidity": 0.2
             }
            },
            "type": "bar"
           }
          ],
          "barpolar": [
           {
            "marker": {
             "line": {
              "color": "#E5ECF6",
              "width": 0.5
             },
             "pattern": {
              "fillmode": "overlay",
              "size": 10,
              "solidity": 0.2
             }
            },
            "type": "barpolar"
           }
          ],
          "carpet": [
           {
            "aaxis": {
             "endlinecolor": "#2a3f5f",
             "gridcolor": "white",
             "linecolor": "white",
             "minorgridcolor": "white",
             "startlinecolor": "#2a3f5f"
            },
            "baxis": {
             "endlinecolor": "#2a3f5f",
             "gridcolor": "white",
             "linecolor": "white",
             "minorgridcolor": "white",
             "startlinecolor": "#2a3f5f"
            },
            "type": "carpet"
           }
          ],
          "choropleth": [
           {
            "colorbar": {
             "outlinewidth": 0,
             "ticks": ""
            },
            "type": "choropleth"
           }
          ],
          "contour": [
           {
            "colorbar": {
             "outlinewidth": 0,
             "ticks": ""
            },
            "colorscale": [
             [
              0,
              "#0d0887"
             ],
             [
              0.1111111111111111,
              "#46039f"
             ],
             [
              0.2222222222222222,
              "#7201a8"
             ],
             [
              0.3333333333333333,
              "#9c179e"
             ],
             [
              0.4444444444444444,
              "#bd3786"
             ],
             [
              0.5555555555555556,
              "#d8576b"
             ],
             [
              0.6666666666666666,
              "#ed7953"
             ],
             [
              0.7777777777777778,
              "#fb9f3a"
             ],
             [
              0.8888888888888888,
              "#fdca26"
             ],
             [
              1,
              "#f0f921"
             ]
            ],
            "type": "contour"
           }
          ],
          "contourcarpet": [
           {
            "colorbar": {
             "outlinewidth": 0,
             "ticks": ""
            },
            "type": "contourcarpet"
           }
          ],
          "heatmap": [
           {
            "colorbar": {
             "outlinewidth": 0,
             "ticks": ""
            },
            "colorscale": [
             [
              0,
              "#0d0887"
             ],
             [
              0.1111111111111111,
              "#46039f"
             ],
             [
              0.2222222222222222,
              "#7201a8"
             ],
             [
              0.3333333333333333,
              "#9c179e"
             ],
             [
              0.4444444444444444,
              "#bd3786"
             ],
             [
              0.5555555555555556,
              "#d8576b"
             ],
             [
              0.6666666666666666,
              "#ed7953"
             ],
             [
              0.7777777777777778,
              "#fb9f3a"
             ],
             [
              0.8888888888888888,
              "#fdca26"
             ],
             [
              1,
              "#f0f921"
             ]
            ],
            "type": "heatmap"
           }
          ],
          "heatmapgl": [
           {
            "colorbar": {
             "outlinewidth": 0,
             "ticks": ""
            },
            "colorscale": [
             [
              0,
              "#0d0887"
             ],
             [
              0.1111111111111111,
              "#46039f"
             ],
             [
              0.2222222222222222,
              "#7201a8"
             ],
             [
              0.3333333333333333,
              "#9c179e"
             ],
             [
              0.4444444444444444,
              "#bd3786"
             ],
             [
              0.5555555555555556,
              "#d8576b"
             ],
             [
              0.6666666666666666,
              "#ed7953"
             ],
             [
              0.7777777777777778,
              "#fb9f3a"
             ],
             [
              0.8888888888888888,
              "#fdca26"
             ],
             [
              1,
              "#f0f921"
             ]
            ],
            "type": "heatmapgl"
           }
          ],
          "histogram": [
           {
            "marker": {
             "pattern": {
              "fillmode": "overlay",
              "size": 10,
              "solidity": 0.2
             }
            },
            "type": "histogram"
           }
          ],
          "histogram2d": [
           {
            "colorbar": {
             "outlinewidth": 0,
             "ticks": ""
            },
            "colorscale": [
             [
              0,
              "#0d0887"
             ],
             [
              0.1111111111111111,
              "#46039f"
             ],
             [
              0.2222222222222222,
              "#7201a8"
             ],
             [
              0.3333333333333333,
              "#9c179e"
             ],
             [
              0.4444444444444444,
              "#bd3786"
             ],
             [
              0.5555555555555556,
              "#d8576b"
             ],
             [
              0.6666666666666666,
              "#ed7953"
             ],
             [
              0.7777777777777778,
              "#fb9f3a"
             ],
             [
              0.8888888888888888,
              "#fdca26"
             ],
             [
              1,
              "#f0f921"
             ]
            ],
            "type": "histogram2d"
           }
          ],
          "histogram2dcontour": [
           {
            "colorbar": {
             "outlinewidth": 0,
             "ticks": ""
            },
            "colorscale": [
             [
              0,
              "#0d0887"
             ],
             [
              0.1111111111111111,
              "#46039f"
             ],
             [
              0.2222222222222222,
              "#7201a8"
             ],
             [
              0.3333333333333333,
              "#9c179e"
             ],
             [
              0.4444444444444444,
              "#bd3786"
             ],
             [
              0.5555555555555556,
              "#d8576b"
             ],
             [
              0.6666666666666666,
              "#ed7953"
             ],
             [
              0.7777777777777778,
              "#fb9f3a"
             ],
             [
              0.8888888888888888,
              "#fdca26"
             ],
             [
              1,
              "#f0f921"
             ]
            ],
            "type": "histogram2dcontour"
           }
          ],
          "mesh3d": [
           {
            "colorbar": {
             "outlinewidth": 0,
             "ticks": ""
            },
            "type": "mesh3d"
           }
          ],
          "parcoords": [
           {
            "line": {
             "colorbar": {
              "outlinewidth": 0,
              "ticks": ""
             }
            },
            "type": "parcoords"
           }
          ],
          "pie": [
           {
            "automargin": true,
            "type": "pie"
           }
          ],
          "scatter": [
           {
            "fillpattern": {
             "fillmode": "overlay",
             "size": 10,
             "solidity": 0.2
            },
            "type": "scatter"
           }
          ],
          "scatter3d": [
           {
            "line": {
             "colorbar": {
              "outlinewidth": 0,
              "ticks": ""
             }
            },
            "marker": {
             "colorbar": {
              "outlinewidth": 0,
              "ticks": ""
             }
            },
            "type": "scatter3d"
           }
          ],
          "scattercarpet": [
           {
            "marker": {
             "colorbar": {
              "outlinewidth": 0,
              "ticks": ""
             }
            },
            "type": "scattercarpet"
           }
          ],
          "scattergeo": [
           {
            "marker": {
             "colorbar": {
              "outlinewidth": 0,
              "ticks": ""
             }
            },
            "type": "scattergeo"
           }
          ],
          "scattergl": [
           {
            "marker": {
             "colorbar": {
              "outlinewidth": 0,
              "ticks": ""
             }
            },
            "type": "scattergl"
           }
          ],
          "scattermapbox": [
           {
            "marker": {
             "colorbar": {
              "outlinewidth": 0,
              "ticks": ""
             }
            },
            "type": "scattermapbox"
           }
          ],
          "scatterpolar": [
           {
            "marker": {
             "colorbar": {
              "outlinewidth": 0,
              "ticks": ""
             }
            },
            "type": "scatterpolar"
           }
          ],
          "scatterpolargl": [
           {
            "marker": {
             "colorbar": {
              "outlinewidth": 0,
              "ticks": ""
             }
            },
            "type": "scatterpolargl"
           }
          ],
          "scatterternary": [
           {
            "marker": {
             "colorbar": {
              "outlinewidth": 0,
              "ticks": ""
             }
            },
            "type": "scatterternary"
           }
          ],
          "surface": [
           {
            "colorbar": {
             "outlinewidth": 0,
             "ticks": ""
            },
            "colorscale": [
             [
              0,
              "#0d0887"
             ],
             [
              0.1111111111111111,
              "#46039f"
             ],
             [
              0.2222222222222222,
              "#7201a8"
             ],
             [
              0.3333333333333333,
              "#9c179e"
             ],
             [
              0.4444444444444444,
              "#bd3786"
             ],
             [
              0.5555555555555556,
              "#d8576b"
             ],
             [
              0.6666666666666666,
              "#ed7953"
             ],
             [
              0.7777777777777778,
              "#fb9f3a"
             ],
             [
              0.8888888888888888,
              "#fdca26"
             ],
             [
              1,
              "#f0f921"
             ]
            ],
            "type": "surface"
           }
          ],
          "table": [
           {
            "cells": {
             "fill": {
              "color": "#EBF0F8"
             },
             "line": {
              "color": "white"
             }
            },
            "header": {
             "fill": {
              "color": "#C8D4E3"
             },
             "line": {
              "color": "white"
             }
            },
            "type": "table"
           }
          ]
         },
         "layout": {
          "annotationdefaults": {
           "arrowcolor": "#2a3f5f",
           "arrowhead": 0,
           "arrowwidth": 1
          },
          "autotypenumbers": "strict",
          "coloraxis": {
           "colorbar": {
            "outlinewidth": 0,
            "ticks": ""
           }
          },
          "colorscale": {
           "diverging": [
            [
             0,
             "#8e0152"
            ],
            [
             0.1,
             "#c51b7d"
            ],
            [
             0.2,
             "#de77ae"
            ],
            [
             0.3,
             "#f1b6da"
            ],
            [
             0.4,
             "#fde0ef"
            ],
            [
             0.5,
             "#f7f7f7"
            ],
            [
             0.6,
             "#e6f5d0"
            ],
            [
             0.7,
             "#b8e186"
            ],
            [
             0.8,
             "#7fbc41"
            ],
            [
             0.9,
             "#4d9221"
            ],
            [
             1,
             "#276419"
            ]
           ],
           "sequential": [
            [
             0,
             "#0d0887"
            ],
            [
             0.1111111111111111,
             "#46039f"
            ],
            [
             0.2222222222222222,
             "#7201a8"
            ],
            [
             0.3333333333333333,
             "#9c179e"
            ],
            [
             0.4444444444444444,
             "#bd3786"
            ],
            [
             0.5555555555555556,
             "#d8576b"
            ],
            [
             0.6666666666666666,
             "#ed7953"
            ],
            [
             0.7777777777777778,
             "#fb9f3a"
            ],
            [
             0.8888888888888888,
             "#fdca26"
            ],
            [
             1,
             "#f0f921"
            ]
           ],
           "sequentialminus": [
            [
             0,
             "#0d0887"
            ],
            [
             0.1111111111111111,
             "#46039f"
            ],
            [
             0.2222222222222222,
             "#7201a8"
            ],
            [
             0.3333333333333333,
             "#9c179e"
            ],
            [
             0.4444444444444444,
             "#bd3786"
            ],
            [
             0.5555555555555556,
             "#d8576b"
            ],
            [
             0.6666666666666666,
             "#ed7953"
            ],
            [
             0.7777777777777778,
             "#fb9f3a"
            ],
            [
             0.8888888888888888,
             "#fdca26"
            ],
            [
             1,
             "#f0f921"
            ]
           ]
          },
          "colorway": [
           "#636efa",
           "#EF553B",
           "#00cc96",
           "#ab63fa",
           "#FFA15A",
           "#19d3f3",
           "#FF6692",
           "#B6E880",
           "#FF97FF",
           "#FECB52"
          ],
          "font": {
           "color": "#2a3f5f"
          },
          "geo": {
           "bgcolor": "white",
           "lakecolor": "white",
           "landcolor": "#E5ECF6",
           "showlakes": true,
           "showland": true,
           "subunitcolor": "white"
          },
          "hoverlabel": {
           "align": "left"
          },
          "hovermode": "closest",
          "mapbox": {
           "style": "light"
          },
          "paper_bgcolor": "white",
          "plot_bgcolor": "#E5ECF6",
          "polar": {
           "angularaxis": {
            "gridcolor": "white",
            "linecolor": "white",
            "ticks": ""
           },
           "bgcolor": "#E5ECF6",
           "radialaxis": {
            "gridcolor": "white",
            "linecolor": "white",
            "ticks": ""
           }
          },
          "scene": {
           "xaxis": {
            "backgroundcolor": "#E5ECF6",
            "gridcolor": "white",
            "gridwidth": 2,
            "linecolor": "white",
            "showbackground": true,
            "ticks": "",
            "zerolinecolor": "white"
           },
           "yaxis": {
            "backgroundcolor": "#E5ECF6",
            "gridcolor": "white",
            "gridwidth": 2,
            "linecolor": "white",
            "showbackground": true,
            "ticks": "",
            "zerolinecolor": "white"
           },
           "zaxis": {
            "backgroundcolor": "#E5ECF6",
            "gridcolor": "white",
            "gridwidth": 2,
            "linecolor": "white",
            "showbackground": true,
            "ticks": "",
            "zerolinecolor": "white"
           }
          },
          "shapedefaults": {
           "line": {
            "color": "#2a3f5f"
           }
          },
          "ternary": {
           "aaxis": {
            "gridcolor": "white",
            "linecolor": "white",
            "ticks": ""
           },
           "baxis": {
            "gridcolor": "white",
            "linecolor": "white",
            "ticks": ""
           },
           "bgcolor": "#E5ECF6",
           "caxis": {
            "gridcolor": "white",
            "linecolor": "white",
            "ticks": ""
           }
          },
          "title": {
           "x": 0.05
          },
          "xaxis": {
           "automargin": true,
           "gridcolor": "white",
           "linecolor": "white",
           "ticks": "",
           "title": {
            "standoff": 15
           },
           "zerolinecolor": "white",
           "zerolinewidth": 2
          },
          "yaxis": {
           "automargin": true,
           "gridcolor": "white",
           "linecolor": "white",
           "ticks": "",
           "title": {
            "standoff": 15
           },
           "zerolinecolor": "white",
           "zerolinewidth": 2
          }
         }
        },
        "xaxis": {
         "anchor": "y",
         "domain": [
          0,
          1
         ],
         "title": {
          "text": "index"
         }
        },
        "yaxis": {
         "anchor": "x",
         "domain": [
          0,
          1
         ],
         "title": {
          "text": "percentage"
         }
        }
       }
      }
     },
     "metadata": {},
     "output_type": "display_data"
    }
   ],
   "source": [
    "fig = px.bar(reverse_wins, x=reverse_wins.index, y='percentage')\n",
    "fig.show()"
   ]
  },
  {
   "cell_type": "markdown",
   "metadata": {},
   "source": [
    "## Task\n",
    "Which months through the history had more matches? Is it June, July, or others? Does the number of matches change from month to month?"
   ]
  },
  {
   "cell_type": "code",
   "execution_count": null,
   "metadata": {},
   "outputs": [],
   "source": [
    "# count values of months without year, plot values"
   ]
  },
  {
   "cell_type": "code",
   "execution_count": null,
   "metadata": {},
   "outputs": [],
   "source": []
  },
  {
   "cell_type": "markdown",
   "metadata": {},
   "source": [
    "## Task\n",
    "Which teams played against each other the most?"
   ]
  },
  {
   "cell_type": "code",
   "execution_count": null,
   "metadata": {},
   "outputs": [],
   "source": [
    "# count occurance of team pairings as unique value"
   ]
  },
  {
   "cell_type": "code",
   "execution_count": null,
   "metadata": {},
   "outputs": [],
   "source": []
  },
  {
   "cell_type": "markdown",
   "metadata": {},
   "source": [
    "## Task\n",
    "Apply your creativity to show some additional insights from the data."
   ]
  },
  {
   "cell_type": "code",
   "execution_count": null,
   "metadata": {},
   "outputs": [],
   "source": []
  },
  {
   "cell_type": "code",
   "execution_count": null,
   "metadata": {},
   "outputs": [],
   "source": []
  },
  {
   "cell_type": "markdown",
   "metadata": {},
   "source": [
    "## Task (Stretch)\n",
    "Create these graphs in Tableau as well."
   ]
  },
  {
   "cell_type": "code",
   "execution_count": null,
   "metadata": {},
   "outputs": [],
   "source": []
  }
 ],
 "metadata": {
  "interpreter": {
   "hash": "5eaee7f08749df7acde7defcf9c75ec9e0490b46ee4fb9b854947ce622c4fcf4"
  },
  "kernelspec": {
   "display_name": "Python 3.8.13 ('lhl_env')",
   "language": "python",
   "name": "python3"
  },
  "language_info": {
   "codemirror_mode": {
    "name": "ipython",
    "version": 3
   },
   "file_extension": ".py",
   "mimetype": "text/x-python",
   "name": "python",
   "nbconvert_exporter": "python",
   "pygments_lexer": "ipython3",
   "version": "3.8.2"
  }
 },
 "nbformat": 4,
 "nbformat_minor": 4
}
