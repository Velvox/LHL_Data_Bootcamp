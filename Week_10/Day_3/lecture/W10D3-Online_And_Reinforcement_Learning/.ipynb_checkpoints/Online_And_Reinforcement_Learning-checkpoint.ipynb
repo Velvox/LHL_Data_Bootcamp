{
 "cells": [
  {
   "cell_type": "markdown",
   "metadata": {},
   "source": [
    "# Online and Reinforcement Learning\n",
    "## Instructor: Jeremy Eng\n",
    "---\n",
    "## Outline:\n",
    "1. Online Learning\n",
    "    - Offline vs Online Learning\n",
    "    - Batch vs Stochastic Gradient Descent\n",
    "    - SGD Examples\n",
    "2. Reinforcement Learning\n",
    "    - Introduction\n",
    "    - Markov Decision Processes\n",
    "    - Actions and Policies\n",
    "    - Example\n",
    "    - Q-Learning\n",
    "3. Discussion"
   ]
  },
  {
   "cell_type": "markdown",
   "metadata": {},
   "source": [
    "## Online Learning\n",
    "\n",
    "### Offline vs Online Learning\n",
    "\n",
    "- Most machine learning algorithms are \"batch learners\" (offline learning algorithms)\n",
    "    - Generate a model by learning on the entire dataset **once**.\n",
    "    - Training is done **before** depolyment.\n",
    "    - After deployment, there is no more learning.\n",
    "    - Most well known and most used.\n",
    "- There is another class of algorithms known as **online** learning algorithms.\n",
    "    - Instead of learning on the entire dataset at once, data is consumed in sequential order as it becomes available.\n",
    "    - Can be individual data or mini-batches\n",
    "    - Each learning step is fast (new trained model is \"updated\", not completely re-trained)\n",
    "    - Learning can be done after deployment (typically automated/scheduled).\n",
    "    - E.g., COVID-19 modelling\n",
    "\n",
    "#### Question: Offline or Online?\n",
    "- YouTube video recommender\n",
    "- House price predictor"
   ]
  },
  {
   "cell_type": "markdown",
   "metadata": {},
   "source": [
    "---\n",
    "### Batch vs Stochastic Gradient Descent\n",
    "\n",
    "#### Quick Gradient Descent Review\n",
    "- Iterative optimization algorithm (e.g. minimize loss function).\n",
    "- Compute gradient (slope estimate), step in desired direction, update weights/model, and repeat.\n",
    "- There are three types of gradient descent algorithms: batch, stochastic, and mini-batch.\n",
    "\n",
    "<img src='images/GradientDescent.png'>"
   ]
  },
  {
   "cell_type": "markdown",
   "metadata": {},
   "source": [
    "#### Batch Gradient Descent\n",
    "- Computes gradient using all training data.\n",
    "\n",
    "*Upsides:*\n",
    "* Using all data points results in a more stable gradient and may result in a more stable convergence on some problems.\n",
    "* The separation of the calculation of prediction errors and the model update lends the algorithm to parallel processing based implementations.\n",
    "* Works well for convex or relatively smooth error manifolds.\n",
    "\n",
    "*Downsides:*\n",
    "* The more stable error gradient may result in premature convergence of the model to a less optimal set of parameters (local minima).\n",
    "* Generally requires the entire training dataset in memory and available to the algorithm.\n",
    "* Generally slower than stochastic gradient descent for very large training datasets."
   ]
  },
  {
   "cell_type": "markdown",
   "metadata": {},
   "source": [
    "#### Stochastic Gradient Descent\n",
    "- Computes gradient using only a single data point. \n",
    "\n",
    "*Upsides:*\n",
    "* Frequent model updates, which immediately give an insight into the performance of the model and the rate of improvement.\n",
    "* The increased model update frequency can result in faster learning on some problems.\n",
    "* The noisy update process can allow the model to avoid local minima (e.g. premature convergence).\n",
    "* Generally faster than batch gradient descent for very large training datasets.\n",
    "\n",
    "*Downsides:*\n",
    "* The frequent updates can result in a noisy gradient signal, which may cause the model parameters and in turn the model error to jump around.\n",
    "* The noisy learning process down the error gradient can also make it hard for the algorithm to settle on an error minimum for the model.\n",
    "\n",
    "<img src='images/LocalMin.png'>"
   ]
  },
  {
   "cell_type": "markdown",
   "metadata": {},
   "source": [
    "#### Mini-Batch Gradient Descent\n",
    "- Splits the training dataset into small batches that are used to calculate the gradient.\n",
    "- Implementations may choose to sum the gradient over the mini-batch which further reduces the variance of the gradient.\n",
    "- Seeks to find a balance between the robustness of stochastic gradient descent and the efficiency of batch gradient descent.\n",
    "- It is the most common implementation of gradient descent used in the field of deep learning.\n",
    "\n",
    "<img src='images/descent.PNG'>"
   ]
  },
  {
   "cell_type": "markdown",
   "metadata": {},
   "source": [
    "### Online Learning Example\n",
    "\n",
    "Code and Demo from the following Repo: https://github.com/dziganto/dziganto.github.io\n",
    "\n",
    "Let's now walkthrough how to implement an online learner in Scikit-learn. We will be using two datasets, the [Iris dataset](http://scikit-learn.org/stable/modules/generated/sklearn.datasets.load_iris.html#sklearn.datasets.load_iris) and the [Boston dataset](http://scikit-learn.org/stable/modules/generated/sklearn.datasets.load_boston.html#sklearn.datasets.load_boston).\n",
    "\n",
    "The Iris dataset will be used for classification, and the Boston dataset will be used for regression."
   ]
  },
  {
   "cell_type": "code",
   "execution_count": 1,
   "metadata": {},
   "outputs": [],
   "source": [
    "from sklearn.datasets import load_iris, load_boston\n",
    "from sklearn.model_selection import train_test_split\n",
    "from sklearn.linear_model import SGDClassifier, SGDRegressor #SGD = Stochastic gradient descent\n",
    "from sklearn.metrics import log_loss, mean_squared_error\n",
    "from sklearn.preprocessing import StandardScaler"
   ]
  },
  {
   "cell_type": "code",
   "execution_count": 2,
   "metadata": {
    "scrolled": true
   },
   "outputs": [
    {
     "name": "stderr",
     "output_type": "stream",
     "text": [
      "C:\\Users\\enger\\anaconda3\\envs\\Reinforce\\lib\\site-packages\\sklearn\\utils\\deprecation.py:87: FutureWarning: Function load_boston is deprecated; `load_boston` is deprecated in 1.0 and will be removed in 1.2.\n",
      "\n",
      "    The Boston housing prices dataset has an ethical problem. You can refer to\n",
      "    the documentation of this function for further details.\n",
      "\n",
      "    The scikit-learn maintainers therefore strongly discourage the use of this\n",
      "    dataset unless the purpose of the code is to study and educate about\n",
      "    ethical issues in data science and machine learning.\n",
      "\n",
      "    In this special case, you can fetch the dataset from the original\n",
      "    source::\n",
      "\n",
      "        import pandas as pd\n",
      "        import numpy as np\n",
      "\n",
      "\n",
      "        data_url = \"http://lib.stat.cmu.edu/datasets/boston\"\n",
      "        raw_df = pd.read_csv(data_url, sep=\"\\s+\", skiprows=22, header=None)\n",
      "        data = np.hstack([raw_df.values[::2, :], raw_df.values[1::2, :2]])\n",
      "        target = raw_df.values[1::2, 2]\n",
      "\n",
      "    Alternative datasets include the California housing dataset (i.e.\n",
      "    :func:`~sklearn.datasets.fetch_california_housing`) and the Ames housing\n",
      "    dataset. You can load the datasets as follows::\n",
      "\n",
      "        from sklearn.datasets import fetch_california_housing\n",
      "        housing = fetch_california_housing()\n",
      "\n",
      "    for the California housing dataset and::\n",
      "\n",
      "        from sklearn.datasets import fetch_openml\n",
      "        housing = fetch_openml(name=\"house_prices\", as_frame=True)\n",
      "\n",
      "    for the Ames housing dataset.\n",
      "    \n",
      "  warnings.warn(msg, category=FutureWarning)\n"
     ]
    }
   ],
   "source": [
    "#Load the data\n",
    "iris = load_iris() #for classification\n",
    "boston = load_boston() #for regression"
   ]
  },
  {
   "cell_type": "code",
   "execution_count": 3,
   "metadata": {},
   "outputs": [],
   "source": [
    "# iris dataset\n",
    "X_train_iris, X_test_iris, y_train_iris, y_test_iris = train_test_split(iris.data, \n",
    "                                                                        iris.target, \n",
    "                                                                        test_size=0.2, \n",
    "                                                                        random_state=42)\n",
    "\n",
    "# boston dataset\n",
    "X_train_boston, X_test_boston, y_train_boston, y_test_boston = train_test_split(boston.data,\n",
    "                                                                                boston.target,\n",
    "                                                                                test_size=0.2, \n",
    "                                                                                random_state=42)"
   ]
  },
  {
   "cell_type": "code",
   "execution_count": 4,
   "metadata": {},
   "outputs": [],
   "source": [
    "# Instantiate some online models\n",
    "# Classification\n",
    "svm = SGDClassifier(loss='hinge', #linear SVM\n",
    "                    penalty='l2', #regularization type\n",
    "                    alpha=0.1, #regularization\n",
    "                    tol=0.0001, #tolerance for significant improvement\n",
    "                    n_iter_no_change=5, #training will stop when (loss > best_loss - tol) for n_iter_no_change consecutive epochs.\n",
    "                    shuffle=True, #shuffle training data\n",
    "                    verbose=1, #output display\n",
    "                    n_jobs=1, #number of CPUs to use in parallel\n",
    "                    random_state=19)\n",
    "\n",
    "logistic = SGDClassifier(loss='log', #logistic regression \n",
    "                        penalty='l2', #regularization type\n",
    "                        alpha=0.1, #regularization\n",
    "                        tol=0.0001, #tolerance for significant improvement\n",
    "                        n_iter_no_change=5, #training will stop when (loss > best_loss - tol) for n_iter_no_change consecutive epochs.\n",
    "                        shuffle=True, #shuffle training data\n",
    "                        verbose=1, #output display\n",
    "                        n_jobs=1, #number of CPUs to use in parallel\n",
    "                        random_state=19)\n",
    "\n",
    "# Regression\n",
    "ols = SGDRegressor(loss='squared_loss', #ordinary least squares\n",
    "                   penalty='l2', #regularization type\n",
    "                   alpha=0.0001, #regularization\n",
    "                   shuffle=True, #shuffle training data\n",
    "                   verbose=1, #output display\n",
    "                   random_state=42, \n",
    "                   learning_rate='constant', #constant step size of eta0\n",
    "                   eta0=0.01) #step size\n",
    "\n",
    "robust = SGDRegressor(loss='huber', #more robust loss function\n",
    "                   penalty='l2', #regularization type\n",
    "                   alpha=0.0001, #regularization\n",
    "                   shuffle=True, #shuffle training data\n",
    "                   verbose=1, #output display\n",
    "                   random_state=42, \n",
    "                   learning_rate='constant', #constant step size of eta0\n",
    "                   eta0=0.01) #step size"
   ]
  },
  {
   "cell_type": "code",
   "execution_count": 5,
   "metadata": {},
   "outputs": [],
   "source": [
    "#Standardize data\n",
    "# iris\n",
    "sc_iris = StandardScaler()\n",
    "X_train_iris = sc_iris.fit_transform(X_train_iris)\n",
    "X_test_iris = sc_iris.transform(X_test_iris)\n",
    "\n",
    "# boston\n",
    "sc_boston = StandardScaler()\n",
    "X_train_boston = sc_boston.fit_transform(X_train_boston)\n",
    "X_test_boston = sc_boston.transform(X_test_boston)"
   ]
  },
  {
   "cell_type": "markdown",
   "metadata": {},
   "source": [
    "#### Train w/Online Learning Model: Classification\n",
    "---\n",
    "The Iris dataset has 3 classes so a One-Versus-All approach is taken in this online learning example. Therefore, there will be 3 runs, one for each class."
   ]
  },
  {
   "cell_type": "markdown",
   "metadata": {},
   "source": [
    "##### [1] Support Vector Machines: Output = Class ID"
   ]
  },
  {
   "cell_type": "code",
   "execution_count": 6,
   "metadata": {
    "scrolled": true
   },
   "outputs": [
    {
     "name": "stdout",
     "output_type": "stream",
     "text": [
      "-- Epoch 1\n",
      "Norm: 0.91, NNZs: 4, Bias: -0.714305, T: 120, Avg. loss: 0.057744\n",
      "Total training time: 0.00 seconds.\n",
      "-- Epoch 2\n",
      "Norm: 0.96, NNZs: 4, Bias: -0.782147, T: 240, Avg. loss: 0.018905\n",
      "Total training time: 0.00 seconds.\n",
      "-- Epoch 3\n",
      "Norm: 0.95, NNZs: 4, Bias: -0.729010, T: 360, Avg. loss: 0.014539\n",
      "Total training time: 0.00 seconds.\n",
      "-- Epoch 4\n",
      "Norm: 0.91, NNZs: 4, Bias: -0.754566, T: 480, Avg. loss: 0.018548\n",
      "Total training time: 0.00 seconds.\n",
      "-- Epoch 5\n",
      "Norm: 0.91, NNZs: 4, Bias: -0.751064, T: 600, Avg. loss: 0.017947\n",
      "Total training time: 0.00 seconds.\n",
      "-- Epoch 6\n",
      "Norm: 0.92, NNZs: 4, Bias: -0.749468, T: 720, Avg. loss: 0.017767\n",
      "Total training time: 0.00 seconds.\n",
      "-- Epoch 7\n",
      "Norm: 0.90, NNZs: 4, Bias: -0.761309, T: 840, Avg. loss: 0.017176\n",
      "Total training time: 0.00 seconds.\n",
      "-- Epoch 8\n",
      "Norm: 0.90, NNZs: 4, Bias: -0.762294, T: 960, Avg. loss: 0.017082\n",
      "Total training time: 0.00 seconds.\n",
      "Convergence after 8 epochs took 0.00 seconds\n",
      "-- Epoch 1\n",
      "Norm: 0.89, NNZs: 4, Bias: -0.813959, T: 120, Avg. loss: 0.848765\n",
      "Total training time: 0.00 seconds.\n",
      "-- Epoch 2\n",
      "Norm: 1.00, NNZs: 4, Bias: -0.727961, T: 240, Avg. loss: 0.659936\n",
      "Total training time: 0.00 seconds.\n",
      "-- Epoch 3\n",
      "Norm: 0.76, NNZs: 4, Bias: -0.826444, T: 360, Avg. loss: 0.617321\n",
      "Total training time: 0.00 seconds.\n",
      "-- Epoch 4\n",
      "Norm: 0.83, NNZs: 4, Bias: -0.780295, T: 480, Avg. loss: 0.629235\n",
      "Total training time: 0.00 seconds.\n",
      "-- Epoch 5\n",
      "Norm: 0.83, NNZs: 4, Bias: -0.824938, T: 600, Avg. loss: 0.626344\n",
      "Total training time: 0.00 seconds.\n",
      "-- Epoch 6\n",
      "Norm: 0.82, NNZs: 4, Bias: -0.790372, T: 720, Avg. loss: 0.618689\n",
      "Total training time: 0.00 seconds.\n",
      "-- Epoch 7\n",
      "Norm: 0.81, NNZs: 4, Bias: -0.797783, T: 840, Avg. loss: 0.623352\n",
      "Total training time: 0.00 seconds.\n",
      "-- Epoch 8\n",
      "Norm: 0.83, NNZs: 4, Bias: -0.786769, T: 960, Avg. loss: 0.622590\n",
      "Total training time: 0.00 seconds.\n",
      "Convergence after 8 epochs took 0.00 seconds\n",
      "-- Epoch 1\n",
      "Norm: 1.52, NNZs: 4, Bias: -1.297681, T: 120, Avg. loss: 0.396610\n",
      "Total training time: 0.00 seconds.\n",
      "-- Epoch 2\n",
      "Norm: 1.33, NNZs: 4, Bias: -1.511941, T: 240, Avg. loss: 0.252564\n",
      "Total training time: 0.00 seconds.\n",
      "-- Epoch 3\n",
      "Norm: 1.38, NNZs: 4, Bias: -1.493939, T: 360, Avg. loss: 0.233246\n",
      "Total training time: 0.00 seconds.\n",
      "-- Epoch 4\n",
      "Norm: 1.42, NNZs: 4, Bias: -1.449199, T: 480, Avg. loss: 0.224507\n",
      "Total training time: 0.00 seconds.\n",
      "-- Epoch 5\n",
      "Norm: 1.50, NNZs: 4, Bias: -1.408213, T: 600, Avg. loss: 0.216062\n",
      "Total training time: 0.00 seconds.\n",
      "-- Epoch 6\n",
      "Norm: 1.42, NNZs: 4, Bias: -1.484277, T: 720, Avg. loss: 0.215743\n",
      "Total training time: 0.00 seconds.\n",
      "-- Epoch 7\n",
      "Norm: 1.43, NNZs: 4, Bias: -1.483978, T: 840, Avg. loss: 0.215236\n",
      "Total training time: 0.00 seconds.\n",
      "-- Epoch 8\n",
      "Norm: 1.42, NNZs: 4, Bias: -1.476600, T: 960, Avg. loss: 0.217568\n",
      "Total training time: 0.00 seconds.\n",
      "-- Epoch 9\n",
      "Norm: 1.45, NNZs: 4, Bias: -1.461138, T: 1080, Avg. loss: 0.215760\n",
      "Total training time: 0.00 seconds.\n",
      "-- Epoch 10\n",
      "Norm: 1.40, NNZs: 4, Bias: -1.509583, T: 1200, Avg. loss: 0.205311\n",
      "Total training time: 0.00 seconds.\n",
      "-- Epoch 11\n",
      "Norm: 1.44, NNZs: 4, Bias: -1.474736, T: 1320, Avg. loss: 0.216386\n",
      "Total training time: 0.00 seconds.\n",
      "-- Epoch 12\n",
      "Norm: 1.44, NNZs: 4, Bias: -1.469257, T: 1440, Avg. loss: 0.212288\n",
      "Total training time: 0.00 seconds.\n",
      "-- Epoch 13\n",
      "Norm: 1.44, NNZs: 4, Bias: -1.476548, T: 1560, Avg. loss: 0.212569\n",
      "Total training time: 0.00 seconds.\n",
      "-- Epoch 14\n",
      "Norm: 1.42, NNZs: 4, Bias: -1.488298, T: 1680, Avg. loss: 0.208438\n",
      "Total training time: 0.00 seconds.\n",
      "-- Epoch 15\n",
      "Norm: 1.41, NNZs: 4, Bias: -1.498895, T: 1800, Avg. loss: 0.209303\n",
      "Total training time: 0.00 seconds.\n",
      "Convergence after 15 epochs took 0.00 seconds\n"
     ]
    },
    {
     "name": "stderr",
     "output_type": "stream",
     "text": [
      "[Parallel(n_jobs=1)]: Using backend SequentialBackend with 1 concurrent workers.\n",
      "[Parallel(n_jobs=1)]: Done   3 out of   3 | elapsed:    0.0s finished\n"
     ]
    },
    {
     "data": {
      "text/plain": [
       "SGDClassifier(alpha=0.1, n_jobs=1, random_state=19, tol=0.0001, verbose=1)"
      ]
     },
     "execution_count": 6,
     "metadata": {},
     "output_type": "execute_result"
    }
   ],
   "source": [
    "svm.fit(X_train_iris, y_train_iris)"
   ]
  },
  {
   "cell_type": "markdown",
   "metadata": {},
   "source": [
    "##### [2] Logistic Regression: Output = Class Probability"
   ]
  },
  {
   "cell_type": "code",
   "execution_count": 7,
   "metadata": {
    "scrolled": true
   },
   "outputs": [
    {
     "name": "stdout",
     "output_type": "stream",
     "text": [
      "-- Epoch 1\n",
      "Norm: 1.35, NNZs: 4, Bias: -1.124837, T: 120, Avg. loss: 0.126508\n",
      "Total training time: 0.00 seconds.\n",
      "-- Epoch 2\n",
      "Norm: 1.40, NNZs: 4, Bias: -1.179969, T: 240, Avg. loss: 0.114252\n",
      "Total training time: 0.00 seconds.\n",
      "-- Epoch 3\n",
      "Norm: 1.39, NNZs: 4, Bias: -1.206728, T: 360, Avg. loss: 0.107859\n",
      "Total training time: 0.00 seconds.\n",
      "-- Epoch 4\n",
      "Norm: 1.38, NNZs: 4, Bias: -1.222045, T: 480, Avg. loss: 0.108141\n",
      "Total training time: 0.00 seconds.\n",
      "-- Epoch 5\n",
      "Norm: 1.38, NNZs: 4, Bias: -1.231771, T: 600, Avg. loss: 0.107848\n",
      "Total training time: 0.00 seconds.\n",
      "-- Epoch 6\n",
      "Norm: 1.38, NNZs: 4, Bias: -1.238808, T: 720, Avg. loss: 0.108257\n",
      "Total training time: 0.00 seconds.\n",
      "-- Epoch 7\n",
      "Norm: 1.38, NNZs: 4, Bias: -1.244231, T: 840, Avg. loss: 0.107531\n",
      "Total training time: 0.00 seconds.\n",
      "-- Epoch 8\n",
      "Norm: 1.38, NNZs: 4, Bias: -1.247693, T: 960, Avg. loss: 0.107927\n",
      "Total training time: 0.00 seconds.\n",
      "-- Epoch 9\n",
      "Norm: 1.38, NNZs: 4, Bias: -1.250624, T: 1080, Avg. loss: 0.107874\n",
      "Total training time: 0.00 seconds.\n",
      "-- Epoch 10\n",
      "Norm: 1.38, NNZs: 4, Bias: -1.253336, T: 1200, Avg. loss: 0.107525\n",
      "Total training time: 0.00 seconds.\n",
      "-- Epoch 11\n",
      "Norm: 1.38, NNZs: 4, Bias: -1.255771, T: 1320, Avg. loss: 0.107166\n",
      "Total training time: 0.00 seconds.\n",
      "-- Epoch 12\n",
      "Norm: 1.38, NNZs: 4, Bias: -1.257723, T: 1440, Avg. loss: 0.107384\n",
      "Total training time: 0.00 seconds.\n",
      "-- Epoch 13\n",
      "Norm: 1.38, NNZs: 4, Bias: -1.259336, T: 1560, Avg. loss: 0.107457\n",
      "Total training time: 0.00 seconds.\n",
      "-- Epoch 14\n",
      "Norm: 1.38, NNZs: 4, Bias: -1.260864, T: 1680, Avg. loss: 0.107104\n",
      "Total training time: 0.00 seconds.\n",
      "-- Epoch 15\n",
      "Norm: 1.38, NNZs: 4, Bias: -1.262274, T: 1800, Avg. loss: 0.106844\n",
      "Total training time: 0.00 seconds.\n",
      "-- Epoch 16\n",
      "Norm: 1.38, NNZs: 4, Bias: -1.263432, T: 1920, Avg. loss: 0.107343\n",
      "Total training time: 0.00 seconds.\n",
      "-- Epoch 17\n",
      "Norm: 1.38, NNZs: 4, Bias: -1.264476, T: 2040, Avg. loss: 0.107281\n",
      "Total training time: 0.00 seconds.\n",
      "-- Epoch 18\n",
      "Norm: 1.38, NNZs: 4, Bias: -1.265449, T: 2160, Avg. loss: 0.107113\n",
      "Total training time: 0.00 seconds.\n",
      "-- Epoch 19\n",
      "Norm: 1.38, NNZs: 4, Bias: -1.266268, T: 2280, Avg. loss: 0.107189\n",
      "Total training time: 0.00 seconds.\n",
      "-- Epoch 20\n",
      "Norm: 1.38, NNZs: 4, Bias: -1.267068, T: 2400, Avg. loss: 0.106894\n",
      "Total training time: 0.00 seconds.\n",
      "Convergence after 20 epochs took 0.00 seconds\n",
      "-- Epoch 1\n",
      "Norm: 0.73, NNZs: 4, Bias: -0.770369, T: 120, Avg. loss: 0.629443\n",
      "Total training time: 0.00 seconds.\n",
      "-- Epoch 2\n",
      "Norm: 0.80, NNZs: 4, Bias: -0.773368, T: 240, Avg. loss: 0.541483\n",
      "Total training time: 0.00 seconds.\n",
      "-- Epoch 3\n",
      "Norm: 0.73, NNZs: 4, Bias: -0.813939, T: 360, Avg. loss: 0.530818\n",
      "Total training time: 0.00 seconds.\n",
      "-- Epoch 4\n",
      "Norm: 0.77, NNZs: 4, Bias: -0.775033, T: 480, Avg. loss: 0.538697\n",
      "Total training time: 0.00 seconds.\n",
      "-- Epoch 5\n",
      "Norm: 0.76, NNZs: 4, Bias: -0.776161, T: 600, Avg. loss: 0.534494\n",
      "Total training time: 0.00 seconds.\n",
      "-- Epoch 6\n",
      "Norm: 0.77, NNZs: 4, Bias: -0.765481, T: 720, Avg. loss: 0.533297\n",
      "Total training time: 0.00 seconds.\n",
      "-- Epoch 7\n",
      "Norm: 0.76, NNZs: 4, Bias: -0.768551, T: 840, Avg. loss: 0.532289\n",
      "Total training time: 0.00 seconds.\n",
      "-- Epoch 8\n",
      "Norm: 0.76, NNZs: 4, Bias: -0.768163, T: 960, Avg. loss: 0.532881\n",
      "Total training time: 0.00 seconds.\n",
      "Convergence after 8 epochs took 0.00 seconds\n",
      "-- Epoch 1\n",
      "Norm: 1.35, NNZs: 4, Bias: -1.293463, T: 120, Avg. loss: 0.324057\n",
      "Total training time: 0.00 seconds.\n",
      "-- Epoch 2\n",
      "Norm: 1.19, NNZs: 4, Bias: -1.351526, T: 240, Avg. loss: 0.281978\n",
      "Total training time: 0.00 seconds.\n",
      "-- Epoch 3\n",
      "Norm: 1.19, NNZs: 4, Bias: -1.352564, T: 360, Avg. loss: 0.285268\n",
      "Total training time: 0.00 seconds.\n",
      "-- Epoch 4\n",
      "Norm: 1.22, NNZs: 4, Bias: -1.339470, T: 480, Avg. loss: 0.287854\n",
      "Total training time: 0.00 seconds.\n",
      "-- Epoch 5\n",
      "Norm: 1.24, NNZs: 4, Bias: -1.336865, T: 600, Avg. loss: 0.286423\n",
      "Total training time: 0.00 seconds.\n",
      "-- Epoch 6\n",
      "Norm: 1.22, NNZs: 4, Bias: -1.343436, T: 720, Avg. loss: 0.281915\n",
      "Total training time: 0.00 seconds.\n",
      "-- Epoch 7\n",
      "Norm: 1.22, NNZs: 4, Bias: -1.344977, T: 840, Avg. loss: 0.282780\n",
      "Total training time: 0.00 seconds.\n",
      "Convergence after 7 epochs took 0.00 seconds\n"
     ]
    },
    {
     "name": "stderr",
     "output_type": "stream",
     "text": [
      "[Parallel(n_jobs=1)]: Using backend SequentialBackend with 1 concurrent workers.\n",
      "[Parallel(n_jobs=1)]: Done   3 out of   3 | elapsed:    0.0s finished\n"
     ]
    },
    {
     "data": {
      "text/plain": [
       "SGDClassifier(alpha=0.1, loss='log', n_jobs=1, random_state=19, tol=0.0001,\n",
       "              verbose=1)"
      ]
     },
     "execution_count": 7,
     "metadata": {},
     "output_type": "execute_result"
    }
   ],
   "source": [
    "logistic.fit(X_train_iris, y_train_iris)"
   ]
  },
  {
   "cell_type": "code",
   "execution_count": 8,
   "metadata": {
    "scrolled": true
   },
   "outputs": [
    {
     "name": "stdout",
     "output_type": "stream",
     "text": [
      "svm: 0.9333333333333333\n",
      "logistic: 0.9333333333333333\n"
     ]
    }
   ],
   "source": [
    "#print accuracies\n",
    "print(\"svm:\", svm.score(X_test_iris, y_test_iris))\n",
    "print(\"logistic:\", logistic.score(X_test_iris, y_test_iris))"
   ]
  },
  {
   "cell_type": "markdown",
   "metadata": {},
   "source": [
    "#### Train w/Online Learning Model: Regression\n",
    "---\n",
    "We'll train Ordinary Least Squares (OLS) and a Robust learner that uses [Huber loss](https://en.wikipedia.org/wiki/Huber_loss) on the Boston dataset. Once fit, we'll assess each model by looking at the resulting Root Mean Squared Error (RMSE)."
   ]
  },
  {
   "cell_type": "markdown",
   "metadata": {},
   "source": [
    "##### [1] Ordinary Least Squares"
   ]
  },
  {
   "cell_type": "code",
   "execution_count": 9,
   "metadata": {
    "scrolled": true
   },
   "outputs": [
    {
     "name": "stdout",
     "output_type": "stream",
     "text": [
      "-- Epoch 1\n",
      "Norm: 6.52, NNZs: 13, Bias: 22.941893, T: 404, Avg. loss: 48.724426\n",
      "Total training time: 0.00 seconds.\n",
      "-- Epoch 2\n",
      "Norm: 6.47, NNZs: 13, Bias: 23.194020, T: 808, Avg. loss: 12.413879\n",
      "Total training time: 0.00 seconds.\n",
      "-- Epoch 3\n",
      "Norm: 7.01, NNZs: 13, Bias: 22.605491, T: 1212, Avg. loss: 12.623575\n",
      "Total training time: 0.00 seconds.\n",
      "-- Epoch 4\n",
      "Norm: 6.30, NNZs: 13, Bias: 22.591538, T: 1616, Avg. loss: 11.918689\n",
      "Total training time: 0.00 seconds.\n",
      "-- Epoch 5\n",
      "Norm: 7.69, NNZs: 13, Bias: 22.704415, T: 2020, Avg. loss: 12.215381\n",
      "Total training time: 0.00 seconds.\n",
      "-- Epoch 6\n",
      "Norm: 7.32, NNZs: 13, Bias: 22.811566, T: 2424, Avg. loss: 12.425244\n",
      "Total training time: 0.00 seconds.\n",
      "-- Epoch 7\n",
      "Norm: 7.78, NNZs: 13, Bias: 22.740356, T: 2828, Avg. loss: 12.017244\n",
      "Total training time: 0.00 seconds.\n",
      "-- Epoch 8\n",
      "Norm: 7.29, NNZs: 13, Bias: 22.659318, T: 3232, Avg. loss: 12.455410\n",
      "Total training time: 0.00 seconds.\n",
      "-- Epoch 9\n",
      "Norm: 7.78, NNZs: 13, Bias: 22.737238, T: 3636, Avg. loss: 12.074630\n",
      "Total training time: 0.00 seconds.\n",
      "Convergence after 9 epochs took 0.00 seconds\n"
     ]
    },
    {
     "name": "stderr",
     "output_type": "stream",
     "text": [
      "C:\\Users\\enger\\anaconda3\\envs\\Reinforce\\lib\\site-packages\\sklearn\\linear_model\\_stochastic_gradient.py:165: FutureWarning: The loss 'squared_loss' was deprecated in v1.0 and will be removed in version 1.2. Use `loss='squared_error'` which is equivalent.\n",
      "  warnings.warn(\n"
     ]
    },
    {
     "data": {
      "text/plain": [
       "SGDRegressor(learning_rate='constant', loss='squared_loss', random_state=42,\n",
       "             verbose=1)"
      ]
     },
     "execution_count": 9,
     "metadata": {},
     "output_type": "execute_result"
    }
   ],
   "source": [
    "ols.fit(X_train_boston, y_train_boston)"
   ]
  },
  {
   "cell_type": "markdown",
   "metadata": {},
   "source": [
    "##### [2] Robust Learner"
   ]
  },
  {
   "cell_type": "code",
   "execution_count": 10,
   "metadata": {
    "scrolled": true
   },
   "outputs": [
    {
     "name": "stdout",
     "output_type": "stream",
     "text": [
      "-- Epoch 1\n",
      "Norm: 0.00, NNZs: 13, Bias: 0.404000, T: 404, Avg. loss: 2.255153\n",
      "Total training time: 0.00 seconds.\n",
      "-- Epoch 2\n",
      "Norm: 0.00, NNZs: 13, Bias: 0.808000, T: 808, Avg. loss: 2.214753\n",
      "Total training time: 0.00 seconds.\n",
      "-- Epoch 3\n",
      "Norm: 0.00, NNZs: 13, Bias: 1.212000, T: 1212, Avg. loss: 2.174353\n",
      "Total training time: 0.00 seconds.\n",
      "-- Epoch 4\n",
      "Norm: 0.00, NNZs: 13, Bias: 1.616000, T: 1616, Avg. loss: 2.133953\n",
      "Total training time: 0.00 seconds.\n",
      "-- Epoch 5\n",
      "Norm: 0.00, NNZs: 13, Bias: 2.020000, T: 2020, Avg. loss: 2.093553\n",
      "Total training time: 0.00 seconds.\n",
      "-- Epoch 6\n",
      "Norm: 0.00, NNZs: 13, Bias: 2.424000, T: 2424, Avg. loss: 2.053153\n",
      "Total training time: 0.00 seconds.\n",
      "-- Epoch 7\n",
      "Norm: 0.00, NNZs: 13, Bias: 2.828000, T: 2828, Avg. loss: 2.012753\n",
      "Total training time: 0.00 seconds.\n",
      "-- Epoch 8\n",
      "Norm: 0.00, NNZs: 13, Bias: 3.232000, T: 3232, Avg. loss: 1.972353\n",
      "Total training time: 0.00 seconds.\n",
      "-- Epoch 9\n",
      "Norm: 0.00, NNZs: 13, Bias: 3.636000, T: 3636, Avg. loss: 1.931953\n",
      "Total training time: 0.00 seconds.\n",
      "-- Epoch 10\n",
      "Norm: 0.00, NNZs: 13, Bias: 4.040000, T: 4040, Avg. loss: 1.891553\n",
      "Total training time: 0.00 seconds.\n",
      "-- Epoch 11\n",
      "Norm: 0.00, NNZs: 13, Bias: 4.444000, T: 4444, Avg. loss: 1.851153\n",
      "Total training time: 0.00 seconds.\n",
      "-- Epoch 12\n",
      "Norm: 0.00, NNZs: 13, Bias: 4.848000, T: 4848, Avg. loss: 1.810753\n",
      "Total training time: 0.00 seconds.\n",
      "-- Epoch 13\n",
      "Norm: 0.02, NNZs: 13, Bias: 5.250000, T: 5252, Avg. loss: 1.770445\n",
      "Total training time: 0.00 seconds.\n",
      "-- Epoch 14\n",
      "Norm: 0.03, NNZs: 13, Bias: 5.652000, T: 5656, Avg. loss: 1.730377\n",
      "Total training time: 0.00 seconds.\n",
      "-- Epoch 15\n",
      "Norm: 0.05, NNZs: 13, Bias: 6.053477, T: 6060, Avg. loss: 1.690350\n",
      "Total training time: 0.00 seconds.\n",
      "-- Epoch 16\n",
      "Norm: 0.08, NNZs: 13, Bias: 6.453477, T: 6464, Avg. loss: 1.650565\n",
      "Total training time: 0.00 seconds.\n",
      "-- Epoch 17\n",
      "Norm: 0.10, NNZs: 13, Bias: 6.853477, T: 6868, Avg. loss: 1.610809\n",
      "Total training time: 0.00 seconds.\n",
      "-- Epoch 18\n",
      "Norm: 0.13, NNZs: 13, Bias: 7.251477, T: 7272, Avg. loss: 1.571343\n",
      "Total training time: 0.00 seconds.\n",
      "-- Epoch 19\n",
      "Norm: 0.16, NNZs: 13, Bias: 7.649477, T: 7676, Avg. loss: 1.531892\n",
      "Total training time: 0.00 seconds.\n",
      "-- Epoch 20\n",
      "Norm: 0.20, NNZs: 13, Bias: 8.044717, T: 8080, Avg. loss: 1.492570\n",
      "Total training time: 0.00 seconds.\n",
      "-- Epoch 21\n",
      "Norm: 0.25, NNZs: 13, Bias: 8.436559, T: 8484, Avg. loss: 1.453658\n",
      "Total training time: 0.00 seconds.\n",
      "-- Epoch 22\n",
      "Norm: 0.31, NNZs: 13, Bias: 8.826355, T: 8888, Avg. loss: 1.415072\n",
      "Total training time: 0.00 seconds.\n",
      "-- Epoch 23\n",
      "Norm: 0.39, NNZs: 13, Bias: 9.212445, T: 9292, Avg. loss: 1.376505\n",
      "Total training time: 0.00 seconds.\n",
      "-- Epoch 24\n",
      "Norm: 0.46, NNZs: 13, Bias: 9.599431, T: 9696, Avg. loss: 1.338099\n",
      "Total training time: 0.00 seconds.\n",
      "-- Epoch 25\n",
      "Norm: 0.53, NNZs: 13, Bias: 9.987431, T: 10100, Avg. loss: 1.299654\n",
      "Total training time: 0.00 seconds.\n",
      "-- Epoch 26\n",
      "Norm: 0.61, NNZs: 13, Bias: 10.372860, T: 10504, Avg. loss: 1.261245\n",
      "Total training time: 0.00 seconds.\n",
      "-- Epoch 27\n",
      "Norm: 0.69, NNZs: 13, Bias: 10.757741, T: 10908, Avg. loss: 1.222900\n",
      "Total training time: 0.00 seconds.\n",
      "-- Epoch 28\n",
      "Norm: 0.77, NNZs: 13, Bias: 11.142770, T: 11312, Avg. loss: 1.184605\n",
      "Total training time: 0.00 seconds.\n",
      "-- Epoch 29\n",
      "Norm: 0.86, NNZs: 13, Bias: 11.525158, T: 11716, Avg. loss: 1.146328\n",
      "Total training time: 0.00 seconds.\n",
      "-- Epoch 30\n",
      "Norm: 0.95, NNZs: 13, Bias: 11.905158, T: 12120, Avg. loss: 1.108298\n",
      "Total training time: 0.00 seconds.\n",
      "-- Epoch 31\n",
      "Norm: 1.03, NNZs: 13, Bias: 12.286745, T: 12524, Avg. loss: 1.070514\n",
      "Total training time: 0.00 seconds.\n",
      "-- Epoch 32\n",
      "Norm: 1.11, NNZs: 13, Bias: 12.668745, T: 12928, Avg. loss: 1.032707\n",
      "Total training time: 0.00 seconds.\n",
      "-- Epoch 33\n",
      "Norm: 1.20, NNZs: 13, Bias: 13.049493, T: 13332, Avg. loss: 0.994867\n",
      "Total training time: 0.00 seconds.\n",
      "-- Epoch 34\n",
      "Norm: 1.27, NNZs: 13, Bias: 13.433352, T: 13736, Avg. loss: 0.957111\n",
      "Total training time: 0.00 seconds.\n",
      "-- Epoch 35\n",
      "Norm: 1.36, NNZs: 13, Bias: 13.814136, T: 14140, Avg. loss: 0.919340\n",
      "Total training time: 0.00 seconds.\n",
      "-- Epoch 36\n",
      "Norm: 1.43, NNZs: 13, Bias: 14.195870, T: 14544, Avg. loss: 0.881704\n",
      "Total training time: 0.00 seconds.\n",
      "-- Epoch 37\n",
      "Norm: 1.50, NNZs: 13, Bias: 14.566803, T: 14948, Avg. loss: 0.845377\n",
      "Total training time: 0.00 seconds.\n",
      "-- Epoch 38\n",
      "Norm: 1.57, NNZs: 13, Bias: 14.925703, T: 15352, Avg. loss: 0.811144\n",
      "Total training time: 0.00 seconds.\n",
      "-- Epoch 39\n",
      "Norm: 1.63, NNZs: 13, Bias: 15.280857, T: 15756, Avg. loss: 0.778116\n",
      "Total training time: 0.00 seconds.\n",
      "-- Epoch 40\n",
      "Norm: 1.69, NNZs: 13, Bias: 15.626474, T: 16160, Avg. loss: 0.745977\n",
      "Total training time: 0.00 seconds.\n",
      "-- Epoch 41\n",
      "Norm: 1.77, NNZs: 13, Bias: 15.959579, T: 16564, Avg. loss: 0.715371\n",
      "Total training time: 0.00 seconds.\n",
      "-- Epoch 42\n",
      "Norm: 1.82, NNZs: 13, Bias: 16.294872, T: 16968, Avg. loss: 0.685646\n",
      "Total training time: 0.00 seconds.\n",
      "-- Epoch 43\n",
      "Norm: 1.90, NNZs: 13, Bias: 16.619034, T: 17372, Avg. loss: 0.656491\n",
      "Total training time: 0.00 seconds.\n",
      "-- Epoch 44\n",
      "Norm: 1.96, NNZs: 13, Bias: 16.929182, T: 17776, Avg. loss: 0.628789\n",
      "Total training time: 0.00 seconds.\n",
      "-- Epoch 45\n",
      "Norm: 2.03, NNZs: 13, Bias: 17.227561, T: 18180, Avg. loss: 0.603284\n",
      "Total training time: 0.00 seconds.\n",
      "-- Epoch 46\n",
      "Norm: 2.10, NNZs: 13, Bias: 17.517874, T: 18584, Avg. loss: 0.578848\n",
      "Total training time: 0.00 seconds.\n",
      "-- Epoch 47\n",
      "Norm: 2.18, NNZs: 13, Bias: 17.803199, T: 18988, Avg. loss: 0.555209\n",
      "Total training time: 0.01 seconds.\n",
      "-- Epoch 48\n",
      "Norm: 2.26, NNZs: 13, Bias: 18.071436, T: 19392, Avg. loss: 0.532918\n",
      "Total training time: 0.01 seconds.\n",
      "-- Epoch 49\n",
      "Norm: 2.34, NNZs: 13, Bias: 18.324150, T: 19796, Avg. loss: 0.512343\n",
      "Total training time: 0.01 seconds.\n",
      "-- Epoch 50\n",
      "Norm: 2.42, NNZs: 13, Bias: 18.562286, T: 20200, Avg. loss: 0.493657\n",
      "Total training time: 0.01 seconds.\n",
      "-- Epoch 51\n",
      "Norm: 2.51, NNZs: 13, Bias: 18.790122, T: 20604, Avg. loss: 0.476089\n",
      "Total training time: 0.01 seconds.\n",
      "-- Epoch 52\n",
      "Norm: 2.59, NNZs: 13, Bias: 19.000342, T: 21008, Avg. loss: 0.460085\n",
      "Total training time: 0.01 seconds.\n",
      "-- Epoch 53\n",
      "Norm: 2.68, NNZs: 13, Bias: 19.195084, T: 21412, Avg. loss: 0.446338\n",
      "Total training time: 0.01 seconds.\n",
      "-- Epoch 54\n",
      "Norm: 2.76, NNZs: 13, Bias: 19.374143, T: 21816, Avg. loss: 0.434148\n",
      "Total training time: 0.01 seconds.\n",
      "-- Epoch 55\n",
      "Norm: 2.85, NNZs: 13, Bias: 19.538881, T: 22220, Avg. loss: 0.423065\n",
      "Total training time: 0.01 seconds.\n",
      "-- Epoch 56\n",
      "Norm: 2.93, NNZs: 13, Bias: 19.692399, T: 22624, Avg. loss: 0.412849\n",
      "Total training time: 0.01 seconds.\n",
      "-- Epoch 57\n",
      "Norm: 3.02, NNZs: 13, Bias: 19.837227, T: 23028, Avg. loss: 0.403620\n",
      "Total training time: 0.01 seconds.\n",
      "-- Epoch 58\n",
      "Norm: 3.10, NNZs: 13, Bias: 19.972139, T: 23432, Avg. loss: 0.395005\n",
      "Total training time: 0.01 seconds.\n",
      "-- Epoch 59\n",
      "Norm: 3.19, NNZs: 13, Bias: 20.100348, T: 23836, Avg. loss: 0.386997\n",
      "Total training time: 0.01 seconds.\n",
      "-- Epoch 60\n",
      "Norm: 3.29, NNZs: 13, Bias: 20.217097, T: 24240, Avg. loss: 0.379562\n",
      "Total training time: 0.01 seconds.\n",
      "-- Epoch 61\n",
      "Norm: 3.40, NNZs: 13, Bias: 20.324870, T: 24644, Avg. loss: 0.372839\n",
      "Total training time: 0.01 seconds.\n",
      "-- Epoch 62\n",
      "Norm: 3.50, NNZs: 13, Bias: 20.421484, T: 25048, Avg. loss: 0.366922\n",
      "Total training time: 0.01 seconds.\n",
      "-- Epoch 63\n",
      "Norm: 3.59, NNZs: 13, Bias: 20.508280, T: 25452, Avg. loss: 0.361835\n",
      "Total training time: 0.01 seconds.\n",
      "-- Epoch 64\n",
      "Norm: 3.67, NNZs: 13, Bias: 20.582491, T: 25856, Avg. loss: 0.357230\n",
      "Total training time: 0.01 seconds.\n",
      "-- Epoch 65\n",
      "Norm: 3.75, NNZs: 13, Bias: 20.642644, T: 26260, Avg. loss: 0.353644\n",
      "Total training time: 0.01 seconds.\n",
      "-- Epoch 66\n",
      "Norm: 3.84, NNZs: 13, Bias: 20.699902, T: 26664, Avg. loss: 0.350314\n",
      "Total training time: 0.01 seconds.\n",
      "-- Epoch 67\n",
      "Norm: 3.92, NNZs: 13, Bias: 20.752647, T: 27068, Avg. loss: 0.347264\n",
      "Total training time: 0.01 seconds.\n",
      "-- Epoch 68\n",
      "Norm: 3.99, NNZs: 13, Bias: 20.806727, T: 27472, Avg. loss: 0.344399\n",
      "Total training time: 0.01 seconds.\n",
      "-- Epoch 69\n",
      "Norm: 4.06, NNZs: 13, Bias: 20.861790, T: 27876, Avg. loss: 0.341754\n",
      "Total training time: 0.01 seconds.\n",
      "-- Epoch 70\n",
      "Norm: 4.13, NNZs: 13, Bias: 20.917024, T: 28280, Avg. loss: 0.339368\n",
      "Total training time: 0.01 seconds.\n",
      "-- Epoch 71\n",
      "Norm: 4.19, NNZs: 13, Bias: 20.968480, T: 28684, Avg. loss: 0.337187\n",
      "Total training time: 0.01 seconds.\n",
      "-- Epoch 72\n",
      "Norm: 4.26, NNZs: 13, Bias: 21.020215, T: 29088, Avg. loss: 0.335063\n",
      "Total training time: 0.01 seconds.\n",
      "-- Epoch 73\n",
      "Norm: 4.31, NNZs: 13, Bias: 21.075372, T: 29492, Avg. loss: 0.333022\n",
      "Total training time: 0.01 seconds.\n",
      "-- Epoch 74\n",
      "Norm: 4.37, NNZs: 13, Bias: 21.124028, T: 29896, Avg. loss: 0.331172\n",
      "Total training time: 0.01 seconds.\n",
      "-- Epoch 75\n",
      "Norm: 4.43, NNZs: 13, Bias: 21.170439, T: 30300, Avg. loss: 0.329452\n",
      "Total training time: 0.01 seconds.\n",
      "-- Epoch 76\n",
      "Norm: 4.47, NNZs: 13, Bias: 21.214666, T: 30704, Avg. loss: 0.327889\n",
      "Total training time: 0.01 seconds.\n",
      "-- Epoch 77\n",
      "Norm: 4.52, NNZs: 13, Bias: 21.251127, T: 31108, Avg. loss: 0.326453\n",
      "Total training time: 0.01 seconds.\n",
      "-- Epoch 78\n",
      "Norm: 4.57, NNZs: 13, Bias: 21.290123, T: 31512, Avg. loss: 0.325189\n",
      "Total training time: 0.01 seconds.\n",
      "-- Epoch 79\n",
      "Norm: 4.61, NNZs: 13, Bias: 21.322972, T: 31916, Avg. loss: 0.324116\n",
      "Total training time: 0.01 seconds.\n",
      "-- Epoch 80\n",
      "Norm: 4.66, NNZs: 13, Bias: 21.351231, T: 32320, Avg. loss: 0.323163\n",
      "Total training time: 0.01 seconds.\n",
      "-- Epoch 81\n",
      "Norm: 4.69, NNZs: 13, Bias: 21.376077, T: 32724, Avg. loss: 0.322328\n",
      "Total training time: 0.01 seconds.\n",
      "-- Epoch 82\n",
      "Norm: 4.73, NNZs: 13, Bias: 21.400413, T: 33128, Avg. loss: 0.321591\n",
      "Total training time: 0.01 seconds.\n",
      "-- Epoch 83\n",
      "Norm: 4.77, NNZs: 13, Bias: 21.422373, T: 33532, Avg. loss: 0.320850\n",
      "Total training time: 0.01 seconds.\n",
      "-- Epoch 84\n",
      "Norm: 4.81, NNZs: 13, Bias: 21.443565, T: 33936, Avg. loss: 0.320221\n",
      "Total training time: 0.01 seconds.\n",
      "Convergence after 84 epochs took 0.01 seconds\n"
     ]
    },
    {
     "data": {
      "text/plain": [
       "SGDRegressor(learning_rate='constant', loss='huber', random_state=42, verbose=1)"
      ]
     },
     "execution_count": 10,
     "metadata": {},
     "output_type": "execute_result"
    }
   ],
   "source": [
    "robust.fit(X_train_boston, y_train_boston)"
   ]
  },
  {
   "cell_type": "code",
   "execution_count": 11,
   "metadata": {},
   "outputs": [
    {
     "name": "stdout",
     "output_type": "stream",
     "text": [
      "RMSE for ols: 5.526088557701587\n",
      "RMSE for robust: 5.400623180290666\n"
     ]
    }
   ],
   "source": [
    "#print RMSE for the models\n",
    "\n",
    "print(\"RMSE for ols:\", mean_squared_error(y_test_boston, ols.predict(X_test_boston)) ** 0.5)\n",
    "print(\"RMSE for robust:\", mean_squared_error(y_test_boston, robust.predict(X_test_boston)) ** 0.5)"
   ]
  },
  {
   "cell_type": "markdown",
   "metadata": {},
   "source": [
    "As expected, the robust learner outperformed OLS because Huber loss is more robust to outliers. "
   ]
  },
  {
   "cell_type": "markdown",
   "metadata": {},
   "source": [
    "**Summary**\n",
    "\n",
    "- Batch and online learning are two common approaches to machine learning.\n",
    "- With batch, sometimes called offline learning, all data is consumed to build a model.\n",
    "- In contrast, online learning algorithms consume single observations.\n",
    "- Batch is more common. However, there are many use cases for online learning. For example, online learning shines when data is too large to fit into memory or you expect the distribution of your data to drift over time.\n",
    "- Furthermore, online learning is typically very fast, and once data has been consumed it's really not needed anymore.\n",
    "- Those can of course be great benefits but like all things in machine learning, you have to make sure your approach makes sense for your use case. "
   ]
  },
  {
   "cell_type": "markdown",
   "metadata": {},
   "source": [
    "---\n",
    "## Reinforcement Learning\n",
    "Adapted from [here](https://github.com/microsoft/ML-For-Beginners/blob/main/8-Reinforcement/1-QLearning/README.md)."
   ]
  },
  {
   "cell_type": "markdown",
   "metadata": {},
   "source": [
    "### Introduction\n",
    "\n",
    "- Reinforcement learning (RL) is an area of machine learning that focuses on how you (or an \"agent\") might act in an environment in order to **maximize** some reward.\n",
    "- RL involves three important concepts:\n",
    "    1. An agent\n",
    "    2. A set of states (in an environment)\n",
    "    3. A set of actions per state\n",
    "\n",
    "\n",
    "- By executing an action in a specified state, the agent is given a reward (good or bad).\n",
    "    - The agent's goal is to maximize their total reward.\n",
    "    - The agent learns the optimal actions in each state.\n",
    "    - Iterative learning.\n",
    "\n",
    "\n",
    "- E.g.: Consider Mario in a game level, standing next to a cliff edge with a coin above him.\n",
    "    - Mario is the **agent** with a goal of maximizing some score.\n",
    "    - The **state** would be Mario at a specific position and his surroundings.\n",
    "    - Mario has a set of **actions** he can perform while in this state.\n",
    "        - Moving one step to the right (an action) will take him over the edge (low/negative numerical score).\n",
    "        - Jumping would let Mario score a point and stay alive (positive numerical score).\n",
    "    - By using reinforcement learning and a simulator (the game), the agent can learn how to play the game to maximize the reward which is staying alive and scoring as many points as possible.\n",
    "    - This is done iteratively by having the agent play the game many, many times.\n",
    "- E.g. [MarI/O](https://youtu.be/qv6UVOQ0F44), [AlphaGo](https://youtu.be/WXuK6gekU1Y), [AlphaStar](https://www.deepmind.com/blog/alphastar-mastering-the-real-time-strategy-game-starcraft-ii).\n",
    "\n",
    "\n"
   ]
  },
  {
   "cell_type": "markdown",
   "metadata": {},
   "source": [
    "### Markov Decision Processes\n",
    "This framework is formally known as a Markov Decision Process (MDP).\n",
    "- At each time step, the agent will get some representation of the environment's state.\n",
    "- Given this representation, the agent selects an action to take.\n",
    "- The environment is then transitioned into a new state.\n",
    "- The agent is given a reward as a consequence of the previous action.\n",
    "- The agent's goal is to maximize the total amount of rewards from its actions."
   ]
  },
  {
   "cell_type": "markdown",
   "metadata": {},
   "source": [
    "### Actions and Policies\n",
    "- Naturally, there are different \"strategies\" that an agent can follow. We refer to these agent strategies as \"policies\".\n",
    "- Formally, a **policy** is defined as a function that returns the action at any given state.\n",
    "    - Note that policies can be stochastic (given a state, a policy provides probabilities for possible actions)."
   ]
  },
  {
   "cell_type": "markdown",
   "metadata": {},
   "source": [
    "### Example\n",
    "To make these concepts more concrete, let's look at an example. This example is taken from [here](https://github.com/microsoft/ML-For-Beginners/blob/main/8-Reinforcement/1-QLearning/README.md). We will create a toy game where an agent (named Peter) exists in a square board, where each cell in the board can either be:\n",
    "\n",
    "* **ground**, on which Peter and other creatures can walk (white).\n",
    "* **water**, on which you obviously cannot walk (blue).\n",
    "* a **tree** or **grass**, a place where you can rest (green).\n",
    "* an **apple**, which represents something Peter would be glad to find in order to feed himself.\n",
    "* a **wolf**, which is dangerous and should be avoided.\n",
    "\n",
    "There is a separate Python module, [`rlboard.py`](rlboard.py), which contains the code to work with this environment. Because this code is not important for understanding our concepts, we will import the module and use it to create the sample board. The code below prints a picture of an environment."
   ]
  },
  {
   "cell_type": "code",
   "execution_count": 12,
   "metadata": {},
   "outputs": [
    {
     "data": {
      "image/png": "[encoded data removed]",
      "text/plain": [
       "<Figure size 792x432 with 1 Axes>"
      ]
     },
     "metadata": {
      "needs_background": "light"
     },
     "output_type": "display_data"
    }
   ],
   "source": [
    "from rlboard import * #import rlboard.py\n",
    "\n",
    "width, height = 8,8 #the width and height of the board\n",
    "m = Board(width,height) #create the board\n",
    "m.randomize(seed=2) #randomize the board\n",
    "m.plot() #plot what the board looks like"
   ]
  },
  {
   "cell_type": "markdown",
   "metadata": {},
   "source": [
    "In our example, Peter's goal would be able to find an apple, while avoiding the wolf and water. To do this, he can essentially walk around until he finds an apple. Therefore, at any position, he can choose between one of the following four actions:\n",
    "- up\n",
    "- down\n",
    "- left\n",
    "- right\n",
    "\n",
    "We will define these actions as a dictionary and map them to pairs of corresponding coordinate changes. For example, moving right (`R`) would correspond to a pair `(1,0)`."
   ]
  },
  {
   "cell_type": "code",
   "execution_count": 13,
   "metadata": {},
   "outputs": [
    {
     "data": {
      "text/plain": [
       "{'U': 0, 'D': 1, 'L': 2, 'R': 3}"
      ]
     },
     "execution_count": 13,
     "metadata": {},
     "output_type": "execute_result"
    }
   ],
   "source": [
    "actions = { \"U\" : (0,-1), \"D\" : (0,1), \"L\" : (-1,0), \"R\" : (1,0) } #create a dictionary with the actions and their coordinate changes\n",
    "action_idx = { a : i for i,a in enumerate(actions.keys()) } #create a dictionary with the action and their index\n",
    "action_idx"
   ]
  },
  {
   "cell_type": "markdown",
   "metadata": {},
   "source": [
    "#### Random Walk Policy\n",
    "One simple policy would be a 'random walk' strategy. This is a very simple strategy that does not use any reinforcement learning. For a random walk strategy, we will simply randomly choose the next action from the allowed actions until we reach the apple.\n",
    "\n",
    "Implement the random walk with the below code. Note that in the `walk` function, the returned value will either be:\n",
    "- -1 if the agent is eaten by the wolf, or \n",
    "- n, which is the number of steps taken to get to an apple."
   ]
  },
  {
   "cell_type": "code",
   "execution_count": 14,
   "metadata": {
    "scrolled": true
   },
   "outputs": [
    {
     "data": {
      "text/plain": [
       "15"
      ]
     },
     "execution_count": 14,
     "metadata": {},
     "output_type": "execute_result"
    }
   ],
   "source": [
    "def random_policy(m): #a policy which simply chooses an action with equal probability\n",
    "    return random.choice(list(actions)) #a policy that will return a random choice\n",
    "\n",
    "def walk(m,policy, start_position=None): #will play the game with map 'm', using the policy 'random_policy', with an optional start position defined\n",
    "    n = 0 #will record the number of steps\n",
    "    if start_position: #if a start position is defined\n",
    "        m.human = start_position #set the start position\n",
    "    else: #otherwise there is no start position defined\n",
    "        m.random_start() #use random start position (empty white cell)\n",
    "    while True: #play the game\n",
    "        if m.at() == Board.Cell.apple: #if the agent is on an apple\n",
    "            return n #return the number of steps to get to the apple (win)\n",
    "        if m.at() == Board.Cell.wolf or m.at()==Board.Cell.water: #if the agent is on the wolf or water\n",
    "            return -1 #eaten by wolf or drowned (lose)\n",
    "        while True: #keep playing\n",
    "            a = actions[policy(m)] #get a new action according to the policy\n",
    "            new_pos = m.move_pos(m.human,a) #new potential position after making the action\n",
    "            if m.is_valid(new_pos): #if the new position is valid and not water\n",
    "                m.move(a) # do the actual move\n",
    "                break #keep playing\n",
    "        n+=1 #increase the number of steps by 1\n",
    "\n",
    "#call the walk function (play the game) with the map 'm', using the policy 'random_policy', with a random start position\n",
    "walk(m,random_policy) #start in random empty location"
   ]
  },
  {
   "cell_type": "markdown",
   "metadata": {},
   "source": [
    "The output will be the returned value from the `walk` function. It will output the length of the corresponding path taken to get to an apple, which can vary from one run to another. If it returns -1, then the agent was eaten by the wolf or drowned. Feel free to try re-running the code above multiple times. Due to randomness, your results will change!\n",
    "\n",
    "A good policy would have the agent die a minimal number of times, while also finding the apple in a small amount of steps. It would be useful to run the experiment a number of times and calculate the average path length, along with the number of times the agent dies.\n",
    "\n",
    "We can do this by using the code below, where we run the walk experiment a number of times (say, 100) and print the resulting statistics about the average path length and number of times eaten by the wolf:"
   ]
  },
  {
   "cell_type": "code",
   "execution_count": 15,
   "metadata": {},
   "outputs": [
    {
     "name": "stdout",
     "output_type": "stream",
     "text": [
      "Average path length = 14.318181818181818, agent dies 56 times\n"
     ]
    }
   ],
   "source": [
    "def print_statistics(policy): #will print statistics about this policy\n",
    "    #s will contain the total number of steps\n",
    "    #w will contain the number of times the agent is eaten by the wolf\n",
    "    #n will contain the number of times the apple is found\n",
    "    s,w,n = 0,0,0\n",
    "    for _ in range(100): #run 100 simulations\n",
    "        z = walk(m,policy) #run the game and get the result\n",
    "        if z<0: #agent was eaten by wolf\n",
    "            w+=1 #increase w by 1\n",
    "        else: #agent found the apple\n",
    "            s += z #add the number of steps to the total number of steps\n",
    "            n += 1 #increase n by 1\n",
    "    print(f\"Average path length = {s/n}, agent dies {w} times\") #prints the average path length and number of times eaten by wolf\n",
    "\n",
    "print_statistics(random_policy) #run the function above for the random_policy"
   ]
  },
  {
   "cell_type": "markdown",
   "metadata": {},
   "source": [
    "Note that the average length of a path when an apple is found is around 10 steps and the agent dies around 50% of the time. Let's try to do better than this with the help of a **reward function**!"
   ]
  },
  {
   "cell_type": "markdown",
   "metadata": {},
   "source": [
    "#### A better policy using a Reward Function\n",
    "\n",
    "To make our policy more intelligent, we need to understand which moves are \"better\" than others. To do this, we need to define our goal.\n",
    "\n",
    "The goal can be defined in terms of a **reward function**, which will return some score value for each state of the game. The higher the number, the better the reward function. As the state of the game changes over time, the scores from the reward function can be added (for example) over time, to achieve some kind of final score.\n",
    "\n",
    "The reward function coded below will reward +10 if the agent is on the apple, and the code will reward -10 if the agent is on water, the wolf, or an invalid location. Otherwise, the agent is on a safe space (white or green) and the reward will be -0.1."
   ]
  },
  {
   "cell_type": "code",
   "execution_count": 16,
   "metadata": {},
   "outputs": [],
   "source": [
    "goal_reward = 10 #the score for being on an apple\n",
    "end_reward = -10 #the score for being eaten by a wolf or drowning (or outside of the board)\n",
    "move_reward = -0.1 #the score for being on a safe space (white or green)\n",
    "\n",
    "def reward(m): #given a state of the game (m), will return a score\n",
    "    pos = m.human #position of the agent\n",
    "    if not m.is_valid(pos): #if in an invalid position\n",
    "        return end_reward\n",
    "    x = m.at(pos) #location of the agent\n",
    "    if x==Board.Cell.water or x == Board.Cell.wolf: #if agent is on water or the wolf\n",
    "        return end_reward\n",
    "    if x==Board.Cell.apple: #if the agent is on an apple\n",
    "        return goal_reward\n",
    "    return move_reward #otherwise the agent is on a \"safe space\" (white or green)"
   ]
  },
  {
   "cell_type": "markdown",
   "metadata": {},
   "source": [
    "#### YOUR TURN\n",
    "\n",
    "Why is a small negative reward (-0.1) provided if the agent is on a safe space (white or green)? "
   ]
  },
  {
   "cell_type": "markdown",
   "metadata": {},
   "source": [
    "<details>\n",
    "  <summary>Click here for solution</summary>\n",
    "\n",
    "The small negative reward punishes the agent for taking more steps before finding the apple. E.g., if the reward function scores are added up at the end of the game, finding an apple after 20 steps will result in a lower score (-0.1 x 20 + 10 = 8) than if an apple was found after 10 steps (-0.1 x 10 + 10 = 9). Also notice that finding the apple after 200 steps would reward the same score (-0.1 x 200 + 10= -10) as getting eaten by the wolf on step 1 (-10).\n",
    "</details>"
   ]
  },
  {
   "cell_type": "markdown",
   "metadata": {},
   "source": [
    "An interesting thing about reward functions is that in most cases, *we are only given a substantial reward at the end of the game*. This means that our algorithm should somehow remember \"good\" steps that lead to a positive reward at the end, and increase their importance. Similarly, all moves that lead to bad results should be discouraged."
   ]
  },
  {
   "cell_type": "markdown",
   "metadata": {},
   "source": [
    "### Q-Learning\n",
    "\n",
    "An algorithm that we will discuss here is called **Q-Learning**. In this algorithm, the policy is defined by a function (or a data structure) called a **Q-Table**. It records the \"goodness\" of each of the actions in a given state.\n",
    "\n",
    "It is called a Q-Table because it is often convenient to represent it as a table, or multi-dimensional array. Since our board has dimensions `width` x `height`, we can represent the Q-Table using a numpy array with shape `width` x `height` x `len(actions)`:"
   ]
  },
  {
   "cell_type": "code",
   "execution_count": 17,
   "metadata": {},
   "outputs": [
    {
     "data": {
      "text/plain": [
       "(8, 8, 4)"
      ]
     },
     "execution_count": 17,
     "metadata": {},
     "output_type": "execute_result"
    }
   ],
   "source": [
    "#a width x height x len(actions) array, filled with the value: 1/len(actions)\n",
    "Q = np.ones((width,height,len(actions)),dtype=float)/len(actions)\n",
    "Q.shape"
   ]
  },
  {
   "cell_type": "markdown",
   "metadata": {},
   "source": [
    "Notice that we initialize all the values of the Q-Table with an equal value of 1/len(actions). Since we have 4 possible actions in this example, we have 1/len(actions) = 1/4 = 0.25. So this initially corresponds to the \"random walk\" policy, because all moves in each state are equally good. We can pass the Q-Table to the `plot` function in order to visualize the Q-Table on the board:"
   ]
  },
  {
   "cell_type": "code",
   "execution_count": 18,
   "metadata": {},
   "outputs": [
    {
     "data": {
      "image/png": "[encoded data removed]",
      "text/plain": [
       "<Figure size 792x432 with 1 Axes>"
      ]
     },
     "metadata": {
      "needs_background": "light"
     },
     "output_type": "display_data"
    }
   ],
   "source": [
    "m.random_start() #use random start position (empty white cell)\n",
    "m.plot(Q) #prints the board and the Q-Table"
   ]
  },
  {
   "cell_type": "markdown",
   "metadata": {},
   "source": [
    "Using `m.plot(Q)`, in the center of each cell there will be an \"arrow\" that indicates the preferred direction of movement. But since all directions are equal right now, a dot is displayed.\n",
    "\n",
    "Now we need to run the simulation, explore our environment, and learn a better distribution of Q-Table values, which will allow us to find the path to the apple much faster."
   ]
  },
  {
   "cell_type": "markdown",
   "metadata": {},
   "source": [
    "#### Essence of Q-Learning: Bellman Equation\n",
    "\n",
    "When the agent is deciding an action, each potential action will have a corresponding reward. Therefore, a simple strategy to implement would be to select the next action based on the highest immediate reward. However, in most states, the move will not achieve our goal of reaching the apple, and thus we cannot immediately decide which direction is better. That is, in most cases, every action will move to a white or green location and thus have the same reward score.\n",
    "\n",
    "> Remember that it is not the immediate result that matters, but rather the final result, which we will obtain at the end of the simulation.\n",
    "\n",
    "In order to account for this delayed reward, we need to use the principles of **[dynamic programming](https://en.wikipedia.org/wiki/Dynamic_programming)**, which allow us to think about a problem recursively.\n",
    "\n",
    "Suppose we are now at the state *s*, and we want to move to the next state *s'*. By doing so, we will receive the **immediate reward *r(s,a)***, defined by the reward function, plus some future reward. If we suppose that our Q-Table correctly reflects the \"attractiveness\" of each action, then at state *s'* we will chose an action *a'* that corresponds to the maximum value of *Q(s',a')*. Thus, the best possible future reward we could get at state *s* will be defined as `max`<sub>a'</sub>*Q(s',a')* (maximum here is computed over all possible actions *a'* at state *s'*).\n",
    "\n",
    "This gives the **Bellman formula** for calculating the value of the Q-Table at state *s*, given action *a*:\n",
    "\n",
    "$$\n",
    "Q(s,a) = r(s,a) + \\gamma \\max_{a'} Q(s',a')\n",
    "$$\n",
    "\n",
    "Here $\\gamma$ is the so-called \"discount factor\" that determines to which extent you should prefer the current reward over the future reward and vice versa. To summarize, the Q-Table score at state *s*, given action *a* $Q(s,a)$ is the immediate reward $r(s,a)$ plus the best possible future reward $\\gamma \\max_{a'} Q(s',a')$."
   ]
  },
  {
   "cell_type": "markdown",
   "metadata": {},
   "source": [
    "#### Learning Algorithm\n",
    "\n",
    "Given the equation above, we can now write pseudo-code for our learning algorithm:\n",
    "\n",
    "1. Initialize Q-Table Q with equal numbers for all states and actions\n",
    "1. Set learning rate α ← 1\n",
    "1. Repeat simulation many times:\n",
    "   1. Start at random position\n",
    "   1. Repeat:\n",
    "        1. Select an action *a* at state *s*\n",
    "        1. Execute action by moving to a new state *s'*\n",
    "        1. If we encounter end-of-game condition, or total reward is too small - exit simulation  \n",
    "        1. Compute reward *r* at the new state\n",
    "        1. Update Q-Function according to Bellman equation: *Q(s,a)* ← *(1-α)Q(s,a)+α(r+γ max<sub>a'</sub>Q(s',a'))*\n",
    "        1. *s* ← *s'*\n",
    "        1. Update the total reward and decrease α."
   ]
  },
  {
   "cell_type": "markdown",
   "metadata": {},
   "source": [
    "#### Exploit vs. Explore\n",
    "\n",
    "In the algorithm above, we did not specify how exactly we should choose an action at the beginning of the inner-most loop. If we are choosing the action randomly, we will randomly **explore** the environment, and we are quite likely to die often or explore areas where we would not normally go. An alternative approach would be to **exploit** the Q-Table values that we already know, and always choose the best immediate action (with higher Q-Table value) at state *s*. This, however, will likely prevent us from exploring rare states, and we might not find the optimal solution.\n",
    "\n",
    "Therefore, the best approach is to strike a balance between exploration and exploitation. This can be done by choosing the action at state *s* with probabilities proportional to values in the Q-Table. In the beginning, when Q-Table values are all the same, it would correspond to a random selection, but as we learn more about our environment, we would be more likely to follow the optimal route, while also allowing the agent to choose the unexplored path occasionally."
   ]
  },
  {
   "cell_type": "markdown",
   "metadata": {},
   "source": [
    "#### Python Implementation\n",
    "\n",
    "That was a lot of theory, but we are now ready to implement the learning algorithm above! By implementing the learning algorithm, we will essentially \"train\" the Q-Table to contain information about which action is optimal at any state of the game.\n",
    "\n",
    "Lastly, before we do that, we will need some function that will convert arbitrary numbers in the Q-Table into a vector of probabilities for corresponding actions. To do this, we will create a function called `probs()`:"
   ]
  },
  {
   "cell_type": "code",
   "execution_count": 19,
   "metadata": {},
   "outputs": [],
   "source": [
    "def probs(v,eps=1e-4): #will take a vector of arbitrary numbers are return a probability vector (values sum to 1)\n",
    "    v = v-v.min()+eps #take each value in the vector and subtract it from the minimum (and add eps)\n",
    "    v = v/v.sum() #then divide each value by the sum of the vector (so we have a set of probabilities that sum to 1)\n",
    "    return v #return the probability vector"
   ]
  },
  {
   "cell_type": "markdown",
   "metadata": {},
   "source": [
    "We add a small amount of `eps` to the original vector in order to avoid division by 0 in the initial case, when all components of the vector are identical.\n",
    "\n",
    "Let's run the learning algorithm through 5000 experiments, also called **epochs**. We will keep track of when peter is eaten by the wolf, the number of steps taken when an apple is found, and the cumulative rewards score.\n",
    "\n",
    "The code below may take a couple minutes to complete, so feel free to take a short break while it runs."
   ]
  },
  {
   "cell_type": "code",
   "execution_count": 20,
   "metadata": {
    "scrolled": true
   },
   "outputs": [],
   "source": [
    "died = [] #1 if died, 0 if not\n",
    "steps_taken = [] #steps taken before apple is found\n",
    "all_cum_rewards = [] #will record cumulative rewards score for each epoch\n",
    "\n",
    "for epoch in range(5000):\n",
    "    m.random_start() #use random start position (empty white cell)\n",
    "    n=0 #will record the number of steps taken\n",
    "    cum_reward = 0 #will record the cumulative reward\n",
    "    while True:\n",
    "        x,y = m.human #location of the agent\n",
    "        v = probs(Q[x,y]) #probability vector from the Q-Table at this location\n",
    "        a = random.choices(list(actions),weights=v)[0]\n",
    "        dpos = actions[a]\n",
    "        m.move(dpos,check_correctness=False) # we allow player to move outside the board, which terminates episode\n",
    "        n+=1 #increase number of steps by 1\n",
    "        r = reward(m) #the reward after the action\n",
    "        cum_reward += r #add the reward to the cumulative reward\n",
    "        if r==end_reward or cum_reward < -1000: #if dead (or invalid) OR agent has taken ALOT of steps without enough apples (cum_reward gets too small)\n",
    "            died.append(1)\n",
    "            all_cum_rewards.append(cum_reward)\n",
    "            break #stop this run\n",
    "        if r==goal_reward: #apple is found\n",
    "            died.append(0)\n",
    "            steps_taken.append(n) #record the length of this path\n",
    "            all_cum_rewards.append(cum_reward)\n",
    "            break #stop this run\n",
    "        alpha = np.exp(-n / 10e5) #set alpha value\n",
    "        gamma = 0.5 #set gamma value\n",
    "        ai = action_idx[a] #the action index {'U': 0, 'D': 1, 'L': 2, 'R': 3}\n",
    "        Q[x,y,ai] = (1 - alpha) * Q[x,y,ai] + alpha * (r + gamma * Q[x+dpos[0], y+dpos[1]].max()) #update Q-Table according to Bellman formula\n",
    "    "
   ]
  },
  {
   "cell_type": "markdown",
   "metadata": {},
   "source": [
    "After the above code completes, the Q-Table should be updated with values that define the attractiveness of different actions at each step. Great work! We can try to visualize the Q-Table by plotting a vector at each cell that will point in the desired direction of movement. For simplicity, we draw a small circle instead of an arrow head:"
   ]
  },
  {
   "cell_type": "code",
   "execution_count": 21,
   "metadata": {
    "scrolled": false
   },
   "outputs": [
    {
     "data": {
      "image/png": "[encoded data removed]",
      "text/plain": [
       "<Figure size 792x432 with 1 Axes>"
      ]
     },
     "metadata": {
      "needs_background": "light"
     },
     "output_type": "display_data"
    }
   ],
   "source": [
    "m.plot(Q) #prints the board and the Q-Table"
   ]
  },
  {
   "cell_type": "markdown",
   "metadata": {},
   "source": [
    "We can also examine the learning process by examining how the number of steps to find an apple changed as agent learned."
   ]
  },
  {
   "cell_type": "code",
   "execution_count": 22,
   "metadata": {
    "scrolled": true
   },
   "outputs": [
    {
     "data": {
      "text/plain": [
       "[<matplotlib.lines.Line2D at 0x1d4932708b0>]"
      ]
     },
     "execution_count": 22,
     "metadata": {},
     "output_type": "execute_result"
    },
    {
     "data": {
      "image/png": "[encoded data removed]",
      "text/plain": [
       "<Figure size 432x288 with 1 Axes>"
      ]
     },
     "metadata": {
      "needs_background": "light"
     },
     "output_type": "display_data"
    }
   ],
   "source": [
    "plt.plot(steps_taken)"
   ]
  },
  {
   "cell_type": "code",
   "execution_count": 23,
   "metadata": {},
   "outputs": [
    {
     "data": {
      "text/plain": [
       "[<matplotlib.lines.Line2D at 0x1d493344a00>]"
      ]
     },
     "execution_count": 23,
     "metadata": {},
     "output_type": "execute_result"
    },
    {
     "data": {
      "image/png": "[encoded data removed]",
      "text/plain": [
       "<Figure size 432x288 with 1 Axes>"
      ]
     },
     "metadata": {
      "needs_background": "light"
     },
     "output_type": "display_data"
    }
   ],
   "source": [
    "def running_average(x,window):\n",
    "    return np.convolve(x,np.ones(window)/window,mode='valid')\n",
    "\n",
    "plt.plot(running_average(steps_taken,100))"
   ]
  },
  {
   "cell_type": "markdown",
   "metadata": {},
   "source": [
    "#### A Better Policy\n",
    "\n",
    "Now that we have a trained Q-Table, we can use it to define a better navigation policy than the random walk we implemented at the beginning of this lesson. In this policy, we will combine exploitation and exploration to select each action with a certain probability, proportional to the values in the Q-Table. This strategy may still result in the agent returning back to a position it has already explored, but, as you can see from the code below, it results in a much shorter average path to finding its first apple (remember that `print_statistics` runs the simulation 100 times)."
   ]
  },
  {
   "cell_type": "code",
   "execution_count": 24,
   "metadata": {},
   "outputs": [
    {
     "name": "stdout",
     "output_type": "stream",
     "text": [
      "Average path length = 3.3181818181818183, agent dies 56 times\n",
      "Average path length = 9.736842105263158, agent dies 62 times\n"
     ]
    }
   ],
   "source": [
    "def qpolicy(m): #policy that uses the Q-Table\n",
    "        x,y = m.human #position of the agent\n",
    "        v = probs(Q[x,y]) #vector of probabilities from the Q-Table\n",
    "        a = random.choices(list(actions),weights=v)[0] #choose the action based on the vector of probabilities\n",
    "        return a #return the chosen action\n",
    "\n",
    "print_statistics(qpolicy) #this will run the walk function 100 times with the policy that utilizes the trained Q-Table\n",
    "\n",
    "print_statistics (random_policy) #this will run the walk function 100 times with random walk policy"
   ]
  },
  {
   "cell_type": "markdown",
   "metadata": {},
   "source": [
    "After running both policies, you can see that the policy that utilizes the trained Q-Table results in a much smaller average path length to find an apple than the random walk policy!"
   ]
  },
  {
   "cell_type": "markdown",
   "metadata": {},
   "source": [
    "### A Reinforcement Learning Example\n",
    "http://projects.rajivshah.com/rldemo/\n",
    "\n",
    "- epsilon: randomness of agent\n",
    "- gamma: how far in the future the agent is looking\n"
   ]
  }
 ],
 "metadata": {
  "kernelspec": {
   "display_name": "Python 3 (ipykernel)",
   "language": "python",
   "name": "python3"
  },
  "language_info": {
   "codemirror_mode": {
    "name": "ipython",
    "version": 3
   },
   "file_extension": ".py",
   "mimetype": "text/x-python",
   "name": "python",
   "nbconvert_exporter": "python",
   "pygments_lexer": "ipython3",
   "version": "3.9.12"
  }
 },
 "nbformat": 4,
 "nbformat_minor": 2
}
