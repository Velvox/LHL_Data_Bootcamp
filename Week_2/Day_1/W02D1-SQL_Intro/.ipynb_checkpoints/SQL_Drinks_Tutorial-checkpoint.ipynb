{
 "cells": [
  {
   "cell_type": "markdown",
   "metadata": {},
   "source": [
    "# SQL tutorial using a database of drinks and bars\n",
    "\n",
    "Notebook by [Eric Elmoznino](https://github.com/EricElmoznino/lighthouse_sql_tutorial)\n",
    "\n",
    "## Things we will be doing:\n",
    "- Creating a PostgreSQL database using the `psql` shell tool\n",
    "- Importing existing data to fill the database (the `drinks.sql` file in this repository)\n",
    "- Using the `psycopg2` Python package to interact with the database (we could have alternatively used a dedicated SQL IDE like SQL Workbench)\n",
    "- Quering the database to explore SQL concepts such as:\n",
    "    - Filtering, ordering, limiting, etc.\n",
    "    - Joining tables\n",
    "    - Grouping records\n",
    "    - Aggregate functions\n",
    "    \n",
    "## Requirements:\n",
    "- Install PostgreSQL (https://www.postgresql.org/download/) and give the `postgres` user a password)\n",
    "- Add the PostgreSQL bin directory path to your PATH environmental variable.\n",
    "- Install the `psycopg2` Python package in your anaconda virtual environment of choice. **Note**: you will need to install other dependencies beforehand. Look up which ones for your operating system.\n",
    "    - Using conda: `conda install -c anaconda psycopg2`\n",
    "    - Using pip: `pip install psycopg2`"
   ]
  },
  {
   "cell_type": "markdown",
   "metadata": {},
   "source": [
    "# Creating the database using `psql`\n",
    "\n",
    "1. Start up your terminal (Anaconda Prompt for Windows).\n",
    "2. Switch to the \"postgres\" user that was created automatically when installing PostgreSQL (ignore if on Windows). \\\n",
    "`sudo -u postgres -i`\n",
    "3. Start the `psql` shell tool. \\\n",
    "`psql`\n",
    "    - Windows users use: `psql -U postgres`\n",
    "4. List the PostgreSQL databases that exist on your computer (press \"q\" when you want to exit the list view). \\\n",
    "`\\l`\n",
    "5. Create a new empty database called \"drinks\". \\\n",
    "`CREATE DATABASE drinks;`\n",
    "4. Confirm that the \"drinks\" database was created (press \"q\" when you want to exit the list view). \\\n",
    "`\\l`\n",
    "5. We can now leave the `psql` tool. \\\n",
    "`exit`\n",
    "5. And also log out of the \"postgres\" user. \\\n",
    "`exit`"
   ]
  },
  {
   "cell_type": "markdown",
   "metadata": {},
   "source": [
    "# Create a Python connection to the database and load in some data from the `drinks.sql` file"
   ]
  },
  {
   "cell_type": "code",
   "execution_count": null,
   "metadata": {},
   "outputs": [],
   "source": [
    "import psycopg2 #allows python to interact with postgres databases\n",
    "import pandas as pd\n",
    "\n",
    "# Create a connection to the drinks database we just made (substitute the password you set for the \"postgres\" user)\n",
    "con = psycopg2.connect(database='drinks', user='postgres', password='postgres',\n",
    "                       host='127.0.0.1', port='5432')\n",
    "\n",
    "cur = con.cursor() #used to execut queries\n",
    "\n",
    "cur.execute(open('drinks.sql', 'r').read())\n",
    "con.commit()"
   ]
  },
  {
   "cell_type": "code",
   "execution_count": null,
   "metadata": {},
   "outputs": [],
   "source": [
    "# Using triple quotations will ensure that everything inside the string\n",
    "# is read as a character (i.e. no need to use escape characters)\n",
    "query = \"\"\"\n",
    "SELECT * \n",
    "FROM drinks\n",
    "LIMIT 5;\n",
    "\"\"\"\n",
    "\n",
    "# You first execute the query, then get it's result.\n",
    "# Note: if you try to chain .execute().fetchall() in the same statement,\n",
    "# the database my not have time to execute the query in time, which will\n",
    "# result in you getting an error.\n",
    "cur.execute(query)\n",
    "response = cur.fetchall()\n",
    "\n",
    "# Let's look at the format of the response we get back\n",
    "print(f'This is the raw response we get back:\\n{response}\\n')\n",
    "\n",
    "# You can alternatively use pandas to get a nicely formatted DataFrame\n",
    "pandas_response = pd.read_sql_query(query, con)\n",
    "print('This is the nicely structured pandas response:\\n')\n",
    "pandas_response"
   ]
  },
  {
   "cell_type": "code",
   "execution_count": null,
   "metadata": {},
   "outputs": [],
   "source": [
    "# Before doing anything else, let's create a function out\n",
    "# of the things we're doing above\n",
    "def execute_query(query_string, return_pandas=True):\n",
    "    if return_pandas:\n",
    "        response = pd.read_sql_query(query_string, con)\n",
    "    else:\n",
    "        cur.execute(query_string)\n",
    "        response = cur.fetchall()\n",
    "    return response\n",
    "\n",
    "\n",
    "# Let's try out our function to make sure it does\n",
    "# the same as what we have above\n",
    "execute_query(query)"
   ]
  },
  {
   "cell_type": "markdown",
   "metadata": {},
   "source": [
    "# Some SQL references before we get started\n",
    "![](images/sql-cheat-sheet.png)\n",
    "\n",
    "## Order of operations *VERY USEFUL!!*\n",
    "![](images/order_of_operations.png)"
   ]
  },
  {
   "cell_type": "markdown",
   "metadata": {},
   "source": [
    "## Next let's take a peek at our data.\n",
    "<table style=\"border: 5px; width: 100%\">\n",
    " <tr>\n",
    "    <td><b style=\"font-size:30px\">menu_items</b></td>\n",
    "    <td><b style=\"font-size:30px\">orders</b></td>\n",
    "    <td><b style=\"font-size:30px\">drinks</b></td>\n",
    " </tr>\n",
    " <tr>\n",
    "    <td style=\"font-size:20px\"><b>drink_id</b>: string</td>\n",
    "    <td style=\"font-size:20px\"><b>drink_id</b>: string</td>\n",
    "    <td style=\"font-size:20px\"><b>drink_id</b>: string</td>\n",
    " </tr>\n",
    " <tr>\n",
    "    <td style=\"font-size:20px\"><b>bar</b>: string</td>\n",
    "    <td style=\"font-size:20px\"><b>bar</b>: string</td>\n",
    "    <td style=\"font-size:20px\"><b>type</b>: string</td>\n",
    " </tr>\n",
    " <tr>\n",
    "    <td style=\"font-size:20px\"><b>price</b>: real</td>\n",
    "    <td style=\"font-size:20px\"><b>person</b>: string</td>\n",
    "    <td style=\"font-size:20px\"></td>\n",
    " </tr>\n",
    " <tr>\n",
    "    <td style=\"font-size:20px\"></td>\n",
    "    <td style=\"font-size:20px\"><b>date</b>: string</td>\n",
    "    <td style=\"font-size:20px\"></td>\n",
    " </tr>\n",
    " <tr>\n",
    "    <td style=\"font-size:20px\"></td>\n",
    "    <td style=\"font-size:20px\"><b>quantity</b>: integer</td>\n",
    "    <td style=\"font-size:20px\"></td>\n",
    " </tr>\n",
    "</table>"
   ]
  },
  {
   "cell_type": "code",
   "execution_count": null,
   "metadata": {},
   "outputs": [],
   "source": [
    "execute_query(\"\"\"\n",
    "SELECT *\n",
    "FROM menu_items;\n",
    "\"\"\")"
   ]
  },
  {
   "cell_type": "markdown",
   "metadata": {},
   "source": [
    "# Time to start writing some queries"
   ]
  },
  {
   "cell_type": "markdown",
   "metadata": {},
   "source": [
    "## Problem 1\n",
    "Get the bar name and average price of drinks at each bar.\n",
    "<table style=\"border: 5px; width: 100%\">\n",
    " <tr>\n",
    "    <td><b style=\"font-size:30px\">menu_items</b></td>\n",
    "    <td><b style=\"font-size:30px\">orders</b></td>\n",
    "    <td><b style=\"font-size:30px\">drinks</b></td>\n",
    " </tr>\n",
    " <tr>\n",
    "    <td style=\"font-size:20px\"><b>drink_id</b>: string</td>\n",
    "    <td style=\"font-size:20px\"><b>drink_id</b>: string</td>\n",
    "    <td style=\"font-size:20px\"><b>drink_id</b>: string</td>\n",
    " </tr>\n",
    " <tr>\n",
    "    <td style=\"font-size:20px\"><b>bar</b>: string</td>\n",
    "    <td style=\"font-size:20px\"><b>bar</b>: string</td>\n",
    "    <td style=\"font-size:20px\"><b>type</b>: string</td>\n",
    " </tr>\n",
    " <tr>\n",
    "    <td style=\"font-size:20px\"><b>price</b>: real</td>\n",
    "    <td style=\"font-size:20px\"><b>person</b>: string</td>\n",
    "    <td style=\"font-size:20px\"></td>\n",
    " </tr>\n",
    " <tr>\n",
    "    <td style=\"font-size:20px\"></td>\n",
    "    <td style=\"font-size:20px\"><b>date</b>: string</td>\n",
    "    <td style=\"font-size:20px\"></td>\n",
    " </tr>\n",
    " <tr>\n",
    "    <td style=\"font-size:20px\"></td>\n",
    "    <td style=\"font-size:20px\"><b>quantity</b>: integer</td>\n",
    "    <td style=\"font-size:20px\"></td>\n",
    " </tr>\n",
    "</table>"
   ]
  },
  {
   "cell_type": "markdown",
   "metadata": {},
   "source": [
    "## Problem 2\n",
    "Get the bars with the top 5 average prices.\n",
    "<table style=\"border: 5px; width: 100%\">\n",
    " <tr>\n",
    "    <td><b style=\"font-size:30px\">menu_items</b></td>\n",
    "    <td><b style=\"font-size:30px\">orders</b></td>\n",
    "    <td><b style=\"font-size:30px\">drinks</b></td>\n",
    " </tr>\n",
    " <tr>\n",
    "    <td style=\"font-size:20px\"><b>drink_id</b>: string</td>\n",
    "    <td style=\"font-size:20px\"><b>drink_id</b>: string</td>\n",
    "    <td style=\"font-size:20px\"><b>drink_id</b>: string</td>\n",
    " </tr>\n",
    " <tr>\n",
    "    <td style=\"font-size:20px\"><b>bar</b>: string</td>\n",
    "    <td style=\"font-size:20px\"><b>bar</b>: string</td>\n",
    "    <td style=\"font-size:20px\"><b>type</b>: string</td>\n",
    " </tr>\n",
    " <tr>\n",
    "    <td style=\"font-size:20px\"><b>price</b>: real</td>\n",
    "    <td style=\"font-size:20px\"><b>person</b>: string</td>\n",
    "    <td style=\"font-size:20px\"></td>\n",
    " </tr>\n",
    " <tr>\n",
    "    <td style=\"font-size:20px\"></td>\n",
    "    <td style=\"font-size:20px\"><b>date</b>: string</td>\n",
    "    <td style=\"font-size:20px\"></td>\n",
    " </tr>\n",
    " <tr>\n",
    "    <td style=\"font-size:20px\"></td>\n",
    "    <td style=\"font-size:20px\"><b>quantity</b>: integer</td>\n",
    "    <td style=\"font-size:20px\"></td>\n",
    " </tr>\n",
    "</table>"
   ]
  },
  {
   "cell_type": "markdown",
   "metadata": {},
   "source": [
    "## Problem 3\n",
    "Get the bar with the cheapest drink, along with the drink type and price.\n",
    "<table style=\"border: 5px; width: 100%\">\n",
    " <tr>\n",
    "    <td><b style=\"font-size:30px\">menu_items</b></td>\n",
    "    <td><b style=\"font-size:30px\">orders</b></td>\n",
    "    <td><b style=\"font-size:30px\">drinks</b></td>\n",
    " </tr>\n",
    " <tr>\n",
    "    <td style=\"font-size:20px\"><b>drink_id</b>: string</td>\n",
    "    <td style=\"font-size:20px\"><b>drink_id</b>: string</td>\n",
    "    <td style=\"font-size:20px\"><b>drink_id</b>: string</td>\n",
    " </tr>\n",
    " <tr>\n",
    "    <td style=\"font-size:20px\"><b>bar</b>: string</td>\n",
    "    <td style=\"font-size:20px\"><b>bar</b>: string</td>\n",
    "    <td style=\"font-size:20px\"><b>type</b>: string</td>\n",
    " </tr>\n",
    " <tr>\n",
    "    <td style=\"font-size:20px\"><b>price</b>: real</td>\n",
    "    <td style=\"font-size:20px\"><b>person</b>: string</td>\n",
    "    <td style=\"font-size:20px\"></td>\n",
    " </tr>\n",
    " <tr>\n",
    "    <td style=\"font-size:20px\"></td>\n",
    "    <td style=\"font-size:20px\"><b>date</b>: string</td>\n",
    "    <td style=\"font-size:20px\"></td>\n",
    " </tr>\n",
    " <tr>\n",
    "    <td style=\"font-size:20px\"></td>\n",
    "    <td style=\"font-size:20px\"><b>quantity</b>: integer</td>\n",
    "    <td style=\"font-size:20px\"></td>\n",
    " </tr>\n",
    "</table>"
   ]
  },
  {
   "cell_type": "markdown",
   "metadata": {},
   "source": [
    "## Problem 4\n",
    "Get the number of beers sold by each bar in descending order (number of beers sold, not the number of beers on their menu).\n",
    "<table style=\"border: 5px; width: 100%\">\n",
    " <tr>\n",
    "    <td><b style=\"font-size:30px\">menu_items</b></td>\n",
    "    <td><b style=\"font-size:30px\">orders</b></td>\n",
    "    <td><b style=\"font-size:30px\">drinks</b></td>\n",
    " </tr>\n",
    " <tr>\n",
    "    <td style=\"font-size:20px\"><b>drink_id</b>: string</td>\n",
    "    <td style=\"font-size:20px\"><b>drink_id</b>: string</td>\n",
    "    <td style=\"font-size:20px\"><b>drink_id</b>: string</td>\n",
    " </tr>\n",
    " <tr>\n",
    "    <td style=\"font-size:20px\"><b>bar</b>: string</td>\n",
    "    <td style=\"font-size:20px\"><b>bar</b>: string</td>\n",
    "    <td style=\"font-size:20px\"><b>type</b>: string</td>\n",
    " </tr>\n",
    " <tr>\n",
    "    <td style=\"font-size:20px\"><b>price</b>: real</td>\n",
    "    <td style=\"font-size:20px\"><b>person</b>: string</td>\n",
    "    <td style=\"font-size:20px\"></td>\n",
    " </tr>\n",
    " <tr>\n",
    "    <td style=\"font-size:20px\"></td>\n",
    "    <td style=\"font-size:20px\"><b>date</b>: string</td>\n",
    "    <td style=\"font-size:20px\"></td>\n",
    " </tr>\n",
    " <tr>\n",
    "    <td style=\"font-size:20px\"></td>\n",
    "    <td style=\"font-size:20px\"><b>quantity</b>: integer</td>\n",
    "    <td style=\"font-size:20px\"></td>\n",
    " </tr>\n",
    "</table>"
   ]
  },
  {
   "cell_type": "markdown",
   "metadata": {},
   "source": [
    "## Problem 5\n",
    "For each person, find the bars they visit, and the type(s) and price(s) of the drink(s) they drink during those visits.\n",
    "<table style=\"border: 5px; width: 100%\">\n",
    " <tr>\n",
    "    <td><b style=\"font-size:30px\">menu_items</b></td>\n",
    "    <td><b style=\"font-size:30px\">orders</b></td>\n",
    "    <td><b style=\"font-size:30px\">drinks</b></td>\n",
    " </tr>\n",
    " <tr>\n",
    "    <td style=\"font-size:20px\"><b>drink_id</b>: string</td>\n",
    "    <td style=\"font-size:20px\"><b>drink_id</b>: string</td>\n",
    "    <td style=\"font-size:20px\"><b>drink_id</b>: string</td>\n",
    " </tr>\n",
    " <tr>\n",
    "    <td style=\"font-size:20px\"><b>bar</b>: string</td>\n",
    "    <td style=\"font-size:20px\"><b>bar</b>: string</td>\n",
    "    <td style=\"font-size:20px\"><b>type</b>: string</td>\n",
    " </tr>\n",
    " <tr>\n",
    "    <td style=\"font-size:20px\"><b>price</b>: real</td>\n",
    "    <td style=\"font-size:20px\"><b>person</b>: string</td>\n",
    "    <td style=\"font-size:20px\"></td>\n",
    " </tr>\n",
    " <tr>\n",
    "    <td style=\"font-size:20px\"></td>\n",
    "    <td style=\"font-size:20px\"><b>date</b>: string</td>\n",
    "    <td style=\"font-size:20px\"></td>\n",
    " </tr>\n",
    " <tr>\n",
    "    <td style=\"font-size:20px\"></td>\n",
    "    <td style=\"font-size:20px\"><b>quantity</b>: integer</td>\n",
    "    <td style=\"font-size:20px\"></td>\n",
    " </tr>\n",
    "</table>"
   ]
  },
  {
   "cell_type": "markdown",
   "metadata": {},
   "source": [
    "# Below are my answers"
   ]
  },
  {
   "cell_type": "markdown",
   "metadata": {},
   "source": [
    "## Answer 1"
   ]
  },
  {
   "cell_type": "code",
   "execution_count": null,
   "metadata": {
    "scrolled": true
   },
   "outputs": [],
   "source": [
    "execute_query(\"\"\"\n",
    "SELECT bar, AVG(price) AS avg_price\n",
    "FROM menu_items\n",
    "GROUP BY bar;\n",
    "\"\"\")\n",
    "\n",
    "# when you use an aggregate function, should use a GROUP BY (or it will aggregate the entire column)\n",
    "# whenever you use a GROUP BY, your selected columns need an aggregation (unless it's the GROUP BY column)\n",
    "# (SELECT drink_id gives error)"
   ]
  },
  {
   "cell_type": "markdown",
   "metadata": {},
   "source": [
    "## Answer 2"
   ]
  },
  {
   "cell_type": "code",
   "execution_count": null,
   "metadata": {},
   "outputs": [],
   "source": [
    "execute_query(\"\"\"\n",
    "SELECT bar, AVG(price) AS avg_price\n",
    "FROM menu_items\n",
    "GROUP BY bar\n",
    "ORDER BY avg_price DESC\n",
    "LIMIT 5;\n",
    "\"\"\")\n",
    "\n",
    "# Can also use 'ORDER BY 2 DESC'"
   ]
  },
  {
   "cell_type": "markdown",
   "metadata": {},
   "source": [
    "## Answer 3"
   ]
  },
  {
   "cell_type": "code",
   "execution_count": null,
   "metadata": {},
   "outputs": [],
   "source": [
    "execute_query(\"\"\"\n",
    "SELECT menu_items.bar, drinks.type, menu_items.price\n",
    "FROM menu_items JOIN drinks ON menu_items.drink_id=drinks.drink_id\n",
    "ORDER BY price ASC\n",
    "LIMIT 1;\n",
    "\"\"\")"
   ]
  },
  {
   "cell_type": "markdown",
   "metadata": {},
   "source": [
    "## Answer 4"
   ]
  },
  {
   "cell_type": "code",
   "execution_count": null,
   "metadata": {},
   "outputs": [],
   "source": [
    "execute_query(\"\"\"\n",
    "SELECT orders.bar, SUM(orders.quantity) as beers_sold \n",
    "FROM orders JOIN drinks ON drinks.drink_id = orders.drink_id\n",
    "WHERE drinks.type = 'beer'\n",
    "GROUP BY orders.bar\n",
    "ORDER BY beers_sold DESC;\n",
    "\"\"\")\n",
    "\n",
    "# Can also use: WHERE drinks.type LIKE '%beer%'"
   ]
  },
  {
   "cell_type": "markdown",
   "metadata": {},
   "source": [
    "## Answer 5"
   ]
  },
  {
   "cell_type": "code",
   "execution_count": null,
   "metadata": {},
   "outputs": [],
   "source": [
    "execute_query(\"\"\"\n",
    "SELECT o.person, o.bar, d.type, d.drink_id, m.price\n",
    "FROM orders AS o\n",
    "JOIN menu_items AS m ON (o.drink_id = m.drink_id AND o.bar = m.bar) \n",
    "JOIN drinks AS d ON o.drink_id = d.drink_id\n",
    "GROUP BY o.person, o.bar, d.type, d.drink_id, m.price;\n",
    "\"\"\")"
   ]
  },
  {
   "cell_type": "markdown",
   "metadata": {},
   "source": [
    "# Remember to close your database connection when you're done.\n",
    "**Note**: If you run this cell then try to run queries, it won't work.\n",
    "You will have to re-run the cell that initialized the connection."
   ]
  },
  {
   "cell_type": "code",
   "execution_count": null,
   "metadata": {},
   "outputs": [],
   "source": [
    "con.close()"
   ]
  }
 ],
 "metadata": {
  "kernelspec": {
   "display_name": "Python 3 (ipykernel)",
   "language": "python",
   "name": "python3"
  },
  "language_info": {
   "codemirror_mode": {
    "name": "ipython",
    "version": 3
   },
   "file_extension": ".py",
   "mimetype": "text/x-python",
   "name": "python",
   "nbconvert_exporter": "python",
   "pygments_lexer": "ipython3",
   "version": "3.9.7"
  }
 },
 "nbformat": 4,
 "nbformat_minor": 4
}
