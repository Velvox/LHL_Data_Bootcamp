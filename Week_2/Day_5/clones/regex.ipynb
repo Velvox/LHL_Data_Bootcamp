{
 "cells": [
  {
   "cell_type": "code",
   "execution_count": 2,
   "metadata": {},
   "outputs": [
    {
     "name": "stdout",
     "output_type": "stream",
     "text": [
      "Match at index 0, 7\n",
      "Full match: June 24\n",
      "Month: June\n",
      "Day: 24\n"
     ]
    }
   ],
   "source": [
    "import re\n",
    "\n",
    "regex = r\"([a-zA-Z]+) (\\d+)\"\n",
    "\n",
    "if re.search(regex, \"June 24\"):\n",
    "    match = re.search(regex, \"June 24\")\n",
    "    print(\"Match at index %s, %s\" % (match.start(), match.end()))\n",
    "    print(\"Full match: %s\" % (match.group(0)))\n",
    "    print(\"Month: %s\" % (match.group(1)))\n",
    "    print(\"Day: %s\" % (match.group(2)))\n",
    "else:\n",
    "    print(\"The regex pattern does not match. :(\")"
   ]
  },
  {
   "cell_type": "code",
   "execution_count": 3,
   "metadata": {},
   "outputs": [
    {
     "name": "stdout",
     "output_type": "stream",
     "text": [
      "Full match: June 24\n",
      "Full match: August 9\n",
      "Full match: Dec 12\n"
     ]
    }
   ],
   "source": [
    "# Lets use a regular expression to match a few date strings.\n",
    "regex = r\"[a-zA-Z]+ \\d+\"\n",
    "matches = re.findall(regex, \"June 24, August 9, Dec 12\")\n",
    "for match in matches:\n",
    "    print(\"Full match: %s\" % (match))\n",
    "\n"
   ]
  },
  {
   "cell_type": "code",
   "execution_count": 4,
   "metadata": {},
   "outputs": [
    {
     "name": "stdout",
     "output_type": "stream",
     "text": [
      "Match month: June\n",
      "Match month: August\n",
      "Match month: Dec\n"
     ]
    }
   ],
   "source": [
    "# To capture the specific months of each date we can use the following pattern\n",
    "regex = r\"([a-zA-Z]+) \\d+\"\n",
    "matches = re.findall(regex, \"June 24, August 9, Dec 12\")\n",
    "for match in matches:\n",
    "    # This will now print:\n",
    "    #   June\n",
    "    #   August\n",
    "    #   Dec\n",
    "    print(\"Match month: %s\" % (match))"
   ]
  },
  {
   "cell_type": "code",
   "execution_count": 7,
   "metadata": {},
   "outputs": [
    {
     "name": "stdout",
     "output_type": "stream",
     "text": [
      "Match at index: 0, 6\n",
      "Match at index: 9, 17\n",
      "Match at index: 19, 24\n"
     ]
    }
   ],
   "source": [
    "# If we need the exact positions of each match\n",
    "regex = r\"([a-zA-Z]+) \\d\"\n",
    "matches = re.finditer(regex, \"June 24, August 9, Dec 12\")\n",
    "for match in matches:\n",
    "    print(\"Match at index: %s, %s\" % (match.start(),match.end()))"
   ]
  },
  {
   "cell_type": "code",
   "execution_count": 8,
   "metadata": {},
   "outputs": [
    {
     "name": "stdout",
     "output_type": "stream",
     "text": [
      "24 of June, 9 of August, 12 of Dec\n"
     ]
    }
   ],
   "source": [
    "regex = r\"([a-zA-Z]+) (\\d+)\"\n",
    "\n",
    "print(re.sub(regex, r\"\\2 of \\1\", \"June 24, August 9, Dec 12\"))"
   ]
  },
  {
   "cell_type": "code",
   "execution_count": null,
   "metadata": {},
   "outputs": [],
   "source": []
  }
 ],
 "metadata": {
  "interpreter": {
   "hash": "5eaee7f08749df7acde7defcf9c75ec9e0490b46ee4fb9b854947ce622c4fcf4"
  },
  "kernelspec": {
   "display_name": "Python 3.8.13 ('lhl_env')",
   "language": "python",
   "name": "python3"
  },
  "language_info": {
   "codemirror_mode": {
    "name": "ipython",
    "version": 3
   },
   "file_extension": ".py",
   "mimetype": "text/x-python",
   "name": "python",
   "nbconvert_exporter": "python",
   "pygments_lexer": "ipython3",
   "version": "3.8.13"
  },
  "orig_nbformat": 4
 },
 "nbformat": 4,
 "nbformat_minor": 2
}
