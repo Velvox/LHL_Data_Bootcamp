{
 "cells": [
  {
   "cell_type": "markdown",
   "id": "5712d77a",
   "metadata": {},
   "source": [
    "# W02D3 - Other Data Types\n",
    "\n",
    "- Notebook by [James Bain](https://github.com/jcbain/data_2022-03-07/tree/main/w02d03_other_data_types)\n",
    "\n",
    "\n",
    "## Outline:\n",
    "- \"Tidy Data\" concepts and principles\n",
    "- Very quick tabular data recap\n",
    "    - Reading in Excel files\n",
    "- HTML/XML formats\n",
    "- JSON format"
   ]
  },
  {
   "cell_type": "markdown",
   "id": "0f93726b",
   "metadata": {},
   "source": [
    "# Tidy Data\n",
    "\n",
    "- [*Tidy Data*](https://vita.had.co.nz/papers/tidy-data.pdf) by Hadley Wickham\n",
    "\n",
    "## What is \"Tidy Data\"?\n",
    "\n",
    "- A set of principles for how to structure tabular data in a data frame (and why they're important).\n",
    "- Columns contain the same data type.\n",
    "- Rows contain observations.\n",
    "- We would like our data to be in this form.\n",
    "\n",
    "\n",
    "\n",
    "![rows/columns/values](images/01_tidy_data.png)"
   ]
  },
  {
   "cell_type": "markdown",
   "id": "a1a9941b",
   "metadata": {},
   "source": [
    "## Examples of Untidy data\n",
    "\n",
    "### Ex 1\n",
    "\n",
    "- dataset: `puppies`\n",
    "- info: measuring the weights (kg) of puppies after 6 months and 24 months\n",
    "- **What is wrong? How to fix?**\n",
    "\n",
    "\n",
    "| name  | 6 | 24 |\n",
    "|----|----|----|\n",
    "| pippa | 8 | 12 |\n",
    "| prairie | 5 | 10 |\n",
    "\n",
    "#### Problem:\n",
    "* the column names aren't **variables**, but instead they are **values of a variable** (age).\n",
    "* Called \"pivoted\"\n",
    "\n",
    "\n",
    "Tidied example (unpivoted):\n",
    "\n",
    "| name | age | weight |\n",
    "|------|-----|--------|\n",
    "| pippa | 6 | 8 |\n",
    "| prairie | 6 | 5|\n",
    "| pippa | 24 | 12 |\n",
    "| prairie | 24 | 10 |\n",
    "\n",
    "- This format will be easier to work with when we start ML.\n",
    "\n",
    "### Ex 2\n",
    "\n",
    "- dataset: `test_scores`\n",
    "- info: documenting test scores of students\n",
    "- **What is wrong? How to fix?**\n",
    "\n",
    "\n",
    "| student_id | test_name | score |\n",
    "| ---------- | --------- | ----- |\n",
    "| 1          | bio       | 76/100|\n",
    "| 2          | bio       | 90/100|\n",
    "| 1          | anthro    | 200/250|\n",
    "\n",
    "#### Problem:\n",
    "\n",
    "* `score` column is a composite value of `points earned` over `points available` (string vs float)\n",
    "* Don't perform calculation; instead split into two columns to avoid losing information.\n",
    "\n",
    "Tidied example:\n",
    "\n",
    "| student_id | test_name | points_earned | points_available |\n",
    "| ---------- | --------- | ----- | -----|\n",
    "| 1          | bio       | 76 | 100 |\n",
    "| 2          | bio       | 90 | 100 |\n",
    "| 1          | anthro    | 200 | 250 |"
   ]
  },
  {
   "cell_type": "markdown",
   "id": "17abeaff",
   "metadata": {},
   "source": [
    "## Your Turn \n",
    "### Is this untidy? How can we fix?\n",
    "\n",
    "data: TB cases\n",
    "\n",
    "| country | cases (year 1999) | cases (year 2000) | population (year 1999) | population (year 2000) |\n",
    "| ------- | ----------------- | ----------------- | ---------------------- | ---------------------- |\n",
    "| Afghanistan | 745 | 2666 | 19987071 | 20595360 |\n",
    "| Brazil | 37737 | 80488 | 172006362 | 174504897 |\n",
    "| China | 212258 | 213766 | 1272915272 | 1280428583 | \n",
    "\n"
   ]
  },
  {
   "cell_type": "markdown",
   "id": "fd652df2",
   "metadata": {},
   "source": [
    "<details>\n",
    "  <summary>Solution 1 (hidden)</summary>\n",
    "    \n",
    "| country | year | cases | population |\n",
    "| ------- | ----------------- | ----------------- | ---------------------- |\n",
    "| Afghanistan | 1999 | 745 | 19987071 |\n",
    "| Afghanistan | 2000 | 2666 | 20595360 |\n",
    "| Brazil | 1999 | 37737 | 172006362 |\n",
    "| Brazil | 2000 | 80488 | 174504897 |\n",
    "| China | 1999 | 212258 | 1272915272 |\n",
    "| China | 2000 | 213766 | 1280428583 |\n",
    "</details>"
   ]
  },
  {
   "cell_type": "markdown",
   "id": "a01ba8af",
   "metadata": {},
   "source": [
    "<details>\n",
    "  <summary>Solution 2 (hidden)</summary>\n",
    "    \n",
    "| country | year | attribute | value |\n",
    "| ------- | ----------------- | ----------------- | ---------------------- |\n",
    "| Afghanistan | 1999 | cases | 745 |\n",
    "| Afghanistan | 1999 | population | 19987071 |\n",
    "| Afghanistan | 2000 | cases | 2666 |\n",
    "| Afghanistan | 2000 | population | 20595360 |\n",
    "| Brazil | 1999 | cases | 37737 |\n",
    "| Brazil | 1999 | population | 172006362 |\n",
    "| Brazil | 2000 | cases | 80488 |\n",
    "| Brazil | 2000 | population | 174504897 |\n",
    "| China | 1999 | cases | 212258 |\n",
    "| China | 1999 | population | 1272915272 |\n",
    "| China | 2000 | cases | 213766 |\n",
    "| China | 2000 | population | 1280428583 |\n",
    "</details>"
   ]
  },
  {
   "cell_type": "markdown",
   "id": "ed25bc2c-bcb8-463a-8a0b-88e7c8c8b0a1",
   "metadata": {},
   "source": [
    "# Tabular data recap\n",
    "**... and a small introduction to reading in excel (`xlsx`) files**"
   ]
  },
  {
   "cell_type": "code",
   "execution_count": 18,
   "id": "0aafcd29-fca4-4d5d-ad02-b6753f327e55",
   "metadata": {},
   "outputs": [],
   "source": [
    "import pandas as pd"
   ]
  },
  {
   "cell_type": "code",
   "execution_count": null,
   "id": "a9154041-481f-49fa-afc1-5613c9a90295",
   "metadata": {},
   "outputs": [],
   "source": [
    "# using pandas to construct a dataframe from an xlsx file\n",
    "puppies = pd.read_excel(\"data/puppies.xlsx\")\n",
    "puppies.head()"
   ]
  },
  {
   "cell_type": "code",
   "execution_count": null,
   "id": "d7ff01e0-c834-449d-af42-14c2f93f60c7",
   "metadata": {},
   "outputs": [],
   "source": [
    "# what if our file actually has multiple sheets?\n",
    "puppies_weights = pd.read_excel(\"data/puppies.xlsx\", sheet_name=\"Sheet1\")\n",
    "puppies_desc = pd.read_excel(\"data/puppies.xlsx\", sheet_name=\"Sheet2\")\n",
    "puppies_weights"
   ]
  },
  {
   "cell_type": "code",
   "execution_count": null,
   "id": "d5a694d3-2314-4494-a22d-0a8b9aafbbe4",
   "metadata": {},
   "outputs": [],
   "source": [
    "puppies_desc"
   ]
  },
  {
   "cell_type": "markdown",
   "id": "55e1dd42",
   "metadata": {},
   "source": [
    "## The power of documentation\n",
    "When working with any python library and its methods, it is always helpful to be aware of its documentation. Here is `pandas.read_excel()`'s  [documentation](https://pandas.pydata.org/docs/reference/api/pandas.read_excel.html)."
   ]
  },
  {
   "cell_type": "markdown",
   "id": "2a9f5177-c639-4472-8ab3-a7c4c171157f",
   "metadata": {},
   "source": [
    "# Some other types of data that are useful to data scientists\n",
    "\n",
    "| Data Type | Example |Uses |\n",
    "| :--------- | :------- | :---- |\n",
    "| JSON or XML | parsing APIs | gathering data, trend analysis, forecasting... |\n",
    "| HTML | web scraping | gathering web based document data, social media contacts... |\n",
    "| image/video | computer vision | self-driving cars, medical imaging diagnostics |\n",
    "| text | tweets, scripts, books | sentiment analysis, text generation, other natural language processing |\n",
    "\n",
    "Today we will be learning how to work with HTML, XML, and JSON formats.\n",
    "\n",
    "- XML: `xml`\n",
    "- HTML: `xml` (also `BeautifulSoup`, not covered but good to be aware of)\n",
    "- JSON: `json`\n"
   ]
  },
  {
   "cell_type": "markdown",
   "id": "80ef08a2-c936-4777-8b6d-8df6c40b947c",
   "metadata": {
    "tags": []
   },
   "source": [
    "# XML and HTML\n",
    "- `html`: hyper text markup language (what our browsers can read)\n",
    "- `xml`: extensible markup language (more general than HTML - we can define the \"tags\")\n",
    "- hierarchical collections of elements (tree structure)\n",
    "- generally consists of an opening tag, content, and closing tag\n",
    "\n",
    "Let's look at some HTML: [Wikipedia page for \"Dogs\"](https://en.wikipedia.org/wiki/Dog)\n",
    "- right-click->Inspect (or `F12`)\n",
    "\n",
    "Let's look at some XML:\n",
    "\n",
    "```xml\n",
    "<dog>\n",
    "    <name>Pippa</name>\n",
    "    <age>10</age>\n",
    "    <diet>\n",
    "        <fooditem>kibbles</fooditem>\n",
    "        <fooditem>pumpkin</fooditem>\n",
    "    </diet>\n",
    "</dog>\n",
    "```\n",
    "\n",
    "perhaps with attributes\n",
    "\n",
    "```xml\n",
    "<dog name=\"Pippa\" age=\"10\">\n",
    "    <diet>\n",
    "        <fooditem name=\"kibbles\"></fooditem>\n",
    "        <fooditem name=\"pumpkin\"></fooditem>  \n",
    "    </diet>\n",
    "</dog>\n",
    "```\n",
    "\n",
    "Remember, we will be using this data, so someone else will have designed the XML formatting/style. Our focus will be to parse through a HTML/XML file to get the information we want."
   ]
  },
  {
   "cell_type": "markdown",
   "id": "dbf44a80-5909-48cc-ba0a-cc1fd426da69",
   "metadata": {},
   "source": [
    "## Demo\n",
    "\n",
    "- data: `olympics.xml`\n",
    "- path: 'data/olympics.xml'\n",
    "- description: characteristics of several host countries of the Summer Olympic Games\n",
    "\n",
    "```xml\n",
    "<?xml version=\"1.0\"?>\n",
    "<data>\n",
    "  <country name=\"greece\">\n",
    "    <order>1</order>\n",
    "    <year>1896</year>\n",
    "    <nexthost name=\"france\"></nexthost>\n",
    "  </country>\n",
    "  <country name=\"united states of america\">\n",
    "    <order>3</order>\n",
    "    <year>1904</year>\n",
    "    <previoushost name=\"france\"></previoushost>\n",
    "    <nexthost name=\"england\"></nexthost>\n",
    "  </country>\n",
    "  <country name=\"australia\">\n",
    "    <order>27</order>\n",
    "    <year>2000</year>\n",
    "    <previoushost name=\"united states of america\"></previoushost>\n",
    "    <nexthost name=\"greece\"></nexthost>\n",
    "  </country>\n",
    "</data>\n",
    "```"
   ]
  },
  {
   "cell_type": "markdown",
   "id": "08a6ad13",
   "metadata": {},
   "source": [
    "Useful site to visualize the tree structure of a XML file: https://codebeautify.org/xmlviewer"
   ]
  },
  {
   "cell_type": "code",
   "execution_count": 3,
   "id": "e74077cb-0dd3-4809-815a-7a6960c56476",
   "metadata": {},
   "outputs": [
    {
     "data": {
      "text/plain": [
       "<xml.etree.ElementTree.ElementTree at 0x7fba989564c0>"
      ]
     },
     "execution_count": 3,
     "metadata": {},
     "output_type": "execute_result"
    }
   ],
   "source": [
    "# read in our data\n",
    "import xml.etree.ElementTree as et\n",
    "tree = et.parse('../data/olympics.xml')\n",
    "tree"
   ]
  },
  {
   "cell_type": "code",
   "execution_count": 4,
   "id": "3f459e93-8f0c-4701-be19-af05b43df741",
   "metadata": {},
   "outputs": [
    {
     "data": {
      "text/plain": [
       "<Element 'data' at 0x7fba972b53b0>"
      ]
     },
     "execution_count": 4,
     "metadata": {},
     "output_type": "execute_result"
    }
   ],
   "source": [
    "# grab the root element of tree\n",
    "root = tree.getroot()\n",
    "root"
   ]
  },
  {
   "cell_type": "markdown",
   "id": "e029d097-5619-4bbd-a434-eed7a6cec994",
   "metadata": {},
   "source": [
    "we have a handle on the root element. How do we begin exploring?\n",
    "- what's the root element's **tag**?\n",
    "- does the root element have any **attributes**? \n",
    "- does the root element contain any **children**?\n",
    "- can we extend this knowledge?\n",
    "\n",
    "How do we find out more? Check the [docs](https://docs.python.org/3/library/xml.etree.elementtree.html)"
   ]
  },
  {
   "cell_type": "code",
   "execution_count": 5,
   "id": "27a73857-d7f7-4570-9f6f-445a7e7005fe",
   "metadata": {
    "scrolled": true
   },
   "outputs": [
    {
     "name": "stdout",
     "output_type": "stream",
     "text": [
      "the root element's tag name is: data\n",
      "the attributes of the root are: {}\n",
      "the number of children that the root element has is:  3\n"
     ]
    }
   ],
   "source": [
    "# explore some of it's features\n",
    "print(\"the root element's tag name is:\", root.tag)\n",
    "print(\"the attributes of the root are:\", root.attrib) #dictionary\n",
    "print(\"the number of children that the root element has is: \", len(root))"
   ]
  },
  {
   "cell_type": "code",
   "execution_count": 6,
   "id": "08a79a81-e498-4458-b01e-dd29fcf11955",
   "metadata": {},
   "outputs": [
    {
     "name": "stdout",
     "output_type": "stream",
     "text": [
      "country\n",
      "{'name': 'greece'}\n",
      "3\n"
     ]
    }
   ],
   "source": [
    "#access the 0-th child\n",
    "first_child = root[0]\n",
    "print(first_child.tag)\n",
    "print(first_child.attrib)\n",
    "print(len(first_child))"
   ]
  },
  {
   "cell_type": "code",
   "execution_count": 7,
   "id": "7e156ab5",
   "metadata": {},
   "outputs": [
    {
     "name": "stdout",
     "output_type": "stream",
     "text": [
      "country\n",
      "{'name': 'united states of america'}\n",
      "4\n"
     ]
    }
   ],
   "source": [
    "second_child = root[1]\n",
    "print(second_child.tag)\n",
    "print(second_child.attrib)\n",
    "print(len(second_child))"
   ]
  },
  {
   "cell_type": "code",
   "execution_count": 8,
   "id": "7cd6c166",
   "metadata": {},
   "outputs": [
    {
     "name": "stdout",
     "output_type": "stream",
     "text": [
      "country\n",
      "{'name': 'australia'}\n",
      "4\n"
     ]
    }
   ],
   "source": [
    "third_child = root[2]\n",
    "print(third_child.tag)\n",
    "print(third_child.attrib)\n",
    "print(len(third_child))"
   ]
  },
  {
   "cell_type": "markdown",
   "id": "c6f50477",
   "metadata": {},
   "source": [
    "We could have instead iterated over a node's children using the `.iter()` method."
   ]
  },
  {
   "cell_type": "code",
   "execution_count": 9,
   "id": "00a761c5",
   "metadata": {},
   "outputs": [
    {
     "name": "stdout",
     "output_type": "stream",
     "text": [
      "country\n",
      "{'name': 'greece'}\n",
      "3\n",
      "country\n",
      "{'name': 'united states of america'}\n",
      "4\n",
      "country\n",
      "{'name': 'australia'}\n",
      "4\n"
     ]
    }
   ],
   "source": [
    "for countries in root.iter('country'): #iterates over all children (of root) with the tag 'country'\n",
    "    print(countries.tag)\n",
    "    print(countries.attrib)\n",
    "    print(len(countries))"
   ]
  },
  {
   "cell_type": "markdown",
   "id": "545c6f90",
   "metadata": {},
   "source": [
    "For nodes with multiple attributes, we can just specify the key of the attribute we want (since it's a dictionary)."
   ]
  },
  {
   "cell_type": "code",
   "execution_count": 10,
   "id": "51a06959",
   "metadata": {},
   "outputs": [
    {
     "data": {
      "text/plain": [
       "{'name': 'australia', 'abbrev': 'AUS'}"
      ]
     },
     "execution_count": 10,
     "metadata": {},
     "output_type": "execute_result"
    }
   ],
   "source": [
    "third_child.set('abbrev', 'AUS') #adds an attribute called 'abbrev' with a value of 'AUS' (note the XML file is not changed)\n",
    "third_child.attrib"
   ]
  },
  {
   "cell_type": "code",
   "execution_count": 11,
   "id": "1058e34c",
   "metadata": {},
   "outputs": [
    {
     "data": {
      "text/plain": [
       "'australia'"
      ]
     },
     "execution_count": 11,
     "metadata": {},
     "output_type": "execute_result"
    }
   ],
   "source": [
    "third_child.attrib['name']\n",
    "#third_child.attrib['abbrev']"
   ]
  },
  {
   "cell_type": "markdown",
   "id": "9d2162cc",
   "metadata": {},
   "source": [
    "We now know how to traverse a XML tree and get tags and attributes. How do we get an actual **value**? (E.g. what year did Greece host the olympics?"
   ]
  },
  {
   "cell_type": "code",
   "execution_count": 12,
   "id": "75995b6f-4585-42ab-af20-ff797e5460e1",
   "metadata": {},
   "outputs": [
    {
     "data": {
      "text/plain": [
       "{'name': 'greece'}"
      ]
     },
     "execution_count": 12,
     "metadata": {},
     "output_type": "execute_result"
    }
   ],
   "source": [
    "# grab the 0th country element and check its attribute\n",
    "first_child = root[0]\n",
    "first_child.attrib"
   ]
  },
  {
   "cell_type": "code",
   "execution_count": 13,
   "id": "4d098654",
   "metadata": {},
   "outputs": [
    {
     "name": "stdout",
     "output_type": "stream",
     "text": [
      "order\n",
      "year\n"
     ]
    }
   ],
   "source": [
    "#find which child has the tag='year'\n",
    "print(first_child[0].tag)\n",
    "print(first_child[1].tag)"
   ]
  },
  {
   "cell_type": "code",
   "execution_count": 14,
   "id": "9766aa7a",
   "metadata": {},
   "outputs": [
    {
     "data": {
      "text/plain": [
       "'1896'"
      ]
     },
     "execution_count": 14,
     "metadata": {},
     "output_type": "execute_result"
    }
   ],
   "source": [
    "#use .text to get the value at that node.\n",
    "first_child[1].text"
   ]
  },
  {
   "cell_type": "markdown",
   "id": "f34a8392",
   "metadata": {},
   "source": [
    "Surely there must be a more efficient way... Maybe some way to search?\n",
    "\n",
    "E.g. I want the value of the child with tag='year'"
   ]
  },
  {
   "cell_type": "code",
   "execution_count": 16,
   "id": "f083c757",
   "metadata": {},
   "outputs": [
    {
     "name": "stdout",
     "output_type": "stream",
     "text": [
      "1896\n"
     ]
    }
   ],
   "source": [
    "for sub_child in first_child.findall('year'):\n",
    "    print(sub_child.text)"
   ]
  },
  {
   "cell_type": "markdown",
   "id": "80ae79a9",
   "metadata": {},
   "source": [
    "For more XML methods (and examples), visit this link: https://docs.python.org/3/library/xml.etree.elementtree.html\n",
    "\n",
    "You'll also practice working with XML further in your compass exercises."
   ]
  },
  {
   "cell_type": "markdown",
   "id": "2983c73c-7fd2-487d-95bd-f92156a4161d",
   "metadata": {},
   "source": [
    "# JSON\n",
    "\n",
    "**J**ava**S**cript **O**bject **N**otation: Most popular semi-structured data format.\n",
    "\n",
    "A data-interchange format that is simple for humans and machines to read and write.\n",
    "\n",
    "Data are stored in structures of key-value pairs (dictionary).\n",
    "\n",
    "\n",
    "```json\n",
    "{\n",
    "  \"pizza\": [\"veggie\", \"pepperoni\", \"pineapple\", \"mushroom\"],\n",
    "  \"price\": [12.99, 14.00, 11.99, 16.00],\n",
    "  \"averageRating\": [5, 4, 4.5, 4.9]\n",
    "}\n",
    "```\n",
    "\n",
    "or \n",
    "\n",
    "```json\n",
    "{\n",
    "  \"pizza\": {\n",
    "    \"0\":\"veggie\",\n",
    "    \"1\":\"pepperoni\",\n",
    "    \"2\":\"pineapple\",\n",
    "    \"3\":\"mushroom\"\n",
    "  },\n",
    "  \"price\": {\n",
    "    \"0\":12.99,\n",
    "    \"1\":14.0,\n",
    "    \"2\":11.99,\n",
    "    \"3\":16.0\n",
    "  },\n",
    "  \"averageRating\": {\n",
    "    \"0\":5.0,\n",
    "    \"1\":4.0,\n",
    "    \"2\":4.5,\n",
    "    \"3\":4.9\n",
    "  }\n",
    "}\n",
    "```\n"
   ]
  },
  {
   "cell_type": "markdown",
   "id": "e033aeb6-f87c-4505-b4e0-b0ba92c03c53",
   "metadata": {},
   "source": [
    "When our attributes have the same number of items associated with them, parsing them out into a dataframe is rather simple."
   ]
  },
  {
   "cell_type": "code",
   "execution_count": 19,
   "id": "dd7ee937-9165-464e-8f21-5940e829a445",
   "metadata": {},
   "outputs": [
    {
     "data": {
      "text/html": [
       "<div>\n",
       "<style scoped>\n",
       "    .dataframe tbody tr th:only-of-type {\n",
       "        vertical-align: middle;\n",
       "    }\n",
       "\n",
       "    .dataframe tbody tr th {\n",
       "        vertical-align: top;\n",
       "    }\n",
       "\n",
       "    .dataframe thead th {\n",
       "        text-align: right;\n",
       "    }\n",
       "</style>\n",
       "<table border=\"1\" class=\"dataframe\">\n",
       "  <thead>\n",
       "    <tr style=\"text-align: right;\">\n",
       "      <th></th>\n",
       "      <th>pizza</th>\n",
       "      <th>price</th>\n",
       "      <th>averageRating</th>\n",
       "    </tr>\n",
       "  </thead>\n",
       "  <tbody>\n",
       "    <tr>\n",
       "      <th>0</th>\n",
       "      <td>veggie</td>\n",
       "      <td>12.99</td>\n",
       "      <td>5.0</td>\n",
       "    </tr>\n",
       "    <tr>\n",
       "      <th>1</th>\n",
       "      <td>pepperoni</td>\n",
       "      <td>14.00</td>\n",
       "      <td>4.0</td>\n",
       "    </tr>\n",
       "    <tr>\n",
       "      <th>2</th>\n",
       "      <td>pineapple</td>\n",
       "      <td>11.99</td>\n",
       "      <td>4.5</td>\n",
       "    </tr>\n",
       "    <tr>\n",
       "      <th>3</th>\n",
       "      <td>mushroom</td>\n",
       "      <td>16.00</td>\n",
       "      <td>4.9</td>\n",
       "    </tr>\n",
       "  </tbody>\n",
       "</table>\n",
       "</div>"
      ],
      "text/plain": [
       "       pizza  price  averageRating\n",
       "0     veggie  12.99            5.0\n",
       "1  pepperoni  14.00            4.0\n",
       "2  pineapple  11.99            4.5\n",
       "3   mushroom  16.00            4.9"
      ]
     },
     "execution_count": 19,
     "metadata": {},
     "output_type": "execute_result"
    }
   ],
   "source": [
    "data_url = \"https://raw.githubusercontent.com/jcbain/data_2022-03-07/main/w02d03_other_data_types/src/data/pizza.json\"\n",
    "#data_path = \"data/pizza.json\"\n",
    "pizza = pd.read_json(data_url)\n",
    "pizza"
   ]
  },
  {
   "cell_type": "markdown",
   "id": "fd5b7144-d1b1-4699-a856-b5e133bbc8b6",
   "metadata": {},
   "source": [
    "## Nested JSON\n",
    "however...\n",
    "\n",
    "data: [`data/content.json`](data/content.json)\n",
    "\n",
    "```json\n",
    "\n",
    "{\n",
    "  \"articles\": [\n",
    "    {\n",
    "      \"name\": \"how to program in javascript\",\n",
    "      \"author\": \"prairie\",\n",
    "      \"wordCount\": 1200\n",
    "    },\n",
    "    {\n",
    "      \"name\": \"should you rewrite your application in python?\",\n",
    "      \"author\": \"pippa\",\n",
    "      \"wordCount\": 40000\n",
    "    }\n",
    "  ],\n",
    "  \"blogs\": [\n",
    "    {\n",
    "      \"title\": \"differences between js objects and python dictionaries\",\n",
    "      \"postedBy\": \"jennifer\"\n",
    "    }\n",
    "  ]\n",
    "}\n",
    "```"
   ]
  },
  {
   "cell_type": "code",
   "execution_count": 20,
   "id": "84dcfc45-cfed-4353-aaf4-039b1781ea69",
   "metadata": {},
   "outputs": [
    {
     "ename": "ValueError",
     "evalue": "Expected object or value",
     "output_type": "error",
     "traceback": [
      "\u001b[0;31m---------------------------------------------------------------------------\u001b[0m",
      "\u001b[0;31mValueError\u001b[0m                                Traceback (most recent call last)",
      "\u001b[1;32m/Users/niclapenna/Documents/GitHub/LHL_Data_Bootcamp/Week_2/Day_3/Lecture/.ipynb_checkpoints/W02D3-Other_Data_Types-checkpoint.ipynb Cell 40'\u001b[0m in \u001b[0;36m<cell line: 1>\u001b[0;34m()\u001b[0m\n\u001b[0;32m----> <a href='vscode-notebook-cell:/Users/niclapenna/Documents/GitHub/LHL_Data_Bootcamp/Week_2/Day_3/Lecture/.ipynb_checkpoints/W02D3-Other_Data_Types-checkpoint.ipynb#ch0000039?line=0'>1</a>\u001b[0m content \u001b[39m=\u001b[39m pd\u001b[39m.\u001b[39;49mread_json(\u001b[39m\"\u001b[39;49m\u001b[39mdata/content.json\u001b[39;49m\u001b[39m\"\u001b[39;49m)\n",
      "File \u001b[0;32m~/opt/anaconda3/envs/lhl_env/lib/python3.8/site-packages/pandas/util/_decorators.py:207\u001b[0m, in \u001b[0;36mdeprecate_kwarg.<locals>._deprecate_kwarg.<locals>.wrapper\u001b[0;34m(*args, **kwargs)\u001b[0m\n\u001b[1;32m    <a href='file:///Users/niclapenna/opt/anaconda3/envs/lhl_env/lib/python3.8/site-packages/pandas/util/_decorators.py?line=204'>205</a>\u001b[0m     \u001b[39melse\u001b[39;00m:\n\u001b[1;32m    <a href='file:///Users/niclapenna/opt/anaconda3/envs/lhl_env/lib/python3.8/site-packages/pandas/util/_decorators.py?line=205'>206</a>\u001b[0m         kwargs[new_arg_name] \u001b[39m=\u001b[39m new_arg_value\n\u001b[0;32m--> <a href='file:///Users/niclapenna/opt/anaconda3/envs/lhl_env/lib/python3.8/site-packages/pandas/util/_decorators.py?line=206'>207</a>\u001b[0m \u001b[39mreturn\u001b[39;00m func(\u001b[39m*\u001b[39;49margs, \u001b[39m*\u001b[39;49m\u001b[39m*\u001b[39;49mkwargs)\n",
      "File \u001b[0;32m~/opt/anaconda3/envs/lhl_env/lib/python3.8/site-packages/pandas/util/_decorators.py:311\u001b[0m, in \u001b[0;36mdeprecate_nonkeyword_arguments.<locals>.decorate.<locals>.wrapper\u001b[0;34m(*args, **kwargs)\u001b[0m\n\u001b[1;32m    <a href='file:///Users/niclapenna/opt/anaconda3/envs/lhl_env/lib/python3.8/site-packages/pandas/util/_decorators.py?line=304'>305</a>\u001b[0m \u001b[39mif\u001b[39;00m \u001b[39mlen\u001b[39m(args) \u001b[39m>\u001b[39m num_allow_args:\n\u001b[1;32m    <a href='file:///Users/niclapenna/opt/anaconda3/envs/lhl_env/lib/python3.8/site-packages/pandas/util/_decorators.py?line=305'>306</a>\u001b[0m     warnings\u001b[39m.\u001b[39mwarn(\n\u001b[1;32m    <a href='file:///Users/niclapenna/opt/anaconda3/envs/lhl_env/lib/python3.8/site-packages/pandas/util/_decorators.py?line=306'>307</a>\u001b[0m         msg\u001b[39m.\u001b[39mformat(arguments\u001b[39m=\u001b[39marguments),\n\u001b[1;32m    <a href='file:///Users/niclapenna/opt/anaconda3/envs/lhl_env/lib/python3.8/site-packages/pandas/util/_decorators.py?line=307'>308</a>\u001b[0m         \u001b[39mFutureWarning\u001b[39;00m,\n\u001b[1;32m    <a href='file:///Users/niclapenna/opt/anaconda3/envs/lhl_env/lib/python3.8/site-packages/pandas/util/_decorators.py?line=308'>309</a>\u001b[0m         stacklevel\u001b[39m=\u001b[39mstacklevel,\n\u001b[1;32m    <a href='file:///Users/niclapenna/opt/anaconda3/envs/lhl_env/lib/python3.8/site-packages/pandas/util/_decorators.py?line=309'>310</a>\u001b[0m     )\n\u001b[0;32m--> <a href='file:///Users/niclapenna/opt/anaconda3/envs/lhl_env/lib/python3.8/site-packages/pandas/util/_decorators.py?line=310'>311</a>\u001b[0m \u001b[39mreturn\u001b[39;00m func(\u001b[39m*\u001b[39;49margs, \u001b[39m*\u001b[39;49m\u001b[39m*\u001b[39;49mkwargs)\n",
      "File \u001b[0;32m~/opt/anaconda3/envs/lhl_env/lib/python3.8/site-packages/pandas/io/json/_json.py:612\u001b[0m, in \u001b[0;36mread_json\u001b[0;34m(path_or_buf, orient, typ, dtype, convert_axes, convert_dates, keep_default_dates, numpy, precise_float, date_unit, encoding, encoding_errors, lines, chunksize, compression, nrows, storage_options)\u001b[0m\n\u001b[1;32m    <a href='file:///Users/niclapenna/opt/anaconda3/envs/lhl_env/lib/python3.8/site-packages/pandas/io/json/_json.py?line=608'>609</a>\u001b[0m     \u001b[39mreturn\u001b[39;00m json_reader\n\u001b[1;32m    <a href='file:///Users/niclapenna/opt/anaconda3/envs/lhl_env/lib/python3.8/site-packages/pandas/io/json/_json.py?line=610'>611</a>\u001b[0m \u001b[39mwith\u001b[39;00m json_reader:\n\u001b[0;32m--> <a href='file:///Users/niclapenna/opt/anaconda3/envs/lhl_env/lib/python3.8/site-packages/pandas/io/json/_json.py?line=611'>612</a>\u001b[0m     \u001b[39mreturn\u001b[39;00m json_reader\u001b[39m.\u001b[39;49mread()\n",
      "File \u001b[0;32m~/opt/anaconda3/envs/lhl_env/lib/python3.8/site-packages/pandas/io/json/_json.py:746\u001b[0m, in \u001b[0;36mJsonReader.read\u001b[0;34m(self)\u001b[0m\n\u001b[1;32m    <a href='file:///Users/niclapenna/opt/anaconda3/envs/lhl_env/lib/python3.8/site-packages/pandas/io/json/_json.py?line=743'>744</a>\u001b[0m         obj \u001b[39m=\u001b[39m \u001b[39mself\u001b[39m\u001b[39m.\u001b[39m_get_object_parser(\u001b[39mself\u001b[39m\u001b[39m.\u001b[39m_combine_lines(data_lines))\n\u001b[1;32m    <a href='file:///Users/niclapenna/opt/anaconda3/envs/lhl_env/lib/python3.8/site-packages/pandas/io/json/_json.py?line=744'>745</a>\u001b[0m \u001b[39melse\u001b[39;00m:\n\u001b[0;32m--> <a href='file:///Users/niclapenna/opt/anaconda3/envs/lhl_env/lib/python3.8/site-packages/pandas/io/json/_json.py?line=745'>746</a>\u001b[0m     obj \u001b[39m=\u001b[39m \u001b[39mself\u001b[39;49m\u001b[39m.\u001b[39;49m_get_object_parser(\u001b[39mself\u001b[39;49m\u001b[39m.\u001b[39;49mdata)\n\u001b[1;32m    <a href='file:///Users/niclapenna/opt/anaconda3/envs/lhl_env/lib/python3.8/site-packages/pandas/io/json/_json.py?line=746'>747</a>\u001b[0m \u001b[39mself\u001b[39m\u001b[39m.\u001b[39mclose()\n\u001b[1;32m    <a href='file:///Users/niclapenna/opt/anaconda3/envs/lhl_env/lib/python3.8/site-packages/pandas/io/json/_json.py?line=747'>748</a>\u001b[0m \u001b[39mreturn\u001b[39;00m obj\n",
      "File \u001b[0;32m~/opt/anaconda3/envs/lhl_env/lib/python3.8/site-packages/pandas/io/json/_json.py:768\u001b[0m, in \u001b[0;36mJsonReader._get_object_parser\u001b[0;34m(self, json)\u001b[0m\n\u001b[1;32m    <a href='file:///Users/niclapenna/opt/anaconda3/envs/lhl_env/lib/python3.8/site-packages/pandas/io/json/_json.py?line=765'>766</a>\u001b[0m obj \u001b[39m=\u001b[39m \u001b[39mNone\u001b[39;00m\n\u001b[1;32m    <a href='file:///Users/niclapenna/opt/anaconda3/envs/lhl_env/lib/python3.8/site-packages/pandas/io/json/_json.py?line=766'>767</a>\u001b[0m \u001b[39mif\u001b[39;00m typ \u001b[39m==\u001b[39m \u001b[39m\"\u001b[39m\u001b[39mframe\u001b[39m\u001b[39m\"\u001b[39m:\n\u001b[0;32m--> <a href='file:///Users/niclapenna/opt/anaconda3/envs/lhl_env/lib/python3.8/site-packages/pandas/io/json/_json.py?line=767'>768</a>\u001b[0m     obj \u001b[39m=\u001b[39m FrameParser(json, \u001b[39m*\u001b[39;49m\u001b[39m*\u001b[39;49mkwargs)\u001b[39m.\u001b[39;49mparse()\n\u001b[1;32m    <a href='file:///Users/niclapenna/opt/anaconda3/envs/lhl_env/lib/python3.8/site-packages/pandas/io/json/_json.py?line=769'>770</a>\u001b[0m \u001b[39mif\u001b[39;00m typ \u001b[39m==\u001b[39m \u001b[39m\"\u001b[39m\u001b[39mseries\u001b[39m\u001b[39m\"\u001b[39m \u001b[39mor\u001b[39;00m obj \u001b[39mis\u001b[39;00m \u001b[39mNone\u001b[39;00m:\n\u001b[1;32m    <a href='file:///Users/niclapenna/opt/anaconda3/envs/lhl_env/lib/python3.8/site-packages/pandas/io/json/_json.py?line=770'>771</a>\u001b[0m     \u001b[39mif\u001b[39;00m \u001b[39mnot\u001b[39;00m \u001b[39misinstance\u001b[39m(dtype, \u001b[39mbool\u001b[39m):\n",
      "File \u001b[0;32m~/opt/anaconda3/envs/lhl_env/lib/python3.8/site-packages/pandas/io/json/_json.py:880\u001b[0m, in \u001b[0;36mParser.parse\u001b[0;34m(self)\u001b[0m\n\u001b[1;32m    <a href='file:///Users/niclapenna/opt/anaconda3/envs/lhl_env/lib/python3.8/site-packages/pandas/io/json/_json.py?line=877'>878</a>\u001b[0m     \u001b[39mself\u001b[39m\u001b[39m.\u001b[39m_parse_numpy()\n\u001b[1;32m    <a href='file:///Users/niclapenna/opt/anaconda3/envs/lhl_env/lib/python3.8/site-packages/pandas/io/json/_json.py?line=878'>879</a>\u001b[0m \u001b[39melse\u001b[39;00m:\n\u001b[0;32m--> <a href='file:///Users/niclapenna/opt/anaconda3/envs/lhl_env/lib/python3.8/site-packages/pandas/io/json/_json.py?line=879'>880</a>\u001b[0m     \u001b[39mself\u001b[39;49m\u001b[39m.\u001b[39;49m_parse_no_numpy()\n\u001b[1;32m    <a href='file:///Users/niclapenna/opt/anaconda3/envs/lhl_env/lib/python3.8/site-packages/pandas/io/json/_json.py?line=881'>882</a>\u001b[0m \u001b[39mif\u001b[39;00m \u001b[39mself\u001b[39m\u001b[39m.\u001b[39mobj \u001b[39mis\u001b[39;00m \u001b[39mNone\u001b[39;00m:\n\u001b[1;32m    <a href='file:///Users/niclapenna/opt/anaconda3/envs/lhl_env/lib/python3.8/site-packages/pandas/io/json/_json.py?line=882'>883</a>\u001b[0m     \u001b[39mreturn\u001b[39;00m \u001b[39mNone\u001b[39;00m\n",
      "File \u001b[0;32m~/opt/anaconda3/envs/lhl_env/lib/python3.8/site-packages/pandas/io/json/_json.py:1133\u001b[0m, in \u001b[0;36mFrameParser._parse_no_numpy\u001b[0;34m(self)\u001b[0m\n\u001b[1;32m   <a href='file:///Users/niclapenna/opt/anaconda3/envs/lhl_env/lib/python3.8/site-packages/pandas/io/json/_json.py?line=1128'>1129</a>\u001b[0m orient \u001b[39m=\u001b[39m \u001b[39mself\u001b[39m\u001b[39m.\u001b[39morient\n\u001b[1;32m   <a href='file:///Users/niclapenna/opt/anaconda3/envs/lhl_env/lib/python3.8/site-packages/pandas/io/json/_json.py?line=1130'>1131</a>\u001b[0m \u001b[39mif\u001b[39;00m orient \u001b[39m==\u001b[39m \u001b[39m\"\u001b[39m\u001b[39mcolumns\u001b[39m\u001b[39m\"\u001b[39m:\n\u001b[1;32m   <a href='file:///Users/niclapenna/opt/anaconda3/envs/lhl_env/lib/python3.8/site-packages/pandas/io/json/_json.py?line=1131'>1132</a>\u001b[0m     \u001b[39mself\u001b[39m\u001b[39m.\u001b[39mobj \u001b[39m=\u001b[39m DataFrame(\n\u001b[0;32m-> <a href='file:///Users/niclapenna/opt/anaconda3/envs/lhl_env/lib/python3.8/site-packages/pandas/io/json/_json.py?line=1132'>1133</a>\u001b[0m         loads(json, precise_float\u001b[39m=\u001b[39;49m\u001b[39mself\u001b[39;49m\u001b[39m.\u001b[39;49mprecise_float), dtype\u001b[39m=\u001b[39m\u001b[39mNone\u001b[39;00m\n\u001b[1;32m   <a href='file:///Users/niclapenna/opt/anaconda3/envs/lhl_env/lib/python3.8/site-packages/pandas/io/json/_json.py?line=1133'>1134</a>\u001b[0m     )\n\u001b[1;32m   <a href='file:///Users/niclapenna/opt/anaconda3/envs/lhl_env/lib/python3.8/site-packages/pandas/io/json/_json.py?line=1134'>1135</a>\u001b[0m \u001b[39melif\u001b[39;00m orient \u001b[39m==\u001b[39m \u001b[39m\"\u001b[39m\u001b[39msplit\u001b[39m\u001b[39m\"\u001b[39m:\n\u001b[1;32m   <a href='file:///Users/niclapenna/opt/anaconda3/envs/lhl_env/lib/python3.8/site-packages/pandas/io/json/_json.py?line=1135'>1136</a>\u001b[0m     decoded \u001b[39m=\u001b[39m {\n\u001b[1;32m   <a href='file:///Users/niclapenna/opt/anaconda3/envs/lhl_env/lib/python3.8/site-packages/pandas/io/json/_json.py?line=1136'>1137</a>\u001b[0m         \u001b[39mstr\u001b[39m(k): v\n\u001b[1;32m   <a href='file:///Users/niclapenna/opt/anaconda3/envs/lhl_env/lib/python3.8/site-packages/pandas/io/json/_json.py?line=1137'>1138</a>\u001b[0m         \u001b[39mfor\u001b[39;00m k, v \u001b[39min\u001b[39;00m loads(json, precise_float\u001b[39m=\u001b[39m\u001b[39mself\u001b[39m\u001b[39m.\u001b[39mprecise_float)\u001b[39m.\u001b[39mitems()\n\u001b[1;32m   <a href='file:///Users/niclapenna/opt/anaconda3/envs/lhl_env/lib/python3.8/site-packages/pandas/io/json/_json.py?line=1138'>1139</a>\u001b[0m     }\n",
      "\u001b[0;31mValueError\u001b[0m: Expected object or value"
     ]
    }
   ],
   "source": [
    "content = pd.read_json(\"data/content.json\") #will give error"
   ]
  },
  {
   "cell_type": "markdown",
   "id": "5b676905-ccb1-4738-892b-939881e60a86",
   "metadata": {},
   "source": [
    "In which cases, we have to work a bit more to get our data in a format we find reasonable to work with"
   ]
  },
  {
   "cell_type": "code",
   "execution_count": 22,
   "id": "2e98b546-c7df-41f6-b378-1bf457a22b36",
   "metadata": {},
   "outputs": [
    {
     "data": {
      "text/plain": [
       "{'articles': [{'name': 'how to program in javascript',\n",
       "   'author': 'prairie',\n",
       "   'wordCount': 1200},\n",
       "  {'name': 'should you rewrite your application in python?',\n",
       "   'author': 'pippa',\n",
       "   'wordCount': 40000}],\n",
       " 'blogs': [{'title': 'differences between js objects and python dictionaries',\n",
       "   'postedBy': 'jennifer'}]}"
      ]
     },
     "execution_count": 22,
     "metadata": {},
     "output_type": "execute_result"
    }
   ],
   "source": [
    "import json\n",
    "\n",
    "with open(\"../data/content.json\") as file:\n",
    "    content = json.load(file) #open JSON file as a python dictionary\n",
    "    \n",
    "content"
   ]
  },
  {
   "cell_type": "markdown",
   "id": "fe7f9304-cccf-4a84-829f-fd64b88dbb76",
   "metadata": {},
   "source": [
    "Use the `pd.json_normalize` method to mold you data into a dataframe\n",
    "\n",
    "... but looks a little strange"
   ]
  },
  {
   "cell_type": "code",
   "execution_count": 23,
   "id": "9172fce3-f042-4273-97cd-c6a58a7312b9",
   "metadata": {},
   "outputs": [
    {
     "data": {
      "text/html": [
       "<div>\n",
       "<style scoped>\n",
       "    .dataframe tbody tr th:only-of-type {\n",
       "        vertical-align: middle;\n",
       "    }\n",
       "\n",
       "    .dataframe tbody tr th {\n",
       "        vertical-align: top;\n",
       "    }\n",
       "\n",
       "    .dataframe thead th {\n",
       "        text-align: right;\n",
       "    }\n",
       "</style>\n",
       "<table border=\"1\" class=\"dataframe\">\n",
       "  <thead>\n",
       "    <tr style=\"text-align: right;\">\n",
       "      <th></th>\n",
       "      <th>articles</th>\n",
       "      <th>blogs</th>\n",
       "    </tr>\n",
       "  </thead>\n",
       "  <tbody>\n",
       "    <tr>\n",
       "      <th>0</th>\n",
       "      <td>[{'name': 'how to program in javascript', 'aut...</td>\n",
       "      <td>[{'title': 'differences between js objects and...</td>\n",
       "    </tr>\n",
       "  </tbody>\n",
       "</table>\n",
       "</div>"
      ],
      "text/plain": [
       "                                            articles  \\\n",
       "0  [{'name': 'how to program in javascript', 'aut...   \n",
       "\n",
       "                                               blogs  \n",
       "0  [{'title': 'differences between js objects and...  "
      ]
     },
     "execution_count": 23,
     "metadata": {},
     "output_type": "execute_result"
    }
   ],
   "source": [
    "pd.json_normalize(content)"
   ]
  },
  {
   "cell_type": "markdown",
   "id": "bd99b582-1fc2-4284-9ac1-768c9729eddb",
   "metadata": {},
   "source": [
    "but conceptually \"articles\" and \"blogs\" are distinct"
   ]
  },
  {
   "cell_type": "code",
   "execution_count": 24,
   "id": "e5a6b41b-981d-4510-803d-01c802f2e43f",
   "metadata": {},
   "outputs": [
    {
     "data": {
      "text/html": [
       "<div>\n",
       "<style scoped>\n",
       "    .dataframe tbody tr th:only-of-type {\n",
       "        vertical-align: middle;\n",
       "    }\n",
       "\n",
       "    .dataframe tbody tr th {\n",
       "        vertical-align: top;\n",
       "    }\n",
       "\n",
       "    .dataframe thead th {\n",
       "        text-align: right;\n",
       "    }\n",
       "</style>\n",
       "<table border=\"1\" class=\"dataframe\">\n",
       "  <thead>\n",
       "    <tr style=\"text-align: right;\">\n",
       "      <th></th>\n",
       "      <th>name</th>\n",
       "      <th>author</th>\n",
       "      <th>wordCount</th>\n",
       "    </tr>\n",
       "  </thead>\n",
       "  <tbody>\n",
       "    <tr>\n",
       "      <th>0</th>\n",
       "      <td>how to program in javascript</td>\n",
       "      <td>prairie</td>\n",
       "      <td>1200</td>\n",
       "    </tr>\n",
       "    <tr>\n",
       "      <th>1</th>\n",
       "      <td>should you rewrite your application in python?</td>\n",
       "      <td>pippa</td>\n",
       "      <td>40000</td>\n",
       "    </tr>\n",
       "  </tbody>\n",
       "</table>\n",
       "</div>"
      ],
      "text/plain": [
       "                                             name   author  wordCount\n",
       "0                    how to program in javascript  prairie       1200\n",
       "1  should you rewrite your application in python?    pippa      40000"
      ]
     },
     "execution_count": 24,
     "metadata": {},
     "output_type": "execute_result"
    }
   ],
   "source": [
    "pd.json_normalize(content, record_path=\"articles\")"
   ]
  },
  {
   "cell_type": "code",
   "execution_count": 25,
   "id": "2fb2abb4-6fcb-4dad-ad69-f11c87e23e6f",
   "metadata": {},
   "outputs": [
    {
     "data": {
      "text/html": [
       "<div>\n",
       "<style scoped>\n",
       "    .dataframe tbody tr th:only-of-type {\n",
       "        vertical-align: middle;\n",
       "    }\n",
       "\n",
       "    .dataframe tbody tr th {\n",
       "        vertical-align: top;\n",
       "    }\n",
       "\n",
       "    .dataframe thead th {\n",
       "        text-align: right;\n",
       "    }\n",
       "</style>\n",
       "<table border=\"1\" class=\"dataframe\">\n",
       "  <thead>\n",
       "    <tr style=\"text-align: right;\">\n",
       "      <th></th>\n",
       "      <th>title</th>\n",
       "      <th>postedBy</th>\n",
       "    </tr>\n",
       "  </thead>\n",
       "  <tbody>\n",
       "    <tr>\n",
       "      <th>0</th>\n",
       "      <td>differences between js objects and python dict...</td>\n",
       "      <td>jennifer</td>\n",
       "    </tr>\n",
       "  </tbody>\n",
       "</table>\n",
       "</div>"
      ],
      "text/plain": [
       "                                               title  postedBy\n",
       "0  differences between js objects and python dict...  jennifer"
      ]
     },
     "execution_count": 25,
     "metadata": {},
     "output_type": "execute_result"
    }
   ],
   "source": [
    "pd.json_normalize(content, record_path=\"blogs\")"
   ]
  },
  {
   "cell_type": "code",
   "execution_count": 26,
   "id": "8e5f710c-10e6-4ea5-b1ff-494532008ba8",
   "metadata": {},
   "outputs": [
    {
     "data": {
      "text/html": [
       "<div>\n",
       "<style scoped>\n",
       "    .dataframe tbody tr th:only-of-type {\n",
       "        vertical-align: middle;\n",
       "    }\n",
       "\n",
       "    .dataframe tbody tr th {\n",
       "        vertical-align: top;\n",
       "    }\n",
       "\n",
       "    .dataframe thead th {\n",
       "        text-align: right;\n",
       "    }\n",
       "</style>\n",
       "<table border=\"1\" class=\"dataframe\">\n",
       "  <thead>\n",
       "    <tr style=\"text-align: right;\">\n",
       "      <th></th>\n",
       "      <th>title</th>\n",
       "      <th>postedBy</th>\n",
       "    </tr>\n",
       "  </thead>\n",
       "  <tbody>\n",
       "    <tr>\n",
       "      <th>0</th>\n",
       "      <td>differences between js objects and python dict...</td>\n",
       "      <td>jennifer</td>\n",
       "    </tr>\n",
       "  </tbody>\n",
       "</table>\n",
       "</div>"
      ],
      "text/plain": [
       "                                               title  postedBy\n",
       "0  differences between js objects and python dict...  jennifer"
      ]
     },
     "execution_count": 26,
     "metadata": {},
     "output_type": "execute_result"
    }
   ],
   "source": [
    "#same as cell above\n",
    "blogs = content[\"blogs\"]\n",
    "pd.json_normalize(blogs)"
   ]
  },
  {
   "cell_type": "markdown",
   "id": "532fa826-a277-4307-b8d9-6151dedfa03e",
   "metadata": {},
   "source": [
    "### Nested with multiple levels\n",
    "How about complex but uniform structure...\n",
    "[`data/states.json`](data/states.json)"
   ]
  },
  {
   "cell_type": "code",
   "execution_count": 29,
   "id": "0aa92176",
   "metadata": {},
   "outputs": [
    {
     "data": {
      "text/plain": [
       "[{'state': 'Florida',\n",
       "  'abbr': 'FL',\n",
       "  'info': {'governor': 'Ron DeSantis', 'ltGovernor': 'Jeanette Nunez'},\n",
       "  'counties': [{'name': 'Dade', 'population': 12345},\n",
       "   {'name': 'Broward', 'population': 400000},\n",
       "   {'name': 'Palm Beach', 'population': 600000}]},\n",
       " {'state': 'Ohio',\n",
       "  'abbr': 'OH',\n",
       "  'info': {'governor': 'Mike DeWine'},\n",
       "  'counties': [{'name': 'Summit', 'population': 50324},\n",
       "   {'name': 'Cuyahoga', 'population': 200000}]}]"
      ]
     },
     "execution_count": 29,
     "metadata": {},
     "output_type": "execute_result"
    }
   ],
   "source": [
    "import json\n",
    "\n",
    "with open(\"../data/states.json\") as file:\n",
    "    states = json.load(file) #open JSON file as a python dictionary\n",
    "    \n",
    "states"
   ]
  },
  {
   "cell_type": "code",
   "execution_count": 30,
   "id": "b7436cd2",
   "metadata": {
    "scrolled": false
   },
   "outputs": [
    {
     "data": {
      "text/html": [
       "<div>\n",
       "<style scoped>\n",
       "    .dataframe tbody tr th:only-of-type {\n",
       "        vertical-align: middle;\n",
       "    }\n",
       "\n",
       "    .dataframe tbody tr th {\n",
       "        vertical-align: top;\n",
       "    }\n",
       "\n",
       "    .dataframe thead th {\n",
       "        text-align: right;\n",
       "    }\n",
       "</style>\n",
       "<table border=\"1\" class=\"dataframe\">\n",
       "  <thead>\n",
       "    <tr style=\"text-align: right;\">\n",
       "      <th></th>\n",
       "      <th>state</th>\n",
       "      <th>abbr</th>\n",
       "      <th>counties</th>\n",
       "      <th>info.governor</th>\n",
       "      <th>info.ltGovernor</th>\n",
       "    </tr>\n",
       "  </thead>\n",
       "  <tbody>\n",
       "    <tr>\n",
       "      <th>0</th>\n",
       "      <td>Florida</td>\n",
       "      <td>FL</td>\n",
       "      <td>[{'name': 'Dade', 'population': 12345}, {'name...</td>\n",
       "      <td>Ron DeSantis</td>\n",
       "      <td>Jeanette Nunez</td>\n",
       "    </tr>\n",
       "    <tr>\n",
       "      <th>1</th>\n",
       "      <td>Ohio</td>\n",
       "      <td>OH</td>\n",
       "      <td>[{'name': 'Summit', 'population': 50324}, {'na...</td>\n",
       "      <td>Mike DeWine</td>\n",
       "      <td>NaN</td>\n",
       "    </tr>\n",
       "  </tbody>\n",
       "</table>\n",
       "</div>"
      ],
      "text/plain": [
       "     state abbr                                           counties  \\\n",
       "0  Florida   FL  [{'name': 'Dade', 'population': 12345}, {'name...   \n",
       "1     Ohio   OH  [{'name': 'Summit', 'population': 50324}, {'na...   \n",
       "\n",
       "  info.governor info.ltGovernor  \n",
       "0  Ron DeSantis  Jeanette Nunez  \n",
       "1   Mike DeWine             NaN  "
      ]
     },
     "execution_count": 30,
     "metadata": {},
     "output_type": "execute_result"
    }
   ],
   "source": [
    "pd.json_normalize(states) #naively use pd.json_normalize"
   ]
  },
  {
   "cell_type": "markdown",
   "id": "e6a52267",
   "metadata": {},
   "source": [
    "Notice 'counties' and 'info.ltGovernor' columns"
   ]
  },
  {
   "cell_type": "code",
   "execution_count": 31,
   "id": "47ab1d93",
   "metadata": {},
   "outputs": [
    {
     "data": {
      "text/html": [
       "<div>\n",
       "<style scoped>\n",
       "    .dataframe tbody tr th:only-of-type {\n",
       "        vertical-align: middle;\n",
       "    }\n",
       "\n",
       "    .dataframe tbody tr th {\n",
       "        vertical-align: top;\n",
       "    }\n",
       "\n",
       "    .dataframe thead th {\n",
       "        text-align: right;\n",
       "    }\n",
       "</style>\n",
       "<table border=\"1\" class=\"dataframe\">\n",
       "  <thead>\n",
       "    <tr style=\"text-align: right;\">\n",
       "      <th></th>\n",
       "      <th>name</th>\n",
       "      <th>population</th>\n",
       "    </tr>\n",
       "  </thead>\n",
       "  <tbody>\n",
       "    <tr>\n",
       "      <th>0</th>\n",
       "      <td>Dade</td>\n",
       "      <td>12345</td>\n",
       "    </tr>\n",
       "    <tr>\n",
       "      <th>1</th>\n",
       "      <td>Broward</td>\n",
       "      <td>400000</td>\n",
       "    </tr>\n",
       "    <tr>\n",
       "      <th>2</th>\n",
       "      <td>Palm Beach</td>\n",
       "      <td>600000</td>\n",
       "    </tr>\n",
       "    <tr>\n",
       "      <th>3</th>\n",
       "      <td>Summit</td>\n",
       "      <td>50324</td>\n",
       "    </tr>\n",
       "    <tr>\n",
       "      <th>4</th>\n",
       "      <td>Cuyahoga</td>\n",
       "      <td>200000</td>\n",
       "    </tr>\n",
       "  </tbody>\n",
       "</table>\n",
       "</div>"
      ],
      "text/plain": [
       "         name  population\n",
       "0        Dade       12345\n",
       "1     Broward      400000\n",
       "2  Palm Beach      600000\n",
       "3      Summit       50324\n",
       "4    Cuyahoga      200000"
      ]
     },
     "execution_count": 31,
     "metadata": {},
     "output_type": "execute_result"
    }
   ],
   "source": [
    "#create a df from just the counties column\n",
    "pd.json_normalize(states, record_path=\"counties\")"
   ]
  },
  {
   "cell_type": "markdown",
   "id": "dad58718",
   "metadata": {},
   "source": [
    "Which state do each of these counties belong to? Can think of it as a \"join\""
   ]
  },
  {
   "cell_type": "code",
   "execution_count": 32,
   "id": "6e5032ba",
   "metadata": {},
   "outputs": [
    {
     "data": {
      "text/html": [
       "<div>\n",
       "<style scoped>\n",
       "    .dataframe tbody tr th:only-of-type {\n",
       "        vertical-align: middle;\n",
       "    }\n",
       "\n",
       "    .dataframe tbody tr th {\n",
       "        vertical-align: top;\n",
       "    }\n",
       "\n",
       "    .dataframe thead th {\n",
       "        text-align: right;\n",
       "    }\n",
       "</style>\n",
       "<table border=\"1\" class=\"dataframe\">\n",
       "  <thead>\n",
       "    <tr style=\"text-align: right;\">\n",
       "      <th></th>\n",
       "      <th>name</th>\n",
       "      <th>population</th>\n",
       "      <th>state</th>\n",
       "    </tr>\n",
       "  </thead>\n",
       "  <tbody>\n",
       "    <tr>\n",
       "      <th>0</th>\n",
       "      <td>Dade</td>\n",
       "      <td>12345</td>\n",
       "      <td>Florida</td>\n",
       "    </tr>\n",
       "    <tr>\n",
       "      <th>1</th>\n",
       "      <td>Broward</td>\n",
       "      <td>400000</td>\n",
       "      <td>Florida</td>\n",
       "    </tr>\n",
       "    <tr>\n",
       "      <th>2</th>\n",
       "      <td>Palm Beach</td>\n",
       "      <td>600000</td>\n",
       "      <td>Florida</td>\n",
       "    </tr>\n",
       "    <tr>\n",
       "      <th>3</th>\n",
       "      <td>Summit</td>\n",
       "      <td>50324</td>\n",
       "      <td>Ohio</td>\n",
       "    </tr>\n",
       "    <tr>\n",
       "      <th>4</th>\n",
       "      <td>Cuyahoga</td>\n",
       "      <td>200000</td>\n",
       "      <td>Ohio</td>\n",
       "    </tr>\n",
       "  </tbody>\n",
       "</table>\n",
       "</div>"
      ],
      "text/plain": [
       "         name  population    state\n",
       "0        Dade       12345  Florida\n",
       "1     Broward      400000  Florida\n",
       "2  Palm Beach      600000  Florida\n",
       "3      Summit       50324     Ohio\n",
       "4    Cuyahoga      200000     Ohio"
      ]
     },
     "execution_count": 32,
     "metadata": {},
     "output_type": "execute_result"
    }
   ],
   "source": [
    "#pulls data from up a level\n",
    "pd.json_normalize(states, record_path=\"counties\", meta=[\"state\"])"
   ]
  },
  {
   "cell_type": "code",
   "execution_count": 33,
   "id": "1475e36d",
   "metadata": {},
   "outputs": [
    {
     "data": {
      "text/html": [
       "<div>\n",
       "<style scoped>\n",
       "    .dataframe tbody tr th:only-of-type {\n",
       "        vertical-align: middle;\n",
       "    }\n",
       "\n",
       "    .dataframe tbody tr th {\n",
       "        vertical-align: top;\n",
       "    }\n",
       "\n",
       "    .dataframe thead th {\n",
       "        text-align: right;\n",
       "    }\n",
       "</style>\n",
       "<table border=\"1\" class=\"dataframe\">\n",
       "  <thead>\n",
       "    <tr style=\"text-align: right;\">\n",
       "      <th></th>\n",
       "      <th>name</th>\n",
       "      <th>population</th>\n",
       "      <th>state</th>\n",
       "      <th>abbr</th>\n",
       "    </tr>\n",
       "  </thead>\n",
       "  <tbody>\n",
       "    <tr>\n",
       "      <th>0</th>\n",
       "      <td>Dade</td>\n",
       "      <td>12345</td>\n",
       "      <td>Florida</td>\n",
       "      <td>FL</td>\n",
       "    </tr>\n",
       "    <tr>\n",
       "      <th>1</th>\n",
       "      <td>Broward</td>\n",
       "      <td>400000</td>\n",
       "      <td>Florida</td>\n",
       "      <td>FL</td>\n",
       "    </tr>\n",
       "    <tr>\n",
       "      <th>2</th>\n",
       "      <td>Palm Beach</td>\n",
       "      <td>600000</td>\n",
       "      <td>Florida</td>\n",
       "      <td>FL</td>\n",
       "    </tr>\n",
       "    <tr>\n",
       "      <th>3</th>\n",
       "      <td>Summit</td>\n",
       "      <td>50324</td>\n",
       "      <td>Ohio</td>\n",
       "      <td>OH</td>\n",
       "    </tr>\n",
       "    <tr>\n",
       "      <th>4</th>\n",
       "      <td>Cuyahoga</td>\n",
       "      <td>200000</td>\n",
       "      <td>Ohio</td>\n",
       "      <td>OH</td>\n",
       "    </tr>\n",
       "  </tbody>\n",
       "</table>\n",
       "</div>"
      ],
      "text/plain": [
       "         name  population    state abbr\n",
       "0        Dade       12345  Florida   FL\n",
       "1     Broward      400000  Florida   FL\n",
       "2  Palm Beach      600000  Florida   FL\n",
       "3      Summit       50324     Ohio   OH\n",
       "4    Cuyahoga      200000     Ohio   OH"
      ]
     },
     "execution_count": 33,
     "metadata": {},
     "output_type": "execute_result"
    }
   ],
   "source": [
    "#pulls data from up a level\n",
    "pd.json_normalize(states, record_path=\"counties\", meta=[\"state\", \"abbr\"])"
   ]
  },
  {
   "cell_type": "code",
   "execution_count": 34,
   "id": "c9a232cd",
   "metadata": {
    "scrolled": true
   },
   "outputs": [
    {
     "data": {
      "text/html": [
       "<div>\n",
       "<style scoped>\n",
       "    .dataframe tbody tr th:only-of-type {\n",
       "        vertical-align: middle;\n",
       "    }\n",
       "\n",
       "    .dataframe tbody tr th {\n",
       "        vertical-align: top;\n",
       "    }\n",
       "\n",
       "    .dataframe thead th {\n",
       "        text-align: right;\n",
       "    }\n",
       "</style>\n",
       "<table border=\"1\" class=\"dataframe\">\n",
       "  <thead>\n",
       "    <tr style=\"text-align: right;\">\n",
       "      <th></th>\n",
       "      <th>name</th>\n",
       "      <th>population</th>\n",
       "      <th>state</th>\n",
       "      <th>abbr</th>\n",
       "      <th>info.governor</th>\n",
       "    </tr>\n",
       "  </thead>\n",
       "  <tbody>\n",
       "    <tr>\n",
       "      <th>0</th>\n",
       "      <td>Dade</td>\n",
       "      <td>12345</td>\n",
       "      <td>Florida</td>\n",
       "      <td>FL</td>\n",
       "      <td>Ron DeSantis</td>\n",
       "    </tr>\n",
       "    <tr>\n",
       "      <th>1</th>\n",
       "      <td>Broward</td>\n",
       "      <td>400000</td>\n",
       "      <td>Florida</td>\n",
       "      <td>FL</td>\n",
       "      <td>Ron DeSantis</td>\n",
       "    </tr>\n",
       "    <tr>\n",
       "      <th>2</th>\n",
       "      <td>Palm Beach</td>\n",
       "      <td>600000</td>\n",
       "      <td>Florida</td>\n",
       "      <td>FL</td>\n",
       "      <td>Ron DeSantis</td>\n",
       "    </tr>\n",
       "    <tr>\n",
       "      <th>3</th>\n",
       "      <td>Summit</td>\n",
       "      <td>50324</td>\n",
       "      <td>Ohio</td>\n",
       "      <td>OH</td>\n",
       "      <td>Mike DeWine</td>\n",
       "    </tr>\n",
       "    <tr>\n",
       "      <th>4</th>\n",
       "      <td>Cuyahoga</td>\n",
       "      <td>200000</td>\n",
       "      <td>Ohio</td>\n",
       "      <td>OH</td>\n",
       "      <td>Mike DeWine</td>\n",
       "    </tr>\n",
       "  </tbody>\n",
       "</table>\n",
       "</div>"
      ],
      "text/plain": [
       "         name  population    state abbr info.governor\n",
       "0        Dade       12345  Florida   FL  Ron DeSantis\n",
       "1     Broward      400000  Florida   FL  Ron DeSantis\n",
       "2  Palm Beach      600000  Florida   FL  Ron DeSantis\n",
       "3      Summit       50324     Ohio   OH   Mike DeWine\n",
       "4    Cuyahoga      200000     Ohio   OH   Mike DeWine"
      ]
     },
     "execution_count": 34,
     "metadata": {},
     "output_type": "execute_result"
    }
   ],
   "source": [
    "pd.json_normalize(states, record_path=\"counties\", meta=[\"state\", \"abbr\", [\"info\", \"governor\"]])"
   ]
  },
  {
   "cell_type": "code",
   "execution_count": 35,
   "id": "8312672f",
   "metadata": {
    "scrolled": true
   },
   "outputs": [
    {
     "data": {
      "text/html": [
       "<div>\n",
       "<style scoped>\n",
       "    .dataframe tbody tr th:only-of-type {\n",
       "        vertical-align: middle;\n",
       "    }\n",
       "\n",
       "    .dataframe tbody tr th {\n",
       "        vertical-align: top;\n",
       "    }\n",
       "\n",
       "    .dataframe thead th {\n",
       "        text-align: right;\n",
       "    }\n",
       "</style>\n",
       "<table border=\"1\" class=\"dataframe\">\n",
       "  <thead>\n",
       "    <tr style=\"text-align: right;\">\n",
       "      <th></th>\n",
       "      <th>name</th>\n",
       "      <th>population</th>\n",
       "      <th>state</th>\n",
       "      <th>abbr</th>\n",
       "      <th>info.governor</th>\n",
       "    </tr>\n",
       "  </thead>\n",
       "  <tbody>\n",
       "    <tr>\n",
       "      <th>0</th>\n",
       "      <td>Dade</td>\n",
       "      <td>12345</td>\n",
       "      <td>Florida</td>\n",
       "      <td>FL</td>\n",
       "      <td>Ron DeSantis</td>\n",
       "    </tr>\n",
       "    <tr>\n",
       "      <th>1</th>\n",
       "      <td>Broward</td>\n",
       "      <td>400000</td>\n",
       "      <td>Florida</td>\n",
       "      <td>FL</td>\n",
       "      <td>Ron DeSantis</td>\n",
       "    </tr>\n",
       "    <tr>\n",
       "      <th>2</th>\n",
       "      <td>Palm Beach</td>\n",
       "      <td>600000</td>\n",
       "      <td>Florida</td>\n",
       "      <td>FL</td>\n",
       "      <td>Ron DeSantis</td>\n",
       "    </tr>\n",
       "    <tr>\n",
       "      <th>3</th>\n",
       "      <td>Summit</td>\n",
       "      <td>50324</td>\n",
       "      <td>Ohio</td>\n",
       "      <td>OH</td>\n",
       "      <td>Mike DeWine</td>\n",
       "    </tr>\n",
       "    <tr>\n",
       "      <th>4</th>\n",
       "      <td>Cuyahoga</td>\n",
       "      <td>200000</td>\n",
       "      <td>Ohio</td>\n",
       "      <td>OH</td>\n",
       "      <td>Mike DeWine</td>\n",
       "    </tr>\n",
       "  </tbody>\n",
       "</table>\n",
       "</div>"
      ],
      "text/plain": [
       "         name  population    state abbr info.governor\n",
       "0        Dade       12345  Florida   FL  Ron DeSantis\n",
       "1     Broward      400000  Florida   FL  Ron DeSantis\n",
       "2  Palm Beach      600000  Florida   FL  Ron DeSantis\n",
       "3      Summit       50324     Ohio   OH   Mike DeWine\n",
       "4    Cuyahoga      200000     Ohio   OH   Mike DeWine"
      ]
     },
     "execution_count": 35,
     "metadata": {},
     "output_type": "execute_result"
    }
   ],
   "source": [
    "#rewriting above in a more visually pleasing way\n",
    "pd.json_normalize(states,\n",
    "                  record_path=\"counties\",\n",
    "                  meta=[\"state\", \"abbr\", [\"info\", \"governor\"]])"
   ]
  },
  {
   "cell_type": "code",
   "execution_count": 36,
   "id": "777215d3",
   "metadata": {},
   "outputs": [
    {
     "ename": "KeyError",
     "evalue": "\"Key 'ltGovernor' not found. To replace missing values of 'ltGovernor' with np.nan, pass in errors='ignore'\"",
     "output_type": "error",
     "traceback": [
      "\u001b[0;31m---------------------------------------------------------------------------\u001b[0m",
      "\u001b[0;31mKeyError\u001b[0m                                  Traceback (most recent call last)",
      "File \u001b[0;32m~/opt/anaconda3/envs/lhl_env/lib/python3.8/site-packages/pandas/io/json/_normalize.py:394\u001b[0m, in \u001b[0;36m_json_normalize.<locals>._pull_field\u001b[0;34m(js, spec, extract_record)\u001b[0m\n\u001b[1;32m    <a href='file:///Users/niclapenna/opt/anaconda3/envs/lhl_env/lib/python3.8/site-packages/pandas/io/json/_normalize.py?line=392'>393</a>\u001b[0m             \u001b[39mraise\u001b[39;00m \u001b[39mKeyError\u001b[39;00m(field)\n\u001b[0;32m--> <a href='file:///Users/niclapenna/opt/anaconda3/envs/lhl_env/lib/python3.8/site-packages/pandas/io/json/_normalize.py?line=393'>394</a>\u001b[0m         result \u001b[39m=\u001b[39m result[field]\n\u001b[1;32m    <a href='file:///Users/niclapenna/opt/anaconda3/envs/lhl_env/lib/python3.8/site-packages/pandas/io/json/_normalize.py?line=394'>395</a>\u001b[0m \u001b[39melse\u001b[39;00m:\n",
      "\u001b[0;31mKeyError\u001b[0m: 'ltGovernor'",
      "\nThe above exception was the direct cause of the following exception:\n",
      "\u001b[0;31mKeyError\u001b[0m                                  Traceback (most recent call last)",
      "\u001b[1;32m/Users/niclapenna/Documents/GitHub/LHL_Data_Bootcamp/Week_2/Day_3/Lecture/.ipynb_checkpoints/W02D3-Other_Data_Types-checkpoint.ipynb Cell 59'\u001b[0m in \u001b[0;36m<cell line: 2>\u001b[0;34m()\u001b[0m\n\u001b[1;32m      <a href='vscode-notebook-cell:/Users/niclapenna/Documents/GitHub/LHL_Data_Bootcamp/Week_2/Day_3/Lecture/.ipynb_checkpoints/W02D3-Other_Data_Types-checkpoint.ipynb#ch0000058?line=0'>1</a>\u001b[0m \u001b[39m#will give error because Ohio does not have a ltGovernor\u001b[39;00m\n\u001b[0;32m----> <a href='vscode-notebook-cell:/Users/niclapenna/Documents/GitHub/LHL_Data_Bootcamp/Week_2/Day_3/Lecture/.ipynb_checkpoints/W02D3-Other_Data_Types-checkpoint.ipynb#ch0000058?line=1'>2</a>\u001b[0m pd\u001b[39m.\u001b[39;49mjson_normalize(states,\n\u001b[1;32m      <a href='vscode-notebook-cell:/Users/niclapenna/Documents/GitHub/LHL_Data_Bootcamp/Week_2/Day_3/Lecture/.ipynb_checkpoints/W02D3-Other_Data_Types-checkpoint.ipynb#ch0000058?line=2'>3</a>\u001b[0m                   record_path\u001b[39m=\u001b[39;49m\u001b[39m\"\u001b[39;49m\u001b[39mcounties\u001b[39;49m\u001b[39m\"\u001b[39;49m,\n\u001b[1;32m      <a href='vscode-notebook-cell:/Users/niclapenna/Documents/GitHub/LHL_Data_Bootcamp/Week_2/Day_3/Lecture/.ipynb_checkpoints/W02D3-Other_Data_Types-checkpoint.ipynb#ch0000058?line=3'>4</a>\u001b[0m                   meta\u001b[39m=\u001b[39;49m[\u001b[39m\"\u001b[39;49m\u001b[39mstate\u001b[39;49m\u001b[39m\"\u001b[39;49m, \u001b[39m\"\u001b[39;49m\u001b[39mabbr\u001b[39;49m\u001b[39m\"\u001b[39;49m, [\u001b[39m\"\u001b[39;49m\u001b[39minfo\u001b[39;49m\u001b[39m\"\u001b[39;49m, \u001b[39m\"\u001b[39;49m\u001b[39mgovernor\u001b[39;49m\u001b[39m\"\u001b[39;49m], [\u001b[39m\"\u001b[39;49m\u001b[39minfo\u001b[39;49m\u001b[39m\"\u001b[39;49m, \u001b[39m\"\u001b[39;49m\u001b[39mltGovernor\u001b[39;49m\u001b[39m\"\u001b[39;49m]])\n",
      "File \u001b[0;32m~/opt/anaconda3/envs/lhl_env/lib/python3.8/site-packages/pandas/io/json/_normalize.py:515\u001b[0m, in \u001b[0;36m_json_normalize\u001b[0;34m(data, record_path, meta, meta_prefix, record_prefix, errors, sep, max_level)\u001b[0m\n\u001b[1;32m    <a href='file:///Users/niclapenna/opt/anaconda3/envs/lhl_env/lib/python3.8/site-packages/pandas/io/json/_normalize.py?line=511'>512</a>\u001b[0m                 meta_vals[key]\u001b[39m.\u001b[39mappend(meta_val)\n\u001b[1;32m    <a href='file:///Users/niclapenna/opt/anaconda3/envs/lhl_env/lib/python3.8/site-packages/pandas/io/json/_normalize.py?line=512'>513</a>\u001b[0m             records\u001b[39m.\u001b[39mextend(recs)\n\u001b[0;32m--> <a href='file:///Users/niclapenna/opt/anaconda3/envs/lhl_env/lib/python3.8/site-packages/pandas/io/json/_normalize.py?line=514'>515</a>\u001b[0m _recursive_extract(data, record_path, {}, level\u001b[39m=\u001b[39;49m\u001b[39m0\u001b[39;49m)\n\u001b[1;32m    <a href='file:///Users/niclapenna/opt/anaconda3/envs/lhl_env/lib/python3.8/site-packages/pandas/io/json/_normalize.py?line=516'>517</a>\u001b[0m result \u001b[39m=\u001b[39m DataFrame(records)\n\u001b[1;32m    <a href='file:///Users/niclapenna/opt/anaconda3/envs/lhl_env/lib/python3.8/site-packages/pandas/io/json/_normalize.py?line=518'>519</a>\u001b[0m \u001b[39mif\u001b[39;00m record_prefix \u001b[39mis\u001b[39;00m \u001b[39mnot\u001b[39;00m \u001b[39mNone\u001b[39;00m:\n\u001b[1;32m    <a href='file:///Users/niclapenna/opt/anaconda3/envs/lhl_env/lib/python3.8/site-packages/pandas/io/json/_normalize.py?line=519'>520</a>\u001b[0m     \u001b[39m# Incompatible types in assignment (expression has type \"Optional[DataFrame]\",\u001b[39;00m\n\u001b[1;32m    <a href='file:///Users/niclapenna/opt/anaconda3/envs/lhl_env/lib/python3.8/site-packages/pandas/io/json/_normalize.py?line=520'>521</a>\u001b[0m     \u001b[39m# variable has type \"DataFrame\")\u001b[39;00m\n",
      "File \u001b[0;32m~/opt/anaconda3/envs/lhl_env/lib/python3.8/site-packages/pandas/io/json/_normalize.py:511\u001b[0m, in \u001b[0;36m_json_normalize.<locals>._recursive_extract\u001b[0;34m(data, path, seen_meta, level)\u001b[0m\n\u001b[1;32m    <a href='file:///Users/niclapenna/opt/anaconda3/envs/lhl_env/lib/python3.8/site-packages/pandas/io/json/_normalize.py?line=508'>509</a>\u001b[0m         meta_val \u001b[39m=\u001b[39m seen_meta[key]\n\u001b[1;32m    <a href='file:///Users/niclapenna/opt/anaconda3/envs/lhl_env/lib/python3.8/site-packages/pandas/io/json/_normalize.py?line=509'>510</a>\u001b[0m     \u001b[39melse\u001b[39;00m:\n\u001b[0;32m--> <a href='file:///Users/niclapenna/opt/anaconda3/envs/lhl_env/lib/python3.8/site-packages/pandas/io/json/_normalize.py?line=510'>511</a>\u001b[0m         meta_val \u001b[39m=\u001b[39m _pull_field(obj, val[level:])\n\u001b[1;32m    <a href='file:///Users/niclapenna/opt/anaconda3/envs/lhl_env/lib/python3.8/site-packages/pandas/io/json/_normalize.py?line=511'>512</a>\u001b[0m     meta_vals[key]\u001b[39m.\u001b[39mappend(meta_val)\n\u001b[1;32m    <a href='file:///Users/niclapenna/opt/anaconda3/envs/lhl_env/lib/python3.8/site-packages/pandas/io/json/_normalize.py?line=512'>513</a>\u001b[0m records\u001b[39m.\u001b[39mextend(recs)\n",
      "File \u001b[0;32m~/opt/anaconda3/envs/lhl_env/lib/python3.8/site-packages/pandas/io/json/_normalize.py:406\u001b[0m, in \u001b[0;36m_json_normalize.<locals>._pull_field\u001b[0;34m(js, spec, extract_record)\u001b[0m\n\u001b[1;32m    <a href='file:///Users/niclapenna/opt/anaconda3/envs/lhl_env/lib/python3.8/site-packages/pandas/io/json/_normalize.py?line=403'>404</a>\u001b[0m         \u001b[39mreturn\u001b[39;00m np\u001b[39m.\u001b[39mnan\n\u001b[1;32m    <a href='file:///Users/niclapenna/opt/anaconda3/envs/lhl_env/lib/python3.8/site-packages/pandas/io/json/_normalize.py?line=404'>405</a>\u001b[0m     \u001b[39melse\u001b[39;00m:\n\u001b[0;32m--> <a href='file:///Users/niclapenna/opt/anaconda3/envs/lhl_env/lib/python3.8/site-packages/pandas/io/json/_normalize.py?line=405'>406</a>\u001b[0m         \u001b[39mraise\u001b[39;00m \u001b[39mKeyError\u001b[39;00m(\n\u001b[1;32m    <a href='file:///Users/niclapenna/opt/anaconda3/envs/lhl_env/lib/python3.8/site-packages/pandas/io/json/_normalize.py?line=406'>407</a>\u001b[0m             \u001b[39mf\u001b[39m\u001b[39m\"\u001b[39m\u001b[39mKey \u001b[39m\u001b[39m{\u001b[39;00me\u001b[39m}\u001b[39;00m\u001b[39m not found. To replace missing values of \u001b[39m\u001b[39m{\u001b[39;00me\u001b[39m}\u001b[39;00m\u001b[39m with \u001b[39m\u001b[39m\"\u001b[39m\n\u001b[1;32m    <a href='file:///Users/niclapenna/opt/anaconda3/envs/lhl_env/lib/python3.8/site-packages/pandas/io/json/_normalize.py?line=407'>408</a>\u001b[0m             \u001b[39mf\u001b[39m\u001b[39m\"\u001b[39m\u001b[39mnp.nan, pass in errors=\u001b[39m\u001b[39m'\u001b[39m\u001b[39mignore\u001b[39m\u001b[39m'\u001b[39m\u001b[39m\"\u001b[39m\n\u001b[1;32m    <a href='file:///Users/niclapenna/opt/anaconda3/envs/lhl_env/lib/python3.8/site-packages/pandas/io/json/_normalize.py?line=408'>409</a>\u001b[0m         ) \u001b[39mfrom\u001b[39;00m \u001b[39me\u001b[39;00m\n\u001b[1;32m    <a href='file:///Users/niclapenna/opt/anaconda3/envs/lhl_env/lib/python3.8/site-packages/pandas/io/json/_normalize.py?line=410'>411</a>\u001b[0m \u001b[39mreturn\u001b[39;00m result\n",
      "\u001b[0;31mKeyError\u001b[0m: \"Key 'ltGovernor' not found. To replace missing values of 'ltGovernor' with np.nan, pass in errors='ignore'\""
     ]
    }
   ],
   "source": [
    "#will give error because Ohio does not have a ltGovernor\n",
    "pd.json_normalize(states,\n",
    "                  record_path=\"counties\",\n",
    "                  meta=[\"state\", \"abbr\", [\"info\", \"governor\"], [\"info\", \"ltGovernor\"]])"
   ]
  },
  {
   "cell_type": "code",
   "execution_count": 37,
   "id": "7deb8538-aba6-4e35-a433-8c77a08c64bd",
   "metadata": {
    "scrolled": true
   },
   "outputs": [
    {
     "data": {
      "text/html": [
       "<div>\n",
       "<style scoped>\n",
       "    .dataframe tbody tr th:only-of-type {\n",
       "        vertical-align: middle;\n",
       "    }\n",
       "\n",
       "    .dataframe tbody tr th {\n",
       "        vertical-align: top;\n",
       "    }\n",
       "\n",
       "    .dataframe thead th {\n",
       "        text-align: right;\n",
       "    }\n",
       "</style>\n",
       "<table border=\"1\" class=\"dataframe\">\n",
       "  <thead>\n",
       "    <tr style=\"text-align: right;\">\n",
       "      <th></th>\n",
       "      <th>name</th>\n",
       "      <th>population</th>\n",
       "      <th>abbr</th>\n",
       "      <th>state</th>\n",
       "      <th>info.governor</th>\n",
       "      <th>info.ltGovernor</th>\n",
       "    </tr>\n",
       "  </thead>\n",
       "  <tbody>\n",
       "    <tr>\n",
       "      <th>0</th>\n",
       "      <td>Dade</td>\n",
       "      <td>12345</td>\n",
       "      <td>FL</td>\n",
       "      <td>Florida</td>\n",
       "      <td>Ron DeSantis</td>\n",
       "      <td>Jeanette Nunez</td>\n",
       "    </tr>\n",
       "    <tr>\n",
       "      <th>1</th>\n",
       "      <td>Broward</td>\n",
       "      <td>400000</td>\n",
       "      <td>FL</td>\n",
       "      <td>Florida</td>\n",
       "      <td>Ron DeSantis</td>\n",
       "      <td>Jeanette Nunez</td>\n",
       "    </tr>\n",
       "    <tr>\n",
       "      <th>2</th>\n",
       "      <td>Palm Beach</td>\n",
       "      <td>600000</td>\n",
       "      <td>FL</td>\n",
       "      <td>Florida</td>\n",
       "      <td>Ron DeSantis</td>\n",
       "      <td>Jeanette Nunez</td>\n",
       "    </tr>\n",
       "    <tr>\n",
       "      <th>3</th>\n",
       "      <td>Summit</td>\n",
       "      <td>50324</td>\n",
       "      <td>OH</td>\n",
       "      <td>Ohio</td>\n",
       "      <td>Mike DeWine</td>\n",
       "      <td>NaN</td>\n",
       "    </tr>\n",
       "    <tr>\n",
       "      <th>4</th>\n",
       "      <td>Cuyahoga</td>\n",
       "      <td>200000</td>\n",
       "      <td>OH</td>\n",
       "      <td>Ohio</td>\n",
       "      <td>Mike DeWine</td>\n",
       "      <td>NaN</td>\n",
       "    </tr>\n",
       "  </tbody>\n",
       "</table>\n",
       "</div>"
      ],
      "text/plain": [
       "         name  population abbr    state info.governor info.ltGovernor\n",
       "0        Dade       12345   FL  Florida  Ron DeSantis  Jeanette Nunez\n",
       "1     Broward      400000   FL  Florida  Ron DeSantis  Jeanette Nunez\n",
       "2  Palm Beach      600000   FL  Florida  Ron DeSantis  Jeanette Nunez\n",
       "3      Summit       50324   OH     Ohio   Mike DeWine             NaN\n",
       "4    Cuyahoga      200000   OH     Ohio   Mike DeWine             NaN"
      ]
     },
     "execution_count": 37,
     "metadata": {},
     "output_type": "execute_result"
    }
   ],
   "source": [
    "pd.json_normalize(states, \n",
    "                  record_path=\"counties\", \n",
    "                  meta=[\"abbr\", \"state\", [\"info\", \"governor\"], [\"info\", \"ltGovernor\"]],\n",
    "                  errors=\"ignore\"\n",
    "                 )"
   ]
  },
  {
   "cell_type": "markdown",
   "id": "1437f3e6",
   "metadata": {},
   "source": [
    "Notice how we started with the most nested level (`counties`) and worked our way back up using `meta`."
   ]
  }
 ],
 "metadata": {
  "interpreter": {
   "hash": "5eaee7f08749df7acde7defcf9c75ec9e0490b46ee4fb9b854947ce622c4fcf4"
  },
  "kernelspec": {
   "display_name": "Python 3.10.4 ('lhl_env')",
   "language": "python",
   "name": "python3"
  },
  "language_info": {
   "codemirror_mode": {
    "name": "ipython",
    "version": 3
   },
   "file_extension": ".py",
   "mimetype": "text/x-python",
   "name": "python",
   "nbconvert_exporter": "python",
   "pygments_lexer": "ipython3",
   "version": "3.8.13"
  }
 },
 "nbformat": 4,
 "nbformat_minor": 5
}
