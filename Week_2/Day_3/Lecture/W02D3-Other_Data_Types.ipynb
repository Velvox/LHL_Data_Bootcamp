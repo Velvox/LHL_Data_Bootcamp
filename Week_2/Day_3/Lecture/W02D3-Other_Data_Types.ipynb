{
 "cells": [
  {
   "cell_type": "markdown",
   "id": "5712d77a",
   "metadata": {},
   "source": [
    "# W02D3 - Other Data Types\n",
    "\n",
    "- Notebook by [James Bain](https://github.com/jcbain/data_2022-03-07/tree/main/w02d03_other_data_types)\n",
    "\n",
    "\n",
    "## Outline:\n",
    "- \"Tidy Data\" concepts and principles\n",
    "- Very quick tabular data recap\n",
    "    - Reading in Excel files\n",
    "- HTML/XML formats\n",
    "- JSON format"
   ]
  },
  {
   "cell_type": "markdown",
   "id": "0f93726b",
   "metadata": {},
   "source": [
    "# Tidy Data\n",
    "\n",
    "- [*Tidy Data*](https://vita.had.co.nz/papers/tidy-data.pdf) by Hadley Wickham\n",
    "\n",
    "## What is \"Tidy Data\"?\n",
    "\n",
    "- A set of principles for how to structure tabular data in a data frame (and why they're important).\n",
    "- Columns contain the same data type.\n",
    "- Rows contain observations.\n",
    "- We would like our data to be in this form.\n",
    "\n",
    "\n",
    "\n",
    "![rows/columns/values](images/01_tidy_data.png)"
   ]
  },
  {
   "cell_type": "markdown",
   "id": "a1a9941b",
   "metadata": {},
   "source": [
    "## Examples of Untidy data\n",
    "\n",
    "### Ex 1\n",
    "\n",
    "- dataset: `puppies`\n",
    "- info: measuring the weights (kg) of puppies after 6 months and 24 months\n",
    "- **What is wrong? How to fix?**\n",
    "\n",
    "\n",
    "| name  | 6 | 24 |\n",
    "|----|----|----|\n",
    "| pippa | 8 | 12 |\n",
    "| prairie | 5 | 10 |\n",
    "\n",
    "#### Problem:\n",
    "* the column names aren't **variables**, but instead they are **values of a variable** (age).\n",
    "* Called \"pivoted\"\n",
    "\n",
    "\n",
    "Tidied example (unpivoted):\n",
    "\n",
    "| name | age | weight |\n",
    "|------|-----|--------|\n",
    "| pippa | 6 | 8 |\n",
    "| prairie | 6 | 5|\n",
    "| pippa | 24 | 12 |\n",
    "| prairie | 24 | 10 |\n",
    "\n",
    "- This format will be easier to work with when we start ML.\n",
    "\n",
    "### Ex 2\n",
    "\n",
    "- dataset: `test_scores`\n",
    "- info: documenting test scores of students\n",
    "- **What is wrong? How to fix?**\n",
    "\n",
    "\n",
    "| student_id | test_name | score |\n",
    "| ---------- | --------- | ----- |\n",
    "| 1          | bio       | 76/100|\n",
    "| 2          | bio       | 90/100|\n",
    "| 1          | anthro    | 200/250|\n",
    "\n",
    "#### Problem:\n",
    "\n",
    "* `score` column is a composite value of `points earned` over `points available` (string vs float)\n",
    "* Don't perform calculation; instead split into two columns to avoid losing information.\n",
    "\n",
    "Tidied example:\n",
    "\n",
    "| student_id | test_name | points_earned | points_available |\n",
    "| ---------- | --------- | ----- | -----|\n",
    "| 1          | bio       | 76 | 100 |\n",
    "| 2          | bio       | 90 | 100 |\n",
    "| 1          | anthro    | 200 | 250 |"
   ]
  },
  {
   "cell_type": "markdown",
   "id": "17abeaff",
   "metadata": {},
   "source": [
    "## Your Turn \n",
    "### Is this untidy? How can we fix?\n",
    "\n",
    "data: TB cases\n",
    "\n",
    "| country | cases (year 1999) | cases (year 2000) | population (year 1999) | population (year 2000) |\n",
    "| ------- | ----------------- | ----------------- | ---------------------- | ---------------------- |\n",
    "| Afghanistan | 745 | 2666 | 19987071 | 20595360 |\n",
    "| Brazil | 37737 | 80488 | 172006362 | 174504897 |\n",
    "| China | 212258 | 213766 | 1272915272 | 1280428583 | \n",
    "\n"
   ]
  },
  {
   "cell_type": "markdown",
   "id": "fd652df2",
   "metadata": {},
   "source": [
    "<details>\n",
    "  <summary>Solution 1 (hidden)</summary>\n",
    "    \n",
    "| country | year | cases | population |\n",
    "| ------- | ----------------- | ----------------- | ---------------------- |\n",
    "| Afghanistan | 1999 | 745 | 19987071 |\n",
    "| Afghanistan | 2000 | 2666 | 20595360 |\n",
    "| Brazil | 1999 | 37737 | 172006362 |\n",
    "| Brazil | 2000 | 80488 | 174504897 |\n",
    "| China | 1999 | 212258 | 1272915272 |\n",
    "| China | 2000 | 213766 | 1280428583 |\n",
    "</details>"
   ]
  },
  {
   "cell_type": "markdown",
   "id": "a01ba8af",
   "metadata": {},
   "source": [
    "<details>\n",
    "  <summary>Solution 2 (hidden)</summary>\n",
    "    \n",
    "| country | year | attribute | value |\n",
    "| ------- | ----------------- | ----------------- | ---------------------- |\n",
    "| Afghanistan | 1999 | cases | 745 |\n",
    "| Afghanistan | 1999 | population | 19987071 |\n",
    "| Afghanistan | 2000 | cases | 2666 |\n",
    "| Afghanistan | 2000 | population | 20595360 |\n",
    "| Brazil | 1999 | cases | 37737 |\n",
    "| Brazil | 1999 | population | 172006362 |\n",
    "| Brazil | 2000 | cases | 80488 |\n",
    "| Brazil | 2000 | population | 174504897 |\n",
    "| China | 1999 | cases | 212258 |\n",
    "| China | 1999 | population | 1272915272 |\n",
    "| China | 2000 | cases | 213766 |\n",
    "| China | 2000 | population | 1280428583 |\n",
    "</details>"
   ]
  },
  {
   "cell_type": "markdown",
   "id": "ed25bc2c-bcb8-463a-8a0b-88e7c8c8b0a1",
   "metadata": {},
   "source": [
    "# Tabular data recap\n",
    "**... and a small introduction to reading in excel (`xlsx`) files**"
   ]
  },
  {
   "cell_type": "code",
   "execution_count": null,
   "id": "0aafcd29-fca4-4d5d-ad02-b6753f327e55",
   "metadata": {},
   "outputs": [],
   "source": [
    "import pandas as pd"
   ]
  },
  {
   "cell_type": "code",
   "execution_count": null,
   "id": "a9154041-481f-49fa-afc1-5613c9a90295",
   "metadata": {},
   "outputs": [],
   "source": [
    "# using pandas to construct a dataframe from an xlsx file\n",
    "puppies = pd.read_excel(\"data/puppies.xlsx\")\n",
    "puppies.head()"
   ]
  },
  {
   "cell_type": "code",
   "execution_count": null,
   "id": "d7ff01e0-c834-449d-af42-14c2f93f60c7",
   "metadata": {},
   "outputs": [],
   "source": [
    "# what if our file actually has multiple sheets?\n",
    "puppies_weights = pd.read_excel(\"data/puppies.xlsx\", sheet_name=\"Sheet1\")\n",
    "puppies_desc = pd.read_excel(\"data/puppies.xlsx\", sheet_name=\"Sheet2\")\n",
    "puppies_weights"
   ]
  },
  {
   "cell_type": "code",
   "execution_count": null,
   "id": "d5a694d3-2314-4494-a22d-0a8b9aafbbe4",
   "metadata": {},
   "outputs": [],
   "source": [
    "puppies_desc"
   ]
  },
  {
   "cell_type": "markdown",
   "id": "55e1dd42",
   "metadata": {},
   "source": [
    "## The power of documentation\n",
    "When working with any python library and its methods, it is always helpful to be aware of its documentation. Here is `pandas.read_excel()`'s  [documentation](https://pandas.pydata.org/docs/reference/api/pandas.read_excel.html)."
   ]
  },
  {
   "cell_type": "markdown",
   "id": "2a9f5177-c639-4472-8ab3-a7c4c171157f",
   "metadata": {},
   "source": [
    "# Some other types of data that are useful to data scientists\n",
    "\n",
    "| Data Type | Example |Uses |\n",
    "| :--------- | :------- | :---- |\n",
    "| JSON or XML | parsing APIs | gathering data, trend analysis, forecasting... |\n",
    "| HTML | web scraping | gathering web based document data, social media contacts... |\n",
    "| image/video | computer vision | self-driving cars, medical imaging diagnostics |\n",
    "| text | tweets, scripts, books | sentiment analysis, text generation, other natural language processing |\n",
    "\n",
    "Today we will be learning how to work with HTML, XML, and JSON formats.\n",
    "\n",
    "- XML: `xml`\n",
    "- HTML: `xml` (also `BeautifulSoup`, not covered but good to be aware of)\n",
    "- JSON: `json`\n"
   ]
  },
  {
   "cell_type": "markdown",
   "id": "80ef08a2-c936-4777-8b6d-8df6c40b947c",
   "metadata": {
    "tags": []
   },
   "source": [
    "# XML and HTML\n",
    "- `html`: hyper text markup language (what our browsers can read)\n",
    "- `xml`: extensible markup language (more general than HTML - we can define the \"tags\")\n",
    "- hierarchical collections of elements (tree structure)\n",
    "- generally consists of an opening tag, content, and closing tag\n",
    "\n",
    "Let's look at some HTML: [Wikipedia page for \"Dogs\"](https://en.wikipedia.org/wiki/Dog)\n",
    "- right-click->Inspect (or `F12`)\n",
    "\n",
    "Let's look at some XML:\n",
    "\n",
    "```xml\n",
    "<dog>\n",
    "    <name>Pippa</name>\n",
    "    <age>10</age>\n",
    "    <diet>\n",
    "        <fooditem>kibbles</fooditem>\n",
    "        <fooditem>pumpkin</fooditem>\n",
    "    </diet>\n",
    "</dog>\n",
    "```\n",
    "\n",
    "perhaps with attributes\n",
    "\n",
    "```xml\n",
    "<dog name=\"Pippa\" age=\"10\">\n",
    "    <diet>\n",
    "        <fooditem name=\"kibbles\"></fooditem>\n",
    "        <fooditem name=\"pumpkin\"></fooditem>  \n",
    "    </diet>\n",
    "</dog>\n",
    "```\n",
    "\n",
    "Remember, we will be using this data, so someone else will have designed the XML formatting/style. Our focus will be to parse through a HTML/XML file to get the information we want."
   ]
  },
  {
   "cell_type": "markdown",
   "id": "dbf44a80-5909-48cc-ba0a-cc1fd426da69",
   "metadata": {},
   "source": [
    "## Demo\n",
    "\n",
    "- data: `olympics.xml`\n",
    "- path: 'data/olympics.xml'\n",
    "- description: characteristics of several host countries of the Summer Olympic Games\n",
    "\n",
    "```xml\n",
    "<?xml version=\"1.0\"?>\n",
    "<data>\n",
    "  <country name=\"greece\">\n",
    "    <order>1</order>\n",
    "    <year>1896</year>\n",
    "    <nexthost name=\"france\"></nexthost>\n",
    "  </country>\n",
    "  <country name=\"united states of america\">\n",
    "    <order>3</order>\n",
    "    <year>1904</year>\n",
    "    <previoushost name=\"france\"></previoushost>\n",
    "    <nexthost name=\"england\"></nexthost>\n",
    "  </country>\n",
    "  <country name=\"australia\">\n",
    "    <order>27</order>\n",
    "    <year>2000</year>\n",
    "    <previoushost name=\"united states of america\"></previoushost>\n",
    "    <nexthost name=\"greece\"></nexthost>\n",
    "  </country>\n",
    "</data>\n",
    "```"
   ]
  },
  {
   "cell_type": "markdown",
   "id": "08a6ad13",
   "metadata": {},
   "source": [
    "Useful site to visualize the tree structure of a XML file: https://codebeautify.org/xmlviewer"
   ]
  },
  {
   "cell_type": "code",
   "execution_count": null,
   "id": "e74077cb-0dd3-4809-815a-7a6960c56476",
   "metadata": {},
   "outputs": [],
   "source": [
    "# read in our data\n",
    "import xml.etree.ElementTree as et\n",
    "tree = et.parse('data/olympics.xml')\n",
    "tree"
   ]
  },
  {
   "cell_type": "code",
   "execution_count": null,
   "id": "3f459e93-8f0c-4701-be19-af05b43df741",
   "metadata": {},
   "outputs": [],
   "source": [
    "# grab the root element of tree\n",
    "root = tree.getroot()\n",
    "root"
   ]
  },
  {
   "cell_type": "markdown",
   "id": "e029d097-5619-4bbd-a434-eed7a6cec994",
   "metadata": {},
   "source": [
    "we have a handle on the root element. How do we begin exploring?\n",
    "- what's the root element's **tag**?\n",
    "- does the root element have any **attributes**? \n",
    "- does the root element contain any **children**?\n",
    "- can we extend this knowledge?\n",
    "\n",
    "How do we find out more? Check the [docs](https://docs.python.org/3/library/xml.etree.elementtree.html)"
   ]
  },
  {
   "cell_type": "code",
   "execution_count": null,
   "id": "27a73857-d7f7-4570-9f6f-445a7e7005fe",
   "metadata": {
    "scrolled": true
   },
   "outputs": [],
   "source": [
    "# explore some of it's features\n",
    "print(\"the root element's tag name is:\", root.tag)\n",
    "print(\"the attributes of the root are:\", root.attrib) #dictionary\n",
    "print(\"the number of children that the root element has is: \", len(root))"
   ]
  },
  {
   "cell_type": "code",
   "execution_count": null,
   "id": "08a79a81-e498-4458-b01e-dd29fcf11955",
   "metadata": {},
   "outputs": [],
   "source": [
    "#access the 0-th child\n",
    "first_child = root[0]\n",
    "print(first_child.tag)\n",
    "print(first_child.attrib)\n",
    "print(len(first_child))"
   ]
  },
  {
   "cell_type": "code",
   "execution_count": null,
   "id": "7e156ab5",
   "metadata": {},
   "outputs": [],
   "source": [
    "second_child = root[1]\n",
    "print(second_child.tag)\n",
    "print(second_child.attrib)\n",
    "print(len(second_child))"
   ]
  },
  {
   "cell_type": "code",
   "execution_count": null,
   "id": "7cd6c166",
   "metadata": {},
   "outputs": [],
   "source": [
    "third_child = root[2]\n",
    "print(third_child.tag)\n",
    "print(third_child.attrib)\n",
    "print(len(third_child))"
   ]
  },
  {
   "cell_type": "markdown",
   "id": "c6f50477",
   "metadata": {},
   "source": [
    "We could have instead iterated over a node's children using the `.iter()` method."
   ]
  },
  {
   "cell_type": "code",
   "execution_count": null,
   "id": "00a761c5",
   "metadata": {},
   "outputs": [],
   "source": [
    "for countries in root.iter('country'): #iterates over all children (of root) with the tag 'country'\n",
    "    print(countries.tag)\n",
    "    print(countries.attrib)\n",
    "    print(len(countries))"
   ]
  },
  {
   "cell_type": "markdown",
   "id": "545c6f90",
   "metadata": {},
   "source": [
    "For nodes with multiple attributes, we can just specify the key of the attribute we want (since it's a dictionary)."
   ]
  },
  {
   "cell_type": "code",
   "execution_count": null,
   "id": "51a06959",
   "metadata": {},
   "outputs": [],
   "source": [
    "third_child.set('abbrev', 'AUS') #adds an attribute called 'abbrev' with a value of 'AUS' (note the XML file is not changed)\n",
    "third_child.attrib"
   ]
  },
  {
   "cell_type": "code",
   "execution_count": null,
   "id": "1058e34c",
   "metadata": {},
   "outputs": [],
   "source": [
    "third_child.attrib['name']\n",
    "#third_child.attrib['abbrev']"
   ]
  },
  {
   "cell_type": "markdown",
   "id": "9d2162cc",
   "metadata": {},
   "source": [
    "We now know how to traverse a XML tree and get tags and attributes. How do we get an actual **value**? (E.g. what year did Greece host the olympics?"
   ]
  },
  {
   "cell_type": "code",
   "execution_count": null,
   "id": "75995b6f-4585-42ab-af20-ff797e5460e1",
   "metadata": {},
   "outputs": [],
   "source": [
    "# grab the 0th country element and check its attribute\n",
    "first_child = root[0]\n",
    "first_child.attrib"
   ]
  },
  {
   "cell_type": "code",
   "execution_count": null,
   "id": "4d098654",
   "metadata": {},
   "outputs": [],
   "source": [
    "#find which child has the tag='year'\n",
    "print(first_child[0].tag)\n",
    "print(first_child[1].tag)"
   ]
  },
  {
   "cell_type": "code",
   "execution_count": null,
   "id": "9766aa7a",
   "metadata": {},
   "outputs": [],
   "source": [
    "#use .text to get the value at that node.\n",
    "first_child[1].text"
   ]
  },
  {
   "cell_type": "markdown",
   "id": "f34a8392",
   "metadata": {},
   "source": [
    "Surely there must be a more efficient way... Maybe some way to search?\n",
    "\n",
    "E.g. I want the value of the child with tag='year'"
   ]
  },
  {
   "cell_type": "code",
   "execution_count": null,
   "id": "f083c757",
   "metadata": {},
   "outputs": [],
   "source": [
    "for sub_child in first_child.findall('year'):\n",
    "    print(sub_child.text)"
   ]
  },
  {
   "cell_type": "markdown",
   "id": "80ae79a9",
   "metadata": {},
   "source": [
    "For more XML methods (and examples), visit this link: https://docs.python.org/3/library/xml.etree.elementtree.html\n",
    "\n",
    "You'll also practice working with XML further in your compass exercises."
   ]
  },
  {
   "cell_type": "markdown",
   "id": "2983c73c-7fd2-487d-95bd-f92156a4161d",
   "metadata": {},
   "source": [
    "# JSON\n",
    "\n",
    "**J**ava**S**cript **O**bject **N**otation: Most popular semi-structured data format.\n",
    "\n",
    "A data-interchange format that is simple for humans and machines to read and write.\n",
    "\n",
    "Data are stored in structures of key-value pairs (dictionary).\n",
    "\n",
    "\n",
    "```json\n",
    "{\n",
    "  \"pizza\": [\"veggie\", \"pepperoni\", \"pineapple\", \"mushroom\"],\n",
    "  \"price\": [12.99, 14.00, 11.99, 16.00],\n",
    "  \"averageRating\": [5, 4, 4.5, 4.9]\n",
    "}\n",
    "```\n",
    "\n",
    "or \n",
    "\n",
    "```json\n",
    "{\n",
    "  \"pizza\": {\n",
    "    \"0\":\"veggie\",\n",
    "    \"1\":\"pepperoni\",\n",
    "    \"2\":\"pineapple\",\n",
    "    \"3\":\"mushroom\"\n",
    "  },\n",
    "  \"price\": {\n",
    "    \"0\":12.99,\n",
    "    \"1\":14.0,\n",
    "    \"2\":11.99,\n",
    "    \"3\":16.0\n",
    "  },\n",
    "  \"averageRating\": {\n",
    "    \"0\":5.0,\n",
    "    \"1\":4.0,\n",
    "    \"2\":4.5,\n",
    "    \"3\":4.9\n",
    "  }\n",
    "}\n",
    "```\n"
   ]
  },
  {
   "cell_type": "markdown",
   "id": "e033aeb6-f87c-4505-b4e0-b0ba92c03c53",
   "metadata": {},
   "source": [
    "When our attributes have the same number of items associated with them, parsing them out into a dataframe is rather simple."
   ]
  },
  {
   "cell_type": "code",
   "execution_count": null,
   "id": "dd7ee937-9165-464e-8f21-5940e829a445",
   "metadata": {},
   "outputs": [],
   "source": [
    "data_url = \"https://raw.githubusercontent.com/jcbain/data_2022-03-07/main/w02d03_other_data_types/src/data/pizza.json\"\n",
    "#data_path = \"data/pizza.json\"\n",
    "pizza = pd.read_json(data_url)\n",
    "pizza"
   ]
  },
  {
   "cell_type": "markdown",
   "id": "fd5b7144-d1b1-4699-a856-b5e133bbc8b6",
   "metadata": {},
   "source": [
    "## Nested JSON\n",
    "however...\n",
    "\n",
    "data: [`data/content.json`](data/content.json)\n",
    "\n",
    "```json\n",
    "\n",
    "{\n",
    "  \"articles\": [\n",
    "    {\n",
    "      \"name\": \"how to program in javascript\",\n",
    "      \"author\": \"prairie\",\n",
    "      \"wordCount\": 1200\n",
    "    },\n",
    "    {\n",
    "      \"name\": \"should you rewrite your application in python?\",\n",
    "      \"author\": \"pippa\",\n",
    "      \"wordCount\": 40000\n",
    "    }\n",
    "  ],\n",
    "  \"blogs\": [\n",
    "    {\n",
    "      \"title\": \"differences between js objects and python dictionaries\",\n",
    "      \"postedBy\": \"jennifer\"\n",
    "    }\n",
    "  ]\n",
    "}\n",
    "```"
   ]
  },
  {
   "cell_type": "code",
   "execution_count": null,
   "id": "84dcfc45-cfed-4353-aaf4-039b1781ea69",
   "metadata": {},
   "outputs": [],
   "source": [
    "content = pd.read_json(\"data/content.json\") #will give error"
   ]
  },
  {
   "cell_type": "markdown",
   "id": "5b676905-ccb1-4738-892b-939881e60a86",
   "metadata": {},
   "source": [
    "In which cases, we have to work a bit more to get our data in a format we find reasonable to work with"
   ]
  },
  {
   "cell_type": "code",
   "execution_count": null,
   "id": "2e98b546-c7df-41f6-b378-1bf457a22b36",
   "metadata": {},
   "outputs": [],
   "source": [
    "import json\n",
    "\n",
    "with open(\"data/content.json\") as file:\n",
    "    content = json.load(file) #open JSON file as a python dictionary\n",
    "    \n",
    "content"
   ]
  },
  {
   "cell_type": "markdown",
   "id": "fe7f9304-cccf-4a84-829f-fd64b88dbb76",
   "metadata": {},
   "source": [
    "Use the `pd.json_normalize` method to mold you data into a dataframe\n",
    "\n",
    "... but looks a little strange"
   ]
  },
  {
   "cell_type": "code",
   "execution_count": null,
   "id": "9172fce3-f042-4273-97cd-c6a58a7312b9",
   "metadata": {},
   "outputs": [],
   "source": [
    "pd.json_normalize(content)"
   ]
  },
  {
   "cell_type": "markdown",
   "id": "bd99b582-1fc2-4284-9ac1-768c9729eddb",
   "metadata": {},
   "source": [
    "but conceptually \"articles\" and \"blogs\" are distinct"
   ]
  },
  {
   "cell_type": "code",
   "execution_count": null,
   "id": "e5a6b41b-981d-4510-803d-01c802f2e43f",
   "metadata": {},
   "outputs": [],
   "source": [
    "pd.json_normalize(content, record_path=\"articles\")"
   ]
  },
  {
   "cell_type": "code",
   "execution_count": null,
   "id": "2fb2abb4-6fcb-4dad-ad69-f11c87e23e6f",
   "metadata": {},
   "outputs": [],
   "source": [
    "pd.json_normalize(content, record_path=\"blogs\")"
   ]
  },
  {
   "cell_type": "code",
   "execution_count": null,
   "id": "8e5f710c-10e6-4ea5-b1ff-494532008ba8",
   "metadata": {},
   "outputs": [],
   "source": [
    "#same as cell above\n",
    "blogs = content[\"blogs\"]\n",
    "pd.json_normalize(blogs)"
   ]
  },
  {
   "cell_type": "markdown",
   "id": "532fa826-a277-4307-b8d9-6151dedfa03e",
   "metadata": {},
   "source": [
    "### Nested with multiple levels\n",
    "How about complex but uniform structure...\n",
    "[`data/states.json`](data/states.json)"
   ]
  },
  {
   "cell_type": "code",
   "execution_count": null,
   "id": "0aa92176",
   "metadata": {},
   "outputs": [],
   "source": [
    "import json\n",
    "\n",
    "with open(\"data/states.json\") as file:\n",
    "    states = json.load(file) #open JSON file as a python dictionary\n",
    "    \n",
    "states"
   ]
  },
  {
   "cell_type": "code",
   "execution_count": null,
   "id": "b7436cd2",
   "metadata": {
    "scrolled": false
   },
   "outputs": [],
   "source": [
    "pd.json_normalize(states) #naively use pd.json_normalize"
   ]
  },
  {
   "cell_type": "markdown",
   "id": "e6a52267",
   "metadata": {},
   "source": [
    "Notice 'counties' and 'info.ltGovernor' columns"
   ]
  },
  {
   "cell_type": "code",
   "execution_count": null,
   "id": "47ab1d93",
   "metadata": {},
   "outputs": [],
   "source": [
    "#create a df from just the counties column\n",
    "pd.json_normalize(states, record_path=\"counties\")"
   ]
  },
  {
   "cell_type": "markdown",
   "id": "dad58718",
   "metadata": {},
   "source": [
    "Which state do each of these counties belong to? Can think of it as a \"join\""
   ]
  },
  {
   "cell_type": "code",
   "execution_count": null,
   "id": "6e5032ba",
   "metadata": {},
   "outputs": [],
   "source": [
    "#pulls data from up a level\n",
    "pd.json_normalize(states, record_path=\"counties\", meta=[\"state\"])"
   ]
  },
  {
   "cell_type": "code",
   "execution_count": null,
   "id": "1475e36d",
   "metadata": {},
   "outputs": [],
   "source": [
    "#pulls data from up a level\n",
    "pd.json_normalize(states, record_path=\"counties\", meta=[\"state\", \"abbr\"])"
   ]
  },
  {
   "cell_type": "code",
   "execution_count": null,
   "id": "c9a232cd",
   "metadata": {
    "scrolled": true
   },
   "outputs": [],
   "source": [
    "pd.json_normalize(states, record_path=\"counties\", meta=[\"state\", \"abbr\", [\"info\", \"governor\"]])"
   ]
  },
  {
   "cell_type": "code",
   "execution_count": null,
   "id": "8312672f",
   "metadata": {
    "scrolled": true
   },
   "outputs": [],
   "source": [
    "#rewriting above in a more visually pleasing way\n",
    "pd.json_normalize(states,\n",
    "                  record_path=\"counties\",\n",
    "                  meta=[\"state\", \"abbr\", [\"info\", \"governor\"]])"
   ]
  },
  {
   "cell_type": "code",
   "execution_count": null,
   "id": "777215d3",
   "metadata": {},
   "outputs": [],
   "source": [
    "#will give error because Ohio does not have a ltGovernor\n",
    "pd.json_normalize(states,\n",
    "                  record_path=\"counties\",\n",
    "                  meta=[\"state\", \"abbr\", [\"info\", \"governor\"], [\"info\", \"ltGovernor\"]])"
   ]
  },
  {
   "cell_type": "code",
   "execution_count": null,
   "id": "7deb8538-aba6-4e35-a433-8c77a08c64bd",
   "metadata": {
    "scrolled": true
   },
   "outputs": [],
   "source": [
    "pd.json_normalize(states, \n",
    "                  record_path=\"counties\", \n",
    "                  meta=[\"abbr\", \"state\", [\"info\", \"governor\"], [\"info\", \"ltGovernor\"]],\n",
    "                  errors=\"ignore\"\n",
    "                 )"
   ]
  },
  {
   "cell_type": "markdown",
   "id": "1437f3e6",
   "metadata": {},
   "source": [
    "Notice how we started with the most nested level (`counties`) and worked our way back up using `meta`."
   ]
  }
 ],
 "metadata": {
  "kernelspec": {
   "display_name": "Python 3 (ipykernel)",
   "language": "python",
   "name": "python3"
  },
  "language_info": {
   "codemirror_mode": {
    "name": "ipython",
    "version": 3
   },
   "file_extension": ".py",
   "mimetype": "text/x-python",
   "name": "python",
   "nbconvert_exporter": "python",
   "pygments_lexer": "ipython3",
   "version": "3.9.7"
  }
 },
 "nbformat": 4,
 "nbformat_minor": 5
}
