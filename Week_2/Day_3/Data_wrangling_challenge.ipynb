{
 "cells": [
  {
   "cell_type": "markdown",
   "metadata": {},
   "source": [
    "# Data Wrangling Challenge\n",
    "### Pull and manipulate the API data\n",
    "\n",
    "The point of this exercise is to try data enrichment with data from external APIs. We are going to take data about car crashes in Monroe County, Indiana from 2003 to 2015 and try to figure out the weather during the accident and how many bars there are in the area. We will work with two different APIs during this challenge:\n",
    "\n",
    "- Foursquare API\n",
    "- World Weather Online API\n",
    "\n",
    "We will try to find correlations between the severity of crash and weather/number of bars in the area. To indicate the severity of a crash, we will use column `Injury Type`."
   ]
  },
  {
   "cell_type": "markdown",
   "metadata": {},
   "source": [
    "## Data\n",
    "\n",
    "The data for this exercise can be found [here](https://drive.google.com/file/d/1_KF9oIJV8cB8i3ngA4JPOLWIE_ETE6CJ/view?usp=sharing).\n",
    "\n",
    "Just run the cells below to get your data ready. Little help from us.\n"
   ]
  },
  {
   "cell_type": "code",
   "execution_count": 1,
   "metadata": {},
   "outputs": [],
   "source": [
    "import pandas as pd\n",
    "import os"
   ]
  },
  {
   "cell_type": "code",
   "execution_count": 2,
   "metadata": {},
   "outputs": [
    {
     "name": "stdout",
     "output_type": "stream",
     "text": [
      "(49005, 13)\n"
     ]
    },
    {
     "data": {
      "text/html": [
       "<div>\n",
       "<style scoped>\n",
       "    .dataframe tbody tr th:only-of-type {\n",
       "        vertical-align: middle;\n",
       "    }\n",
       "\n",
       "    .dataframe tbody tr th {\n",
       "        vertical-align: top;\n",
       "    }\n",
       "\n",
       "    .dataframe thead th {\n",
       "        text-align: right;\n",
       "    }\n",
       "</style>\n",
       "<table border=\"1\" class=\"dataframe\">\n",
       "  <thead>\n",
       "    <tr style=\"text-align: right;\">\n",
       "      <th></th>\n",
       "      <th>Master Record Number</th>\n",
       "      <th>Year</th>\n",
       "      <th>Month</th>\n",
       "      <th>Day</th>\n",
       "      <th>Weekend?</th>\n",
       "      <th>Hour</th>\n",
       "      <th>Collision Type</th>\n",
       "      <th>Injury Type</th>\n",
       "      <th>Primary Factor</th>\n",
       "      <th>Reported_Location</th>\n",
       "      <th>Latitude</th>\n",
       "      <th>Longitude</th>\n",
       "      <th>ll</th>\n",
       "    </tr>\n",
       "  </thead>\n",
       "  <tbody>\n",
       "    <tr>\n",
       "      <th>0</th>\n",
       "      <td>902363382</td>\n",
       "      <td>2015</td>\n",
       "      <td>1</td>\n",
       "      <td>5</td>\n",
       "      <td>Weekday</td>\n",
       "      <td>0.0</td>\n",
       "      <td>2-Car</td>\n",
       "      <td>No injury/unknown</td>\n",
       "      <td>OTHER (DRIVER) - EXPLAIN IN NARRATIVE</td>\n",
       "      <td>1ST &amp; FESS</td>\n",
       "      <td>39.159207</td>\n",
       "      <td>-86.525874</td>\n",
       "      <td>39.15920668,-86.52587356</td>\n",
       "    </tr>\n",
       "    <tr>\n",
       "      <th>1</th>\n",
       "      <td>902364268</td>\n",
       "      <td>2015</td>\n",
       "      <td>1</td>\n",
       "      <td>6</td>\n",
       "      <td>Weekday</td>\n",
       "      <td>1500.0</td>\n",
       "      <td>2-Car</td>\n",
       "      <td>No injury/unknown</td>\n",
       "      <td>FOLLOWING TOO CLOSELY</td>\n",
       "      <td>2ND &amp; COLLEGE</td>\n",
       "      <td>39.161440</td>\n",
       "      <td>-86.534848</td>\n",
       "      <td>39.16144,-86.534848</td>\n",
       "    </tr>\n",
       "    <tr>\n",
       "      <th>2</th>\n",
       "      <td>902364412</td>\n",
       "      <td>2015</td>\n",
       "      <td>1</td>\n",
       "      <td>6</td>\n",
       "      <td>Weekend</td>\n",
       "      <td>2300.0</td>\n",
       "      <td>2-Car</td>\n",
       "      <td>Non-incapacitating</td>\n",
       "      <td>DISREGARD SIGNAL/REG SIGN</td>\n",
       "      <td>BASSWOOD &amp; BLOOMFIELD</td>\n",
       "      <td>39.149780</td>\n",
       "      <td>-86.568890</td>\n",
       "      <td>39.14978027,-86.56889006</td>\n",
       "    </tr>\n",
       "    <tr>\n",
       "      <th>3</th>\n",
       "      <td>902364551</td>\n",
       "      <td>2015</td>\n",
       "      <td>1</td>\n",
       "      <td>7</td>\n",
       "      <td>Weekend</td>\n",
       "      <td>900.0</td>\n",
       "      <td>2-Car</td>\n",
       "      <td>Non-incapacitating</td>\n",
       "      <td>FAILURE TO YIELD RIGHT OF WAY</td>\n",
       "      <td>GATES &amp; JACOBS</td>\n",
       "      <td>39.165655</td>\n",
       "      <td>-86.575956</td>\n",
       "      <td>39.165655,-86.57595635</td>\n",
       "    </tr>\n",
       "    <tr>\n",
       "      <th>4</th>\n",
       "      <td>902364615</td>\n",
       "      <td>2015</td>\n",
       "      <td>1</td>\n",
       "      <td>7</td>\n",
       "      <td>Weekend</td>\n",
       "      <td>1100.0</td>\n",
       "      <td>2-Car</td>\n",
       "      <td>No injury/unknown</td>\n",
       "      <td>FAILURE TO YIELD RIGHT OF WAY</td>\n",
       "      <td>W 3RD</td>\n",
       "      <td>39.164848</td>\n",
       "      <td>-86.579625</td>\n",
       "      <td>39.164848,-86.57962482</td>\n",
       "    </tr>\n",
       "  </tbody>\n",
       "</table>\n",
       "</div>"
      ],
      "text/plain": [
       "   Master Record Number  Year  Month  Day Weekend?    Hour Collision Type  \\\n",
       "0             902363382  2015      1    5  Weekday     0.0          2-Car   \n",
       "1             902364268  2015      1    6  Weekday  1500.0          2-Car   \n",
       "2             902364412  2015      1    6  Weekend  2300.0          2-Car   \n",
       "3             902364551  2015      1    7  Weekend   900.0          2-Car   \n",
       "4             902364615  2015      1    7  Weekend  1100.0          2-Car   \n",
       "\n",
       "          Injury Type                         Primary Factor  \\\n",
       "0   No injury/unknown  OTHER (DRIVER) - EXPLAIN IN NARRATIVE   \n",
       "1   No injury/unknown                  FOLLOWING TOO CLOSELY   \n",
       "2  Non-incapacitating              DISREGARD SIGNAL/REG SIGN   \n",
       "3  Non-incapacitating          FAILURE TO YIELD RIGHT OF WAY   \n",
       "4   No injury/unknown          FAILURE TO YIELD RIGHT OF WAY   \n",
       "\n",
       "       Reported_Location   Latitude  Longitude                        ll  \n",
       "0             1ST & FESS  39.159207 -86.525874  39.15920668,-86.52587356  \n",
       "1          2ND & COLLEGE  39.161440 -86.534848       39.16144,-86.534848  \n",
       "2  BASSWOOD & BLOOMFIELD  39.149780 -86.568890  39.14978027,-86.56889006  \n",
       "3         GATES & JACOBS  39.165655 -86.575956    39.165655,-86.57595635  \n",
       "4                  W 3RD  39.164848 -86.579625    39.164848,-86.57962482  "
      ]
     },
     "execution_count": 2,
     "metadata": {},
     "output_type": "execute_result"
    }
   ],
   "source": [
    "data = pd.read_csv(\"data/monroe-county-crash-data2003-to-2015.csv\", encoding=\"unicode_escape\")\n",
    "# ========================\n",
    "# preparing data\n",
    "data.dropna(subset=['Latitude', 'Longitude'], inplace=True)\n",
    "# creation of variable with lon and lat together\n",
    "data['ll'] = data['Latitude'].astype(str) + ',' + data['Longitude'].astype(str)\n",
    "data = data[data['ll'] != '0.0,0.0']\n",
    "print(data.shape)\n",
    "data.head()"
   ]
  },
  {
   "cell_type": "code",
   "execution_count": null,
   "metadata": {},
   "outputs": [],
   "source": []
  },
  {
   "cell_type": "markdown",
   "metadata": {},
   "source": [
    "# Foursquare API\n",
    "\n",
    "Foursquare API documentation is [here](https://developer.foursquare.com/)\n",
    "\n",
    "1. Start a foursquare application and get your keys.\n",
    "2. For each crash, create the function **get_venues** that will pull bars in the radius of 5km around the crash\n",
    "\n",
    "#### example\n",
    "`get_venues('48.146394, 17.107969')`\n",
    "\n",
    "3. Find a relationship (if there is any) between number of bars in the area and severity of the crash.\n",
    "\n",
    "HINTs: \n",
    "- check out python package \"foursquare\" (no need to send HTTP requests directly with library `requests`)\n",
    "- **categoryId** for bars and nightlife needs to be found in the [foursquare API documentation](https://developer.foursquare.com/docs/api-reference/venues/search/)"
   ]
  },
  {
   "cell_type": "code",
   "execution_count": 33,
   "metadata": {},
   "outputs": [],
   "source": [
    "\n",
    "import requests\n",
    "import json\n",
    "import pandas as pd\n",
    "from pandas.io.json import json_normalize\n",
    "\n",
    "#set the keys\n",
    "foursquare_id = os.environ[\"FOURSQUARE_CLIENT_ID\"]\n",
    "foursquare_secret = os.environ[\"FOURSQAURE_CLIENT_SECRET\"]\n",
    "foursquare_api_key = os.environ[\"FOURSQUARE_API_KEY\"]"
   ]
  },
  {
   "cell_type": "code",
   "execution_count": 16,
   "metadata": {},
   "outputs": [],
   "source": [
    "# client = foursquare.Foursquare(client_id=foursquare_id, client_secret=foursquare_secret, redirect_uri='http://fondu.com/oauth/authorize')\n",
    "# auth_uri = client.oauth.auth_url()\n",
    "## make my own auth instead\n",
    "\n",
    "\n"
   ]
  },
  {
   "cell_type": "code",
   "execution_count": 17,
   "metadata": {},
   "outputs": [
    {
     "ename": "SyntaxError",
     "evalue": "invalid syntax (1281618037.py, line 1)",
     "output_type": "error",
     "traceback": [
      "\u001b[0;36m  Input \u001b[0;32mIn [17]\u001b[0;36m\u001b[0m\n\u001b[0;31m    search_endpoint = https://api.foursquare.com/v3/places/search\u001b[0m\n\u001b[0m                           ^\u001b[0m\n\u001b[0;31mSyntaxError\u001b[0m\u001b[0;31m:\u001b[0m invalid syntax\n"
     ]
    }
   ],
   "source": [
    "\n"
   ]
  },
  {
   "cell_type": "code",
   "execution_count": 115,
   "metadata": {},
   "outputs": [],
   "source": [
    "def getVenues(ll):\n",
    "    \"\"\"\n",
    "    Takes a string of ll , i.e. '11111111,1111111' and returns the number of bars within 5km, max 50 results.\n",
    "    \"\"\"\n",
    "    import requests\n",
    "    import json\n",
    "    import pandas as pd\n",
    "    \n",
    "    search_endpoint = \"https://api.foursquare.com/v3/places/search\"\n",
    "\n",
    "    headers = {\n",
    "    \"Accept\": \"application/json\",\n",
    "    \"Authorization\": foursquare_api_key\n",
    "    }\n",
    "\n",
    "    bar_params = {\n",
    "        'll' : str(ll),\n",
    "        #'query': 'bar',\n",
    "        'radius': '5000',\n",
    "        'categories': '10032',\n",
    "        'limit': '50'\n",
    "    }\n",
    "\n",
    "    request = requests.get(search_endpoint, headers=headers, params=bar_params)\n",
    "\n",
    "    return len(pd.json_normalize(request.json()['results']))"
   ]
  },
  {
   "cell_type": "code",
   "execution_count": 116,
   "metadata": {},
   "outputs": [
    {
     "data": {
      "text/plain": [
       "int"
      ]
     },
     "execution_count": 116,
     "metadata": {},
     "output_type": "execute_result"
    }
   ],
   "source": [
    "length = getVenues('45.018261,-74.728577')\n",
    "type(length)"
   ]
  },
  {
   "cell_type": "code",
   "execution_count": 117,
   "metadata": {},
   "outputs": [
    {
     "data": {
      "text/plain": [
       "49005"
      ]
     },
     "execution_count": 117,
     "metadata": {},
     "output_type": "execute_result"
    }
   ],
   "source": [
    "len(data)"
   ]
  },
  {
   "cell_type": "code",
   "execution_count": 176,
   "metadata": {},
   "outputs": [
    {
     "data": {
      "text/plain": [
       "['No injury/unknown', 'Non-incapacitating', 'Incapacitating', 'Fatal']"
      ]
     },
     "execution_count": 176,
     "metadata": {},
     "output_type": "execute_result"
    }
   ],
   "source": [
    "injuries = list(data['Injury Type'].unique())\n",
    "injuries"
   ]
  },
  {
   "cell_type": "code",
   "execution_count": 202,
   "metadata": {},
   "outputs": [],
   "source": [
    "bars_5km = []\n",
    "\n",
    "data_sample = data[0:999]\n",
    "\n",
    "for index, row in data_sample.iterrows():\n",
    "    bars_5km.append(getVenues(str(row['Latitude']) + ',' + str(row['Longitude'])))"
   ]
  },
  {
   "cell_type": "code",
   "execution_count": 203,
   "metadata": {},
   "outputs": [
    {
     "name": "stderr",
     "output_type": "stream",
     "text": [
      "/var/folders/q4/hl7yv5yn6g10s9npc_7kk08h0000gn/T/ipykernel_1138/1840523394.py:2: SettingWithCopyWarning: \n",
      "A value is trying to be set on a copy of a slice from a DataFrame.\n",
      "Try using .loc[row_indexer,col_indexer] = value instead\n",
      "\n",
      "See the caveats in the documentation: https://pandas.pydata.org/pandas-docs/stable/user_guide/indexing.html#returning-a-view-versus-a-copy\n",
      "  data_sample['clubs 5km'] = bars_series.values\n"
     ]
    }
   ],
   "source": [
    "bars_series = pd.Series(bars_5km)\n",
    "data_sample['clubs 5km'] = bars_series.values"
   ]
  },
  {
   "cell_type": "code",
   "execution_count": 204,
   "metadata": {},
   "outputs": [
    {
     "data": {
      "text/html": [
       "<div>\n",
       "<style scoped>\n",
       "    .dataframe tbody tr th:only-of-type {\n",
       "        vertical-align: middle;\n",
       "    }\n",
       "\n",
       "    .dataframe tbody tr th {\n",
       "        vertical-align: top;\n",
       "    }\n",
       "\n",
       "    .dataframe thead th {\n",
       "        text-align: right;\n",
       "    }\n",
       "</style>\n",
       "<table border=\"1\" class=\"dataframe\">\n",
       "  <thead>\n",
       "    <tr style=\"text-align: right;\">\n",
       "      <th></th>\n",
       "      <th>Master Record Number</th>\n",
       "      <th>Year</th>\n",
       "      <th>Month</th>\n",
       "      <th>Day</th>\n",
       "      <th>Weekend?</th>\n",
       "      <th>Hour</th>\n",
       "      <th>Collision Type</th>\n",
       "      <th>Injury Type</th>\n",
       "      <th>Primary Factor</th>\n",
       "      <th>Reported_Location</th>\n",
       "      <th>Latitude</th>\n",
       "      <th>Longitude</th>\n",
       "      <th>ll</th>\n",
       "      <th>clubs 5km</th>\n",
       "    </tr>\n",
       "  </thead>\n",
       "  <tbody>\n",
       "    <tr>\n",
       "      <th>0</th>\n",
       "      <td>902363382</td>\n",
       "      <td>2015</td>\n",
       "      <td>1</td>\n",
       "      <td>5</td>\n",
       "      <td>Weekday</td>\n",
       "      <td>0.0</td>\n",
       "      <td>2-Car</td>\n",
       "      <td>No injury/unknown</td>\n",
       "      <td>OTHER (DRIVER) - EXPLAIN IN NARRATIVE</td>\n",
       "      <td>1ST &amp; FESS</td>\n",
       "      <td>39.159207</td>\n",
       "      <td>-86.525874</td>\n",
       "      <td>39.15920668,-86.52587356</td>\n",
       "      <td>4</td>\n",
       "    </tr>\n",
       "    <tr>\n",
       "      <th>1</th>\n",
       "      <td>902364268</td>\n",
       "      <td>2015</td>\n",
       "      <td>1</td>\n",
       "      <td>6</td>\n",
       "      <td>Weekday</td>\n",
       "      <td>1500.0</td>\n",
       "      <td>2-Car</td>\n",
       "      <td>No injury/unknown</td>\n",
       "      <td>FOLLOWING TOO CLOSELY</td>\n",
       "      <td>2ND &amp; COLLEGE</td>\n",
       "      <td>39.161440</td>\n",
       "      <td>-86.534848</td>\n",
       "      <td>39.16144,-86.534848</td>\n",
       "      <td>4</td>\n",
       "    </tr>\n",
       "    <tr>\n",
       "      <th>2</th>\n",
       "      <td>902364412</td>\n",
       "      <td>2015</td>\n",
       "      <td>1</td>\n",
       "      <td>6</td>\n",
       "      <td>Weekend</td>\n",
       "      <td>2300.0</td>\n",
       "      <td>2-Car</td>\n",
       "      <td>Non-incapacitating</td>\n",
       "      <td>DISREGARD SIGNAL/REG SIGN</td>\n",
       "      <td>BASSWOOD &amp; BLOOMFIELD</td>\n",
       "      <td>39.149780</td>\n",
       "      <td>-86.568890</td>\n",
       "      <td>39.14978027,-86.56889006</td>\n",
       "      <td>4</td>\n",
       "    </tr>\n",
       "    <tr>\n",
       "      <th>3</th>\n",
       "      <td>902364551</td>\n",
       "      <td>2015</td>\n",
       "      <td>1</td>\n",
       "      <td>7</td>\n",
       "      <td>Weekend</td>\n",
       "      <td>900.0</td>\n",
       "      <td>2-Car</td>\n",
       "      <td>Non-incapacitating</td>\n",
       "      <td>FAILURE TO YIELD RIGHT OF WAY</td>\n",
       "      <td>GATES &amp; JACOBS</td>\n",
       "      <td>39.165655</td>\n",
       "      <td>-86.575956</td>\n",
       "      <td>39.165655,-86.57595635</td>\n",
       "      <td>4</td>\n",
       "    </tr>\n",
       "    <tr>\n",
       "      <th>4</th>\n",
       "      <td>902364615</td>\n",
       "      <td>2015</td>\n",
       "      <td>1</td>\n",
       "      <td>7</td>\n",
       "      <td>Weekend</td>\n",
       "      <td>1100.0</td>\n",
       "      <td>2-Car</td>\n",
       "      <td>No injury/unknown</td>\n",
       "      <td>FAILURE TO YIELD RIGHT OF WAY</td>\n",
       "      <td>W 3RD</td>\n",
       "      <td>39.164848</td>\n",
       "      <td>-86.579625</td>\n",
       "      <td>39.164848,-86.57962482</td>\n",
       "      <td>4</td>\n",
       "    </tr>\n",
       "    <tr>\n",
       "      <th>...</th>\n",
       "      <td>...</td>\n",
       "      <td>...</td>\n",
       "      <td>...</td>\n",
       "      <td>...</td>\n",
       "      <td>...</td>\n",
       "      <td>...</td>\n",
       "      <td>...</td>\n",
       "      <td>...</td>\n",
       "      <td>...</td>\n",
       "      <td>...</td>\n",
       "      <td>...</td>\n",
       "      <td>...</td>\n",
       "      <td>...</td>\n",
       "      <td>...</td>\n",
       "    </tr>\n",
       "    <tr>\n",
       "      <th>1066</th>\n",
       "      <td>902417767</td>\n",
       "      <td>2015</td>\n",
       "      <td>3</td>\n",
       "      <td>2</td>\n",
       "      <td>Weekday</td>\n",
       "      <td>1300.0</td>\n",
       "      <td>1-Car</td>\n",
       "      <td>No injury/unknown</td>\n",
       "      <td>SPEED TOO FAST FOR WEATHER CONDITIONS</td>\n",
       "      <td>W MAIN STREET</td>\n",
       "      <td>39.238336</td>\n",
       "      <td>-86.629328</td>\n",
       "      <td>39.238336,-86.629328</td>\n",
       "      <td>1</td>\n",
       "    </tr>\n",
       "    <tr>\n",
       "      <th>1067</th>\n",
       "      <td>902418005</td>\n",
       "      <td>2015</td>\n",
       "      <td>3</td>\n",
       "      <td>2</td>\n",
       "      <td>Weekday</td>\n",
       "      <td>1600.0</td>\n",
       "      <td>2-Car</td>\n",
       "      <td>No injury/unknown</td>\n",
       "      <td>FOLLOWING TOO CLOSELY</td>\n",
       "      <td>SR37S &amp; TAPP</td>\n",
       "      <td>39.137040</td>\n",
       "      <td>-86.572896</td>\n",
       "      <td>39.13704,-86.572896</td>\n",
       "      <td>4</td>\n",
       "    </tr>\n",
       "    <tr>\n",
       "      <th>1068</th>\n",
       "      <td>902418014</td>\n",
       "      <td>2015</td>\n",
       "      <td>3</td>\n",
       "      <td>2</td>\n",
       "      <td>Weekday</td>\n",
       "      <td>1800.0</td>\n",
       "      <td>2-Car</td>\n",
       "      <td>No injury/unknown</td>\n",
       "      <td>UNSAFE BACKING</td>\n",
       "      <td>W 17TH</td>\n",
       "      <td>39.178960</td>\n",
       "      <td>-86.534720</td>\n",
       "      <td>39.17896,-86.53472</td>\n",
       "      <td>4</td>\n",
       "    </tr>\n",
       "    <tr>\n",
       "      <th>1069</th>\n",
       "      <td>902418058</td>\n",
       "      <td>2015</td>\n",
       "      <td>3</td>\n",
       "      <td>2</td>\n",
       "      <td>Weekday</td>\n",
       "      <td>2200.0</td>\n",
       "      <td>2-Car</td>\n",
       "      <td>No injury/unknown</td>\n",
       "      <td>FAILURE TO YIELD RIGHT OF WAY</td>\n",
       "      <td>7TH &amp; WALNUT</td>\n",
       "      <td>39.168640</td>\n",
       "      <td>-86.533568</td>\n",
       "      <td>39.16864,-86.533568</td>\n",
       "      <td>4</td>\n",
       "    </tr>\n",
       "    <tr>\n",
       "      <th>1070</th>\n",
       "      <td>902418409</td>\n",
       "      <td>2015</td>\n",
       "      <td>3</td>\n",
       "      <td>3</td>\n",
       "      <td>Weekday</td>\n",
       "      <td>1100.0</td>\n",
       "      <td>2-Car</td>\n",
       "      <td>No injury/unknown</td>\n",
       "      <td>FOLLOWING TOO CLOSELY</td>\n",
       "      <td>W 3RD &amp; WESTPLEX</td>\n",
       "      <td>39.164410</td>\n",
       "      <td>-86.553900</td>\n",
       "      <td>39.16440971,-86.55389986</td>\n",
       "      <td>4</td>\n",
       "    </tr>\n",
       "  </tbody>\n",
       "</table>\n",
       "<p>999 rows × 14 columns</p>\n",
       "</div>"
      ],
      "text/plain": [
       "      Master Record Number  Year  Month  Day Weekend?    Hour Collision Type  \\\n",
       "0                902363382  2015      1    5  Weekday     0.0          2-Car   \n",
       "1                902364268  2015      1    6  Weekday  1500.0          2-Car   \n",
       "2                902364412  2015      1    6  Weekend  2300.0          2-Car   \n",
       "3                902364551  2015      1    7  Weekend   900.0          2-Car   \n",
       "4                902364615  2015      1    7  Weekend  1100.0          2-Car   \n",
       "...                    ...   ...    ...  ...      ...     ...            ...   \n",
       "1066             902417767  2015      3    2  Weekday  1300.0          1-Car   \n",
       "1067             902418005  2015      3    2  Weekday  1600.0          2-Car   \n",
       "1068             902418014  2015      3    2  Weekday  1800.0          2-Car   \n",
       "1069             902418058  2015      3    2  Weekday  2200.0          2-Car   \n",
       "1070             902418409  2015      3    3  Weekday  1100.0          2-Car   \n",
       "\n",
       "             Injury Type                         Primary Factor  \\\n",
       "0      No injury/unknown  OTHER (DRIVER) - EXPLAIN IN NARRATIVE   \n",
       "1      No injury/unknown                  FOLLOWING TOO CLOSELY   \n",
       "2     Non-incapacitating              DISREGARD SIGNAL/REG SIGN   \n",
       "3     Non-incapacitating          FAILURE TO YIELD RIGHT OF WAY   \n",
       "4      No injury/unknown          FAILURE TO YIELD RIGHT OF WAY   \n",
       "...                  ...                                    ...   \n",
       "1066   No injury/unknown  SPEED TOO FAST FOR WEATHER CONDITIONS   \n",
       "1067   No injury/unknown                  FOLLOWING TOO CLOSELY   \n",
       "1068   No injury/unknown                         UNSAFE BACKING   \n",
       "1069   No injury/unknown          FAILURE TO YIELD RIGHT OF WAY   \n",
       "1070   No injury/unknown                  FOLLOWING TOO CLOSELY   \n",
       "\n",
       "          Reported_Location   Latitude  Longitude                        ll  \\\n",
       "0                1ST & FESS  39.159207 -86.525874  39.15920668,-86.52587356   \n",
       "1             2ND & COLLEGE  39.161440 -86.534848       39.16144,-86.534848   \n",
       "2     BASSWOOD & BLOOMFIELD  39.149780 -86.568890  39.14978027,-86.56889006   \n",
       "3            GATES & JACOBS  39.165655 -86.575956    39.165655,-86.57595635   \n",
       "4                     W 3RD  39.164848 -86.579625    39.164848,-86.57962482   \n",
       "...                     ...        ...        ...                       ...   \n",
       "1066          W MAIN STREET  39.238336 -86.629328      39.238336,-86.629328   \n",
       "1067           SR37S & TAPP  39.137040 -86.572896       39.13704,-86.572896   \n",
       "1068                 W 17TH  39.178960 -86.534720        39.17896,-86.53472   \n",
       "1069           7TH & WALNUT  39.168640 -86.533568       39.16864,-86.533568   \n",
       "1070       W 3RD & WESTPLEX  39.164410 -86.553900  39.16440971,-86.55389986   \n",
       "\n",
       "      clubs 5km  \n",
       "0             4  \n",
       "1             4  \n",
       "2             4  \n",
       "3             4  \n",
       "4             4  \n",
       "...         ...  \n",
       "1066          1  \n",
       "1067          4  \n",
       "1068          4  \n",
       "1069          4  \n",
       "1070          4  \n",
       "\n",
       "[999 rows x 14 columns]"
      ]
     },
     "execution_count": 204,
     "metadata": {},
     "output_type": "execute_result"
    }
   ],
   "source": [
    "data_sample"
   ]
  },
  {
   "cell_type": "code",
   "execution_count": 206,
   "metadata": {},
   "outputs": [
    {
     "data": {
      "text/plain": [
       "Injury Type\n",
       "Fatal                 0.000000\n",
       "Incapacitating        2.652778\n",
       "No injury/unknown     3.062954\n",
       "Non-incapacitating    3.275510\n",
       "Name: clubs 5km, dtype: float64"
      ]
     },
     "execution_count": 206,
     "metadata": {},
     "output_type": "execute_result"
    }
   ],
   "source": [
    "injuries = data_sample['Injury Type'].value_counts()\n",
    "injuries\n",
    "\n",
    "clubs_mean = data_sample.groupby(by='Injury Type')['clubs 5km'].mean()\n",
    "clubs_mean"
   ]
  },
  {
   "cell_type": "code",
   "execution_count": null,
   "metadata": {},
   "outputs": [],
   "source": [
    "## out of 1000 samples, how many severe crashes had an amount of bars higher than the mean.\n",
    "\n",
    "for index, row in data_sample.iterrows():\n",
    "    if data_sample['Injury Type'] != "
   ]
  },
  {
   "cell_type": "markdown",
   "metadata": {},
   "source": []
  },
  {
   "cell_type": "code",
   "execution_count": null,
   "metadata": {},
   "outputs": [],
   "source": []
  },
  {
   "cell_type": "markdown",
   "metadata": {},
   "source": [
    "# World Weather Online API\n",
    "\n",
    "World Weather Online API is [here](https://www.worldweatheronline.com/developer/api/historical-weather-api.aspx)\n",
    "\n",
    "1. Sign up for FREE api key if you haven't done that before (it's free for **30 days**).\n",
    "2. For each crush, get the weather for the location and date.\n",
    "3. Find a relationship between the weather and severity of the crash.\n",
    "\n",
    "Hints:\n",
    "\n",
    "* pull weather only for smaller sample of crashes (250 or so) due to API limits\n",
    "* for sending HTTP requests check out \"requests\" library [here](http://docs.python-requests.org/en/master/)\n"
   ]
  },
  {
   "cell_type": "code",
   "execution_count": 193,
   "metadata": {},
   "outputs": [],
   "source": [
    "import requests\n",
    "import time\n",
    "api_key = os.environ[\"WWO_APIK_KEY\"]"
   ]
  },
  {
   "cell_type": "code",
   "execution_count": null,
   "metadata": {},
   "outputs": [],
   "source": []
  },
  {
   "cell_type": "code",
   "execution_count": null,
   "metadata": {},
   "outputs": [],
   "source": []
  }
 ],
 "metadata": {
  "interpreter": {
   "hash": "5eaee7f08749df7acde7defcf9c75ec9e0490b46ee4fb9b854947ce622c4fcf4"
  },
  "kernelspec": {
   "display_name": "Python 3.8.13 ('lhl_env')",
   "language": "python",
   "name": "python3"
  },
  "language_info": {
   "codemirror_mode": {
    "name": "ipython",
    "version": 3
   },
   "file_extension": ".py",
   "mimetype": "text/x-python",
   "name": "python",
   "nbconvert_exporter": "python",
   "pygments_lexer": "ipython3",
   "version": "3.8.13"
  }
 },
 "nbformat": 4,
 "nbformat_minor": 4
}
