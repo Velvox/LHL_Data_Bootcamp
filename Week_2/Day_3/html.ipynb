{
 "cells": [
  {
   "cell_type": "code",
   "execution_count": 1,
   "metadata": {},
   "outputs": [],
   "source": [
    "import pandas as pd\n",
    "import requests"
   ]
  },
  {
   "cell_type": "code",
   "execution_count": 2,
   "metadata": {},
   "outputs": [
    {
     "data": {
      "text/plain": [
       "<Response [200]>"
      ]
     },
     "execution_count": 2,
     "metadata": {},
     "output_type": "execute_result"
    }
   ],
   "source": [
    "url = 'https://www.worldcoinindex.com/'\n",
    "\n",
    "crypto_url = requests.get(url)\n",
    "crypto_url"
   ]
  },
  {
   "cell_type": "code",
   "execution_count": 3,
   "metadata": {},
   "outputs": [],
   "source": [
    "body = crypto_url.text"
   ]
  },
  {
   "cell_type": "code",
   "execution_count": 4,
   "metadata": {},
   "outputs": [
    {
     "name": "stdout",
     "output_type": "stream",
     "text": [
      "<class 'list'>\n",
      "1\n"
     ]
    }
   ],
   "source": [
    "crypto_data = pd.read_html(body)\n",
    "print(type(crypto_data))\n",
    "print(len(crypto_data))"
   ]
  },
  {
   "cell_type": "code",
   "execution_count": 5,
   "metadata": {},
   "outputs": [
    {
     "data": {
      "text/html": [
       "<div>\n",
       "<style scoped>\n",
       "    .dataframe tbody tr th:only-of-type {\n",
       "        vertical-align: middle;\n",
       "    }\n",
       "\n",
       "    .dataframe tbody tr th {\n",
       "        vertical-align: top;\n",
       "    }\n",
       "\n",
       "    .dataframe thead th {\n",
       "        text-align: right;\n",
       "    }\n",
       "</style>\n",
       "<table border=\"1\" class=\"dataframe\">\n",
       "  <thead>\n",
       "    <tr style=\"text-align: right;\">\n",
       "      <th></th>\n",
       "      <th>#</th>\n",
       "      <th>Unnamed: 1</th>\n",
       "      <th>Name</th>\n",
       "      <th>Ticker</th>\n",
       "      <th>Last price</th>\n",
       "      <th>%</th>\n",
       "      <th>24 high</th>\n",
       "      <th>24 low</th>\n",
       "      <th>Price Charts 7d</th>\n",
       "      <th>24 volume</th>\n",
       "      <th># Coins</th>\n",
       "      <th>Market cap</th>\n",
       "    </tr>\n",
       "  </thead>\n",
       "  <tbody>\n",
       "    <tr>\n",
       "      <th>0</th>\n",
       "      <td>1</td>\n",
       "      <td>NaN</td>\n",
       "      <td>Bitcoin</td>\n",
       "      <td>BTC</td>\n",
       "      <td>$ 30,243</td>\n",
       "      <td>-2.81%</td>\n",
       "      <td>$ 31,295</td>\n",
       "      <td>$ 29,855</td>\n",
       "      <td>NaN</td>\n",
       "      <td>$ 11.04B</td>\n",
       "      <td>19.06M</td>\n",
       "      <td>$ 576.49B</td>\n",
       "    </tr>\n",
       "    <tr>\n",
       "      <th>1</th>\n",
       "      <td>2</td>\n",
       "      <td>NaN</td>\n",
       "      <td>Ethereum</td>\n",
       "      <td>ETH</td>\n",
       "      <td>$ 1,800.26</td>\n",
       "      <td>-0.79%</td>\n",
       "      <td>$ 1,837.79</td>\n",
       "      <td>$ 1,767.11</td>\n",
       "      <td>NaN</td>\n",
       "      <td>$ 10.33B</td>\n",
       "      <td>121.09M</td>\n",
       "      <td>$ 218.01B</td>\n",
       "    </tr>\n",
       "    <tr>\n",
       "      <th>2</th>\n",
       "      <td>3</td>\n",
       "      <td>NaN</td>\n",
       "      <td>Binanceusd</td>\n",
       "      <td>BUSD</td>\n",
       "      <td>$ 1.00</td>\n",
       "      <td>+0.05%</td>\n",
       "      <td>$ 1.00</td>\n",
       "      <td>$ 0.996669</td>\n",
       "      <td>NaN</td>\n",
       "      <td>$ 1.20B</td>\n",
       "      <td>1.68B</td>\n",
       "      <td>$ 1.68B</td>\n",
       "    </tr>\n",
       "    <tr>\n",
       "      <th>3</th>\n",
       "      <td>4</td>\n",
       "      <td>NaN</td>\n",
       "      <td>Cardano</td>\n",
       "      <td>ADA</td>\n",
       "      <td>$ 0.642732</td>\n",
       "      <td>+4.82%</td>\n",
       "      <td>$ 0.668034</td>\n",
       "      <td>$ 0.608801</td>\n",
       "      <td>NaN</td>\n",
       "      <td>$ 1.10B</td>\n",
       "      <td>31.94B</td>\n",
       "      <td>$ 20.53B</td>\n",
       "    </tr>\n",
       "    <tr>\n",
       "      <th>4</th>\n",
       "      <td>5</td>\n",
       "      <td>NaN</td>\n",
       "      <td>Unifi Protocol DAO</td>\n",
       "      <td>UNFI</td>\n",
       "      <td>$ 7.95</td>\n",
       "      <td>-55.98%</td>\n",
       "      <td>$ 18.89</td>\n",
       "      <td>$ 7.63</td>\n",
       "      <td>NaN</td>\n",
       "      <td>$ 1.03B</td>\n",
       "      <td>NaN</td>\n",
       "      <td>NaN</td>\n",
       "    </tr>\n",
       "  </tbody>\n",
       "</table>\n",
       "</div>"
      ],
      "text/plain": [
       "   # Unnamed: 1                Name Ticker  Last price        %     24 high  \\\n",
       "0  1        NaN             Bitcoin    BTC    $ 30,243   -2.81%    $ 31,295   \n",
       "1  2        NaN            Ethereum    ETH  $ 1,800.26   -0.79%  $ 1,837.79   \n",
       "2  3        NaN          Binanceusd   BUSD      $ 1.00   +0.05%      $ 1.00   \n",
       "3  4        NaN             Cardano    ADA  $ 0.642732   +4.82%  $ 0.668034   \n",
       "4  5        NaN  Unifi Protocol DAO   UNFI      $ 7.95  -55.98%     $ 18.89   \n",
       "\n",
       "       24 low Price Charts 7d 24 volume  # Coins Market cap  \n",
       "0    $ 29,855             NaN  $ 11.04B   19.06M  $ 576.49B  \n",
       "1  $ 1,767.11             NaN  $ 10.33B  121.09M  $ 218.01B  \n",
       "2  $ 0.996669             NaN   $ 1.20B    1.68B    $ 1.68B  \n",
       "3  $ 0.608801             NaN   $ 1.10B   31.94B   $ 20.53B  \n",
       "4      $ 7.63             NaN   $ 1.03B      NaN        NaN  "
      ]
     },
     "execution_count": 5,
     "metadata": {},
     "output_type": "execute_result"
    }
   ],
   "source": [
    "crypto_data = crypto_data[0]\n",
    "crypto_data.head()"
   ]
  },
  {
   "cell_type": "code",
   "execution_count": null,
   "metadata": {},
   "outputs": [],
   "source": []
  }
 ],
 "metadata": {
  "interpreter": {
   "hash": "5eaee7f08749df7acde7defcf9c75ec9e0490b46ee4fb9b854947ce622c4fcf4"
  },
  "kernelspec": {
   "display_name": "Python 3.10.4 ('lhl_env')",
   "language": "python",
   "name": "python3"
  },
  "language_info": {
   "codemirror_mode": {
    "name": "ipython",
    "version": 3
   },
   "file_extension": ".py",
   "mimetype": "text/x-python",
   "name": "python",
   "nbconvert_exporter": "python",
   "pygments_lexer": "ipython3",
   "version": "3.8.13"
  },
  "orig_nbformat": 4
 },
 "nbformat": 4,
 "nbformat_minor": 2
}
