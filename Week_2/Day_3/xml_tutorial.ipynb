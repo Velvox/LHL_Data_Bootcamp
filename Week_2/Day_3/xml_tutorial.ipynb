{
 "cells": [
  {
   "cell_type": "code",
   "execution_count": 1,
   "metadata": {},
   "outputs": [],
   "source": [
    "import xml.etree.ElementTree as ET"
   ]
  },
  {
   "cell_type": "code",
   "execution_count": 4,
   "metadata": {},
   "outputs": [
    {
     "data": {
      "text/plain": [
       "<xml.etree.ElementTree.ElementTree at 0x7faa92fa5d30>"
      ]
     },
     "execution_count": 4,
     "metadata": {},
     "output_type": "execute_result"
    }
   ],
   "source": [
    "tree = ET.parse('data/data.xml')"
   ]
  },
  {
   "cell_type": "code",
   "execution_count": 5,
   "metadata": {},
   "outputs": [
    {
     "name": "stdout",
     "output_type": "stream",
     "text": [
      "<class 'xml.etree.ElementTree.ElementTree'>\n"
     ]
    }
   ],
   "source": [
    "print(type(tree))"
   ]
  },
  {
   "cell_type": "code",
   "execution_count": 6,
   "metadata": {},
   "outputs": [
    {
     "data": {
      "text/plain": [
       "<Element 'data' at 0x7faa9285ea40>"
      ]
     },
     "execution_count": 6,
     "metadata": {},
     "output_type": "execute_result"
    }
   ],
   "source": [
    "root = tree.getroot()\n",
    "root"
   ]
  },
  {
   "cell_type": "code",
   "execution_count": 13,
   "metadata": {},
   "outputs": [
    {
     "data": {
      "text/plain": [
       "'\\n<data>\\n   <country name=\"Liechtenstein\">\\n       <rank>1</rank>\\n       <year>2008</year>\\n       <gdppc>141100</gdppc>\\n       <neighbor name=\"Austria\" direction=\"E\"/>\\n       <neighbor name=\"Switzerland\" direction=\"W\"/>\\n   </country>\\n   <country name=\"Singapore\">\\n       <rank>4</rank>\\n       <year>2011</year>\\n       <gdppc>59900</gdppc>\\n       <neighbor name=\"Malaysia\" direction=\"N\"/>\\n   </country>\\n   <country name=\"Panama\">\\n       <rank>68</rank>\\n       <year>2011</year>\\n       <gdppc>13600</gdppc>\\n       <neighbor name=\"Costa Rica\" direction=\"W\"/>\\n       <neighbor name=\"Colombia\" direction=\"E\"/>\\n   </country>\\n</data>\\n'"
      ]
     },
     "execution_count": 13,
     "metadata": {},
     "output_type": "execute_result"
    }
   ],
   "source": [
    "'''\n",
    "<data>\n",
    "   <country name=\"Liechtenstein\">\n",
    "       <rank>1</rank>\n",
    "       <year>2008</year>\n",
    "       <gdppc>141100</gdppc>\n",
    "       <neighbor name=\"Austria\" direction=\"E\"/>\n",
    "       <neighbor name=\"Switzerland\" direction=\"W\"/>\n",
    "   </country>\n",
    "   <country name=\"Singapore\">\n",
    "       <rank>4</rank>\n",
    "       <year>2011</year>\n",
    "       <gdppc>59900</gdppc>\n",
    "       <neighbor name=\"Malaysia\" direction=\"N\"/>\n",
    "   </country>\n",
    "   <country name=\"Panama\">\n",
    "       <rank>68</rank>\n",
    "       <year>2011</year>\n",
    "       <gdppc>13600</gdppc>\n",
    "       <neighbor name=\"Costa Rica\" direction=\"W\"/>\n",
    "       <neighbor name=\"Colombia\" direction=\"E\"/>\n",
    "   </country>\n",
    "</data>\n",
    "'''"
   ]
  },
  {
   "cell_type": "code",
   "execution_count": 7,
   "metadata": {},
   "outputs": [
    {
     "name": "stdout",
     "output_type": "stream",
     "text": [
      "data\n",
      "{}\n",
      "3\n"
     ]
    }
   ],
   "source": [
    "print(root.tag)\n",
    "print(root.attrib)\n",
    "print(len(root))"
   ]
  },
  {
   "cell_type": "code",
   "execution_count": 11,
   "metadata": {},
   "outputs": [
    {
     "name": "stdout",
     "output_type": "stream",
     "text": [
      "rank\n",
      "1\n",
      "{'name': 'Switzerland', 'direction': 'W'}\n"
     ]
    }
   ],
   "source": [
    "#first child of the root\n",
    "country1 = root[0]\n",
    "\n",
    "#first child of hte child\n",
    "rank = country1[0]\n",
    "\n",
    "# What is the tag of the grandchild\n",
    "print(rank.tag)\n",
    "\n",
    "# What is the text inside this grandchild\n",
    "print(rank.text)\n",
    "\n",
    "# What are the attributes of last element?\n",
    "print(country1[4].attrib)"
   ]
  },
  {
   "cell_type": "code",
   "execution_count": 12,
   "metadata": {},
   "outputs": [
    {
     "name": "stdout",
     "output_type": "stream",
     "text": [
      "rank\n",
      "68\n",
      "{'name': 'Colombia', 'direction': 'E'}\n"
     ]
    }
   ],
   "source": [
    "#third child of the root\n",
    "country1 = root[2]\n",
    "\n",
    "#first child of the child\n",
    "rank = country1[0]\n",
    "\n",
    "# What is the tag of the grandchild\n",
    "print(rank.tag)\n",
    "\n",
    "# What is the text inside this grandchild\n",
    "print(rank.text)\n",
    "\n",
    "# What are the attributes of last element?\n",
    "print(country1[4].attrib)"
   ]
  },
  {
   "cell_type": "code",
   "execution_count": 14,
   "metadata": {},
   "outputs": [
    {
     "name": "stdout",
     "output_type": "stream",
     "text": [
      "Liechtenstein 1\n",
      "Singapore 4\n",
      "Panama 68\n"
     ]
    }
   ],
   "source": [
    "# Find all child with tag country\n",
    "for country in root.findall('country'):\n",
    "    # rank is child of the country\n",
    "    rank = country.find('rank').text\n",
    "    # name is attribute of the country\n",
    "    name = country.get('name')\n",
    "    print(name, rank)"
   ]
  },
  {
   "cell_type": "code",
   "execution_count": 15,
   "metadata": {},
   "outputs": [
    {
     "name": "stdout",
     "output_type": "stream",
     "text": [
      "{'name': 'Austria', 'direction': 'E'}\n",
      "{'name': 'Switzerland', 'direction': 'W'}\n",
      "{'name': 'Malaysia', 'direction': 'N'}\n",
      "{'name': 'Costa Rica', 'direction': 'W'}\n",
      "{'name': 'Colombia', 'direction': 'E'}\n"
     ]
    }
   ],
   "source": [
    "# looking for grandchildren\n",
    "for neighbor in root.iter('neighbor'):\n",
    "    print(neighbor.attrib)"
   ]
  },
  {
   "cell_type": "code",
   "execution_count": 23,
   "metadata": {},
   "outputs": [
    {
     "data": {
      "text/plain": [
       "[<Element 'neighbor' at 0x7faa94843950>,\n",
       " <Element 'neighbor' at 0x7faa94859090>]"
      ]
     },
     "execution_count": 23,
     "metadata": {},
     "output_type": "execute_result"
    }
   ],
   "source": [
    "## Using root.findall()\n",
    "\n",
    "# top-level elements\n",
    "root.findall(\".\")\n",
    "\n",
    "# All 'neighbor' grand-children of 'country' children of the top-level elements\n",
    "root.findall(\"./country/neighbor\")\n",
    "\n",
    "# elements with name='Singapore' that have a 'year' child\n",
    "root.findall(\".//year/..[@name='Singapore']\")\n",
    "\n",
    "# All 'neighbor' elements that are the second child of their parent\n",
    "root.findall(\".//neighbor[2]\")"
   ]
  },
  {
   "cell_type": "code",
   "execution_count": 22,
   "metadata": {},
   "outputs": [
    {
     "data": {
      "text/html": [
       "<div>\n",
       "<style scoped>\n",
       "    .dataframe tbody tr th:only-of-type {\n",
       "        vertical-align: middle;\n",
       "    }\n",
       "\n",
       "    .dataframe tbody tr th {\n",
       "        vertical-align: top;\n",
       "    }\n",
       "\n",
       "    .dataframe thead th {\n",
       "        text-align: right;\n",
       "    }\n",
       "</style>\n",
       "<table border=\"1\" class=\"dataframe\">\n",
       "  <thead>\n",
       "    <tr style=\"text-align: right;\">\n",
       "      <th></th>\n",
       "      <th>name</th>\n",
       "      <th>rank</th>\n",
       "      <th>year</th>\n",
       "      <th>gdpc</th>\n",
       "    </tr>\n",
       "  </thead>\n",
       "  <tbody>\n",
       "    <tr>\n",
       "      <th>0</th>\n",
       "      <td>Liechtenstein</td>\n",
       "      <td>1</td>\n",
       "      <td>2008</td>\n",
       "      <td>141100</td>\n",
       "    </tr>\n",
       "    <tr>\n",
       "      <th>1</th>\n",
       "      <td>Singapore</td>\n",
       "      <td>4</td>\n",
       "      <td>2011</td>\n",
       "      <td>59900</td>\n",
       "    </tr>\n",
       "    <tr>\n",
       "      <th>2</th>\n",
       "      <td>Panama</td>\n",
       "      <td>68</td>\n",
       "      <td>2011</td>\n",
       "      <td>13600</td>\n",
       "    </tr>\n",
       "  </tbody>\n",
       "</table>\n",
       "</div>"
      ],
      "text/plain": [
       "            name rank  year    gdpc\n",
       "0  Liechtenstein    1  2008  141100\n",
       "1      Singapore    4  2011   59900\n",
       "2         Panama   68  2011   13600"
      ]
     },
     "execution_count": 22,
     "metadata": {},
     "output_type": "execute_result"
    }
   ],
   "source": [
    "import xml.etree.ElementTree as ET\n",
    "import pandas as pd\n",
    "\n",
    "# name, rank, year and gdppc\n",
    "\n",
    "tree = ET.parse('data/data.xml') # Load from file\n",
    "root = tree.getroot()\n",
    "\n",
    "dict = {\n",
    "    'name': [],\n",
    "    'rank': [],\n",
    "    'year': [],\n",
    "    'gdpc': []\n",
    "}\n",
    "\n",
    "for country in root:\n",
    "    name_value = country.attrib['name']\n",
    "    dict['name'].append(name_value)\n",
    "\n",
    "    rank_value = country[0].text\n",
    "    dict['rank'].append(rank_value)\n",
    "\n",
    "    year_value = country[1].text\n",
    "    dict['year'].append(year_value)\n",
    "\n",
    "    gdpc_value = country[2].text\n",
    "    dict['gdpc'].append(gdpc_value)\n",
    "\n",
    "df = pd.DataFrame(dict)\n",
    "df\n"
   ]
  },
  {
   "cell_type": "code",
   "execution_count": null,
   "metadata": {
    "vscode": {
     "languageId": "xml"
    }
   },
   "outputs": [],
   "source": [
    "<data>\n",
    "   <country name=\"Liechtenstein\">\n",
    "       <rank>1</rank>\n",
    "       <year>2008</year>\n",
    "       <gdppc>141100</gdppc>\n",
    "       <neighbor name=\"Austria\" direction=\"E\"/>\n",
    "       <neighbor name=\"Switzerland\" direction=\"W\"/>\n",
    "   </country>\n",
    "   <country name=\"Singapore\">\n",
    "       <rank>4</rank>\n",
    "       <year>2011</year>\n",
    "       <gdppc>59900</gdppc>\n",
    "       <neighbor name=\"Malaysia\" direction=\"N\"/>\n",
    "   </country>\n",
    "   <country name=\"Panama\">\n",
    "       <rank>68</rank>\n",
    "       <year>2011</year>\n",
    "       <gdppc>13600</gdppc>\n",
    "       <neighbor name=\"Costa Rica\" direction=\"W\"/>\n",
    "       <neighbor name=\"Colombia\" direction=\"E\"/>\n",
    "   </country>\n",
    "</data>"
   ]
  }
 ],
 "metadata": {
  "interpreter": {
   "hash": "5eaee7f08749df7acde7defcf9c75ec9e0490b46ee4fb9b854947ce622c4fcf4"
  },
  "kernelspec": {
   "display_name": "Python 3.10.4 ('lhl_env')",
   "language": "python",
   "name": "python3"
  },
  "language_info": {
   "codemirror_mode": {
    "name": "ipython",
    "version": 3
   },
   "file_extension": ".py",
   "mimetype": "text/x-python",
   "name": "python",
   "nbconvert_exporter": "python",
   "pygments_lexer": "ipython3",
   "version": "3.8.13"
  },
  "orig_nbformat": 4
 },
 "nbformat": 4,
 "nbformat_minor": 2
}
