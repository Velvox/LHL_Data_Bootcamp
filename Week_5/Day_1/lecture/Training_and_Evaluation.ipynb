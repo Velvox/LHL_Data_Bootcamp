{
 "cells": [
  {
   "cell_type": "markdown",
   "metadata": {},
   "source": [
    "# Training and Evaluation - W05D1"
   ]
  },
  {
   "cell_type": "code",
   "execution_count": 1,
   "metadata": {},
   "outputs": [],
   "source": [
    "import pandas as pd\n",
    "import numpy as np\n",
    "import seaborn as sns; sns.set(style='darkgrid', context='talk')\n",
    "import matplotlib.pyplot as plt\n",
    "\n",
    "# Suppress some warnings that sklearn is returning when a model doesn't perform well\n",
    "from warnings import simplefilter\n",
    "from sklearn.exceptions import ConvergenceWarning\n",
    "simplefilter(\"ignore\", category=ConvergenceWarning)"
   ]
  },
  {
   "cell_type": "markdown",
   "metadata": {},
   "source": [
    "### Train/test split example"
   ]
  },
  {
   "cell_type": "code",
   "execution_count": 2,
   "metadata": {},
   "outputs": [
    {
     "name": "stdout",
     "output_type": "stream",
     "text": [
      "Dataset has 506 data points and 13 features\n"
     ]
    }
   ],
   "source": [
    "# Load the dataset\n",
    "from sklearn.datasets import load_boston\n",
    "from sklearn.utils import shuffle\n",
    "\n",
    "boston_data = load_boston()\n",
    "X, y = boston_data['data'], boston_data['target']\n",
    "\n",
    "# It is good practice to shuffle your data, since it\n",
    "# may be ordered in a particular way (e.g. increasing target)\n",
    "X, y = shuffle(X, y, random_state=27)\n",
    "\n",
    "print(f'Dataset has {X.shape[0]} data points and {X.shape[1]} features')"
   ]
  },
  {
   "cell_type": "code",
   "execution_count": 3,
   "metadata": {},
   "outputs": [
    {
     "data": {
      "text/html": [
       "<div>\n",
       "<style scoped>\n",
       "    .dataframe tbody tr th:only-of-type {\n",
       "        vertical-align: middle;\n",
       "    }\n",
       "\n",
       "    .dataframe tbody tr th {\n",
       "        vertical-align: top;\n",
       "    }\n",
       "\n",
       "    .dataframe thead th {\n",
       "        text-align: right;\n",
       "    }\n",
       "</style>\n",
       "<table border=\"1\" class=\"dataframe\">\n",
       "  <thead>\n",
       "    <tr style=\"text-align: right;\">\n",
       "      <th></th>\n",
       "      <th>0</th>\n",
       "      <th>1</th>\n",
       "      <th>2</th>\n",
       "      <th>3</th>\n",
       "      <th>4</th>\n",
       "      <th>5</th>\n",
       "      <th>6</th>\n",
       "      <th>7</th>\n",
       "      <th>8</th>\n",
       "      <th>9</th>\n",
       "      <th>10</th>\n",
       "    </tr>\n",
       "  </thead>\n",
       "  <tbody>\n",
       "    <tr>\n",
       "      <th>0</th>\n",
       "      <td>0.00632</td>\n",
       "      <td>18.00</td>\n",
       "      <td>2.31</td>\n",
       "      <td>0.0</td>\n",
       "      <td>0.538</td>\n",
       "      <td>6.575</td>\n",
       "      <td>65.2</td>\n",
       "      <td>4.0900</td>\n",
       "      <td>1.0</td>\n",
       "      <td>296.0</td>\n",
       "      <td>15.3</td>\n",
       "    </tr>\n",
       "    <tr>\n",
       "      <th>1</th>\n",
       "      <td>396.90000</td>\n",
       "      <td>4.98</td>\n",
       "      <td>24.00</td>\n",
       "      <td>NaN</td>\n",
       "      <td>NaN</td>\n",
       "      <td>NaN</td>\n",
       "      <td>NaN</td>\n",
       "      <td>NaN</td>\n",
       "      <td>NaN</td>\n",
       "      <td>NaN</td>\n",
       "      <td>NaN</td>\n",
       "    </tr>\n",
       "    <tr>\n",
       "      <th>2</th>\n",
       "      <td>0.02731</td>\n",
       "      <td>0.00</td>\n",
       "      <td>7.07</td>\n",
       "      <td>0.0</td>\n",
       "      <td>0.469</td>\n",
       "      <td>6.421</td>\n",
       "      <td>78.9</td>\n",
       "      <td>4.9671</td>\n",
       "      <td>2.0</td>\n",
       "      <td>242.0</td>\n",
       "      <td>17.8</td>\n",
       "    </tr>\n",
       "    <tr>\n",
       "      <th>3</th>\n",
       "      <td>396.90000</td>\n",
       "      <td>9.14</td>\n",
       "      <td>21.60</td>\n",
       "      <td>NaN</td>\n",
       "      <td>NaN</td>\n",
       "      <td>NaN</td>\n",
       "      <td>NaN</td>\n",
       "      <td>NaN</td>\n",
       "      <td>NaN</td>\n",
       "      <td>NaN</td>\n",
       "      <td>NaN</td>\n",
       "    </tr>\n",
       "    <tr>\n",
       "      <th>4</th>\n",
       "      <td>0.02729</td>\n",
       "      <td>0.00</td>\n",
       "      <td>7.07</td>\n",
       "      <td>0.0</td>\n",
       "      <td>0.469</td>\n",
       "      <td>7.185</td>\n",
       "      <td>61.1</td>\n",
       "      <td>4.9671</td>\n",
       "      <td>2.0</td>\n",
       "      <td>242.0</td>\n",
       "      <td>17.8</td>\n",
       "    </tr>\n",
       "    <tr>\n",
       "      <th>...</th>\n",
       "      <td>...</td>\n",
       "      <td>...</td>\n",
       "      <td>...</td>\n",
       "      <td>...</td>\n",
       "      <td>...</td>\n",
       "      <td>...</td>\n",
       "      <td>...</td>\n",
       "      <td>...</td>\n",
       "      <td>...</td>\n",
       "      <td>...</td>\n",
       "      <td>...</td>\n",
       "    </tr>\n",
       "    <tr>\n",
       "      <th>1007</th>\n",
       "      <td>396.90000</td>\n",
       "      <td>5.64</td>\n",
       "      <td>23.90</td>\n",
       "      <td>NaN</td>\n",
       "      <td>NaN</td>\n",
       "      <td>NaN</td>\n",
       "      <td>NaN</td>\n",
       "      <td>NaN</td>\n",
       "      <td>NaN</td>\n",
       "      <td>NaN</td>\n",
       "      <td>NaN</td>\n",
       "    </tr>\n",
       "    <tr>\n",
       "      <th>1008</th>\n",
       "      <td>0.10959</td>\n",
       "      <td>0.00</td>\n",
       "      <td>11.93</td>\n",
       "      <td>0.0</td>\n",
       "      <td>0.573</td>\n",
       "      <td>6.794</td>\n",
       "      <td>89.3</td>\n",
       "      <td>2.3889</td>\n",
       "      <td>1.0</td>\n",
       "      <td>273.0</td>\n",
       "      <td>21.0</td>\n",
       "    </tr>\n",
       "    <tr>\n",
       "      <th>1009</th>\n",
       "      <td>393.45000</td>\n",
       "      <td>6.48</td>\n",
       "      <td>22.00</td>\n",
       "      <td>NaN</td>\n",
       "      <td>NaN</td>\n",
       "      <td>NaN</td>\n",
       "      <td>NaN</td>\n",
       "      <td>NaN</td>\n",
       "      <td>NaN</td>\n",
       "      <td>NaN</td>\n",
       "      <td>NaN</td>\n",
       "    </tr>\n",
       "    <tr>\n",
       "      <th>1010</th>\n",
       "      <td>0.04741</td>\n",
       "      <td>0.00</td>\n",
       "      <td>11.93</td>\n",
       "      <td>0.0</td>\n",
       "      <td>0.573</td>\n",
       "      <td>6.030</td>\n",
       "      <td>80.8</td>\n",
       "      <td>2.5050</td>\n",
       "      <td>1.0</td>\n",
       "      <td>273.0</td>\n",
       "      <td>21.0</td>\n",
       "    </tr>\n",
       "    <tr>\n",
       "      <th>1011</th>\n",
       "      <td>396.90000</td>\n",
       "      <td>7.88</td>\n",
       "      <td>11.90</td>\n",
       "      <td>NaN</td>\n",
       "      <td>NaN</td>\n",
       "      <td>NaN</td>\n",
       "      <td>NaN</td>\n",
       "      <td>NaN</td>\n",
       "      <td>NaN</td>\n",
       "      <td>NaN</td>\n",
       "      <td>NaN</td>\n",
       "    </tr>\n",
       "  </tbody>\n",
       "</table>\n",
       "<p>1012 rows × 11 columns</p>\n",
       "</div>"
      ],
      "text/plain": [
       "             0      1      2    3      4      5     6       7    8      9   \\\n",
       "0       0.00632  18.00   2.31  0.0  0.538  6.575  65.2  4.0900  1.0  296.0   \n",
       "1     396.90000   4.98  24.00  NaN    NaN    NaN   NaN     NaN  NaN    NaN   \n",
       "2       0.02731   0.00   7.07  0.0  0.469  6.421  78.9  4.9671  2.0  242.0   \n",
       "3     396.90000   9.14  21.60  NaN    NaN    NaN   NaN     NaN  NaN    NaN   \n",
       "4       0.02729   0.00   7.07  0.0  0.469  7.185  61.1  4.9671  2.0  242.0   \n",
       "...         ...    ...    ...  ...    ...    ...   ...     ...  ...    ...   \n",
       "1007  396.90000   5.64  23.90  NaN    NaN    NaN   NaN     NaN  NaN    NaN   \n",
       "1008    0.10959   0.00  11.93  0.0  0.573  6.794  89.3  2.3889  1.0  273.0   \n",
       "1009  393.45000   6.48  22.00  NaN    NaN    NaN   NaN     NaN  NaN    NaN   \n",
       "1010    0.04741   0.00  11.93  0.0  0.573  6.030  80.8  2.5050  1.0  273.0   \n",
       "1011  396.90000   7.88  11.90  NaN    NaN    NaN   NaN     NaN  NaN    NaN   \n",
       "\n",
       "        10  \n",
       "0     15.3  \n",
       "1      NaN  \n",
       "2     17.8  \n",
       "3      NaN  \n",
       "4     17.8  \n",
       "...    ...  \n",
       "1007   NaN  \n",
       "1008  21.0  \n",
       "1009   NaN  \n",
       "1010  21.0  \n",
       "1011   NaN  \n",
       "\n",
       "[1012 rows x 11 columns]"
      ]
     },
     "execution_count": 3,
     "metadata": {},
     "output_type": "execute_result"
    }
   ],
   "source": [
    "import pandas as pd  # doctest: +SKIP\n",
    "import numpy as np\n",
    "\n",
    "data_url = \"http://lib.stat.cmu.edu/datasets/boston\"\n",
    "raw_df = pd.read_csv(data_url, sep=\"\\s+\", skiprows=22, header=None)\n",
    "raw_df"
   ]
  },
  {
   "cell_type": "code",
   "execution_count": 4,
   "metadata": {},
   "outputs": [
    {
     "name": "stdout",
     "output_type": "stream",
     "text": [
      "354 training samples and 152 test samples\n"
     ]
    }
   ],
   "source": [
    "# Make train/test split\n",
    "# Let's use 70% of the data for training and evaluate on the remaining 30%\n",
    "train_ratio = 0.7\n",
    "\n",
    "X_train, X_test = X[:int(train_ratio * len(X))], X[int(train_ratio * len(X)):]\n",
    "y_train, y_test = y[:int(train_ratio * len(y))], y[int(train_ratio * len(y)):]\n",
    "\n",
    "print(f'{len(X_train)} training samples and {len(X_test)} test samples')"
   ]
  },
  {
   "cell_type": "code",
   "execution_count": 5,
   "metadata": {},
   "outputs": [
    {
     "name": "stdout",
     "output_type": "stream",
     "text": [
      "354 training samples and 152 test samples\n"
     ]
    }
   ],
   "source": [
    "# In practice, we can just use sklearn's convenience function for making the above split instead\n",
    "from sklearn.model_selection import train_test_split\n",
    "\n",
    "X_train, X_test, y_train, y_test = train_test_split(X, y, shuffle=False, train_size=train_ratio)\n",
    "\n",
    "print(f'{len(X_train)} training samples and {len(X_test)} test samples')"
   ]
  },
  {
   "cell_type": "code",
   "execution_count": 6,
   "metadata": {},
   "outputs": [
    {
     "data": {
      "text/plain": [
       "LinearRegression()"
      ]
     },
     "execution_count": 6,
     "metadata": {},
     "output_type": "execute_result"
    }
   ],
   "source": [
    "# Train our model\n",
    "from sklearn.linear_model import LinearRegression\n",
    "\n",
    "reg = LinearRegression()\n",
    "reg.fit(X_train, y_train)"
   ]
  },
  {
   "cell_type": "code",
   "execution_count": 7,
   "metadata": {},
   "outputs": [
    {
     "name": "stdout",
     "output_type": "stream",
     "text": [
      "Train R^2:\t0.7278481991105032\n",
      "Test R^2:\t0.7500070318143887\n"
     ]
    }
   ],
   "source": [
    "# Check performance on train and test set\n",
    "from sklearn.metrics import r2_score\n",
    "\n",
    "y_train_pred = reg.predict(X_train)\n",
    "y_test_pred = reg.predict(X_test)\n",
    "\n",
    "r2_train = r2_score(y_train, y_train_pred)\n",
    "r2_test = r2_score(y_test, y_test_pred)\n",
    "\n",
    "print(f'Train R^2:\\t{r2_train}\\nTest R^2:\\t{r2_test}')"
   ]
  },
  {
   "cell_type": "markdown",
   "metadata": {},
   "source": [
    "#### Debrief\n",
    "The test set performance is actually *higher* than on the train set. Our model isn't overfitting! Maybe it's underfitting?\n",
    "Perhaps we can use a more complex model and get even better performance on the test set. Let's try polynomial regression."
   ]
  },
  {
   "cell_type": "code",
   "execution_count": 8,
   "metadata": {},
   "outputs": [
    {
     "name": "stdout",
     "output_type": "stream",
     "text": [
      "Number of polynomial features: 105\n",
      "Train R^2:\t0.9295292898979477\n",
      "Test R^2:\t0.8343842465387399\n"
     ]
    }
   ],
   "source": [
    "from sklearn.preprocessing import PolynomialFeatures\n",
    "\n",
    "# Create polynomial feature set and train model\n",
    "Xpoly_train = PolynomialFeatures(degree=2).fit_transform(X_train)\n",
    "Xpoly_test = PolynomialFeatures(degree=2).fit_transform(X_test)\n",
    "print(f'Number of polynomial features: {Xpoly_train.shape[1]}')\n",
    "\n",
    "# Train our model\n",
    "reg.fit(Xpoly_train, y_train)\n",
    "ypoly_train_pred = reg.predict(Xpoly_train)\n",
    "ypoly_test_pred = reg.predict(Xpoly_test)\n",
    "\n",
    "# Check performance on train and test set\n",
    "r2poly_train = r2_score(y_train, ypoly_train_pred)\n",
    "r2poly_test = r2_score(y_test, ypoly_test_pred)\n",
    "print(f'Train R^2:\\t{r2poly_train}\\nTest R^2:\\t{r2poly_test}')"
   ]
  },
  {
   "cell_type": "markdown",
   "metadata": {},
   "source": [
    "#### Debrief\n",
    "Our more complex second-order polynomial regression model performed even better on the test set.\n",
    "Our model might be overfitting, but we are not sure yet.\n",
    "Let's bump up the complexity one more time and try third-order polynomial regression."
   ]
  },
  {
   "cell_type": "code",
   "execution_count": 9,
   "metadata": {},
   "outputs": [
    {
     "name": "stdout",
     "output_type": "stream",
     "text": [
      "Number of polynomial features: 560\n",
      "Train R^2:\t1.0\n",
      "Test R^2:\t-680.1136851497927\n"
     ]
    }
   ],
   "source": [
    "# Create polynomial feature set and train model\n",
    "from sklearn.preprocessing import PolynomialFeatures\n",
    "Xpoly3_train = PolynomialFeatures(degree=3).fit_transform(X_train)\n",
    "Xpoly3_test = PolynomialFeatures(degree=3).fit_transform(X_test)\n",
    "print(f'Number of polynomial features: {Xpoly3_train.shape[1]}')\n",
    "\n",
    "# Train our model\n",
    "reg.fit(Xpoly3_train, y_train)\n",
    "ypoly3_train_pred = reg.predict(Xpoly3_train)\n",
    "ypoly3_test_pred = reg.predict(Xpoly3_test)\n",
    "\n",
    "# Check performance on train and test set\n",
    "r2poly3_train = r2_score(y_train, ypoly3_train_pred)\n",
    "r2poly3_test = r2_score(y_test, ypoly3_test_pred)\n",
    "print(f'Train R^2:\\t{r2poly3_train}\\nTest R^2:\\t{r2poly3_test}')"
   ]
  },
  {
   "cell_type": "markdown",
   "metadata": {},
   "source": [
    "#### Debrief\n",
    "Our even more complex third-order polynomial regression model did horribly on the test set. Notice that it overfit the training set completly (perfect prediction). This can always happen in linear regression when we have more features than data points (which is the case here)."
   ]
  },
  {
   "cell_type": "code",
   "execution_count": 14,
   "metadata": {},
   "outputs": [
    {
     "data": {
      "image/png": "[encoded data removed]",
      "text/plain": [
       "<Figure size 864x432 with 1 Axes>"
      ]
     },
     "metadata": {},
     "output_type": "display_data"
    }
   ],
   "source": [
    "# Show performance of all models on train and test set\n",
    "from sklearn.model_selection import train_test_split\n",
    "df = pd.DataFrame({'Model Complexity': ['linear', 'linear', '2nd-order', '2nd-order', '3rd-order', '3rd-order'],\n",
    "                  'R^2': [r2_train, r2_test, r2poly_train, r2poly_test, r2poly3_train, r2poly3_test],\n",
    "                  'Set': ['train', 'test', 'train', 'test', 'train', 'test']})\n",
    "df['R^2'] = df['R^2'].clip(lower=0)    # Threshold minimum R^2 to 0 for nicer display of results (if it's 0, we already know it learned nothing)\n",
    "\n",
    "plt.figure(figsize=(12, 6))\n",
    "sns.lineplot(x='Model Complexity', y='R^2', hue='Set', data=df, sort=False)\n",
    "plt.ylim(ymin=0, ymax=1)\n",
    "plt.ylabel('R^2 (higher is better)')\n",
    "plt.show()"
   ]
  },
  {
   "cell_type": "markdown",
   "metadata": {},
   "source": [
    "### Cross-validation example"
   ]
  },
  {
   "cell_type": "code",
   "execution_count": 15,
   "metadata": {},
   "outputs": [
    {
     "name": "stdout",
     "output_type": "stream",
     "text": [
      "The folds are of type <class 'list'> and contain 102, 101, 101, 101, 101 data points\n"
     ]
    }
   ],
   "source": [
    "# Make the folds\n",
    "k_folds = 5\n",
    "\n",
    "X_folds, y_folds = np.array_split(X, k_folds), np.array_split(y, k_folds)\n",
    "\n",
    "fold_sizes = ', '.join([str(len(f)) for f in X_folds])\n",
    "print(f'The folds are of type {type(X_folds)} and contain {fold_sizes} data points')"
   ]
  },
  {
   "cell_type": "code",
   "execution_count": 16,
   "metadata": {},
   "outputs": [
    {
     "name": "stdout",
     "output_type": "stream",
     "text": [
      "[0.7057189451172952, 0.6566041936444884, 0.7203026852522949, 0.7898705155348588, 0.7287877060675547]\n"
     ]
    }
   ],
   "source": [
    "# List that will accumulate test performance on each fold\n",
    "cv_r2 = []\n",
    "\n",
    "for i in range(k_folds):\n",
    "    # Make the train/test set for this fold\n",
    "    X_test = X_folds[i]\n",
    "    y_test = y_folds[i]\n",
    "    X_train = [X_folds[j] for j in range(k_folds) if j != i]\n",
    "    y_train = [y_folds[j] for j in range(k_folds) if j != i]\n",
    "    X_train = np.concatenate(X_train)\n",
    "    y_train = np.concatenate(y_train)\n",
    "    \n",
    "    # Train the model\n",
    "    reg.fit(X_train, y_train)\n",
    "    \n",
    "    # Evaluate the model on the test set\n",
    "    y_pred = reg.predict(X_test)\n",
    "    r2 = r2_score(y_test, y_pred)\n",
    "    \n",
    "    cv_r2.append(r2)\n",
    "    \n",
    "print(cv_r2)"
   ]
  },
  {
   "cell_type": "code",
   "execution_count": 17,
   "metadata": {},
   "outputs": [
    {
     "name": "stdout",
     "output_type": "stream",
     "text": [
      "Cross-validated R^2\n",
      "Mean:\t0.7202568091232984\n",
      "Std.:\t0.04285289109219573\n"
     ]
    }
   ],
   "source": [
    "# Get the mean and standard deviation of the cross-validation test set performance across folds\n",
    "cv_r2 = np.array(cv_r2)\n",
    "print(f'Cross-validated R^2\\nMean:\\t{cv_r2.mean()}\\nStd.:\\t{cv_r2.std()}')"
   ]
  },
  {
   "cell_type": "markdown",
   "metadata": {},
   "source": [
    "#### Debrief\n",
    "Notice that this test set performance is actually lower than in our initial example when we split the\n",
    "dataset once into a train/test set. We should trust this estimate more, because it was computed\n",
    "from 5 different train/test splits rather than a single one."
   ]
  },
  {
   "cell_type": "markdown",
   "metadata": {},
   "source": [
    "#### sklearn provides an easier way to do cross-validation"
   ]
  },
  {
   "cell_type": "code",
   "execution_count": 18,
   "metadata": {},
   "outputs": [
    {
     "name": "stdout",
     "output_type": "stream",
     "text": [
      "Cross-validated R^2\n",
      "Mean:\t0.7202568091232984\n",
      "Std.:\t0.04285289109219573\n"
     ]
    }
   ],
   "source": [
    "from sklearn.model_selection import KFold\n",
    "\n",
    "# List that will accumulate test performance on each fold\n",
    "cv_r2 = []\n",
    "\n",
    "kf = KFold(n_splits=k_folds)\n",
    "\n",
    "for train_idx, test_idx in kf.split(X):\n",
    "    X_train, X_test, y_train, y_test = X[train_idx], X[test_idx], y[train_idx], y[test_idx]\n",
    "    \n",
    "    # Train the model\n",
    "    reg.fit(X_train, y_train)\n",
    "    \n",
    "    # Evaluate the model on the test set\n",
    "    y_pred = reg.predict(X_test)\n",
    "    r2 = r2_score(y_test, y_pred)\n",
    "    \n",
    "    cv_r2.append(r2)\n",
    "    \n",
    "# Get the mean and standard deviation of the cross-validation test set performance across folds\n",
    "cv_r2 = np.array(cv_r2)\n",
    "print(f'Cross-validated R^2\\nMean:\\t{cv_r2.mean()}\\nStd.:\\t{cv_r2.std()}')"
   ]
  },
  {
   "cell_type": "markdown",
   "metadata": {},
   "source": [
    "#### And sklearn provides an even easier way if all we're interested in is the scores"
   ]
  },
  {
   "cell_type": "code",
   "execution_count": 19,
   "metadata": {},
   "outputs": [
    {
     "name": "stdout",
     "output_type": "stream",
     "text": [
      "Cross-validated R^2\n",
      "Mean:\t0.7202568091232984\n",
      "Std.:\t0.04285289109219573\n"
     ]
    }
   ],
   "source": [
    "from sklearn.model_selection import cross_val_score\n",
    "\n",
    "cv_r2 = cross_val_score(reg, X, y, cv=k_folds, scoring='r2')\n",
    "print(f'Cross-validated R^2\\nMean:\\t{cv_r2.mean()}\\nStd.:\\t{cv_r2.std()}')"
   ]
  },
  {
   "cell_type": "markdown",
   "metadata": {},
   "source": [
    "### What to do after cross-validation?\n",
    "**Question**: Cross-validation will give us a more robust estimate of the true out of sample error. However, we have ended up training several models. Which do we pick to finally deploy?\n",
    "\n",
    "**Answer**: None of them! Cross-validation has served its purpose by giving us a robust estimate of how our model will perform out in the real world. Now, we train our model on the entire dataset, since more data almost always means a better model."
   ]
  },
  {
   "cell_type": "markdown",
   "metadata": {},
   "source": [
    "## Hyperparameter tuning\n",
    "- Most models often have parameters that we must set, which are not learned during training. We call these **hyperparameters**\n",
    "- For instance, Ridge Regression, which uses L2 regularization to prevent overfitting, requires us to set a λ parameter that balances the weight penalty vs. prediction error in the loss term\n",
    "- If these hyperparameters are not learned during training, how do we learn them?\n",
    "- The most common method amounts to, disappointingly, guess-and-check... We try a bunch of values for the hyperparameters and set them to whatever achieves the lowest loss\n",
    "    - Common techniques: grid search, random search\n",
    "    - More advanced techniques (that we won't look at): Bayesian optimization, genetic algorithms"
   ]
  },
  {
   "cell_type": "markdown",
   "metadata": {},
   "source": [
    "### Grid search with cross-validation example"
   ]
  },
  {
   "cell_type": "code",
   "execution_count": 20,
   "metadata": {},
   "outputs": [
    {
     "name": "stdout",
     "output_type": "stream",
     "text": [
      "The best hyperparameter settings achieve a cross-validated R^2 of: 0.7206816828526259\n",
      "Alpha:\t0.01\n",
      "L1 ratio:\t0\n"
     ]
    }
   ],
   "source": [
    "from sklearn.linear_model import ElasticNet\n",
    "#model with 2 hyperparameters\n",
    "#combination of lasso and ridge regression penalties\n",
    "\n",
    "from sklearn.preprocessing import StandardScaler\n",
    "\n",
    "# Scale features since weight magnitudes will effect regularization weight penalties\n",
    "X_scaled = StandardScaler().fit_transform(X)\n",
    "\n",
    "# Hyperparameter settings we want to try\n",
    "alphas = [0.001, 0.01, 0.1, 1] #lambda (controls effect of penalty)\n",
    "l1_ratios = [0, 0.25, 0.5, 0.75, 1] #lasso vs ridge penalty (0=ridge, 1=lasso)\n",
    "\n",
    "# Keep track of the best hyperparameters found so far\n",
    "best_r2 = -np.inf\n",
    "best_alpha = None\n",
    "best_l1_ratio = None\n",
    "\n",
    "for alpha in alphas:\n",
    "    for l1_ratio in l1_ratios:\n",
    "        model = ElasticNet(alpha=alpha, l1_ratio=l1_ratio, random_state=27)\n",
    "        cv_r2 = cross_val_score(model, X_scaled, y, cv=k_folds, scoring='r2')\n",
    "        if cv_r2.mean() > best_r2:\n",
    "            best_r2 = cv_r2.mean()\n",
    "            best_alpha = alpha\n",
    "            best_l1_ratio = l1_ratio\n",
    "            \n",
    "print(f'The best hyperparameter settings achieve a cross-validated R^2 of: {best_r2}\\nAlpha:\\t{best_alpha}\\nL1 ratio:\\t{best_l1_ratio}')"
   ]
  },
  {
   "cell_type": "markdown",
   "metadata": {},
   "source": [
    "**Question**: How many models were trained?"
   ]
  },
  {
   "cell_type": "markdown",
   "metadata": {},
   "source": [
    "#### As always, sklearn provides an easier way"
   ]
  },
  {
   "cell_type": "code",
   "execution_count": 21,
   "metadata": {},
   "outputs": [
    {
     "name": "stdout",
     "output_type": "stream",
     "text": [
      "Fitting 5 folds for each of 20 candidates, totalling 100 fits\n",
      "The best hyperparameter settings achieve a cross-validated R^2 of: 0.7206816828526259\n",
      "Alpha:\t0.01\n",
      "L1 ratio:\t0\n"
     ]
    }
   ],
   "source": [
    "from sklearn.model_selection import GridSearchCV\n",
    "\n",
    "# Make a dictionary with model arguments as keys and lists of grid settings as values\n",
    "param_grid = {\n",
    "    'alpha': [0.001, 0.01, 0.1, 1],\n",
    "    'l1_ratio': [0, 0.25, 0.5, 0.75, 1]\n",
    "}\n",
    "\n",
    "grid = GridSearchCV(estimator=model, param_grid=param_grid, cv=k_folds, scoring='r2', verbose=1, n_jobs=-1) # verbose=1 -> print results, n_jobs=-1 -> use all processors in parallel\n",
    "grid_result = grid.fit(X_scaled, y)\n",
    "\n",
    "best_r2 = grid_result.best_score_\n",
    "best_alpha = grid_result.best_params_['alpha']\n",
    "best_l1_ratio = grid_result.best_params_['l1_ratio']\n",
    "print(f'The best hyperparameter settings achieve a cross-validated R^2 of: {best_r2}\\nAlpha:\\t{best_alpha}\\nL1 ratio:\\t{best_l1_ratio}')"
   ]
  },
  {
   "cell_type": "code",
   "execution_count": 22,
   "metadata": {},
   "outputs": [
    {
     "data": {
      "text/plain": [
       "ElasticNet(alpha=0.01, l1_ratio=0, random_state=27)"
      ]
     },
     "execution_count": 22,
     "metadata": {},
     "output_type": "execute_result"
    }
   ],
   "source": [
    "best_model = grid_result.best_estimator_ #use this model as your best model\n",
    "best_model"
   ]
  },
  {
   "cell_type": "markdown",
   "metadata": {},
   "source": [
    "### Train/validation/test split\n",
    "**Question**: Have you noticed anything wrong with what we are doing? Should we trust our cross-validation score as a true estimate of performance on out-of-sample data?\n",
    "\n",
    "**Answer**: No, we cannot trust it. We have been using the cross-validation score to select hyperparameters. You can think of this as having used the validation data in each fold to train our model in a way. So, our model will be biased to the dataset and our cross-validation score will be overly-optimistic.\n",
    "\n",
    "**Solution**:\n",
    "1. Split the dataset into a train/test set\n",
    "2. Perform grid search with cross-validation on the training set. Each fold, the training set will be split into a train/validation set\n",
    "3. Using the hyperparameters that obtained the best cross-validation score, retrain the model on the entire training set (not just training folds within this training set)\n",
    "4. Evaluate the model on the test set to get a true estimate of the out-of-sample error\n",
    "\n",
    "<img src=\"images/cross_validation_with_test.png\" style=\"width: 1000px;\"/>\n",
    "\n",
    "*Note*: Instead of splitting the dataset into a train/test set once and doing cross-validation on that single train set, we can perform a nested cross-validation. This gives us an even better estimate of how well our model, training scheme, and hyperparameter search scheme will perform out in the real world. See [here](https://scikit-learn.org/stable/auto_examples/model_selection/plot_nested_cross_validation_iris.html) for an example."
   ]
  },
  {
   "cell_type": "code",
   "execution_count": 23,
   "metadata": {},
   "outputs": [
    {
     "name": "stdout",
     "output_type": "stream",
     "text": [
      "Fitting 5 folds for each of 20 candidates, totalling 100 fits\n",
      "The best hyperparameter settings achieve a cross-validated R^2 of: 0.7171522166211203\n",
      "Alpha:\t0.01\n",
      "L1 ratio:\t0\n",
      "R^2 on the test set:\t0.7254939323079763\n"
     ]
    }
   ],
   "source": [
    "#FULL EXAMPLE\n",
    "# Split data into a train and test set\n",
    "X_train, X_test, y_train, y_test = train_test_split(X, y, shuffle=False, train_size=0.8)\n",
    "\n",
    "# Standardize the data using only statistics from the training set\n",
    "# (always assume no knowledge of the test set for most unbiased performance estimate)\n",
    "scaler = StandardScaler()\n",
    "scaler.fit(X_train)\n",
    "X_train = scaler.transform(X_train)\n",
    "X_test = scaler.transform(X_test)\n",
    "\n",
    "grid = GridSearchCV(estimator=model, param_grid=param_grid, cv=k_folds, scoring='r2', verbose=1, n_jobs=-1) # verbose=1 -> print results, n_jobs=-1 -> use all processors in parallel\n",
    "grid_result = grid.fit(X_train, y_train)\n",
    "\n",
    "best_r2 = grid_result.best_score_\n",
    "best_alpha = grid_result.best_params_['alpha']\n",
    "best_l1_ratio = grid_result.best_params_['l1_ratio']\n",
    "print(f'The best hyperparameter settings achieve a cross-validated R^2 of: {best_r2}\\nAlpha:\\t{best_alpha}\\nL1 ratio:\\t{best_l1_ratio}')\n",
    "\n",
    "# Using the best hyperparameters, retrain on the entire train set and evaluate on the test set\n",
    "best_model = grid_result.best_estimator_    # Sklearn automatically retrains the model on the whole training set following cross-validation using the best hyperparameters\n",
    "y_pred = best_model.predict(X_test)\n",
    "r2_test = r2_score(y_test, y_pred)\n",
    "print(f'R^2 on the test set:\\t{r2_test}')"
   ]
  },
  {
   "cell_type": "markdown",
   "metadata": {},
   "source": [
    "---\n",
    "# Model Evaluation"
   ]
  },
  {
   "cell_type": "markdown",
   "metadata": {},
   "source": [
    "## Regression\n",
    "\n",
    "### Mean Squared Error (L2)\n",
    "- Commonly used (especially as training loss)\n",
    "- Large errors (from outliers) have disproportionate impact\n",
    "- Units not intuitive\n",
    "- Task-dependent (i.e. no maximum bound)\n",
    "\n",
    "\\begin{align}\n",
    "    MSE &= \\frac{1}{n} \\sum_{i=0}^n (y_i - \\hat{y}_i)^2 \\\\\n",
    "        &= \\frac{1}{n} (\\mathbf{y} - \\mathbf{\\hat{y}})^T (\\mathbf{y} - \\mathbf{\\hat{y}})\n",
    "\\end{align}\n",
    "\n",
    "\n",
    "### Root Mean Squared Error\n",
    "- Commonly used for evaluation, but not for training loss\n",
    "- Large errors (from outliers) have disproportionate impact\n",
    "- Units are intuitive\n",
    "- Task-dependent (i.e. no maximum bound)\n",
    "\n",
    "\\begin{align}\n",
    "    RMSE &= \\sqrt{\\frac{1}{n} \\sum_{i=0}^n (y_i - \\hat{y}_i)^2} \\\\\n",
    "         &= \\sqrt{\\frac{1}{n} (\\mathbf{y} - \\mathbf{\\hat{y}})^T (\\mathbf{y} - \\mathbf{\\hat{y}})}\n",
    "\\end{align}\n",
    "\n",
    "### Mean Absolute Error (L1)\n",
    "- Commonly used (especially as training loss, but less than Mean Squared Error)\n",
    "- Outliers have less impact\n",
    "- Units are intuitive\n",
    "- Task-dependent (i.e. no maximum bound)\n",
    "\n",
    "\\begin{align}\n",
    "    MAE &= \\frac{1}{n} \\sum_{i=0}^n |y_i - \\hat{y}_i|\n",
    "\\end{align}\n",
    "\n",
    "### Coefficient of Determination ($R^2$)\n",
    "- Measures the proportion of the variation in your dependent variable (Y) explained by your independent variables (X)\n",
    "- Commonly used for evaluation, but not for training loss\n",
    "- Intuitive interpretation\n",
    "- Task-independent (ranges from 0 to 1, although negative values can mean worse than most naive solution)\n",
    "- *Adjusted $R^2$* variant adjusts the statistic based on the number of independent variables in the model\n",
    "\n",
    "\\begin{align}\n",
    "    R^2 &= 1 - \\frac{\\text{Unexplained variance}}{\\text{Total variance}} \\\\\n",
    "        &= 1 - \\frac{MSE_{model}}{MSE_{baseline}} \\\\\n",
    "        &= 1 - \\frac{(\\mathbf{y} - \\mathbf{\\hat{y}})^T (\\mathbf{y} - \\mathbf{\\hat{y}})}{(\\mathbf{y} - \\mathbf{y}_{avg})^T (\\mathbf{y} - \\mathbf{y}_{avg})}\n",
    "\\end{align}"
   ]
  },
  {
   "cell_type": "markdown",
   "metadata": {},
   "source": [
    "## Classification\n",
    "- **Goal**: Predict between two or more discrete classes. For between two classes, called *binary* classification\n",
    "- **Example**: Predict whether or not someone has cancer (binary), predict what object is shown in an image (multiclass)"
   ]
  },
  {
   "cell_type": "markdown",
   "metadata": {},
   "source": [
    "### Accuracy\n",
    "$$acc = \\frac{\\text{# of times correct}}{\\text{# of predictions made}}$$\n",
    "\n",
    "### Confusion matrix\n",
    "Full detail about how model fails\n",
    "\n",
    "| | Actual + | Actual - |\n",
    "|-|-|-|\n",
    "|Predicted + | True Positive | False Positive | \n",
    "|Predicted - | False Negative | True Negative |\n",
    "\n",
    "<img src=\"images/multiclass_confusion_matrix.png\" style=\"width: 300px; display: block; margin-left: auto; margin-right: auto\"/>\n",
    "\n",
    "#### In a binary case of 100 examples (50+, 50-), 95% accuracy:\n",
    "\n",
    "| | Actual + | Actual - |\n",
    "|-|-|-|\n",
    "|Predicted + | 50| 5 | \n",
    "|Predicted - |0 | 45|\n",
    "\n",
    "| | Actual + | Actual - |\n",
    "|-|-|-|\n",
    "|Predicted + | 45| 0 | \n",
    "|Predicted - |5 | 50|\n",
    "\n",
    "- Which model would you rather have predicting...\n",
    "    - **cancer diagnosis**? (positive means \"has cancer\")\n",
    "    - **spam filtering**? (positive means \"is spam\")\n",
    "    \n",
    "**Conclusion**: How your model fails matters\n",
    "\n",
    "### Metrics computed from binary confusion matrix\n",
    "\n",
    "#### _Recall_: True positives / Actual positives\n",
    "- We want high recall when we don't want to miss any positive conditions\n",
    "- Good for something like cancer diagnosis\n",
    "\n",
    "#### _Precision_: True positives / Predicted positives\n",
    "- We want high precision if the machine learning model is going to trigger some automated process\n",
    "- Good for something like spam detection\n",
    "\n",
    "#### _F1 score_: 2 * (Precision * Recall) / (Precision + Recall)\n",
    "- Combine both precision and recall into a single general-purpose metric\n",
    "- Useful for quickly comparing models\n",
    "- There are variations that weight precision/recall unequally"
   ]
  },
  {
   "cell_type": "markdown",
   "metadata": {},
   "source": [
    "### Example"
   ]
  },
  {
   "cell_type": "code",
   "execution_count": 24,
   "metadata": {},
   "outputs": [
    {
     "data": {
      "image/png": "[encoded data removed]",
      "text/plain": [
       "<Figure size 792x576 with 2 Axes>"
      ]
     },
     "metadata": {},
     "output_type": "display_data"
    },
    {
     "name": "stdout",
     "output_type": "stream",
     "text": [
      "              precision    recall  f1-score   support\n",
      "\n",
      "           0       1.00      1.00      1.00         9\n",
      "           1       0.92      0.79      0.85        14\n",
      "           2       0.82      0.93      0.87        15\n",
      "\n",
      "    accuracy                           0.89        38\n",
      "   macro avg       0.91      0.91      0.91        38\n",
      "weighted avg       0.90      0.89      0.89        38\n",
      "\n"
     ]
    }
   ],
   "source": [
    "from sklearn.metrics import plot_confusion_matrix\n",
    "from sklearn.metrics import classification_report\n",
    "from sklearn.datasets import load_iris\n",
    "from sklearn.svm import SVC\n",
    "\n",
    "# Load a classification dataset\n",
    "iris = load_iris()\n",
    "X = iris.data\n",
    "y = iris.target\n",
    "class_names = iris.target_names\n",
    "X_train, X_test, y_train, y_test = train_test_split(X, y, random_state=27)\n",
    "\n",
    "# Using a sample model (we will dive into details another day)\n",
    "classifier = SVC(kernel='linear', C=0.01)\n",
    "classifier.fit(X_train, y_train)\n",
    "\n",
    "# Plot confusion matrix\n",
    "plot_confusion_matrix(classifier, X_test, y_test,\n",
    "                      display_labels=class_names, cmap=plt.cm.Blues, normalize='true')\n",
    "plt.grid(False)\n",
    "fig = plt.gcf()\n",
    "fig.set_size_inches(11,8)\n",
    "plt.show()\n",
    "\n",
    "# Get a classification report with multiple statistics\n",
    "y_pred = classifier.predict(X_test)\n",
    "print(classification_report(y_test, y_pred))"
   ]
  }
 ],
 "metadata": {
  "kernelspec": {
   "display_name": "Python 3.9.7 ('base')",
   "language": "python",
   "name": "python3"
  },
  "language_info": {
   "codemirror_mode": {
    "name": "ipython",
    "version": 3
   },
   "file_extension": ".py",
   "mimetype": "text/x-python",
   "name": "python",
   "nbconvert_exporter": "python",
   "pygments_lexer": "ipython3",
   "version": "3.9.7"
  },
  "vscode": {
   "interpreter": {
    "hash": "48f1e5342cf8a6c153dbe25f8f15edc1b1c2836d33c4cf2b2335313fcb64d162"
   }
  }
 },
 "nbformat": 4,
 "nbformat_minor": 4
}
