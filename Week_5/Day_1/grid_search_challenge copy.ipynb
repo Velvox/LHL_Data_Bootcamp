{
 "cells": [
  {
   "cell_type": "markdown",
   "metadata": {},
   "source": [
    "# Prediction of sales\n",
    "\n",
    "### Problem Statement\n",
    "This dataset represents sales data for 1559 products across 10 stores in different cities. Also, certain attributes of each product and store are available. The aim is to build a predictive model and find out the sales of each product at a particular store.\n",
    "\n",
    "|Variable|Description|\n",
    "|: ------------- |:-------------|\n",
    "|Item_Identifier|Unique product ID|\n",
    "|Item_Weight|Weight of product|\n",
    "|Item_Fat_Content|Whether the product is low fat or not|\n",
    "|Item_Visibility|The % of total display area of all products in a store allocated to the particular product|\n",
    "|Item_Type|The category to which the product belongs|\n",
    "|Item_MRP|Maximum Retail Price (list price) of the product|\n",
    "|Outlet_Identifier|Unique store ID|\n",
    "|Outlet_Establishment_Year|The year in which store was established|\n",
    "|Outlet_Size|The size of the store in terms of ground area covered|\n",
    "|Outlet_Location_Type|The type of city in which the store is located|\n",
    "|Outlet_Type|Whether the outlet is just a grocery store or some sort of supermarket|\n",
    "|Item_Outlet_Sales|Sales of the product in the particulat store. This is the outcome variable to be predicted.|\n",
    "\n",
    "Please note that the data may have missing values as some stores might not report all the data due to technical glitches. Hence, it will be required to treat them accordingly.\n",
    "\n",
    "\n",
    "\n",
    "### Explore the problem in following stages:\n",
    "\n",
    "1. Hypothesis Generation – understanding the problem better by brainstorming possible factors that can impact the outcome\n",
    "2. Data Exploration – looking at categorical and continuous feature summaries and making inferences about the data.\n",
    "3. Data Cleaning – imputing missing values in the data and checking for outliers\n",
    "4. Feature Engineering – modifying existing variables and creating new ones for analysis\n",
    "5. Model Building – making predictive models on the data"
   ]
  },
  {
   "cell_type": "code",
   "execution_count": 10,
   "metadata": {},
   "outputs": [],
   "source": [
    "import numpy as np\n",
    "import pandas as pd"
   ]
  },
  {
   "cell_type": "code",
   "execution_count": 11,
   "metadata": {},
   "outputs": [
    {
     "name": "stdout",
     "output_type": "stream",
     "text": [
      "<class 'pandas.core.frame.DataFrame'>\n",
      "RangeIndex: 8523 entries, 0 to 8522\n",
      "Data columns (total 38 columns):\n",
      " #   Column                           Non-Null Count  Dtype  \n",
      "---  ------                           --------------  -----  \n",
      " 0   Unnamed: 0                       8523 non-null   int64  \n",
      " 1   Item_Fat_Content                 8523 non-null   int64  \n",
      " 2   Item_Visibility                  8523 non-null   float64\n",
      " 3   Item_MRP                         8523 non-null   float64\n",
      " 4   Outlet_Size                      8523 non-null   int64  \n",
      " 5   Outlet_Location_Type             8523 non-null   int64  \n",
      " 6   Outlet_Type                      8523 non-null   int64  \n",
      " 7   Item_Outlet_Sales                8523 non-null   float64\n",
      " 8   Years_Operating                  8523 non-null   int64  \n",
      " 9   Item_Type_Baking Goods           8523 non-null   int64  \n",
      " 10  Item_Type_Breads                 8523 non-null   int64  \n",
      " 11  Item_Type_Breakfast              8523 non-null   int64  \n",
      " 12  Item_Type_Canned                 8523 non-null   int64  \n",
      " 13  Item_Type_Dairy                  8523 non-null   int64  \n",
      " 14  Item_Type_Frozen Foods           8523 non-null   int64  \n",
      " 15  Item_Type_Fruits and Vegetables  8523 non-null   int64  \n",
      " 16  Item_Type_Hard Drinks            8523 non-null   int64  \n",
      " 17  Item_Type_Health and Hygiene     8523 non-null   int64  \n",
      " 18  Item_Type_Household              8523 non-null   int64  \n",
      " 19  Item_Type_Meat                   8523 non-null   int64  \n",
      " 20  Item_Type_Others                 8523 non-null   int64  \n",
      " 21  Item_Type_Seafood                8523 non-null   int64  \n",
      " 22  Item_Type_Snack Foods            8523 non-null   int64  \n",
      " 23  Item_Type_Soft Drinks            8523 non-null   int64  \n",
      " 24  Item_Type_Starchy Foods          8523 non-null   int64  \n",
      " 25  Outlet_Identifier_OUT010         8523 non-null   int64  \n",
      " 26  Outlet_Identifier_OUT013         8523 non-null   int64  \n",
      " 27  Outlet_Identifier_OUT017         8523 non-null   int64  \n",
      " 28  Outlet_Identifier_OUT018         8523 non-null   int64  \n",
      " 29  Outlet_Identifier_OUT019         8523 non-null   int64  \n",
      " 30  Outlet_Identifier_OUT027         8523 non-null   int64  \n",
      " 31  Outlet_Identifier_OUT035         8523 non-null   int64  \n",
      " 32  Outlet_Identifier_OUT045         8523 non-null   int64  \n",
      " 33  Outlet_Identifier_OUT046         8523 non-null   int64  \n",
      " 34  Outlet_Identifier_OUT049         8523 non-null   int64  \n",
      " 35  Item_Category_Drink              8523 non-null   int64  \n",
      " 36  Item_Category_Food               8523 non-null   int64  \n",
      " 37  Item_Category_Non Consumable     8523 non-null   int64  \n",
      "dtypes: float64(3), int64(35)\n",
      "memory usage: 2.5 MB\n"
     ]
    }
   ],
   "source": [
    "data = pd.read_csv('data/nproduct_data.csv')\n",
    "data.info()"
   ]
  },
  {
   "cell_type": "code",
   "execution_count": 12,
   "metadata": {},
   "outputs": [],
   "source": [
    "# split target variable from dataset\n",
    "target = data['Item_Outlet_Sales']\n",
    "\n",
    "# remove target from training\n",
    "data = data.drop('Item_Outlet_Sales', axis=1)"
   ]
  },
  {
   "cell_type": "code",
   "execution_count": 159,
   "metadata": {},
   "outputs": [
    {
     "data": {
      "text/html": [
       "<div>\n",
       "<style scoped>\n",
       "    .dataframe tbody tr th:only-of-type {\n",
       "        vertical-align: middle;\n",
       "    }\n",
       "\n",
       "    .dataframe tbody tr th {\n",
       "        vertical-align: top;\n",
       "    }\n",
       "\n",
       "    .dataframe thead th {\n",
       "        text-align: right;\n",
       "    }\n",
       "</style>\n",
       "<table border=\"1\" class=\"dataframe\">\n",
       "  <thead>\n",
       "    <tr style=\"text-align: right;\">\n",
       "      <th></th>\n",
       "      <th>Unnamed: 0</th>\n",
       "      <th>Item_Fat_Content</th>\n",
       "      <th>Item_Visibility</th>\n",
       "      <th>Item_MRP</th>\n",
       "      <th>Outlet_Size</th>\n",
       "      <th>Outlet_Location_Type</th>\n",
       "      <th>Outlet_Type</th>\n",
       "      <th>Years_Operating</th>\n",
       "      <th>Item_Type_Baking Goods</th>\n",
       "      <th>Item_Type_Breads</th>\n",
       "      <th>...</th>\n",
       "      <th>Outlet_Identifier_OUT018</th>\n",
       "      <th>Outlet_Identifier_OUT019</th>\n",
       "      <th>Outlet_Identifier_OUT027</th>\n",
       "      <th>Outlet_Identifier_OUT035</th>\n",
       "      <th>Outlet_Identifier_OUT045</th>\n",
       "      <th>Outlet_Identifier_OUT046</th>\n",
       "      <th>Outlet_Identifier_OUT049</th>\n",
       "      <th>Item_Category_Drink</th>\n",
       "      <th>Item_Category_Food</th>\n",
       "      <th>Item_Category_Non Consumable</th>\n",
       "    </tr>\n",
       "  </thead>\n",
       "  <tbody>\n",
       "    <tr>\n",
       "      <th>0</th>\n",
       "      <td>0</td>\n",
       "      <td>1</td>\n",
       "      <td>0.016047</td>\n",
       "      <td>249.8092</td>\n",
       "      <td>2</td>\n",
       "      <td>1</td>\n",
       "      <td>2</td>\n",
       "      <td>10</td>\n",
       "      <td>0</td>\n",
       "      <td>0</td>\n",
       "      <td>...</td>\n",
       "      <td>0</td>\n",
       "      <td>0</td>\n",
       "      <td>0</td>\n",
       "      <td>0</td>\n",
       "      <td>0</td>\n",
       "      <td>0</td>\n",
       "      <td>1</td>\n",
       "      <td>0</td>\n",
       "      <td>1</td>\n",
       "      <td>0</td>\n",
       "    </tr>\n",
       "    <tr>\n",
       "      <th>1</th>\n",
       "      <td>1</td>\n",
       "      <td>2</td>\n",
       "      <td>0.019278</td>\n",
       "      <td>48.2692</td>\n",
       "      <td>2</td>\n",
       "      <td>3</td>\n",
       "      <td>3</td>\n",
       "      <td>0</td>\n",
       "      <td>0</td>\n",
       "      <td>0</td>\n",
       "      <td>...</td>\n",
       "      <td>1</td>\n",
       "      <td>0</td>\n",
       "      <td>0</td>\n",
       "      <td>0</td>\n",
       "      <td>0</td>\n",
       "      <td>0</td>\n",
       "      <td>0</td>\n",
       "      <td>1</td>\n",
       "      <td>0</td>\n",
       "      <td>0</td>\n",
       "    </tr>\n",
       "    <tr>\n",
       "      <th>2</th>\n",
       "      <td>2</td>\n",
       "      <td>1</td>\n",
       "      <td>0.016760</td>\n",
       "      <td>141.6180</td>\n",
       "      <td>2</td>\n",
       "      <td>1</td>\n",
       "      <td>2</td>\n",
       "      <td>10</td>\n",
       "      <td>0</td>\n",
       "      <td>0</td>\n",
       "      <td>...</td>\n",
       "      <td>0</td>\n",
       "      <td>0</td>\n",
       "      <td>0</td>\n",
       "      <td>0</td>\n",
       "      <td>0</td>\n",
       "      <td>0</td>\n",
       "      <td>1</td>\n",
       "      <td>0</td>\n",
       "      <td>1</td>\n",
       "      <td>0</td>\n",
       "    </tr>\n",
       "    <tr>\n",
       "      <th>3</th>\n",
       "      <td>3</td>\n",
       "      <td>2</td>\n",
       "      <td>0.000000</td>\n",
       "      <td>182.0950</td>\n",
       "      <td>0</td>\n",
       "      <td>3</td>\n",
       "      <td>1</td>\n",
       "      <td>11</td>\n",
       "      <td>0</td>\n",
       "      <td>0</td>\n",
       "      <td>...</td>\n",
       "      <td>0</td>\n",
       "      <td>0</td>\n",
       "      <td>0</td>\n",
       "      <td>0</td>\n",
       "      <td>0</td>\n",
       "      <td>0</td>\n",
       "      <td>0</td>\n",
       "      <td>0</td>\n",
       "      <td>1</td>\n",
       "      <td>0</td>\n",
       "    </tr>\n",
       "    <tr>\n",
       "      <th>4</th>\n",
       "      <td>4</td>\n",
       "      <td>1</td>\n",
       "      <td>0.000000</td>\n",
       "      <td>53.8614</td>\n",
       "      <td>3</td>\n",
       "      <td>3</td>\n",
       "      <td>2</td>\n",
       "      <td>22</td>\n",
       "      <td>0</td>\n",
       "      <td>0</td>\n",
       "      <td>...</td>\n",
       "      <td>0</td>\n",
       "      <td>0</td>\n",
       "      <td>0</td>\n",
       "      <td>0</td>\n",
       "      <td>0</td>\n",
       "      <td>0</td>\n",
       "      <td>0</td>\n",
       "      <td>0</td>\n",
       "      <td>0</td>\n",
       "      <td>1</td>\n",
       "    </tr>\n",
       "  </tbody>\n",
       "</table>\n",
       "<p>5 rows × 37 columns</p>\n",
       "</div>"
      ],
      "text/plain": [
       "   Unnamed: 0  Item_Fat_Content  Item_Visibility  Item_MRP  Outlet_Size  \\\n",
       "0           0                 1         0.016047  249.8092            2   \n",
       "1           1                 2         0.019278   48.2692            2   \n",
       "2           2                 1         0.016760  141.6180            2   \n",
       "3           3                 2         0.000000  182.0950            0   \n",
       "4           4                 1         0.000000   53.8614            3   \n",
       "\n",
       "   Outlet_Location_Type  Outlet_Type  Years_Operating  Item_Type_Baking Goods  \\\n",
       "0                     1            2               10                       0   \n",
       "1                     3            3                0                       0   \n",
       "2                     1            2               10                       0   \n",
       "3                     3            1               11                       0   \n",
       "4                     3            2               22                       0   \n",
       "\n",
       "   Item_Type_Breads  ...  Outlet_Identifier_OUT018  Outlet_Identifier_OUT019  \\\n",
       "0                 0  ...                         0                         0   \n",
       "1                 0  ...                         1                         0   \n",
       "2                 0  ...                         0                         0   \n",
       "3                 0  ...                         0                         0   \n",
       "4                 0  ...                         0                         0   \n",
       "\n",
       "   Outlet_Identifier_OUT027  Outlet_Identifier_OUT035  \\\n",
       "0                         0                         0   \n",
       "1                         0                         0   \n",
       "2                         0                         0   \n",
       "3                         0                         0   \n",
       "4                         0                         0   \n",
       "\n",
       "   Outlet_Identifier_OUT045  Outlet_Identifier_OUT046  \\\n",
       "0                         0                         0   \n",
       "1                         0                         0   \n",
       "2                         0                         0   \n",
       "3                         0                         0   \n",
       "4                         0                         0   \n",
       "\n",
       "   Outlet_Identifier_OUT049  Item_Category_Drink  Item_Category_Food  \\\n",
       "0                         1                    0                   1   \n",
       "1                         0                    1                   0   \n",
       "2                         1                    0                   1   \n",
       "3                         0                    0                   1   \n",
       "4                         0                    0                   0   \n",
       "\n",
       "   Item_Category_Non Consumable  \n",
       "0                             0  \n",
       "1                             0  \n",
       "2                             0  \n",
       "3                             0  \n",
       "4                             1  \n",
       "\n",
       "[5 rows x 37 columns]"
      ]
     },
     "execution_count": 159,
     "metadata": {},
     "output_type": "execute_result"
    }
   ],
   "source": [
    "data.head()"
   ]
  },
  {
   "cell_type": "markdown",
   "metadata": {},
   "source": [
    "We have covered data preparation and feature engineering two weeks ago. Now, it's time to do some predictive models."
   ]
  },
  {
   "cell_type": "markdown",
   "metadata": {},
   "source": [
    "## Model Building\n",
    "\n",
    "## Task\n",
    "Make a baseline model. Baseline models help us set a benchmark to gauge the performance of our future models. If your new model is below the baseline, something has gone wrong, and you should check your data.\n",
    "\n",
    "To make a baseline model, run a simple regression model without altering the default parameters in sklearn. "
   ]
  },
  {
   "cell_type": "code",
   "execution_count": 135,
   "metadata": {},
   "outputs": [
    {
     "data": {
      "text/plain": [
       "1270207.9629626963"
      ]
     },
     "execution_count": 135,
     "metadata": {},
     "output_type": "execute_result"
    }
   ],
   "source": [
    "from sklearn.linear_model import LinearRegression, Ridge, Lasso\n",
    "from sklearn.model_selection import train_test_split, GridSearchCV\n",
    "from sklearn.metrics import mean_squared_error\n",
    "from sklearn import svm\n",
    "\n",
    "\n",
    "# fit model\n",
    "reg = LinearRegression().fit(data,target)\n",
    "\n",
    "# make prediction\n",
    "baseline = reg.predict(data)\n",
    "\n",
    "# Check accuracy\n",
    "baseline_msescore = mean_squared_error(target, baseline)\n",
    "baseline_msescore\n",
    "\n",
    "\n"
   ]
  },
  {
   "cell_type": "markdown",
   "metadata": {},
   "source": [
    "## Task\n",
    "Split your data in 80% train set and 20% test set."
   ]
  },
  {
   "cell_type": "code",
   "execution_count": 136,
   "metadata": {},
   "outputs": [],
   "source": [
    "X_train, X_test, y_train, y_test = train_test_split(data, target)"
   ]
  },
  {
   "cell_type": "code",
   "execution_count": 137,
   "metadata": {},
   "outputs": [
    {
     "data": {
      "text/plain": [
       "(6392, 37)"
      ]
     },
     "execution_count": 137,
     "metadata": {},
     "output_type": "execute_result"
    }
   ],
   "source": [
    "X_train.shape"
   ]
  },
  {
   "cell_type": "code",
   "execution_count": 138,
   "metadata": {},
   "outputs": [
    {
     "data": {
      "text/plain": [
       "(6392,)"
      ]
     },
     "execution_count": 138,
     "metadata": {},
     "output_type": "execute_result"
    }
   ],
   "source": [
    "y_train.shape"
   ]
  },
  {
   "cell_type": "code",
   "execution_count": 156,
   "metadata": {},
   "outputs": [
    {
     "name": "stdout",
     "output_type": "stream",
     "text": [
      "1259909.6276599064\n",
      "1301098.1362407035\n"
     ]
    }
   ],
   "source": [
    "# fit model\n",
    "regtrain = LinearRegression().fit(X_train, y_train)\n",
    "\n",
    "# make prediction\n",
    "baseline_trainpred = reg.predict(X_train)\n",
    "baseline_testpred = reg.predict(X_test)\n",
    "\n",
    "# Check accuracy\n",
    "baselinemse_trainscore = mean_squared_error(y_train, baseline_trainpred)\n",
    "baselinemse_testscore = mean_squared_error(y_test, baseline_testpred)\n",
    "\n",
    "print(baselinemse_trainscore)\n",
    "print(baselinemse_testscore)"
   ]
  },
  {
   "cell_type": "markdown",
   "metadata": {},
   "source": [
    "## Task\n",
    "Use grid_search to find the best value of the parameter `alpha` for Ridge and Lasso regressions from `sklearn`."
   ]
  },
  {
   "cell_type": "code",
   "execution_count": 139,
   "metadata": {},
   "outputs": [],
   "source": [
    "# set candidate parameter for alpha\n",
    "parameter_candidates = [\n",
    "    {'alpha': [1.0,2.5,5.0,7.5,10.0,12.5,15.0]}\n",
    "]\n",
    "\n"
   ]
  },
  {
   "cell_type": "code",
   "execution_count": 144,
   "metadata": {},
   "outputs": [
    {
     "data": {
      "text/plain": [
       "15.0"
      ]
     },
     "execution_count": 144,
     "metadata": {},
     "output_type": "execute_result"
    }
   ],
   "source": [
    "# create classifier for ridge and set alpha\n",
    "clf = GridSearchCV(estimator=Ridge(), param_grid=parameter_candidates, n_jobs=-1)\n",
    "clf.fit(X_train, y_train)\n",
    "\n",
    "ridge_alpha = clf.best_estimator_.alpha\n",
    "ridge_alpha"
   ]
  },
  {
   "cell_type": "code",
   "execution_count": 147,
   "metadata": {},
   "outputs": [
    {
     "data": {
      "text/plain": [
       "2.5"
      ]
     },
     "execution_count": 147,
     "metadata": {},
     "output_type": "execute_result"
    }
   ],
   "source": [
    "# create classifer for Lasso and set alpha\n",
    "clf = GridSearchCV(estimator=Lasso(), param_grid=parameter_candidates, n_jobs=-1)\n",
    "clf.fit(X_train, y_train)\n",
    "\n",
    "lasso_alpha = clf.best_estimator_.alpha\n",
    "lasso_alpha"
   ]
  },
  {
   "cell_type": "markdown",
   "metadata": {},
   "source": [
    "## Task\n",
    "Using the model from grid_search, predict the values in the test set and compare against your benchmark."
   ]
  },
  {
   "cell_type": "code",
   "execution_count": 157,
   "metadata": {},
   "outputs": [
    {
     "name": "stdout",
     "output_type": "stream",
     "text": [
      "937.3638203635346\n",
      "-8315.42003893177\n"
     ]
    }
   ],
   "source": [
    "# fit the data for ridge\n",
    "ridge = Ridge(ridge_alpha)\n",
    "ridge.fit(X_train, y_train)\n",
    "\n",
    "# predict target values\n",
    "ridgetrain_pred = ridge.predict(X_train)\n",
    "ridgetest_pred = ridge.predict(X_test)\n",
    "\n",
    "# check MSE of model\n",
    "ridgetrain_score = mean_squared_error(y_train, ridgetrain_pred)\n",
    "ridgetest_score = mean_squared_error(y_test, ridgetest_pred)\n",
    "\n",
    "print(baselinemse_trainscore - ridgetrain_score)\n",
    "print(baselinemse_testscore - ridgetest_score) # <- overfit consider removing features"
   ]
  },
  {
   "cell_type": "code",
   "execution_count": 158,
   "metadata": {},
   "outputs": [
    {
     "name": "stdout",
     "output_type": "stream",
     "text": [
      "-795.4324603101704\n",
      "-6210.50917203608\n"
     ]
    }
   ],
   "source": [
    "# fit the data for lasso\n",
    "lasso = Lasso(lasso_alpha)\n",
    "lasso.fit(X_train, y_train)\n",
    "\n",
    "# predict target values\n",
    "lassotrain_pred = lasso.predict(X_train)\n",
    "lassotest_pred = lasso.predict(X_test)\n",
    "\n",
    "# check MSE of model\n",
    "lassotrain_score = mean_squared_error(y_train, lassotrain_pred)\n",
    "lassotest_score = mean_squared_error(y_test, lassotest_pred)\n",
    "\n",
    "print(baselinemse_trainscore - lassotrain_score)\n",
    "print(baselinemse_testscore - lassotest_score) # <- overfit consider removing features"
   ]
  },
  {
   "cell_type": "code",
   "execution_count": null,
   "metadata": {},
   "outputs": [],
   "source": []
  }
 ],
 "metadata": {
  "anaconda-cloud": {},
  "kernelspec": {
   "display_name": "Python 3.9.7 ('base')",
   "language": "python",
   "name": "python3"
  },
  "language_info": {
   "codemirror_mode": {
    "name": "ipython",
    "version": 3
   },
   "file_extension": ".py",
   "mimetype": "text/x-python",
   "name": "python",
   "nbconvert_exporter": "python",
   "pygments_lexer": "ipython3",
   "version": "3.9.7"
  },
  "vscode": {
   "interpreter": {
    "hash": "48f1e5342cf8a6c153dbe25f8f15edc1b1c2836d33c4cf2b2335313fcb64d162"
   }
  }
 },
 "nbformat": 4,
 "nbformat_minor": 4
}
