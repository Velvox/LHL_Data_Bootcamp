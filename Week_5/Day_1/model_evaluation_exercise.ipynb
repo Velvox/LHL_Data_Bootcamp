{
 "cells": [
  {
   "cell_type": "markdown",
   "metadata": {},
   "source": [
    "# Model Evaluation Exercise\n",
    "\n",
    "## Regression evaluation"
   ]
  },
  {
   "cell_type": "code",
   "execution_count": 9,
   "metadata": {
    "ExecuteTime": {
     "end_time": "2020-04-27T07:41:07.040365Z",
     "start_time": "2020-04-27T07:41:07.036332Z"
    }
   },
   "outputs": [],
   "source": [
    "# import numpy\n",
    "import numpy as np\n",
    "\n",
    "import sklearn.model_selection as model_selection"
   ]
  },
  {
   "cell_type": "code",
   "execution_count": 10,
   "metadata": {},
   "outputs": [
    {
     "name": "stdout",
     "output_type": "stream",
     "text": [
      "(1000, 10)\n",
      "(1000,)\n"
     ]
    }
   ],
   "source": [
    "from sklearn.datasets import make_regression\n",
    "\n",
    "X,y = make_regression(n_features=10, n_samples=1000, noise=10)\n",
    "\n",
    "print(X.shape)\n",
    "print(y.shape)"
   ]
  },
  {
   "cell_type": "code",
   "execution_count": 11,
   "metadata": {},
   "outputs": [],
   "source": [
    "from sklearn.linear_model import LinearRegression, Ridge"
   ]
  },
  {
   "cell_type": "code",
   "execution_count": 12,
   "metadata": {
    "ExecuteTime": {
     "end_time": "2020-04-27T07:41:07.456392Z",
     "start_time": "2020-04-27T07:41:07.444403Z"
    }
   },
   "outputs": [],
   "source": [
    "# creating linear regression\n",
    "lr = LinearRegression()\n",
    "lr.fit(X,y)\n",
    "y_lr = lr.predict(X)"
   ]
  },
  {
   "cell_type": "code",
   "execution_count": 13,
   "metadata": {},
   "outputs": [],
   "source": [
    "# creating ridge regression\n",
    "rr = Ridge(alpha=0.1)\n",
    "rr.fit(X,y)\n",
    "y_rr = rr.predict(X)"
   ]
  },
  {
   "cell_type": "code",
   "execution_count": 14,
   "metadata": {},
   "outputs": [
    {
     "data": {
      "text/plain": [
       "array([-4.15209303e+01, -7.06972999e+01, -1.76689701e+02, -2.57512225e+02,\n",
       "       -7.48336932e+01,  1.45093310e+02,  7.23803461e+01, -9.80990486e+01,\n",
       "        1.57056540e+02,  1.66261644e+02, -5.61496088e+01,  3.41620794e+01,\n",
       "       -6.56159774e+01, -3.23610410e+02,  2.22129655e+02,  2.55815024e+01,\n",
       "        1.99487845e+01, -1.12481932e+02,  1.10186044e+02, -3.02557409e+01,\n",
       "       -1.42534524e+02, -6.02226841e+00,  1.18972357e+02,  6.42855838e+00,\n",
       "       -2.62159650e+02, -1.43425454e+02,  1.54295793e+02, -6.20895153e+01,\n",
       "       -3.25829386e+01, -3.06325165e+01, -2.19682074e+02, -3.36214872e+01,\n",
       "        2.05031662e+01, -1.15707666e+02,  5.79189061e+01,  6.44783451e+01,\n",
       "       -1.59151650e+02, -1.06351167e+02, -6.98095772e+00,  6.62794610e+01,\n",
       "        2.50318873e+02, -3.12382204e+01,  2.61303739e+02,  1.48244778e+02,\n",
       "        3.38060384e+01,  6.61652241e+00,  3.36321514e+01, -4.15943395e+02,\n",
       "        2.90409077e+01, -1.43603810e+02, -2.60264406e+02, -2.34677543e+02,\n",
       "        2.25611848e+02,  1.65041100e+02, -4.31024615e+01, -1.16907177e+02,\n",
       "        2.94683503e+02, -8.83965849e+00, -2.54332508e+02, -1.62439526e+02,\n",
       "        1.18871633e+01,  4.54367131e+02, -7.09894741e+01, -4.54833072e+01,\n",
       "       -3.02221282e+02, -2.06687093e+02, -2.09132562e+02, -7.46538369e+01,\n",
       "       -2.32209363e+02, -1.30365735e+02, -1.13743391e+02,  3.24903312e+02,\n",
       "       -8.57709713e+01,  1.52450817e+02, -2.57789184e+02, -3.76658733e+01,\n",
       "       -6.84125581e+01,  1.16849613e+02, -1.99929236e+02, -2.24753134e+01,\n",
       "       -6.14020186e+01, -4.99585828e+01,  1.44938022e+02, -9.45381295e+01,\n",
       "        2.95291152e+02,  3.58684958e+01,  1.41286656e+02,  2.56063783e+02,\n",
       "        2.41378364e+01,  2.45328760e+02, -2.39012944e+00,  1.72443507e+02,\n",
       "        2.28153758e+02,  8.18288920e+01, -2.53560451e+02,  8.93630264e+01,\n",
       "        2.27792515e+02,  4.07548546e+01,  6.91792132e+01,  3.89930830e+01,\n",
       "        5.15916627e+01,  1.14559287e+02, -2.16696532e+02,  1.88529410e+02,\n",
       "       -9.87790095e+01, -7.23070511e+01, -8.25478731e+01, -4.20657202e+01,\n",
       "        2.01212755e+01, -1.16439655e+02, -8.17021416e+01, -2.65437072e+02,\n",
       "       -2.48533797e+02,  9.75454720e+01,  1.57504738e+02, -5.93101108e+02,\n",
       "        1.46153048e+02, -1.27018269e+02, -3.20263862e+01, -3.67611070e+01,\n",
       "        2.39500359e+02,  3.00344326e+02,  3.36885625e+01, -1.69158184e+02,\n",
       "        1.50099492e+02,  1.05659370e+02,  7.83196193e+01,  4.49449687e+02,\n",
       "        2.70016073e+01, -8.94119535e+01,  1.15384955e+02, -8.68375622e+01,\n",
       "       -1.07111357e+01, -1.63996540e+01,  1.52031986e+02, -3.30300396e+02,\n",
       "        2.87821677e+02, -2.40648637e+01,  1.07562269e+02,  1.06443474e+02,\n",
       "        1.22401702e+02, -4.75738585e+01,  2.69025084e+02,  7.96507433e+01,\n",
       "       -3.02117150e+01,  5.48153946e+01, -8.19922797e+01,  1.21029064e+02,\n",
       "       -4.65698083e+01,  1.99456652e+00, -1.82979002e+01,  1.57170693e+02,\n",
       "       -3.67073791e+01, -2.02767398e+02, -1.64755239e+02,  2.84466721e+01,\n",
       "       -2.32347161e+02,  2.91088172e+02, -8.20595513e+01, -2.21921046e+02,\n",
       "       -7.46531706e+01, -9.98794761e+01, -9.20987589e+01,  5.73017530e+00,\n",
       "       -8.90773799e+01,  1.58972886e+02, -1.44539053e+01,  1.16276306e+02,\n",
       "       -3.30939566e+02,  2.34920209e+02,  5.11771903e+01, -1.74676327e+02,\n",
       "       -1.92818353e+01,  2.50381234e+02, -1.27062181e+02,  3.36147357e+02,\n",
       "        2.23241926e+01,  2.27885371e+01,  1.27736574e+02,  1.65826460e+02,\n",
       "        5.90630046e+01, -8.48762626e+01,  3.86154689e+01, -1.54195959e+02,\n",
       "        4.17723482e+00, -7.38110516e+01,  2.03582892e+02, -2.85599557e+01,\n",
       "       -1.27707123e+02, -2.09993522e+02,  3.64498141e+00,  2.21251124e+02,\n",
       "        2.68388592e+02,  3.44689421e+02,  1.18864679e+02,  1.19981735e+02,\n",
       "       -4.23280267e+01, -1.38857436e+01,  9.34368860e+01, -2.61453189e+01,\n",
       "       -9.69016543e+01, -4.37593833e+02,  1.43597667e+02,  1.01413301e+02,\n",
       "       -1.58290461e+02, -5.74916791e+01,  4.66576373e+00, -1.02156121e+02,\n",
       "       -1.93850138e+02, -2.46658861e+02,  4.79161324e+02, -1.70620896e+02,\n",
       "        1.81621441e+02, -6.53671548e+01,  9.77854015e+01, -2.43716420e+02,\n",
       "       -7.12935457e+01,  1.49280702e+02,  1.30240029e+02,  4.77785902e+01,\n",
       "       -1.28780240e+02,  2.37195761e+02,  2.35135428e+02,  1.34511099e+02,\n",
       "       -1.74513657e+02,  2.16084918e+02,  1.52741415e+02, -3.06640260e+02,\n",
       "       -2.98886943e+02,  1.31144955e+02, -3.49796200e+02, -8.12145396e+01,\n",
       "        2.64366490e+02,  1.04921653e+02,  8.70407128e+01,  1.11987404e+02,\n",
       "        1.42821890e+02,  1.20796368e+02,  3.52549243e+02, -1.37999501e+02,\n",
       "       -8.38793936e+01, -3.26273455e+02, -4.84823063e+01, -3.75135544e+01,\n",
       "       -2.80052503e+00,  9.65468044e+01,  1.61900317e+02,  1.19468142e+02,\n",
       "       -1.32001296e+02, -2.50517498e+02, -1.62093957e+02, -1.62108219e+02,\n",
       "       -1.12644503e+02, -3.89989194e+02,  3.27434215e+02,  1.07234369e+02,\n",
       "       -1.93461004e+02,  1.31359363e+02, -8.02693910e+01, -4.15788932e+02,\n",
       "       -2.41050480e+02,  1.74692622e+02,  3.10824248e+02, -5.69777863e+01,\n",
       "        2.75697159e+02, -6.91393133e+01,  3.47777566e+02, -1.79447193e+01,\n",
       "       -1.72667840e+02,  2.49919702e+02,  4.15253557e+02,  7.31134834e+01,\n",
       "        1.52431083e+02,  1.45454042e+02, -4.01915815e+01, -1.52792038e+02,\n",
       "        1.44043871e+02, -1.12684372e+02,  8.03712240e+01,  4.13272010e+01,\n",
       "        2.49791627e+02, -3.39609945e+02,  1.28202645e+02, -1.86348493e+02,\n",
       "       -1.67624026e+02, -5.75281775e+01,  1.03915808e+02,  1.37647659e+02,\n",
       "       -9.48345800e+01,  1.31907109e+02, -9.95726641e+01,  2.16414935e+02,\n",
       "        2.25247435e+02, -1.81539238e+02,  1.49750439e+02,  1.36589885e+02,\n",
       "       -1.04628692e+02,  3.30801588e+01, -1.71979293e+01,  8.09458259e+01,\n",
       "        6.48669415e+01,  1.16962268e+02, -3.35257967e+02,  2.19389736e+02,\n",
       "       -3.57505695e+01,  1.96086725e+01,  2.86472684e+02,  1.35759145e+02,\n",
       "       -1.20879819e+02,  3.83720284e+01, -1.75503737e+02, -1.13622982e+02,\n",
       "       -5.02441827e+01, -7.43064516e+01, -1.87987586e+02,  3.97332873e+01,\n",
       "        8.46123099e+01,  4.33622819e+01,  2.46102518e+02, -1.83612555e+01,\n",
       "       -3.56572740e+02, -2.94135526e+01,  7.63790829e+01, -1.26456538e+02,\n",
       "        5.19934102e+01, -3.97237486e+01, -2.73433633e+02,  8.79971104e+01,\n",
       "        1.32472791e+02,  6.65833551e+01, -6.69215865e+01,  1.20620359e+02,\n",
       "        4.94129136e+02, -4.93265322e+01, -1.08393696e+02, -1.07220338e+02,\n",
       "       -6.27980211e+01,  5.30549418e+00, -2.33765915e+02, -1.03270394e+02,\n",
       "        2.14756838e+01, -4.20843878e+01,  6.67981017e+01,  2.22181771e+01,\n",
       "        1.58919591e+02, -3.47461302e+02, -6.04952371e+01,  3.80201579e+02,\n",
       "       -7.23124474e+01,  2.92517854e+02,  2.02406873e+02,  4.40168124e+02,\n",
       "       -1.69271466e+02,  4.72086427e+01,  6.08803215e+01, -9.06525773e+01,\n",
       "        2.40893363e+02, -2.32465333e+02, -9.07222490e+01,  1.61149555e+02,\n",
       "        9.40373742e+01,  1.95893882e+01,  1.24680128e+01, -5.52170790e+01,\n",
       "        1.35271510e+02, -5.53190450e+01,  6.78073241e+00,  9.61829240e+01,\n",
       "       -2.32480949e+02, -4.79228818e+01,  1.82163539e+02,  4.48535327e+01,\n",
       "        2.92091322e+02,  3.61167344e+01, -1.40863971e+02, -2.01631012e+02,\n",
       "       -3.49630513e+01,  1.31399225e+01, -6.97551291e+00,  3.05374975e+02,\n",
       "        9.86985364e+01,  1.81541315e+02,  8.91836780e+01,  5.68223345e+01,\n",
       "       -7.60794552e+01, -2.51279839e+02, -1.77692058e+02,  1.43709370e+02,\n",
       "       -2.26505985e+02, -1.61734200e+01, -7.63308312e+01, -3.53512733e+00,\n",
       "        1.66937888e+01,  1.12942907e+02, -1.49417560e+02, -1.89429815e+02,\n",
       "        2.49872328e+01, -1.07338523e+02,  4.17002210e+00, -3.52169418e+01,\n",
       "       -2.44654063e+02, -1.78329936e+02, -1.09076002e+02, -4.37639082e+01,\n",
       "        4.14491797e+02,  1.81879887e+02, -3.82101119e+02, -1.29926698e+02,\n",
       "       -6.36863560e+01, -1.34398512e+02, -1.12788955e+02, -9.42576217e+00,\n",
       "       -4.21560057e+01, -1.04307227e+01,  2.55807675e+02, -6.47180115e+01,\n",
       "        1.59011343e+02,  3.62284906e+01,  7.53965487e+01,  3.46152321e+02,\n",
       "       -1.55354850e+02,  1.01746235e+02,  2.84316613e+02,  2.64099845e+02,\n",
       "       -1.15378103e+02,  7.63705303e+01, -2.16778168e+02, -9.42149540e+01,\n",
       "       -3.99049139e+02, -8.33812689e+01,  2.34876567e+02,  7.44635246e+01,\n",
       "        2.84795307e+02,  2.52589723e+02, -1.84853951e+01,  1.12899776e+02,\n",
       "        6.75764241e+01,  8.87877423e+01,  6.32962403e+01,  1.87973189e+02,\n",
       "        1.63409745e+02,  8.10534081e+01,  1.42325801e+02,  1.52470365e+02,\n",
       "        3.81646560e+02, -5.93515625e+01, -2.16280380e+01,  8.90560946e+01,\n",
       "       -4.69174130e+01, -1.33962453e+02, -6.95899204e+01,  5.38610260e+01,\n",
       "       -4.83587924e+01, -2.72161494e+02, -2.03722790e+02,  1.05659592e+01,\n",
       "       -4.63872311e+01,  2.54252538e+02, -7.52870425e+01,  2.68987458e+02,\n",
       "        1.25819056e+02, -2.86696089e+02, -2.28633457e+02,  7.86501178e+01,\n",
       "        1.59172355e+02, -9.73248805e+01, -2.47783469e+01,  2.46056960e+02,\n",
       "       -3.54640420e+01,  2.46954128e+02,  2.26636147e+01, -1.01839277e+01,\n",
       "        2.23569384e+02, -1.01429106e+02,  1.75013905e+02,  9.43592072e+01,\n",
       "       -2.07519484e+01, -7.29796052e+01, -5.80436385e+01,  1.06807640e+01,\n",
       "       -6.76168392e+01,  8.83705028e+00,  3.64212811e+01, -1.53687942e+01,\n",
       "       -7.98759866e+01,  8.03183524e+01,  1.02576812e+02,  9.20574974e+01,\n",
       "        1.52702882e+02,  3.58013411e+02,  5.88192797e+01,  2.15616561e+02,\n",
       "        2.28782417e+02,  4.89152045e+01,  1.01322384e+02,  1.19448404e+02,\n",
       "        8.53756151e+01, -1.34485390e+02,  4.84868812e+01, -1.24361273e+02,\n",
       "       -8.26541259e+01, -1.92955892e+01, -1.91990495e+02,  1.08362949e+02,\n",
       "        1.36043201e+02,  3.96241397e+02, -9.98030980e+01,  7.42595912e+01,\n",
       "        6.77696502e+01,  1.66070536e+02, -7.28652483e+01, -2.15112369e+02,\n",
       "        3.31719746e+01,  4.54196858e+01,  3.18326183e+00,  2.50909115e+02,\n",
       "        1.19128463e+02, -3.15761812e+01,  1.85709722e+01,  1.72435953e+02,\n",
       "       -1.84103350e+02, -1.73990457e+02,  1.08617732e+02,  1.32174855e+02,\n",
       "       -2.08657368e+01,  1.55830503e+02, -1.38103902e+02,  8.39543828e+01,\n",
       "        8.60751210e+01, -2.54838413e+02,  3.60489262e+02,  4.04900651e+01,\n",
       "        1.25138389e+01, -2.96277586e+02,  2.17282253e+02,  7.17892251e+01,\n",
       "       -1.06148037e+02, -7.15651200e+01,  6.69002264e+01, -2.96207504e+01,\n",
       "       -1.88798680e+02, -3.87330303e+01,  1.31803473e+02,  1.59251239e+02,\n",
       "       -2.56647680e+02,  2.40776177e+02, -3.63600407e+02, -3.74580261e+01,\n",
       "        5.78395269e+01,  1.81555863e+02, -4.90266809e+02,  1.95107245e+02,\n",
       "       -1.35246205e+02, -4.18765950e+01,  1.79826529e+02, -4.22152883e+02,\n",
       "       -5.48971410e+01,  8.81204073e+01, -4.25265405e+02, -1.06369428e+01,\n",
       "       -1.19439357e+02,  2.83219558e+02,  3.44800359e+02, -3.07392030e+01,\n",
       "       -8.06808838e+01,  2.33867863e+01,  1.04510850e+02, -4.69369804e+01,\n",
       "        6.61911629e+01, -2.55608483e+02, -7.63446694e+01,  7.74320613e+01,\n",
       "        3.78742013e+02,  1.37575471e+02, -1.33490812e+02, -1.99741572e+02,\n",
       "        2.16732920e+01,  2.21665616e+01,  4.70510481e+01, -2.77283049e+01,\n",
       "       -2.89245703e+02,  2.06094095e+02, -6.55559897e+01,  2.00899850e+02,\n",
       "       -4.81148288e+01,  5.05600179e+01,  6.74677813e+00, -1.28127423e+02,\n",
       "        9.95459484e+01, -1.71606255e+01, -1.97608582e+02,  4.32812882e+02,\n",
       "       -5.91572315e+01,  9.80421605e+01,  1.65979768e+02, -4.30524745e+02,\n",
       "        4.93465806e+01, -1.86050300e+02, -1.04951395e+02, -2.78962947e+01,\n",
       "       -8.89411326e+01,  3.25061876e+02,  2.27126665e+02,  1.34581270e+01,\n",
       "        2.16353924e+02, -3.35113680e+00, -9.53571172e+01, -1.88533017e+02,\n",
       "        1.26747358e+02,  5.61490533e+01, -2.23102442e+01, -2.28940402e+02,\n",
       "       -4.79003657e+01, -1.93880848e+02, -2.12148260e+02, -7.88758959e+01,\n",
       "       -3.85176792e+01, -2.34318867e+02, -1.86420680e+01,  4.45948889e+01,\n",
       "        9.40987417e+01,  3.79766402e+01,  1.32468593e+02,  1.60979169e+01,\n",
       "       -1.38354634e+02, -1.79851038e+01, -4.40581503e+01,  1.96558063e+01,\n",
       "       -4.81302196e+01,  1.43606660e+02,  2.05273567e+02, -2.88875532e+02,\n",
       "       -4.03747444e+01, -3.42067644e+02,  1.05984409e+01, -7.31613796e+01,\n",
       "       -1.38511368e+02,  1.72960446e+02, -7.16673793e+01,  1.56829087e+02,\n",
       "        3.11527572e+02,  3.15700554e+02, -4.61775376e+01,  4.39833058e+01,\n",
       "        1.71919319e+02, -1.10422138e+01, -1.37173439e+02,  7.80661621e-01,\n",
       "       -3.98045178e+01, -1.94405191e+02,  7.30086016e+00, -4.17449767e+01,\n",
       "        1.08679664e+02,  1.24222732e+02, -2.46954227e+02, -2.08017457e+02,\n",
       "        8.26476203e+01, -6.92511568e+00, -3.21337213e+02, -1.10256972e+02,\n",
       "       -8.54450095e+00, -4.03790649e+01,  1.57941897e+02,  5.76604411e+01,\n",
       "        1.19505778e+02,  5.74195538e+01, -1.75374754e+02,  1.46855978e+02,\n",
       "       -1.96756195e+02,  1.16405942e+02, -5.93142987e+01, -1.56576897e+02,\n",
       "        1.79495787e+02,  9.40516775e+00,  1.57387530e+02,  1.79216606e+02,\n",
       "       -3.68735463e+01,  1.16156496e+01, -3.57734241e+02,  1.45450796e+02,\n",
       "        2.54951768e+02, -4.76638393e+01,  4.75487499e+01, -1.93687501e+02,\n",
       "       -2.84246895e+01, -2.37939384e+02,  8.82695460e+01,  2.86418729e+02,\n",
       "       -6.51140208e+01,  2.85709751e+01,  8.92619687e+01, -1.16077390e+01,\n",
       "        1.51550537e+02,  6.33064666e+01,  7.53506635e+01, -2.70240403e+02,\n",
       "       -1.17559863e+02,  8.01498980e+01,  2.67044706e+02,  1.97660092e+02,\n",
       "        7.42270462e+01,  2.57700584e+02, -4.37029491e+01,  1.17416728e+02,\n",
       "       -1.81618165e+02, -2.02883232e+02, -2.87197330e+02,  2.45843077e+02,\n",
       "        1.39586303e+02,  1.68733011e+02,  2.32762813e+02,  7.78125273e+01,\n",
       "        5.94383097e+01, -1.04580367e+01, -1.93811294e+02, -6.14679389e+01,\n",
       "       -6.97918662e+01, -1.07362109e+02,  1.24775161e+02,  1.70264811e+02,\n",
       "        1.13884504e+02, -3.22112492e+02,  8.83802190e+01,  2.34071003e+02,\n",
       "       -1.35959369e+02,  1.81955304e+02,  1.31400356e+00, -1.39560079e+01,\n",
       "       -2.73414926e+02,  1.43674725e+02,  7.56620663e+01,  1.79199179e+02,\n",
       "       -2.13070897e+02, -2.38767348e+01, -1.70748914e+02, -3.11219848e+02,\n",
       "        2.14151474e+02,  3.75874870e+00,  1.04586454e+02,  1.37325443e+02,\n",
       "        2.78021166e+02,  6.13378894e+01,  3.16111345e+02, -3.12503589e+01,\n",
       "       -2.07868585e+00, -2.33002719e+02, -1.39784800e+02, -1.35301861e+02,\n",
       "        4.97869960e+00,  1.17793177e+02, -6.21048871e+01, -4.98022850e+01,\n",
       "       -3.78870022e+01, -1.43973945e+02,  4.55050407e+01,  1.75052022e+01,\n",
       "        2.82957277e+02, -1.45550396e+02,  1.72960872e+01,  1.23429347e+02,\n",
       "        1.55349716e+02,  4.99156017e+01, -1.45049029e+02, -3.39857188e+02,\n",
       "        1.93172959e+01,  2.39473456e+02,  6.23440128e-01, -4.93223283e+01,\n",
       "        2.21477054e+02, -3.08069067e+02,  2.87848904e+01,  5.38660983e+01,\n",
       "        1.59779026e+02,  8.87724654e+01,  1.59674787e+02, -2.51138096e+02,\n",
       "        7.31343888e+01, -3.43239244e+02,  1.65521899e+02,  6.74634293e+00,\n",
       "        3.44316272e+01,  1.03867753e+02,  9.63331316e+00, -2.31195066e+02,\n",
       "       -4.69721710e+02,  1.33620994e+02, -1.92392423e+01, -7.22156377e+01,\n",
       "       -1.50843248e+02, -2.03235510e+02, -2.52871916e+02,  9.92801115e+01,\n",
       "        9.17525675e+01,  3.13183309e+01, -1.85788207e+01,  1.45665361e+02,\n",
       "       -2.74097399e+01, -1.50521300e+02,  1.47065221e+01,  2.22853589e+02,\n",
       "        2.93830720e+01, -8.93247132e+01,  3.56074357e+01, -8.31652319e+00,\n",
       "       -1.14519167e+02,  1.43537267e+01,  5.62343894e+01,  1.49219694e+02,\n",
       "       -1.72169368e+02,  1.25016298e+02,  7.55549135e+01,  7.11337347e+01,\n",
       "        4.20828913e+02,  6.44653788e+01, -8.97814647e+01,  2.23145619e+01,\n",
       "       -4.58399383e+00,  1.04241591e+02, -8.30260034e+01, -1.60603906e+02,\n",
       "        1.16199923e+02,  1.03648016e+01,  8.91103799e+01,  1.03109993e+02,\n",
       "       -2.74210728e+02,  5.23315015e+01, -2.75589992e+01,  8.48670725e+01,\n",
       "        1.38566761e+02,  8.39990599e+01,  4.91582260e+01,  2.28392660e+02,\n",
       "        1.88066971e+01,  7.93658824e+01, -2.05859010e+02, -2.12353456e+02,\n",
       "        8.01347902e+01, -1.02558753e+02, -4.75225117e+01, -1.55669143e+02,\n",
       "       -1.97982311e+02,  1.20113888e+01,  1.11781770e+02, -1.46289647e+02,\n",
       "        8.58420011e+01, -1.00898381e+02,  1.16325890e+02, -8.39175579e-01,\n",
       "        2.00818106e+02,  1.35511188e+02,  2.72579529e+02,  2.21543809e+02,\n",
       "       -1.61497528e+02,  1.01993159e+02, -1.62989860e+01, -5.47842014e+01,\n",
       "        1.23991976e+02, -1.01635809e+02,  3.45337131e+01,  2.69647841e+02,\n",
       "        1.34558666e+02, -2.25754720e+01,  6.41839281e+02,  3.54093248e+01,\n",
       "       -1.39392175e+02, -2.33932095e+01,  3.99592310e+01, -1.87171135e+02,\n",
       "       -1.27689049e+01,  8.75409798e+01, -8.34346448e+01, -2.34644351e+01,\n",
       "       -1.78481604e+02,  1.41176819e+02,  7.00129277e+01,  3.70438028e+02,\n",
       "       -3.92232835e+02, -2.63309868e+02, -7.13473182e+01, -8.24549139e+00,\n",
       "        5.48926462e+01, -1.54410007e+02,  3.78007370e+00, -1.08944452e+02,\n",
       "        2.34437608e+02, -2.13858683e+02, -3.72138190e+02,  4.29404164e+00,\n",
       "        3.93796979e+02,  1.49115957e+01, -1.80129096e+02, -1.17584072e+02,\n",
       "        1.95863155e+02, -1.27576173e+01,  4.50596899e+01,  1.40222755e+02,\n",
       "       -2.92652578e+02, -1.80452541e+02,  4.64847175e+01, -2.64198151e+02,\n",
       "        1.64008787e+02,  2.82415102e+02, -1.38597371e+02,  5.34537371e+01,\n",
       "       -8.92553345e+01,  1.52698005e+02, -1.71016812e+02,  6.79288541e+01,\n",
       "        2.81158082e+02,  1.79997933e+02, -2.79295563e+01,  2.74516783e+01,\n",
       "       -2.74017731e+02,  2.91258268e+02,  1.75034539e+02, -1.66062447e+01,\n",
       "        1.53584335e+02,  1.79531041e+02, -1.03674853e+01,  4.72113242e+01,\n",
       "       -2.40615400e+02, -4.62327183e+01, -1.40569118e+02, -7.71519455e+01,\n",
       "        1.15875636e+02, -2.68234845e+02, -2.93156989e+01, -4.12029157e+01,\n",
       "       -1.04781262e+01, -4.87253886e+01, -9.26449042e+01,  4.83941179e+01,\n",
       "       -4.10730357e+01, -1.15964024e+02,  1.79218442e+02, -1.08054107e+02,\n",
       "       -9.17856469e+01, -3.36392083e+02,  4.92370817e+01, -2.56558727e+02,\n",
       "       -8.61358012e+01,  1.05440956e+02,  2.72401829e+02, -1.35103870e+02,\n",
       "        6.34213909e+01, -4.76367828e+01, -2.15702109e+01,  1.11592512e+02,\n",
       "        1.40096143e+02, -5.27346561e+01,  2.37433044e+02, -3.08215082e+01,\n",
       "       -8.46616343e+01,  2.21645119e+02, -3.28145125e+01, -1.17990084e+02,\n",
       "        5.17331436e+01,  1.94086666e+02, -2.04472282e+02, -8.29390682e+01,\n",
       "        2.18996920e+02,  5.85797849e+01, -3.34083397e+01,  1.02667347e+02,\n",
       "       -1.79789370e+02, -1.41976623e+02, -2.65773614e+02,  2.50241476e+01,\n",
       "        8.63537072e+01,  6.34226557e+00, -5.17101855e+01, -3.51101004e+01,\n",
       "       -5.85253012e+01,  7.61852285e+01,  2.24512858e+02, -1.90085511e+02,\n",
       "        8.55072994e+01, -2.35729249e+01, -8.81753839e+01,  3.50921688e+01,\n",
       "        9.02234732e+01, -2.99573827e+02,  4.07385506e+01, -1.68546412e+01,\n",
       "       -1.73449348e+01,  9.42012845e+01, -3.16178356e+02, -2.63680453e+02,\n",
       "       -1.11151482e+02,  3.24388644e+02, -1.97405347e+02, -1.26863937e+02,\n",
       "        9.97729005e+01,  2.36525563e+02,  1.47462246e+02, -3.08213790e+02,\n",
       "        1.71399016e+02, -3.72086558e+02, -1.48917648e+02, -2.86601315e+02])"
      ]
     },
     "execution_count": 14,
     "metadata": {},
     "output_type": "execute_result"
    }
   ],
   "source": [
    "y_rr "
   ]
  },
  {
   "cell_type": "markdown",
   "metadata": {},
   "source": [
    "_________________________\n",
    "## Mean Absolute Error (MAE)\n",
    "\n",
    "\n",
    "**Write the definition to the mean absolute error (MAE) below and how to interpret it?**\n",
    "> *The MAE refers too....* The absolute difference between what we want our model to achieve and the value predicted by the model"
   ]
  },
  {
   "cell_type": "markdown",
   "metadata": {},
   "source": [
    "* import **mean_absolute_error** from sklearn"
   ]
  },
  {
   "cell_type": "code",
   "execution_count": 15,
   "metadata": {
    "ExecuteTime": {
     "end_time": "2020-04-27T07:41:08.798377Z",
     "start_time": "2020-04-27T07:41:07.948605Z"
    }
   },
   "outputs": [],
   "source": [
    "from sklearn.metrics import mean_absolute_error\n",
    "\n",
    "# split the data\n",
    "\n",
    "X_train, X_test, y_train, y_test = model_selection.train_test_split(X,y,train_size=0.70, test_size=0.30, random_state=321)"
   ]
  },
  {
   "cell_type": "code",
   "execution_count": 17,
   "metadata": {},
   "outputs": [],
   "source": [
    "# Train our models on training data\n",
    "lr.fit(X_train, y_train)\n",
    "rr.fit(X_train, y_train)\n",
    "\n",
    "# Make predictions on train\n",
    "ypred_lrtrain = lr.predict(X_train)\n",
    "ypred_rrtrain = rr.predict(X_train)\n",
    "\n",
    "# Make predictions on test\n",
    "ypred_lrtest = lr.predict(X_test)\n",
    "ypred_rrtest = rr.predict(X_test)\n",
    "\n"
   ]
  },
  {
   "cell_type": "markdown",
   "metadata": {},
   "source": [
    "* compute MAE"
   ]
  },
  {
   "cell_type": "code",
   "execution_count": 30,
   "metadata": {
    "ExecuteTime": {
     "end_time": "2020-04-27T07:41:08.844975Z",
     "start_time": "2020-04-27T07:41:08.840746Z"
    }
   },
   "outputs": [],
   "source": [
    "# MAE of train\n",
    "\n",
    "#lr\n",
    "lrtrain_maescore = mean_absolute_error(y_train, ypred_lrtrain)\n",
    "lrtest_maescore = mean_absolute_error(y_test, ypred_lrtest)\n",
    "\n",
    "#rr\n",
    "rrtrain_maescore = mean_absolute_error(y_train, ypred_rrtrain)\n",
    "rrtest_maescore = mean_absolute_error(y_test, ypred_rrtest)"
   ]
  },
  {
   "cell_type": "markdown",
   "metadata": {},
   "source": [
    "* According to MAE, what is the better model?"
   ]
  },
  {
   "cell_type": "code",
   "execution_count": 43,
   "metadata": {
    "ExecuteTime": {
     "end_time": "2020-04-27T07:41:08.919038Z",
     "start_time": "2020-04-27T07:41:08.909238Z"
    }
   },
   "outputs": [
    {
     "name": "stdout",
     "output_type": "stream",
     "text": [
      "LR train: 7.8663650592904935\n",
      "LR test: 7.663339446316013\n",
      "RR train: 7.867178568637746\n",
      "RR test: 7.66360464087856\n",
      "Linear regression is the better model by -0.000813509347252328 & -0.00026519456254714413\n"
     ]
    }
   ],
   "source": [
    "print(\"LR train: \" + str(lrtrain_maescore))\n",
    "print(\"LR test: \" + str(lrtest_maescore))\n",
    "\n",
    "print(\"RR train: \" + str(rrtrain_maescore))\n",
    "print(\"RR test: \" + str(rrtest_maescore))\n",
    "\n",
    "print(f\"Linear regression is the better model by {lrtrain_maescore - rrtrain_maescore} & {lrtest_maescore - rrtest_maescore}\")\n",
    "\n",
    "lr_score = 1"
   ]
  },
  {
   "cell_type": "markdown",
   "metadata": {},
   "source": [
    "____________________________________\n",
    "## R2 - Coefficient of Determination\n",
    "\n",
    "**Write the definition to the R2 score below and how to interpret it?**\n",
    "> *The R2 refers too....* How much of the variation of the dependant variable that can be explained by the independent variable"
   ]
  },
  {
   "cell_type": "markdown",
   "metadata": {},
   "source": [
    "* import **r2_score** from sklearn"
   ]
  },
  {
   "cell_type": "code",
   "execution_count": 24,
   "metadata": {
    "ExecuteTime": {
     "end_time": "2020-04-27T07:41:09.361905Z",
     "start_time": "2020-04-27T07:41:09.357486Z"
    }
   },
   "outputs": [],
   "source": [
    "from sklearn.metrics import r2_score"
   ]
  },
  {
   "cell_type": "markdown",
   "metadata": {},
   "source": [
    "* compute R2"
   ]
  },
  {
   "cell_type": "code",
   "execution_count": 36,
   "metadata": {
    "ExecuteTime": {
     "end_time": "2020-04-27T07:41:09.700385Z",
     "start_time": "2020-04-27T07:41:09.692404Z"
    }
   },
   "outputs": [],
   "source": [
    "#lr\n",
    "lrtrain_r2score = r2_score(y_train, ypred_lrtrain)\n",
    "lrtest_r2score = r2_score(y_test, ypred_lrtest)\n",
    "\n",
    "#rr\n",
    "rrtrain_r2score = r2_score(y_train, ypred_rrtrain)\n",
    "rrtest_r2score = r2_score(y_test, ypred_rrtest)"
   ]
  },
  {
   "cell_type": "markdown",
   "metadata": {},
   "source": [
    "* According to R2, what is the better model?"
   ]
  },
  {
   "cell_type": "code",
   "execution_count": 44,
   "metadata": {
    "ExecuteTime": {
     "end_time": "2020-04-27T07:41:10.024072Z",
     "start_time": "2020-04-27T07:41:10.020277Z"
    }
   },
   "outputs": [
    {
     "name": "stdout",
     "output_type": "stream",
     "text": [
      "LR train: 0.9966121201393653\n",
      "LR test: 0.9965417236868692\n",
      "RR train: 0.9966121008861658\n",
      "RR test: 0.9965417392241199\n",
      "Ridge regression is the better model by -1.9253199479152272e-08 & 1.5537250708241857e-08\n"
     ]
    }
   ],
   "source": [
    "print(\"LR train: \" + str(lrtrain_r2score))\n",
    "print(\"LR test: \" + str(lrtest_r2score))\n",
    "\n",
    "print(\"RR train: \" + str(rrtrain_r2score))\n",
    "print(\"RR test: \" + str(rrtest_r2score))\n",
    "\n",
    "print(f\"Ridge regression is the better model by {rrtrain_r2score - lrtrain_r2score} & {rrtest_r2score - lrtest_r2score}\")\n",
    "\n",
    "rr_score = 1"
   ]
  },
  {
   "cell_type": "markdown",
   "metadata": {},
   "source": [
    "* (Stretch) use predictions from linear regression and compute adjusted R2"
   ]
  },
  {
   "cell_type": "code",
   "execution_count": null,
   "metadata": {
    "ExecuteTime": {
     "end_time": "2020-04-27T07:41:10.384626Z",
     "start_time": "2020-04-27T07:41:10.369223Z"
    }
   },
   "outputs": [],
   "source": []
  },
  {
   "cell_type": "markdown",
   "metadata": {},
   "source": [
    "________________________________\n",
    "## Classification evaluation"
   ]
  },
  {
   "cell_type": "code",
   "execution_count": 45,
   "metadata": {
    "ExecuteTime": {
     "end_time": "2020-04-27T07:41:11.344672Z",
     "start_time": "2020-04-27T07:41:11.339435Z"
    }
   },
   "outputs": [
    {
     "name": "stdout",
     "output_type": "stream",
     "text": [
      "(1000, 10)\n",
      "(1000,)\n"
     ]
    }
   ],
   "source": [
    "from sklearn.datasets import make_classification\n",
    "\n",
    "X,y = make_classification(n_features=10, n_samples=1000, n_classes=2)\n",
    "\n",
    "print(X.shape)\n",
    "print(y.shape)"
   ]
  },
  {
   "cell_type": "code",
   "execution_count": 46,
   "metadata": {},
   "outputs": [],
   "source": [
    "from sklearn.linear_model import LogisticRegression, RidgeClassifier"
   ]
  },
  {
   "cell_type": "code",
   "execution_count": 47,
   "metadata": {},
   "outputs": [],
   "source": [
    "# creating linear regression\n",
    "lr = LogisticRegression()\n",
    "lr.fit(X,y)\n",
    "y_lr = lr.predict(X)"
   ]
  },
  {
   "cell_type": "code",
   "execution_count": 48,
   "metadata": {},
   "outputs": [],
   "source": [
    "# creating ridge regression\n",
    "rr = RidgeClassifier(alpha=0.1)\n",
    "rr.fit(X,y)\n",
    "y_rr = rr.predict(X)"
   ]
  },
  {
   "cell_type": "code",
   "execution_count": 49,
   "metadata": {},
   "outputs": [],
   "source": [
    "# let's actually split the data\n",
    "\n",
    "X_train, X_test, y_train, y_test = model_selection.train_test_split(X,y,train_size=0.70, test_size=0.30, random_state=321)\n",
    "\n",
    "# Train our models on training data\n",
    "lr.fit(X_train, y_train)\n",
    "rr.fit(X_train, y_train)\n",
    "\n",
    "# Make predictions on train\n",
    "ypred_lrtrain = lr.predict(X_train)\n",
    "ypred_rrtrain = rr.predict(X_train)\n",
    "\n",
    "# Make predictions on test\n",
    "ypred_lrtest = lr.predict(X_test)\n",
    "ypred_rrtest = rr.predict(X_test)"
   ]
  },
  {
   "cell_type": "markdown",
   "metadata": {},
   "source": [
    "## Precision score\n",
    "\n",
    "**Write the definition to the Precision score below and how to interpret it?**\n",
    "> *The Precision score refers too....* How often the score did not predict a false positive"
   ]
  },
  {
   "cell_type": "markdown",
   "metadata": {},
   "source": [
    "* import **precision_score** from sklearn"
   ]
  },
  {
   "cell_type": "code",
   "execution_count": 50,
   "metadata": {
    "ExecuteTime": {
     "end_time": "2020-04-27T07:41:12.147881Z",
     "start_time": "2020-04-27T07:41:12.143399Z"
    }
   },
   "outputs": [],
   "source": [
    "from sklearn.metrics import precision_score"
   ]
  },
  {
   "cell_type": "markdown",
   "metadata": {},
   "source": [
    "* compute precision"
   ]
  },
  {
   "cell_type": "code",
   "execution_count": 55,
   "metadata": {
    "ExecuteTime": {
     "end_time": "2020-04-27T07:41:12.631435Z",
     "start_time": "2020-04-27T07:41:12.625996Z"
    }
   },
   "outputs": [],
   "source": [
    "#lr\n",
    "lrtrain_precscore = precision_score(y_train, ypred_lrtrain)\n",
    "lrtest_precscore = precision_score(y_test, ypred_lrtest)\n",
    "\n",
    "#rr\n",
    "rrtrain_precscore = precision_score(y_train, ypred_rrtrain)\n",
    "rrtest_precscore = precision_score(y_test, ypred_rrtest)"
   ]
  },
  {
   "cell_type": "markdown",
   "metadata": {},
   "source": [
    "* print precision"
   ]
  },
  {
   "cell_type": "code",
   "execution_count": 58,
   "metadata": {
    "ExecuteTime": {
     "end_time": "2020-04-27T07:41:13.071881Z",
     "start_time": "2020-04-27T07:41:13.064584Z"
    }
   },
   "outputs": [
    {
     "name": "stdout",
     "output_type": "stream",
     "text": [
      "LR train: 0.9373219373219374\n",
      "LR test: 0.9473684210526315\n",
      "RR train: 0.9159663865546218\n",
      "RR test: 0.9230769230769231\n"
     ]
    }
   ],
   "source": [
    "print(\"LR train: \" + str(lrtrain_precscore))\n",
    "print(\"LR test: \" + str(lrtest_precscore))\n",
    "\n",
    "print(\"RR train: \" + str(rrtrain_precscore))\n",
    "print(\"RR test: \" + str(rrtest_precscore))\n",
    "\n",
    "# LR is better\n",
    "lr_score +=1"
   ]
  },
  {
   "cell_type": "markdown",
   "metadata": {},
   "source": [
    "## Recall score\n",
    "\n",
    "**Write the definition to the Recall score below and how to interpret it?**\n",
    "> *The Recall score refers too....* How often the score did not predict a False negative"
   ]
  },
  {
   "cell_type": "markdown",
   "metadata": {},
   "source": [
    "* import **recal_score** from sklearn"
   ]
  },
  {
   "cell_type": "code",
   "execution_count": 54,
   "metadata": {
    "ExecuteTime": {
     "end_time": "2020-04-27T07:41:13.908070Z",
     "start_time": "2020-04-27T07:41:13.903483Z"
    }
   },
   "outputs": [],
   "source": [
    "from sklearn.metrics import recall_score"
   ]
  },
  {
   "cell_type": "markdown",
   "metadata": {},
   "source": [
    "* compute recall"
   ]
  },
  {
   "cell_type": "code",
   "execution_count": 59,
   "metadata": {
    "ExecuteTime": {
     "end_time": "2020-04-27T07:41:14.264301Z",
     "start_time": "2020-04-27T07:41:14.258735Z"
    }
   },
   "outputs": [],
   "source": [
    "#lr\n",
    "lrtrain_recscore = recall_score(y_train, ypred_lrtrain)\n",
    "lrtest_recscore = recall_score(y_test, ypred_lrtest)\n",
    "\n",
    "#rr\n",
    "rrtrain_recscore = recall_score(y_train, ypred_rrtrain)\n",
    "rrtest_recscore = recall_score(y_test, ypred_rrtest)"
   ]
  },
  {
   "cell_type": "markdown",
   "metadata": {},
   "source": [
    "* print recall"
   ]
  },
  {
   "cell_type": "code",
   "execution_count": 63,
   "metadata": {
    "ExecuteTime": {
     "end_time": "2020-04-27T07:41:14.590250Z",
     "start_time": "2020-04-27T07:41:14.586420Z"
    }
   },
   "outputs": [
    {
     "name": "stdout",
     "output_type": "stream",
     "text": [
      "LR train: 0.9373219373219374\n",
      "LR test: 0.9795918367346939\n",
      "RR train: 0.9316239316239316\n",
      "RR test: 0.9795918367346939\n",
      "0.0\n"
     ]
    }
   ],
   "source": [
    "print(\"LR train: \" + str(lrtrain_recscore))\n",
    "print(\"LR test: \" + str(lrtest_recscore))\n",
    "\n",
    "print(\"RR train: \" + str(rrtrain_recscore))\n",
    "print(\"RR test: \" + str(rrtest_recscore))\n",
    "\n",
    "print(lrtest_recscore - rrtest_recscore) # neither win for recall"
   ]
  },
  {
   "cell_type": "markdown",
   "metadata": {},
   "source": [
    "## ROC curve\n",
    "\n",
    "**What is the ROC curve? How do you interpret it?**\n",
    "> *The ROC curve refers too....* Allows you to compare the true positive rate against the false positive rate"
   ]
  },
  {
   "cell_type": "markdown",
   "metadata": {},
   "source": [
    "* import **roc_curve** from sklearn"
   ]
  },
  {
   "cell_type": "code",
   "execution_count": 64,
   "metadata": {
    "ExecuteTime": {
     "end_time": "2020-04-27T07:41:15.347036Z",
     "start_time": "2020-04-27T07:41:15.343389Z"
    }
   },
   "outputs": [],
   "source": [
    "from sklearn.metrics import roc_curve"
   ]
  },
  {
   "cell_type": "markdown",
   "metadata": {},
   "source": [
    "* compute and store ROC curve values in fpr, tpr, thresholds variables"
   ]
  },
  {
   "cell_type": "code",
   "execution_count": 65,
   "metadata": {
    "ExecuteTime": {
     "end_time": "2020-04-27T07:41:15.801469Z",
     "start_time": "2020-04-27T07:41:15.796150Z"
    }
   },
   "outputs": [],
   "source": [
    "lr_fpr, lr_tpr, lr_thresholds = roc_curve(y_test, ypred_lrtest)\n",
    "rr_fpr, rr_tpr, rr_thresholds = roc_curve(y_test, ypred_rrtest)"
   ]
  },
  {
   "cell_type": "markdown",
   "metadata": {},
   "source": [
    "* import matplotlib "
   ]
  },
  {
   "cell_type": "code",
   "execution_count": 68,
   "metadata": {
    "ExecuteTime": {
     "end_time": "2020-04-27T07:41:16.378369Z",
     "start_time": "2020-04-27T07:41:16.115532Z"
    }
   },
   "outputs": [],
   "source": [
    "import matplotlib.pyplot as plt"
   ]
  },
  {
   "cell_type": "markdown",
   "metadata": {},
   "source": [
    "* plot ROC"
   ]
  },
  {
   "cell_type": "code",
   "execution_count": 75,
   "metadata": {
    "ExecuteTime": {
     "end_time": "2020-04-27T07:41:16.834163Z",
     "start_time": "2020-04-27T07:41:16.480665Z"
    }
   },
   "outputs": [
    {
     "data": {
      "image/png": "[encoded data removed]",
      "text/plain": [
       "<Figure size 432x288 with 1 Axes>"
      ]
     },
     "metadata": {
      "needs_background": "light"
     },
     "output_type": "display_data"
    }
   ],
   "source": [
    "# plot ROC for LR\n",
    "\n",
    "lw=2\n",
    "\n",
    "plt.figure()\n",
    "plt.plot(\n",
    "    lr_fpr,\n",
    "    lr_tpr,\n",
    "    lw=lw,\n",
    "    label=\"LR ROC Curve\",\n",
    "    color='darkorange'\n",
    ")\n",
    "plt.plot(\n",
    "    rr_fpr,\n",
    "    rr_tpr,\n",
    "    lw=lw,\n",
    "    label='RR ROC Curve',\n",
    "    color='darkblue'\n",
    ")\n",
    "\n",
    "plt.plot([0, 1], [0, 1], color=\"navy\", lw=lw, linestyle=\"--\")\n",
    "plt.xlim([0.0, 1.0])\n",
    "plt.ylim([0.0, 1.05])\n",
    "plt.xlabel(\"False Positive Rate\")\n",
    "plt.ylabel(\"True Positive Rate\")\n",
    "plt.title(\"Receiver operating characteristic example\")\n",
    "plt.legend(loc=\"lower right\")\n",
    "plt.show()\n",
    "\n",
    "# LR ROC curve is better\n",
    "\n",
    "lr_score +=1"
   ]
  },
  {
   "cell_type": "markdown",
   "metadata": {},
   "source": [
    "## Log-Loss score\n",
    "**What is the Log-Loss score? How do you interpret it?**\n",
    "> *The Log-Loss score refers too...* How close predictions are to reality, you want a lower score"
   ]
  },
  {
   "cell_type": "markdown",
   "metadata": {},
   "source": [
    "* import **log_loss** from sklearn"
   ]
  },
  {
   "cell_type": "code",
   "execution_count": 76,
   "metadata": {
    "ExecuteTime": {
     "end_time": "2020-04-27T07:41:17.071277Z",
     "start_time": "2020-04-27T07:41:17.063336Z"
    }
   },
   "outputs": [],
   "source": [
    "from sklearn.metrics import log_loss"
   ]
  },
  {
   "cell_type": "markdown",
   "metadata": {},
   "source": [
    "* compute log_loss"
   ]
  },
  {
   "cell_type": "code",
   "execution_count": 77,
   "metadata": {
    "ExecuteTime": {
     "end_time": "2020-04-27T07:41:18.251211Z",
     "start_time": "2020-04-27T07:41:18.244484Z"
    }
   },
   "outputs": [],
   "source": [
    "lr_logloss = log_loss(y_test, ypred_lrtest)\n",
    "rr_logloss = log_loss(y_test, ypred_rrtest)"
   ]
  },
  {
   "cell_type": "markdown",
   "metadata": {},
   "source": [
    "* print log_loss"
   ]
  },
  {
   "cell_type": "code",
   "execution_count": 78,
   "metadata": {
    "ExecuteTime": {
     "end_time": "2020-04-27T07:41:18.588367Z",
     "start_time": "2020-04-27T07:41:18.579532Z"
    }
   },
   "outputs": [
    {
     "name": "stdout",
     "output_type": "stream",
     "text": [
      "1.2664431237448646\n",
      "1.726970803642743\n"
     ]
    }
   ],
   "source": [
    "print(lr_logloss)\n",
    "print(rr_logloss)\n",
    "\n",
    "lr_score += 1\n",
    "#LR wins"
   ]
  },
  {
   "cell_type": "markdown",
   "metadata": {},
   "source": [
    "#### Q: According to metrics above, which one is the better model?"
   ]
  },
  {
   "cell_type": "code",
   "execution_count": 79,
   "metadata": {},
   "outputs": [
    {
     "name": "stdout",
     "output_type": "stream",
     "text": [
      "3\n",
      "1\n"
     ]
    }
   ],
   "source": [
    "print(lr_score)\n",
    "print(rr_score)"
   ]
  },
  {
   "cell_type": "code",
   "execution_count": null,
   "metadata": {},
   "outputs": [],
   "source": [
    "# LR performed best on the test data"
   ]
  }
 ],
 "metadata": {
  "kernelspec": {
   "display_name": "Python 3.9.7 ('base')",
   "language": "python",
   "name": "python3"
  },
  "language_info": {
   "codemirror_mode": {
    "name": "ipython",
    "version": 3
   },
   "file_extension": ".py",
   "mimetype": "text/x-python",
   "name": "python",
   "nbconvert_exporter": "python",
   "pygments_lexer": "ipython3",
   "version": "3.9.7"
  },
  "toc": {
   "base_numbering": 1,
   "nav_menu": {},
   "number_sections": true,
   "sideBar": true,
   "skip_h1_title": false,
   "title_cell": "Table of Contents",
   "title_sidebar": "Contents",
   "toc_cell": false,
   "toc_position": {},
   "toc_section_display": true,
   "toc_window_display": false
  },
  "varInspector": {
   "cols": {
    "lenName": 16,
    "lenType": 16,
    "lenVar": 40
   },
   "kernels_config": {
    "python": {
     "delete_cmd_postfix": "",
     "delete_cmd_prefix": "del ",
     "library": "var_list.py",
     "varRefreshCmd": "print(var_dic_list())"
    },
    "r": {
     "delete_cmd_postfix": ") ",
     "delete_cmd_prefix": "rm(",
     "library": "var_list.r",
     "varRefreshCmd": "cat(var_dic_list()) "
    }
   },
   "types_to_exclude": [
    "module",
    "function",
    "builtin_function_or_method",
    "instance",
    "_Feature"
   ],
   "window_display": false
  },
  "vscode": {
   "interpreter": {
    "hash": "48f1e5342cf8a6c153dbe25f8f15edc1b1c2836d33c4cf2b2335313fcb64d162"
   }
  }
 },
 "nbformat": 4,
 "nbformat_minor": 4
}
