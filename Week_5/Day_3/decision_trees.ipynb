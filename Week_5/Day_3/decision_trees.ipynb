{
 "cells": [
  {
   "cell_type": "markdown",
   "metadata": {},
   "source": [
    "# Decision Tree Classification"
   ]
  },
  {
   "cell_type": "code",
   "execution_count": 1,
   "metadata": {},
   "outputs": [],
   "source": [
    "# Load libraries\n",
    "import pandas as pd\n",
    "from sklearn.tree import DecisionTreeClassifier # Import Decision Tree Classifier\n",
    "from sklearn.model_selection import train_test_split # Import train_test_split function\n",
    "from sklearn import metrics #Import scikit-learn metrics module for accuracy calculation"
   ]
  },
  {
   "cell_type": "code",
   "execution_count": 7,
   "metadata": {},
   "outputs": [],
   "source": [
    "col_names = ['pregnant', 'glucose', 'bp', 'skin', 'insulin', 'bmi', 'pedigree', 'age', 'label']\n",
    "# load dataset\n",
    "pima = pd.read_csv(\"data/diabetes 2.csv\")"
   ]
  },
  {
   "cell_type": "code",
   "execution_count": 8,
   "metadata": {},
   "outputs": [
    {
     "data": {
      "text/html": [
       "<div>\n",
       "<style scoped>\n",
       "    .dataframe tbody tr th:only-of-type {\n",
       "        vertical-align: middle;\n",
       "    }\n",
       "\n",
       "    .dataframe tbody tr th {\n",
       "        vertical-align: top;\n",
       "    }\n",
       "\n",
       "    .dataframe thead th {\n",
       "        text-align: right;\n",
       "    }\n",
       "</style>\n",
       "<table border=\"1\" class=\"dataframe\">\n",
       "  <thead>\n",
       "    <tr style=\"text-align: right;\">\n",
       "      <th></th>\n",
       "      <th>Pregnancies</th>\n",
       "      <th>Glucose</th>\n",
       "      <th>BloodPressure</th>\n",
       "      <th>SkinThickness</th>\n",
       "      <th>Insulin</th>\n",
       "      <th>BMI</th>\n",
       "      <th>DiabetesPedigreeFunction</th>\n",
       "      <th>Age</th>\n",
       "      <th>Outcome</th>\n",
       "    </tr>\n",
       "  </thead>\n",
       "  <tbody>\n",
       "    <tr>\n",
       "      <th>0</th>\n",
       "      <td>6</td>\n",
       "      <td>148</td>\n",
       "      <td>72</td>\n",
       "      <td>35</td>\n",
       "      <td>0</td>\n",
       "      <td>33.6</td>\n",
       "      <td>0.627</td>\n",
       "      <td>50</td>\n",
       "      <td>1</td>\n",
       "    </tr>\n",
       "    <tr>\n",
       "      <th>1</th>\n",
       "      <td>1</td>\n",
       "      <td>85</td>\n",
       "      <td>66</td>\n",
       "      <td>29</td>\n",
       "      <td>0</td>\n",
       "      <td>26.6</td>\n",
       "      <td>0.351</td>\n",
       "      <td>31</td>\n",
       "      <td>0</td>\n",
       "    </tr>\n",
       "    <tr>\n",
       "      <th>2</th>\n",
       "      <td>8</td>\n",
       "      <td>183</td>\n",
       "      <td>64</td>\n",
       "      <td>0</td>\n",
       "      <td>0</td>\n",
       "      <td>23.3</td>\n",
       "      <td>0.672</td>\n",
       "      <td>32</td>\n",
       "      <td>1</td>\n",
       "    </tr>\n",
       "    <tr>\n",
       "      <th>3</th>\n",
       "      <td>1</td>\n",
       "      <td>89</td>\n",
       "      <td>66</td>\n",
       "      <td>23</td>\n",
       "      <td>94</td>\n",
       "      <td>28.1</td>\n",
       "      <td>0.167</td>\n",
       "      <td>21</td>\n",
       "      <td>0</td>\n",
       "    </tr>\n",
       "    <tr>\n",
       "      <th>4</th>\n",
       "      <td>0</td>\n",
       "      <td>137</td>\n",
       "      <td>40</td>\n",
       "      <td>35</td>\n",
       "      <td>168</td>\n",
       "      <td>43.1</td>\n",
       "      <td>2.288</td>\n",
       "      <td>33</td>\n",
       "      <td>1</td>\n",
       "    </tr>\n",
       "  </tbody>\n",
       "</table>\n",
       "</div>"
      ],
      "text/plain": [
       "   Pregnancies  Glucose  BloodPressure  SkinThickness  Insulin   BMI  \\\n",
       "0            6      148             72             35        0  33.6   \n",
       "1            1       85             66             29        0  26.6   \n",
       "2            8      183             64              0        0  23.3   \n",
       "3            1       89             66             23       94  28.1   \n",
       "4            0      137             40             35      168  43.1   \n",
       "\n",
       "   DiabetesPedigreeFunction  Age  Outcome  \n",
       "0                     0.627   50        1  \n",
       "1                     0.351   31        0  \n",
       "2                     0.672   32        1  \n",
       "3                     0.167   21        0  \n",
       "4                     2.288   33        1  "
      ]
     },
     "execution_count": 8,
     "metadata": {},
     "output_type": "execute_result"
    }
   ],
   "source": [
    "pima.head()"
   ]
  },
  {
   "cell_type": "code",
   "execution_count": 11,
   "metadata": {},
   "outputs": [
    {
     "data": {
      "text/plain": [
       "Index(['Pregnancies', 'Glucose', 'BloodPressure', 'SkinThickness', 'Insulin',\n",
       "       'BMI', 'DiabetesPedigreeFunction', 'Age', 'Outcome'],\n",
       "      dtype='object')"
      ]
     },
     "execution_count": 11,
     "metadata": {},
     "output_type": "execute_result"
    }
   ],
   "source": [
    "pima.columns"
   ]
  },
  {
   "cell_type": "code",
   "execution_count": 13,
   "metadata": {},
   "outputs": [],
   "source": [
    "#split dataset in features and target variable\n",
    "feature_cols = pima.columns\n",
    "X = pima[feature_cols] # Features\n",
    "y = pima.Outcome # Target variable"
   ]
  },
  {
   "cell_type": "code",
   "execution_count": 14,
   "metadata": {},
   "outputs": [],
   "source": [
    "# Split dataset into training set and test set\n",
    "X_train, X_test, y_train, y_test = train_test_split(X, y, test_size=0.3, random_state=1) # 70% training and 30% test"
   ]
  },
  {
   "cell_type": "code",
   "execution_count": 15,
   "metadata": {},
   "outputs": [],
   "source": [
    "# Create Decision Tree classifer object\n",
    "clf = DecisionTreeClassifier()\n",
    "\n",
    "# Train Decision Tree Classifer\n",
    "clf = clf.fit(X_train,y_train)\n",
    "\n",
    "#Predict the response for test dataset\n",
    "y_pred = clf.predict(X_test)"
   ]
  },
  {
   "cell_type": "code",
   "execution_count": 16,
   "metadata": {},
   "outputs": [
    {
     "name": "stdout",
     "output_type": "stream",
     "text": [
      "Accuracy: 1.0\n"
     ]
    }
   ],
   "source": [
    "# Model Accuracy, how often is the classifier correct?\n",
    "print(\"Accuracy:\",metrics.accuracy_score(y_test, y_pred))"
   ]
  },
  {
   "cell_type": "code",
   "execution_count": 19,
   "metadata": {},
   "outputs": [
    {
     "ename": "InvocationException",
     "evalue": "GraphViz's executables not found",
     "output_type": "error",
     "traceback": [
      "\u001b[0;31m---------------------------------------------------------------------------\u001b[0m",
      "\u001b[0;31mInvocationException\u001b[0m                       Traceback (most recent call last)",
      "\u001b[1;32m/Users/niclapenna/Documents/GitHub/LHL_Data_Bootcamp/Week_5/Day_3/decision_trees.ipynb Cell 10'\u001b[0m in \u001b[0;36m<cell line: 11>\u001b[0;34m()\u001b[0m\n\u001b[1;32m      <a href='vscode-notebook-cell:/Users/niclapenna/Documents/GitHub/LHL_Data_Bootcamp/Week_5/Day_3/decision_trees.ipynb#ch0000009?line=6'>7</a>\u001b[0m export_graphviz(clf, out_file\u001b[39m=\u001b[39mdot_data,  \n\u001b[1;32m      <a href='vscode-notebook-cell:/Users/niclapenna/Documents/GitHub/LHL_Data_Bootcamp/Week_5/Day_3/decision_trees.ipynb#ch0000009?line=7'>8</a>\u001b[0m                 filled\u001b[39m=\u001b[39m\u001b[39mTrue\u001b[39;00m, rounded\u001b[39m=\u001b[39m\u001b[39mTrue\u001b[39;00m,\n\u001b[1;32m      <a href='vscode-notebook-cell:/Users/niclapenna/Documents/GitHub/LHL_Data_Bootcamp/Week_5/Day_3/decision_trees.ipynb#ch0000009?line=8'>9</a>\u001b[0m                 special_characters\u001b[39m=\u001b[39m\u001b[39mTrue\u001b[39;00m,feature_names \u001b[39m=\u001b[39m feature_cols,class_names\u001b[39m=\u001b[39m[\u001b[39m'\u001b[39m\u001b[39m0\u001b[39m\u001b[39m'\u001b[39m,\u001b[39m'\u001b[39m\u001b[39m1\u001b[39m\u001b[39m'\u001b[39m])\n\u001b[1;32m     <a href='vscode-notebook-cell:/Users/niclapenna/Documents/GitHub/LHL_Data_Bootcamp/Week_5/Day_3/decision_trees.ipynb#ch0000009?line=9'>10</a>\u001b[0m graph \u001b[39m=\u001b[39m pydotplus\u001b[39m.\u001b[39mgraph_from_dot_data(dot_data\u001b[39m.\u001b[39mgetvalue())  \n\u001b[0;32m---> <a href='vscode-notebook-cell:/Users/niclapenna/Documents/GitHub/LHL_Data_Bootcamp/Week_5/Day_3/decision_trees.ipynb#ch0000009?line=10'>11</a>\u001b[0m graph\u001b[39m.\u001b[39;49mwrite_png(\u001b[39m'\u001b[39;49m\u001b[39mdiabetes.png\u001b[39;49m\u001b[39m'\u001b[39;49m)\n\u001b[1;32m     <a href='vscode-notebook-cell:/Users/niclapenna/Documents/GitHub/LHL_Data_Bootcamp/Week_5/Day_3/decision_trees.ipynb#ch0000009?line=11'>12</a>\u001b[0m Image(graph\u001b[39m.\u001b[39mcreate_png())\n",
      "File \u001b[0;32m~/opt/anaconda3/envs/lhl_env/lib/python3.8/site-packages/pydotplus/graphviz.py:1810\u001b[0m, in \u001b[0;36mDot.__init__.<locals>.<lambda>\u001b[0;34m(path, f, prog)\u001b[0m\n\u001b[1;32m   <a href='file:///Users/niclapenna/opt/anaconda3/envs/lhl_env/lib/python3.8/site-packages/pydotplus/graphviz.py?line=1799'>1800</a>\u001b[0m     f\u001b[39m.\u001b[39m\u001b[39m__doc__\u001b[39m \u001b[39m=\u001b[39m (\n\u001b[1;32m   <a href='file:///Users/niclapenna/opt/anaconda3/envs/lhl_env/lib/python3.8/site-packages/pydotplus/graphviz.py?line=1800'>1801</a>\u001b[0m         \u001b[39m'''Refer to the docstring accompanying the'''\u001b[39;00m\n\u001b[1;32m   <a href='file:///Users/niclapenna/opt/anaconda3/envs/lhl_env/lib/python3.8/site-packages/pydotplus/graphviz.py?line=1801'>1802</a>\u001b[0m         \u001b[39m''''create' method for more information.'''\u001b[39;00m\n\u001b[1;32m   <a href='file:///Users/niclapenna/opt/anaconda3/envs/lhl_env/lib/python3.8/site-packages/pydotplus/graphviz.py?line=1802'>1803</a>\u001b[0m     )\n\u001b[1;32m   <a href='file:///Users/niclapenna/opt/anaconda3/envs/lhl_env/lib/python3.8/site-packages/pydotplus/graphviz.py?line=1804'>1805</a>\u001b[0m \u001b[39mfor\u001b[39;00m frmt \u001b[39min\u001b[39;00m \u001b[39mself\u001b[39m\u001b[39m.\u001b[39mformats \u001b[39m+\u001b[39m [\u001b[39m'\u001b[39m\u001b[39mraw\u001b[39m\u001b[39m'\u001b[39m]:\n\u001b[1;32m   <a href='file:///Users/niclapenna/opt/anaconda3/envs/lhl_env/lib/python3.8/site-packages/pydotplus/graphviz.py?line=1805'>1806</a>\u001b[0m     \u001b[39mself\u001b[39m\u001b[39m.\u001b[39m\u001b[39m__setattr__\u001b[39m(\n\u001b[1;32m   <a href='file:///Users/niclapenna/opt/anaconda3/envs/lhl_env/lib/python3.8/site-packages/pydotplus/graphviz.py?line=1806'>1807</a>\u001b[0m         \u001b[39m'\u001b[39m\u001b[39mwrite_\u001b[39m\u001b[39m'\u001b[39m \u001b[39m+\u001b[39m frmt,\n\u001b[1;32m   <a href='file:///Users/niclapenna/opt/anaconda3/envs/lhl_env/lib/python3.8/site-packages/pydotplus/graphviz.py?line=1807'>1808</a>\u001b[0m         \u001b[39mlambda\u001b[39;00m path,\n\u001b[1;32m   <a href='file:///Users/niclapenna/opt/anaconda3/envs/lhl_env/lib/python3.8/site-packages/pydotplus/graphviz.py?line=1808'>1809</a>\u001b[0m         f\u001b[39m=\u001b[39mfrmt,\n\u001b[0;32m-> <a href='file:///Users/niclapenna/opt/anaconda3/envs/lhl_env/lib/python3.8/site-packages/pydotplus/graphviz.py?line=1809'>1810</a>\u001b[0m         prog\u001b[39m=\u001b[39m\u001b[39mself\u001b[39m\u001b[39m.\u001b[39mprog: \u001b[39mself\u001b[39;49m\u001b[39m.\u001b[39;49mwrite(path, \u001b[39mformat\u001b[39;49m\u001b[39m=\u001b[39;49mf, prog\u001b[39m=\u001b[39;49mprog)\n\u001b[1;32m   <a href='file:///Users/niclapenna/opt/anaconda3/envs/lhl_env/lib/python3.8/site-packages/pydotplus/graphviz.py?line=1810'>1811</a>\u001b[0m     )\n\u001b[1;32m   <a href='file:///Users/niclapenna/opt/anaconda3/envs/lhl_env/lib/python3.8/site-packages/pydotplus/graphviz.py?line=1812'>1813</a>\u001b[0m     f \u001b[39m=\u001b[39m \u001b[39mself\u001b[39m\u001b[39m.\u001b[39m\u001b[39m__dict__\u001b[39m[\u001b[39m'\u001b[39m\u001b[39mwrite_\u001b[39m\u001b[39m'\u001b[39m \u001b[39m+\u001b[39m frmt]\n\u001b[1;32m   <a href='file:///Users/niclapenna/opt/anaconda3/envs/lhl_env/lib/python3.8/site-packages/pydotplus/graphviz.py?line=1813'>1814</a>\u001b[0m     f\u001b[39m.\u001b[39m\u001b[39m__doc__\u001b[39m \u001b[39m=\u001b[39m (\n\u001b[1;32m   <a href='file:///Users/niclapenna/opt/anaconda3/envs/lhl_env/lib/python3.8/site-packages/pydotplus/graphviz.py?line=1814'>1815</a>\u001b[0m         \u001b[39m'''Refer to the docstring accompanying the'''\u001b[39;00m\n\u001b[1;32m   <a href='file:///Users/niclapenna/opt/anaconda3/envs/lhl_env/lib/python3.8/site-packages/pydotplus/graphviz.py?line=1815'>1816</a>\u001b[0m         \u001b[39m''''write' method for more information.'''\u001b[39;00m\n\u001b[1;32m   <a href='file:///Users/niclapenna/opt/anaconda3/envs/lhl_env/lib/python3.8/site-packages/pydotplus/graphviz.py?line=1816'>1817</a>\u001b[0m     )\n",
      "File \u001b[0;32m~/opt/anaconda3/envs/lhl_env/lib/python3.8/site-packages/pydotplus/graphviz.py:1918\u001b[0m, in \u001b[0;36mDot.write\u001b[0;34m(self, path, prog, format)\u001b[0m\n\u001b[1;32m   <a href='file:///Users/niclapenna/opt/anaconda3/envs/lhl_env/lib/python3.8/site-packages/pydotplus/graphviz.py?line=1914'>1915</a>\u001b[0m         fobj\u001b[39m.\u001b[39mwrite(data)\n\u001b[1;32m   <a href='file:///Users/niclapenna/opt/anaconda3/envs/lhl_env/lib/python3.8/site-packages/pydotplus/graphviz.py?line=1916'>1917</a>\u001b[0m     \u001b[39melse\u001b[39;00m:\n\u001b[0;32m-> <a href='file:///Users/niclapenna/opt/anaconda3/envs/lhl_env/lib/python3.8/site-packages/pydotplus/graphviz.py?line=1917'>1918</a>\u001b[0m         fobj\u001b[39m.\u001b[39mwrite(\u001b[39mself\u001b[39;49m\u001b[39m.\u001b[39;49mcreate(prog, \u001b[39mformat\u001b[39;49m))\n\u001b[1;32m   <a href='file:///Users/niclapenna/opt/anaconda3/envs/lhl_env/lib/python3.8/site-packages/pydotplus/graphviz.py?line=1918'>1919</a>\u001b[0m \u001b[39mfinally\u001b[39;00m:\n\u001b[1;32m   <a href='file:///Users/niclapenna/opt/anaconda3/envs/lhl_env/lib/python3.8/site-packages/pydotplus/graphviz.py?line=1919'>1920</a>\u001b[0m     \u001b[39mif\u001b[39;00m close:\n",
      "File \u001b[0;32m~/opt/anaconda3/envs/lhl_env/lib/python3.8/site-packages/pydotplus/graphviz.py:1959\u001b[0m, in \u001b[0;36mDot.create\u001b[0;34m(self, prog, format)\u001b[0m\n\u001b[1;32m   <a href='file:///Users/niclapenna/opt/anaconda3/envs/lhl_env/lib/python3.8/site-packages/pydotplus/graphviz.py?line=1956'>1957</a>\u001b[0m     \u001b[39mself\u001b[39m\u001b[39m.\u001b[39mprogs \u001b[39m=\u001b[39m find_graphviz()\n\u001b[1;32m   <a href='file:///Users/niclapenna/opt/anaconda3/envs/lhl_env/lib/python3.8/site-packages/pydotplus/graphviz.py?line=1957'>1958</a>\u001b[0m     \u001b[39mif\u001b[39;00m \u001b[39mself\u001b[39m\u001b[39m.\u001b[39mprogs \u001b[39mis\u001b[39;00m \u001b[39mNone\u001b[39;00m:\n\u001b[0;32m-> <a href='file:///Users/niclapenna/opt/anaconda3/envs/lhl_env/lib/python3.8/site-packages/pydotplus/graphviz.py?line=1958'>1959</a>\u001b[0m         \u001b[39mraise\u001b[39;00m InvocationException(\n\u001b[1;32m   <a href='file:///Users/niclapenna/opt/anaconda3/envs/lhl_env/lib/python3.8/site-packages/pydotplus/graphviz.py?line=1959'>1960</a>\u001b[0m             \u001b[39m'\u001b[39m\u001b[39mGraphViz\u001b[39m\u001b[39m\\'\u001b[39;00m\u001b[39ms executables not found\u001b[39m\u001b[39m'\u001b[39m)\n\u001b[1;32m   <a href='file:///Users/niclapenna/opt/anaconda3/envs/lhl_env/lib/python3.8/site-packages/pydotplus/graphviz.py?line=1961'>1962</a>\u001b[0m \u001b[39mif\u001b[39;00m prog \u001b[39mnot\u001b[39;00m \u001b[39min\u001b[39;00m \u001b[39mself\u001b[39m\u001b[39m.\u001b[39mprogs:\n\u001b[1;32m   <a href='file:///Users/niclapenna/opt/anaconda3/envs/lhl_env/lib/python3.8/site-packages/pydotplus/graphviz.py?line=1962'>1963</a>\u001b[0m     \u001b[39mraise\u001b[39;00m InvocationException(\n\u001b[1;32m   <a href='file:///Users/niclapenna/opt/anaconda3/envs/lhl_env/lib/python3.8/site-packages/pydotplus/graphviz.py?line=1963'>1964</a>\u001b[0m         \u001b[39m'\u001b[39m\u001b[39mGraphViz\u001b[39m\u001b[39m\\'\u001b[39;00m\u001b[39ms executable \u001b[39m\u001b[39m\"\u001b[39m\u001b[39m%s\u001b[39;00m\u001b[39m\"\u001b[39m\u001b[39m not found\u001b[39m\u001b[39m'\u001b[39m \u001b[39m%\u001b[39m prog)\n",
      "\u001b[0;31mInvocationException\u001b[0m: GraphViz's executables not found"
     ]
    }
   ],
   "source": [
    "# This does not work\n",
    "\n",
    "from sklearn.tree import export_graphviz\n",
    "from six import StringIO\n",
    "from IPython.display import Image  \n",
    "import pydotplus\n",
    "\"\"\n",
    "dot_data = StringIO()\n",
    "export_graphviz(clf, out_file=dot_data,  \n",
    "                filled=True, rounded=True,\n",
    "                special_characters=True,feature_names = feature_cols,class_names=['0','1'])\n",
    "graph = pydotplus.graph_from_dot_data(dot_data.getvalue())  \n",
    "graph.write_png('diabetes.png')\n",
    "Image(graph.create_png())"
   ]
  },
  {
   "cell_type": "code",
   "execution_count": 20,
   "metadata": {},
   "outputs": [
    {
     "name": "stdout",
     "output_type": "stream",
     "text": [
      "Accuracy: 1.0\n"
     ]
    }
   ],
   "source": [
    "# Create Decision Tree classifer object\n",
    "clf = DecisionTreeClassifier(criterion=\"entropy\", max_depth=3)\n",
    "\n",
    "# Train Decision Tree Classifer\n",
    "clf = clf.fit(X_train,y_train)\n",
    "\n",
    "#Predict the response for test dataset\n",
    "y_pred = clf.predict(X_test)\n",
    "\n",
    "# Model Accuracy, how often is the classifier correct?\n",
    "print(\"Accuracy:\",metrics.accuracy_score(y_test, y_pred))"
   ]
  },
  {
   "cell_type": "code",
   "execution_count": 22,
   "metadata": {},
   "outputs": [
    {
     "ename": "InvocationException",
     "evalue": "GraphViz's executables not found",
     "output_type": "error",
     "traceback": [
      "\u001b[0;31m---------------------------------------------------------------------------\u001b[0m",
      "\u001b[0;31mInvocationException\u001b[0m                       Traceback (most recent call last)",
      "\u001b[1;32m/Users/niclapenna/Documents/GitHub/LHL_Data_Bootcamp/Week_5/Day_3/decision_trees.ipynb Cell 12'\u001b[0m in \u001b[0;36m<cell line: 10>\u001b[0;34m()\u001b[0m\n\u001b[1;32m      <a href='vscode-notebook-cell:/Users/niclapenna/Documents/GitHub/LHL_Data_Bootcamp/Week_5/Day_3/decision_trees.ipynb#ch0000011?line=5'>6</a>\u001b[0m export_graphviz(clf, out_file\u001b[39m=\u001b[39mdot_data,  \n\u001b[1;32m      <a href='vscode-notebook-cell:/Users/niclapenna/Documents/GitHub/LHL_Data_Bootcamp/Week_5/Day_3/decision_trees.ipynb#ch0000011?line=6'>7</a>\u001b[0m                 filled\u001b[39m=\u001b[39m\u001b[39mTrue\u001b[39;00m, rounded\u001b[39m=\u001b[39m\u001b[39mTrue\u001b[39;00m,\n\u001b[1;32m      <a href='vscode-notebook-cell:/Users/niclapenna/Documents/GitHub/LHL_Data_Bootcamp/Week_5/Day_3/decision_trees.ipynb#ch0000011?line=7'>8</a>\u001b[0m                 special_characters\u001b[39m=\u001b[39m\u001b[39mTrue\u001b[39;00m, feature_names \u001b[39m=\u001b[39m feature_cols,class_names\u001b[39m=\u001b[39m[\u001b[39m'\u001b[39m\u001b[39m0\u001b[39m\u001b[39m'\u001b[39m,\u001b[39m'\u001b[39m\u001b[39m1\u001b[39m\u001b[39m'\u001b[39m])\n\u001b[1;32m      <a href='vscode-notebook-cell:/Users/niclapenna/Documents/GitHub/LHL_Data_Bootcamp/Week_5/Day_3/decision_trees.ipynb#ch0000011?line=8'>9</a>\u001b[0m graph \u001b[39m=\u001b[39m pydotplus\u001b[39m.\u001b[39mgraph_from_dot_data(dot_data\u001b[39m.\u001b[39mgetvalue())  \n\u001b[0;32m---> <a href='vscode-notebook-cell:/Users/niclapenna/Documents/GitHub/LHL_Data_Bootcamp/Week_5/Day_3/decision_trees.ipynb#ch0000011?line=9'>10</a>\u001b[0m graph\u001b[39m.\u001b[39;49mwrite_png(\u001b[39m'\u001b[39;49m\u001b[39mdiabetes.png\u001b[39;49m\u001b[39m'\u001b[39;49m)\n\u001b[1;32m     <a href='vscode-notebook-cell:/Users/niclapenna/Documents/GitHub/LHL_Data_Bootcamp/Week_5/Day_3/decision_trees.ipynb#ch0000011?line=10'>11</a>\u001b[0m Image(graph\u001b[39m.\u001b[39mcreate_png())\n",
      "File \u001b[0;32m~/opt/anaconda3/envs/lhl_env/lib/python3.8/site-packages/pydotplus/graphviz.py:1810\u001b[0m, in \u001b[0;36mDot.__init__.<locals>.<lambda>\u001b[0;34m(path, f, prog)\u001b[0m\n\u001b[1;32m   <a href='file:///Users/niclapenna/opt/anaconda3/envs/lhl_env/lib/python3.8/site-packages/pydotplus/graphviz.py?line=1799'>1800</a>\u001b[0m     f\u001b[39m.\u001b[39m\u001b[39m__doc__\u001b[39m \u001b[39m=\u001b[39m (\n\u001b[1;32m   <a href='file:///Users/niclapenna/opt/anaconda3/envs/lhl_env/lib/python3.8/site-packages/pydotplus/graphviz.py?line=1800'>1801</a>\u001b[0m         \u001b[39m'''Refer to the docstring accompanying the'''\u001b[39;00m\n\u001b[1;32m   <a href='file:///Users/niclapenna/opt/anaconda3/envs/lhl_env/lib/python3.8/site-packages/pydotplus/graphviz.py?line=1801'>1802</a>\u001b[0m         \u001b[39m''''create' method for more information.'''\u001b[39;00m\n\u001b[1;32m   <a href='file:///Users/niclapenna/opt/anaconda3/envs/lhl_env/lib/python3.8/site-packages/pydotplus/graphviz.py?line=1802'>1803</a>\u001b[0m     )\n\u001b[1;32m   <a href='file:///Users/niclapenna/opt/anaconda3/envs/lhl_env/lib/python3.8/site-packages/pydotplus/graphviz.py?line=1804'>1805</a>\u001b[0m \u001b[39mfor\u001b[39;00m frmt \u001b[39min\u001b[39;00m \u001b[39mself\u001b[39m\u001b[39m.\u001b[39mformats \u001b[39m+\u001b[39m [\u001b[39m'\u001b[39m\u001b[39mraw\u001b[39m\u001b[39m'\u001b[39m]:\n\u001b[1;32m   <a href='file:///Users/niclapenna/opt/anaconda3/envs/lhl_env/lib/python3.8/site-packages/pydotplus/graphviz.py?line=1805'>1806</a>\u001b[0m     \u001b[39mself\u001b[39m\u001b[39m.\u001b[39m\u001b[39m__setattr__\u001b[39m(\n\u001b[1;32m   <a href='file:///Users/niclapenna/opt/anaconda3/envs/lhl_env/lib/python3.8/site-packages/pydotplus/graphviz.py?line=1806'>1807</a>\u001b[0m         \u001b[39m'\u001b[39m\u001b[39mwrite_\u001b[39m\u001b[39m'\u001b[39m \u001b[39m+\u001b[39m frmt,\n\u001b[1;32m   <a href='file:///Users/niclapenna/opt/anaconda3/envs/lhl_env/lib/python3.8/site-packages/pydotplus/graphviz.py?line=1807'>1808</a>\u001b[0m         \u001b[39mlambda\u001b[39;00m path,\n\u001b[1;32m   <a href='file:///Users/niclapenna/opt/anaconda3/envs/lhl_env/lib/python3.8/site-packages/pydotplus/graphviz.py?line=1808'>1809</a>\u001b[0m         f\u001b[39m=\u001b[39mfrmt,\n\u001b[0;32m-> <a href='file:///Users/niclapenna/opt/anaconda3/envs/lhl_env/lib/python3.8/site-packages/pydotplus/graphviz.py?line=1809'>1810</a>\u001b[0m         prog\u001b[39m=\u001b[39m\u001b[39mself\u001b[39m\u001b[39m.\u001b[39mprog: \u001b[39mself\u001b[39;49m\u001b[39m.\u001b[39;49mwrite(path, \u001b[39mformat\u001b[39;49m\u001b[39m=\u001b[39;49mf, prog\u001b[39m=\u001b[39;49mprog)\n\u001b[1;32m   <a href='file:///Users/niclapenna/opt/anaconda3/envs/lhl_env/lib/python3.8/site-packages/pydotplus/graphviz.py?line=1810'>1811</a>\u001b[0m     )\n\u001b[1;32m   <a href='file:///Users/niclapenna/opt/anaconda3/envs/lhl_env/lib/python3.8/site-packages/pydotplus/graphviz.py?line=1812'>1813</a>\u001b[0m     f \u001b[39m=\u001b[39m \u001b[39mself\u001b[39m\u001b[39m.\u001b[39m\u001b[39m__dict__\u001b[39m[\u001b[39m'\u001b[39m\u001b[39mwrite_\u001b[39m\u001b[39m'\u001b[39m \u001b[39m+\u001b[39m frmt]\n\u001b[1;32m   <a href='file:///Users/niclapenna/opt/anaconda3/envs/lhl_env/lib/python3.8/site-packages/pydotplus/graphviz.py?line=1813'>1814</a>\u001b[0m     f\u001b[39m.\u001b[39m\u001b[39m__doc__\u001b[39m \u001b[39m=\u001b[39m (\n\u001b[1;32m   <a href='file:///Users/niclapenna/opt/anaconda3/envs/lhl_env/lib/python3.8/site-packages/pydotplus/graphviz.py?line=1814'>1815</a>\u001b[0m         \u001b[39m'''Refer to the docstring accompanying the'''\u001b[39;00m\n\u001b[1;32m   <a href='file:///Users/niclapenna/opt/anaconda3/envs/lhl_env/lib/python3.8/site-packages/pydotplus/graphviz.py?line=1815'>1816</a>\u001b[0m         \u001b[39m''''write' method for more information.'''\u001b[39;00m\n\u001b[1;32m   <a href='file:///Users/niclapenna/opt/anaconda3/envs/lhl_env/lib/python3.8/site-packages/pydotplus/graphviz.py?line=1816'>1817</a>\u001b[0m     )\n",
      "File \u001b[0;32m~/opt/anaconda3/envs/lhl_env/lib/python3.8/site-packages/pydotplus/graphviz.py:1918\u001b[0m, in \u001b[0;36mDot.write\u001b[0;34m(self, path, prog, format)\u001b[0m\n\u001b[1;32m   <a href='file:///Users/niclapenna/opt/anaconda3/envs/lhl_env/lib/python3.8/site-packages/pydotplus/graphviz.py?line=1914'>1915</a>\u001b[0m         fobj\u001b[39m.\u001b[39mwrite(data)\n\u001b[1;32m   <a href='file:///Users/niclapenna/opt/anaconda3/envs/lhl_env/lib/python3.8/site-packages/pydotplus/graphviz.py?line=1916'>1917</a>\u001b[0m     \u001b[39melse\u001b[39;00m:\n\u001b[0;32m-> <a href='file:///Users/niclapenna/opt/anaconda3/envs/lhl_env/lib/python3.8/site-packages/pydotplus/graphviz.py?line=1917'>1918</a>\u001b[0m         fobj\u001b[39m.\u001b[39mwrite(\u001b[39mself\u001b[39;49m\u001b[39m.\u001b[39;49mcreate(prog, \u001b[39mformat\u001b[39;49m))\n\u001b[1;32m   <a href='file:///Users/niclapenna/opt/anaconda3/envs/lhl_env/lib/python3.8/site-packages/pydotplus/graphviz.py?line=1918'>1919</a>\u001b[0m \u001b[39mfinally\u001b[39;00m:\n\u001b[1;32m   <a href='file:///Users/niclapenna/opt/anaconda3/envs/lhl_env/lib/python3.8/site-packages/pydotplus/graphviz.py?line=1919'>1920</a>\u001b[0m     \u001b[39mif\u001b[39;00m close:\n",
      "File \u001b[0;32m~/opt/anaconda3/envs/lhl_env/lib/python3.8/site-packages/pydotplus/graphviz.py:1959\u001b[0m, in \u001b[0;36mDot.create\u001b[0;34m(self, prog, format)\u001b[0m\n\u001b[1;32m   <a href='file:///Users/niclapenna/opt/anaconda3/envs/lhl_env/lib/python3.8/site-packages/pydotplus/graphviz.py?line=1956'>1957</a>\u001b[0m     \u001b[39mself\u001b[39m\u001b[39m.\u001b[39mprogs \u001b[39m=\u001b[39m find_graphviz()\n\u001b[1;32m   <a href='file:///Users/niclapenna/opt/anaconda3/envs/lhl_env/lib/python3.8/site-packages/pydotplus/graphviz.py?line=1957'>1958</a>\u001b[0m     \u001b[39mif\u001b[39;00m \u001b[39mself\u001b[39m\u001b[39m.\u001b[39mprogs \u001b[39mis\u001b[39;00m \u001b[39mNone\u001b[39;00m:\n\u001b[0;32m-> <a href='file:///Users/niclapenna/opt/anaconda3/envs/lhl_env/lib/python3.8/site-packages/pydotplus/graphviz.py?line=1958'>1959</a>\u001b[0m         \u001b[39mraise\u001b[39;00m InvocationException(\n\u001b[1;32m   <a href='file:///Users/niclapenna/opt/anaconda3/envs/lhl_env/lib/python3.8/site-packages/pydotplus/graphviz.py?line=1959'>1960</a>\u001b[0m             \u001b[39m'\u001b[39m\u001b[39mGraphViz\u001b[39m\u001b[39m\\'\u001b[39;00m\u001b[39ms executables not found\u001b[39m\u001b[39m'\u001b[39m)\n\u001b[1;32m   <a href='file:///Users/niclapenna/opt/anaconda3/envs/lhl_env/lib/python3.8/site-packages/pydotplus/graphviz.py?line=1961'>1962</a>\u001b[0m \u001b[39mif\u001b[39;00m prog \u001b[39mnot\u001b[39;00m \u001b[39min\u001b[39;00m \u001b[39mself\u001b[39m\u001b[39m.\u001b[39mprogs:\n\u001b[1;32m   <a href='file:///Users/niclapenna/opt/anaconda3/envs/lhl_env/lib/python3.8/site-packages/pydotplus/graphviz.py?line=1962'>1963</a>\u001b[0m     \u001b[39mraise\u001b[39;00m InvocationException(\n\u001b[1;32m   <a href='file:///Users/niclapenna/opt/anaconda3/envs/lhl_env/lib/python3.8/site-packages/pydotplus/graphviz.py?line=1963'>1964</a>\u001b[0m         \u001b[39m'\u001b[39m\u001b[39mGraphViz\u001b[39m\u001b[39m\\'\u001b[39;00m\u001b[39ms executable \u001b[39m\u001b[39m\"\u001b[39m\u001b[39m%s\u001b[39;00m\u001b[39m\"\u001b[39m\u001b[39m not found\u001b[39m\u001b[39m'\u001b[39m \u001b[39m%\u001b[39m prog)\n",
      "\u001b[0;31mInvocationException\u001b[0m: GraphViz's executables not found"
     ]
    }
   ],
   "source": [
    "from six import StringIO\n",
    "from IPython.display import Image  \n",
    "from sklearn.tree import export_graphviz\n",
    "import pydotplus\n",
    "dot_data = StringIO()\n",
    "export_graphviz(clf, out_file=dot_data,  \n",
    "                filled=True, rounded=True,\n",
    "                special_characters=True, feature_names = feature_cols,class_names=['0','1'])\n",
    "graph = pydotplus.graph_from_dot_data(dot_data.getvalue())  \n",
    "graph.write_png('diabetes.png')\n",
    "Image(graph.create_png())"
   ]
  },
  {
   "cell_type": "code",
   "execution_count": null,
   "metadata": {},
   "outputs": [],
   "source": []
  }
 ],
 "metadata": {
  "interpreter": {
   "hash": "5eaee7f08749df7acde7defcf9c75ec9e0490b46ee4fb9b854947ce622c4fcf4"
  },
  "kernelspec": {
   "display_name": "Python 3.8.2 ('lhl_env')",
   "language": "python",
   "name": "python3"
  },
  "language_info": {
   "codemirror_mode": {
    "name": "ipython",
    "version": 3
   },
   "file_extension": ".py",
   "mimetype": "text/x-python",
   "name": "python",
   "nbconvert_exporter": "python",
   "pygments_lexer": "ipython3",
   "version": "3.8.2"
  },
  "orig_nbformat": 4
 },
 "nbformat": 4,
 "nbformat_minor": 2
}
